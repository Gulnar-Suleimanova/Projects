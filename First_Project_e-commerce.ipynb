{
 "cells": [
  {
   "cell_type": "markdown",
   "metadata": {},
   "source": [
    "# Промежуточный проект\n",
    "## Вариант 1: e-commerce\n",
    "### В проекте рассматриваются данные по заказам бразильской компании за 2 года с конца 2016 по конец 2018\n",
    "#### Выполнен: студенткой 53 потока DA - Сулеймановой Гульнар"
   ]
  },
  {
   "cell_type": "markdown",
   "metadata": {},
   "source": [
    "  "
   ]
  },
  {
   "cell_type": "markdown",
   "metadata": {},
   "source": [
    "## 1. Импорт библиотек"
   ]
  },
  {
   "cell_type": "code",
   "execution_count": 1,
   "metadata": {},
   "outputs": [],
   "source": [
    "import pandas as pd\n",
    "import numpy as np\n",
    "import matplotlib.pyplot as plt\n",
    "import seaborn as sns\n",
    "import warnings\n",
    "warnings.filterwarnings('ignore')\n",
    "from operator import attrgetter\n",
    "from scipy import stats\n",
    "%matplotlib inline\n"
   ]
  },
  {
   "cell_type": "markdown",
   "metadata": {},
   "source": [
    "## 2. Выгружаем данные с Яндекс.Диска и проводим их исследовательский анализ"
   ]
  },
  {
   "cell_type": "markdown",
   "metadata": {},
   "source": [
    "### Первый датафрейм (customers):"
   ]
  },
  {
   "cell_type": "code",
   "execution_count": 2,
   "metadata": {},
   "outputs": [
    {
     "data": {
      "text/html": [
       "<div>\n",
       "<style scoped>\n",
       "    .dataframe tbody tr th:only-of-type {\n",
       "        vertical-align: middle;\n",
       "    }\n",
       "\n",
       "    .dataframe tbody tr th {\n",
       "        vertical-align: top;\n",
       "    }\n",
       "\n",
       "    .dataframe thead th {\n",
       "        text-align: right;\n",
       "    }\n",
       "</style>\n",
       "<table border=\"1\" class=\"dataframe\">\n",
       "  <thead>\n",
       "    <tr style=\"text-align: right;\">\n",
       "      <th></th>\n",
       "      <th>customer_id</th>\n",
       "      <th>customer_unique_id</th>\n",
       "      <th>customer_zip_code_prefix</th>\n",
       "      <th>customer_city</th>\n",
       "      <th>customer_state</th>\n",
       "    </tr>\n",
       "  </thead>\n",
       "  <tbody>\n",
       "    <tr>\n",
       "      <th>0</th>\n",
       "      <td>06b8999e2fba1a1fbc88172c00ba8bc7</td>\n",
       "      <td>861eff4711a542e4b93843c6dd7febb0</td>\n",
       "      <td>14409</td>\n",
       "      <td>franca</td>\n",
       "      <td>SP</td>\n",
       "    </tr>\n",
       "    <tr>\n",
       "      <th>1</th>\n",
       "      <td>18955e83d337fd6b2def6b18a428ac77</td>\n",
       "      <td>290c77bc529b7ac935b93aa66c333dc3</td>\n",
       "      <td>9790</td>\n",
       "      <td>sao bernardo do campo</td>\n",
       "      <td>SP</td>\n",
       "    </tr>\n",
       "    <tr>\n",
       "      <th>2</th>\n",
       "      <td>4e7b3e00288586ebd08712fdd0374a03</td>\n",
       "      <td>060e732b5b29e8181a18229c7b0b2b5e</td>\n",
       "      <td>1151</td>\n",
       "      <td>sao paulo</td>\n",
       "      <td>SP</td>\n",
       "    </tr>\n",
       "    <tr>\n",
       "      <th>3</th>\n",
       "      <td>b2b6027bc5c5109e529d4dc6358b12c3</td>\n",
       "      <td>259dac757896d24d7702b9acbbff3f3c</td>\n",
       "      <td>8775</td>\n",
       "      <td>mogi das cruzes</td>\n",
       "      <td>SP</td>\n",
       "    </tr>\n",
       "    <tr>\n",
       "      <th>4</th>\n",
       "      <td>4f2d8ab171c80ec8364f7c12e35b23ad</td>\n",
       "      <td>345ecd01c38d18a9036ed96c73b8d066</td>\n",
       "      <td>13056</td>\n",
       "      <td>campinas</td>\n",
       "      <td>SP</td>\n",
       "    </tr>\n",
       "  </tbody>\n",
       "</table>\n",
       "</div>"
      ],
      "text/plain": [
       "                        customer_id                customer_unique_id  \\\n",
       "0  06b8999e2fba1a1fbc88172c00ba8bc7  861eff4711a542e4b93843c6dd7febb0   \n",
       "1  18955e83d337fd6b2def6b18a428ac77  290c77bc529b7ac935b93aa66c333dc3   \n",
       "2  4e7b3e00288586ebd08712fdd0374a03  060e732b5b29e8181a18229c7b0b2b5e   \n",
       "3  b2b6027bc5c5109e529d4dc6358b12c3  259dac757896d24d7702b9acbbff3f3c   \n",
       "4  4f2d8ab171c80ec8364f7c12e35b23ad  345ecd01c38d18a9036ed96c73b8d066   \n",
       "\n",
       "   customer_zip_code_prefix          customer_city customer_state  \n",
       "0                     14409                 franca             SP  \n",
       "1                      9790  sao bernardo do campo             SP  \n",
       "2                      1151              sao paulo             SP  \n",
       "3                      8775        mogi das cruzes             SP  \n",
       "4                     13056               campinas             SP  "
      ]
     },
     "execution_count": 2,
     "metadata": {},
     "output_type": "execute_result"
    }
   ],
   "source": [
    "customers = pd.read_csv('https://getfile.dokpub.com/yandex/get/https://disk.yandex.ru/d/QXrVDUoQvFhIcg')\n",
    "customers.head()"
   ]
  },
  {
   "cell_type": "markdown",
   "metadata": {},
   "source": [
    "### Содержит уникальные идентификаторы пользователей:\n",
    "\n",
    "\n",
    "***customer_id*** — позаказный идентификатор пользователя\n",
    "\n",
    "***customer_unique_id*** —  уникальный идентификатор пользователя  (аналог номера паспорта)\n",
    "\n",
    "***customer_zip_code_prefix*** —  почтовый индекс пользователя\n",
    "\n",
    "***customer_city*** —  город доставки пользователя\n",
    "\n",
    "***customer_state*** —  штат доставки пользователя\n"
   ]
  },
  {
   "cell_type": "markdown",
   "metadata": {},
   "source": [
    " "
   ]
  },
  {
   "cell_type": "markdown",
   "metadata": {},
   "source": [
    "### Посмотрим на типы данных и кол-во непустых значений"
   ]
  },
  {
   "cell_type": "code",
   "execution_count": 3,
   "metadata": {},
   "outputs": [
    {
     "name": "stdout",
     "output_type": "stream",
     "text": [
      "<class 'pandas.core.frame.DataFrame'>\n",
      "RangeIndex: 99441 entries, 0 to 99440\n",
      "Data columns (total 5 columns):\n",
      " #   Column                    Non-Null Count  Dtype \n",
      "---  ------                    --------------  ----- \n",
      " 0   customer_id               99441 non-null  object\n",
      " 1   customer_unique_id        99441 non-null  object\n",
      " 2   customer_zip_code_prefix  99441 non-null  int64 \n",
      " 3   customer_city             99441 non-null  object\n",
      " 4   customer_state            99441 non-null  object\n",
      "dtypes: int64(1), object(4)\n",
      "memory usage: 3.8+ MB\n"
     ]
    }
   ],
   "source": [
    "customers.info()"
   ]
  },
  {
   "cell_type": "markdown",
   "metadata": {},
   "source": [
    "***Типы данных соответствуют значениям в таблице.***\n",
    "\n",
    "\n",
    "Кол-во строк в датафрейме и кол-во непустых значений для каждого столбца совпадают, из чего делаем вывод, что пропущенных значений в таблице нет. Но на всякий случай перепроверим:"
   ]
  },
  {
   "cell_type": "code",
   "execution_count": 4,
   "metadata": {},
   "outputs": [
    {
     "data": {
      "text/plain": [
       "customer_id                 0\n",
       "customer_unique_id          0\n",
       "customer_zip_code_prefix    0\n",
       "customer_city               0\n",
       "customer_state              0\n",
       "dtype: int64"
      ]
     },
     "execution_count": 4,
     "metadata": {},
     "output_type": "execute_result"
    }
   ],
   "source": [
    "customers.isna().sum()"
   ]
  },
  {
   "cell_type": "markdown",
   "metadata": {},
   "source": [
    " "
   ]
  },
  {
   "cell_type": "markdown",
   "metadata": {},
   "source": [
    "### Посмотрим поближе на пользователей и кол-во их заказов"
   ]
  },
  {
   "cell_type": "markdown",
   "metadata": {},
   "source": [
    "***Уникальные айди заказов***"
   ]
  },
  {
   "cell_type": "code",
   "execution_count": 5,
   "metadata": {},
   "outputs": [
    {
     "data": {
      "text/plain": [
       "99441"
      ]
     },
     "execution_count": 5,
     "metadata": {},
     "output_type": "execute_result"
    }
   ],
   "source": [
    "customers.customer_id.nunique()"
   ]
  },
  {
   "cell_type": "markdown",
   "metadata": {},
   "source": [
    "***Уникальные айди самих пользователей***"
   ]
  },
  {
   "cell_type": "code",
   "execution_count": 6,
   "metadata": {},
   "outputs": [
    {
     "data": {
      "text/plain": [
       "96096"
      ]
     },
     "execution_count": 6,
     "metadata": {},
     "output_type": "execute_result"
    }
   ],
   "source": [
    "customers.customer_unique_id.nunique()"
   ]
  },
  {
   "cell_type": "markdown",
   "metadata": {},
   "source": [
    "Информация о самих заказах находится в другом датафрейме, так что пока опустим статусы заказа, и посмотрим, сколько заказов было сделано разными пользователями"
   ]
  },
  {
   "cell_type": "code",
   "execution_count": 7,
   "metadata": {},
   "outputs": [
    {
     "data": {
      "text/html": [
       "<div>\n",
       "<style scoped>\n",
       "    .dataframe tbody tr th:only-of-type {\n",
       "        vertical-align: middle;\n",
       "    }\n",
       "\n",
       "    .dataframe tbody tr th {\n",
       "        vertical-align: top;\n",
       "    }\n",
       "\n",
       "    .dataframe thead th {\n",
       "        text-align: right;\n",
       "    }\n",
       "</style>\n",
       "<table border=\"1\" class=\"dataframe\">\n",
       "  <thead>\n",
       "    <tr style=\"text-align: right;\">\n",
       "      <th></th>\n",
       "      <th>customer_unique_id</th>\n",
       "      <th>count_of_orders</th>\n",
       "    </tr>\n",
       "  </thead>\n",
       "  <tbody>\n",
       "    <tr>\n",
       "      <th>52973</th>\n",
       "      <td>8d50f5eadf50201ccdcedfb9e2ac8455</td>\n",
       "      <td>17</td>\n",
       "    </tr>\n",
       "    <tr>\n",
       "      <th>23472</th>\n",
       "      <td>3e43e6105506432c953e165fb2acf44c</td>\n",
       "      <td>9</td>\n",
       "    </tr>\n",
       "    <tr>\n",
       "      <th>37797</th>\n",
       "      <td>6469f99c1f9dfae7733b25662e7f1782</td>\n",
       "      <td>7</td>\n",
       "    </tr>\n",
       "    <tr>\n",
       "      <th>76082</th>\n",
       "      <td>ca77025e7201e3b30c44b472ff346268</td>\n",
       "      <td>7</td>\n",
       "    </tr>\n",
       "    <tr>\n",
       "      <th>10354</th>\n",
       "      <td>1b6c7548a2a1f9037c1fd3ddfed95f33</td>\n",
       "      <td>7</td>\n",
       "    </tr>\n",
       "    <tr>\n",
       "      <th>...</th>\n",
       "      <td>...</td>\n",
       "      <td>...</td>\n",
       "    </tr>\n",
       "    <tr>\n",
       "      <th>32508</th>\n",
       "      <td>5657dfebff5868c4dc7e8355fea865c4</td>\n",
       "      <td>1</td>\n",
       "    </tr>\n",
       "    <tr>\n",
       "      <th>32507</th>\n",
       "      <td>5657596addb4d7b07b32cd330614bdf8</td>\n",
       "      <td>1</td>\n",
       "    </tr>\n",
       "    <tr>\n",
       "      <th>32506</th>\n",
       "      <td>5656eb169546146caeab56c3ffc3d268</td>\n",
       "      <td>1</td>\n",
       "    </tr>\n",
       "    <tr>\n",
       "      <th>32505</th>\n",
       "      <td>5656a8fabc8629ff96b2bc14f8c09a27</td>\n",
       "      <td>1</td>\n",
       "    </tr>\n",
       "    <tr>\n",
       "      <th>96095</th>\n",
       "      <td>ffffd2657e2aad2907e67c3e9daecbeb</td>\n",
       "      <td>1</td>\n",
       "    </tr>\n",
       "  </tbody>\n",
       "</table>\n",
       "<p>96096 rows × 2 columns</p>\n",
       "</div>"
      ],
      "text/plain": [
       "                     customer_unique_id  count_of_orders\n",
       "52973  8d50f5eadf50201ccdcedfb9e2ac8455               17\n",
       "23472  3e43e6105506432c953e165fb2acf44c                9\n",
       "37797  6469f99c1f9dfae7733b25662e7f1782                7\n",
       "76082  ca77025e7201e3b30c44b472ff346268                7\n",
       "10354  1b6c7548a2a1f9037c1fd3ddfed95f33                7\n",
       "...                                 ...              ...\n",
       "32508  5657dfebff5868c4dc7e8355fea865c4                1\n",
       "32507  5657596addb4d7b07b32cd330614bdf8                1\n",
       "32506  5656eb169546146caeab56c3ffc3d268                1\n",
       "32505  5656a8fabc8629ff96b2bc14f8c09a27                1\n",
       "96095  ffffd2657e2aad2907e67c3e9daecbeb                1\n",
       "\n",
       "[96096 rows x 2 columns]"
      ]
     },
     "execution_count": 7,
     "metadata": {},
     "output_type": "execute_result"
    }
   ],
   "source": [
    "orders_by_customer = customers.groupby('customer_unique_id', as_index=False) \\\n",
    "                              .agg({'customer_id' : 'count'}) \\\n",
    "                              .sort_values('customer_id', ascending=False) \\\n",
    "                              .rename(columns={'customer_id' : 'count_of_orders'})\n",
    "orders_by_customer"
   ]
  },
  {
   "cell_type": "markdown",
   "metadata": {},
   "source": [
    "***Посмотрим на описательную статистику для новой колонки с заказами***"
   ]
  },
  {
   "cell_type": "code",
   "execution_count": 8,
   "metadata": {},
   "outputs": [
    {
     "data": {
      "text/html": [
       "<div>\n",
       "<style scoped>\n",
       "    .dataframe tbody tr th:only-of-type {\n",
       "        vertical-align: middle;\n",
       "    }\n",
       "\n",
       "    .dataframe tbody tr th {\n",
       "        vertical-align: top;\n",
       "    }\n",
       "\n",
       "    .dataframe thead th {\n",
       "        text-align: right;\n",
       "    }\n",
       "</style>\n",
       "<table border=\"1\" class=\"dataframe\">\n",
       "  <thead>\n",
       "    <tr style=\"text-align: right;\">\n",
       "      <th></th>\n",
       "      <th>count_of_orders</th>\n",
       "    </tr>\n",
       "  </thead>\n",
       "  <tbody>\n",
       "    <tr>\n",
       "      <th>count</th>\n",
       "      <td>96096.000000</td>\n",
       "    </tr>\n",
       "    <tr>\n",
       "      <th>mean</th>\n",
       "      <td>1.034809</td>\n",
       "    </tr>\n",
       "    <tr>\n",
       "      <th>std</th>\n",
       "      <td>0.214384</td>\n",
       "    </tr>\n",
       "    <tr>\n",
       "      <th>min</th>\n",
       "      <td>1.000000</td>\n",
       "    </tr>\n",
       "    <tr>\n",
       "      <th>25%</th>\n",
       "      <td>1.000000</td>\n",
       "    </tr>\n",
       "    <tr>\n",
       "      <th>50%</th>\n",
       "      <td>1.000000</td>\n",
       "    </tr>\n",
       "    <tr>\n",
       "      <th>75%</th>\n",
       "      <td>1.000000</td>\n",
       "    </tr>\n",
       "    <tr>\n",
       "      <th>max</th>\n",
       "      <td>17.000000</td>\n",
       "    </tr>\n",
       "  </tbody>\n",
       "</table>\n",
       "</div>"
      ],
      "text/plain": [
       "       count_of_orders\n",
       "count     96096.000000\n",
       "mean          1.034809\n",
       "std           0.214384\n",
       "min           1.000000\n",
       "25%           1.000000\n",
       "50%           1.000000\n",
       "75%           1.000000\n",
       "max          17.000000"
      ]
     },
     "execution_count": 8,
     "metadata": {},
     "output_type": "execute_result"
    }
   ],
   "source": [
    "orders_by_customer.describe()"
   ]
  },
  {
   "cell_type": "markdown",
   "metadata": {},
   "source": [
    "***Что мы видим?***\n",
    "\n",
    "- Среднее значение заказов на пользователя равно 1\n",
    "\n",
    "- 75% пользователей сделали только 1 заказ"
   ]
  },
  {
   "cell_type": "markdown",
   "metadata": {},
   "source": [
    " "
   ]
  },
  {
   "cell_type": "markdown",
   "metadata": {},
   "source": [
    "#### Нарисуем график для наглядности."
   ]
  },
  {
   "cell_type": "code",
   "execution_count": 9,
   "metadata": {},
   "outputs": [
    {
     "data": {
      "text/plain": [
       "Text(0, 0.5, 'Количество пользователей')"
      ]
     },
     "execution_count": 9,
     "metadata": {},
     "output_type": "execute_result"
    },
    {
     "data": {
      "image/png": "[encoded data removed]",
      "text/plain": [
       "<Figure size 1800x720 with 1 Axes>"
      ]
     },
     "metadata": {
      "needs_background": "light"
     },
     "output_type": "display_data"
    }
   ],
   "source": [
    "plt.figure(figsize=(25,10))\n",
    "sns.countplot(data = orders_by_customer, x = 'count_of_orders')\n",
    "plt.xlabel('Количество заказов', fontsize=15)\n",
    "plt.ylabel('Количество пользователей', fontsize=15)"
   ]
  },
  {
   "cell_type": "markdown",
   "metadata": {},
   "source": [
    "На графике прекрасно видно, что подавляющее большинство пользователей сделали всего 1 заказ."
   ]
  },
  {
   "cell_type": "markdown",
   "metadata": {},
   "source": [
    " "
   ]
  },
  {
   "cell_type": "markdown",
   "metadata": {},
   "source": [
    "### Так же было бы интересно посмотреть, как заказы распределены по штатам.\n"
   ]
  },
  {
   "cell_type": "code",
   "execution_count": 10,
   "metadata": {},
   "outputs": [
    {
     "data": {
      "text/html": [
       "<div>\n",
       "<style scoped>\n",
       "    .dataframe tbody tr th:only-of-type {\n",
       "        vertical-align: middle;\n",
       "    }\n",
       "\n",
       "    .dataframe tbody tr th {\n",
       "        vertical-align: top;\n",
       "    }\n",
       "\n",
       "    .dataframe thead th {\n",
       "        text-align: right;\n",
       "    }\n",
       "</style>\n",
       "<table border=\"1\" class=\"dataframe\">\n",
       "  <thead>\n",
       "    <tr style=\"text-align: right;\">\n",
       "      <th></th>\n",
       "      <th>customer_state</th>\n",
       "      <th>count_of_orders</th>\n",
       "    </tr>\n",
       "  </thead>\n",
       "  <tbody>\n",
       "    <tr>\n",
       "      <th>25</th>\n",
       "      <td>SP</td>\n",
       "      <td>41746</td>\n",
       "    </tr>\n",
       "    <tr>\n",
       "      <th>18</th>\n",
       "      <td>RJ</td>\n",
       "      <td>12852</td>\n",
       "    </tr>\n",
       "    <tr>\n",
       "      <th>10</th>\n",
       "      <td>MG</td>\n",
       "      <td>11635</td>\n",
       "    </tr>\n",
       "    <tr>\n",
       "      <th>22</th>\n",
       "      <td>RS</td>\n",
       "      <td>5466</td>\n",
       "    </tr>\n",
       "    <tr>\n",
       "      <th>17</th>\n",
       "      <td>PR</td>\n",
       "      <td>5045</td>\n",
       "    </tr>\n",
       "  </tbody>\n",
       "</table>\n",
       "</div>"
      ],
      "text/plain": [
       "   customer_state  count_of_orders\n",
       "25             SP            41746\n",
       "18             RJ            12852\n",
       "10             MG            11635\n",
       "22             RS             5466\n",
       "17             PR             5045"
      ]
     },
     "execution_count": 10,
     "metadata": {},
     "output_type": "execute_result"
    }
   ],
   "source": [
    "orders_by_state = customers.groupby('customer_state', as_index=False) \\\n",
    "                           .agg({'customer_id' : 'count'}) \\\n",
    "                           .rename(columns={'customer_id' : 'count_of_orders'}) \\\n",
    "                           .sort_values('count_of_orders', ascending=False)\n",
    "orders_by_state.head()"
   ]
  },
  {
   "cell_type": "markdown",
   "metadata": {},
   "source": [
    "#### Визуализируем"
   ]
  },
  {
   "cell_type": "code",
   "execution_count": 11,
   "metadata": {},
   "outputs": [
    {
     "data": {
      "text/plain": [
       "Text(0, 0.5, 'Количество пользователей')"
      ]
     },
     "execution_count": 11,
     "metadata": {},
     "output_type": "execute_result"
    },
    {
     "data": {
      "image/png": "[encoded data removed]",
      "text/plain": [
       "<Figure size 1800x720 with 1 Axes>"
      ]
     },
     "metadata": {
      "needs_background": "light"
     },
     "output_type": "display_data"
    }
   ],
   "source": [
    "plt.figure(figsize=(25,10))\n",
    "sns.barplot(data = orders_by_state, x='customer_state', y = 'count_of_orders')\n",
    "plt.xlabel('Штат', fontsize=15)\n",
    "plt.ylabel('Количество пользователей', fontsize=15)"
   ]
  },
  {
   "cell_type": "markdown",
   "metadata": {},
   "source": [
    "На графике видим, что по заказам лидирует штат Сан-Паулу."
   ]
  },
  {
   "cell_type": "markdown",
   "metadata": {},
   "source": [
    "### Второй датафрейм (orders):"
   ]
  },
  {
   "cell_type": "code",
   "execution_count": 12,
   "metadata": {},
   "outputs": [
    {
     "data": {
      "text/html": [
       "<div>\n",
       "<style scoped>\n",
       "    .dataframe tbody tr th:only-of-type {\n",
       "        vertical-align: middle;\n",
       "    }\n",
       "\n",
       "    .dataframe tbody tr th {\n",
       "        vertical-align: top;\n",
       "    }\n",
       "\n",
       "    .dataframe thead th {\n",
       "        text-align: right;\n",
       "    }\n",
       "</style>\n",
       "<table border=\"1\" class=\"dataframe\">\n",
       "  <thead>\n",
       "    <tr style=\"text-align: right;\">\n",
       "      <th></th>\n",
       "      <th>order_id</th>\n",
       "      <th>customer_id</th>\n",
       "      <th>order_status</th>\n",
       "      <th>order_purchase_timestamp</th>\n",
       "      <th>order_approved_at</th>\n",
       "      <th>order_delivered_carrier_date</th>\n",
       "      <th>order_delivered_customer_date</th>\n",
       "      <th>order_estimated_delivery_date</th>\n",
       "    </tr>\n",
       "  </thead>\n",
       "  <tbody>\n",
       "    <tr>\n",
       "      <th>0</th>\n",
       "      <td>e481f51cbdc54678b7cc49136f2d6af7</td>\n",
       "      <td>9ef432eb6251297304e76186b10a928d</td>\n",
       "      <td>delivered</td>\n",
       "      <td>2017-10-02 10:56:33</td>\n",
       "      <td>2017-10-02 11:07:15</td>\n",
       "      <td>2017-10-04 19:55:00</td>\n",
       "      <td>2017-10-10 21:25:13</td>\n",
       "      <td>2017-10-18 00:00:00</td>\n",
       "    </tr>\n",
       "    <tr>\n",
       "      <th>1</th>\n",
       "      <td>53cdb2fc8bc7dce0b6741e2150273451</td>\n",
       "      <td>b0830fb4747a6c6d20dea0b8c802d7ef</td>\n",
       "      <td>delivered</td>\n",
       "      <td>2018-07-24 20:41:37</td>\n",
       "      <td>2018-07-26 03:24:27</td>\n",
       "      <td>2018-07-26 14:31:00</td>\n",
       "      <td>2018-08-07 15:27:45</td>\n",
       "      <td>2018-08-13 00:00:00</td>\n",
       "    </tr>\n",
       "    <tr>\n",
       "      <th>2</th>\n",
       "      <td>47770eb9100c2d0c44946d9cf07ec65d</td>\n",
       "      <td>41ce2a54c0b03bf3443c3d931a367089</td>\n",
       "      <td>delivered</td>\n",
       "      <td>2018-08-08 08:38:49</td>\n",
       "      <td>2018-08-08 08:55:23</td>\n",
       "      <td>2018-08-08 13:50:00</td>\n",
       "      <td>2018-08-17 18:06:29</td>\n",
       "      <td>2018-09-04 00:00:00</td>\n",
       "    </tr>\n",
       "    <tr>\n",
       "      <th>3</th>\n",
       "      <td>949d5b44dbf5de918fe9c16f97b45f8a</td>\n",
       "      <td>f88197465ea7920adcdbec7375364d82</td>\n",
       "      <td>delivered</td>\n",
       "      <td>2017-11-18 19:28:06</td>\n",
       "      <td>2017-11-18 19:45:59</td>\n",
       "      <td>2017-11-22 13:39:59</td>\n",
       "      <td>2017-12-02 00:28:42</td>\n",
       "      <td>2017-12-15 00:00:00</td>\n",
       "    </tr>\n",
       "    <tr>\n",
       "      <th>4</th>\n",
       "      <td>ad21c59c0840e6cb83a9ceb5573f8159</td>\n",
       "      <td>8ab97904e6daea8866dbdbc4fb7aad2c</td>\n",
       "      <td>delivered</td>\n",
       "      <td>2018-02-13 21:18:39</td>\n",
       "      <td>2018-02-13 22:20:29</td>\n",
       "      <td>2018-02-14 19:46:34</td>\n",
       "      <td>2018-02-16 18:17:02</td>\n",
       "      <td>2018-02-26 00:00:00</td>\n",
       "    </tr>\n",
       "  </tbody>\n",
       "</table>\n",
       "</div>"
      ],
      "text/plain": [
       "                           order_id                       customer_id  \\\n",
       "0  e481f51cbdc54678b7cc49136f2d6af7  9ef432eb6251297304e76186b10a928d   \n",
       "1  53cdb2fc8bc7dce0b6741e2150273451  b0830fb4747a6c6d20dea0b8c802d7ef   \n",
       "2  47770eb9100c2d0c44946d9cf07ec65d  41ce2a54c0b03bf3443c3d931a367089   \n",
       "3  949d5b44dbf5de918fe9c16f97b45f8a  f88197465ea7920adcdbec7375364d82   \n",
       "4  ad21c59c0840e6cb83a9ceb5573f8159  8ab97904e6daea8866dbdbc4fb7aad2c   \n",
       "\n",
       "  order_status order_purchase_timestamp    order_approved_at  \\\n",
       "0    delivered      2017-10-02 10:56:33  2017-10-02 11:07:15   \n",
       "1    delivered      2018-07-24 20:41:37  2018-07-26 03:24:27   \n",
       "2    delivered      2018-08-08 08:38:49  2018-08-08 08:55:23   \n",
       "3    delivered      2017-11-18 19:28:06  2017-11-18 19:45:59   \n",
       "4    delivered      2018-02-13 21:18:39  2018-02-13 22:20:29   \n",
       "\n",
       "  order_delivered_carrier_date order_delivered_customer_date  \\\n",
       "0          2017-10-04 19:55:00           2017-10-10 21:25:13   \n",
       "1          2018-07-26 14:31:00           2018-08-07 15:27:45   \n",
       "2          2018-08-08 13:50:00           2018-08-17 18:06:29   \n",
       "3          2017-11-22 13:39:59           2017-12-02 00:28:42   \n",
       "4          2018-02-14 19:46:34           2018-02-16 18:17:02   \n",
       "\n",
       "  order_estimated_delivery_date  \n",
       "0           2017-10-18 00:00:00  \n",
       "1           2018-08-13 00:00:00  \n",
       "2           2018-09-04 00:00:00  \n",
       "3           2017-12-15 00:00:00  \n",
       "4           2018-02-26 00:00:00  "
      ]
     },
     "execution_count": 12,
     "metadata": {},
     "output_type": "execute_result"
    }
   ],
   "source": [
    "orders = pd.read_csv('https://getfile.dokpub.com/yandex/get/https://disk.yandex.ru/d/0zWmh1bYP6REbw')\n",
    "orders.head()"
   ]
  },
  {
   "cell_type": "markdown",
   "metadata": {},
   "source": [
    "### Содержит информацию о заказах:\n",
    "\n",
    "\n",
    "\n",
    "***order_id*** —  уникальный идентификатор заказа (номер чека)\n",
    "\n",
    "***customer_id*** —  позаказный идентификатор пользователя\n",
    "\n",
    "***order_status*** —  статус заказа\n",
    "\n",
    "***order_purchase_timestamp*** —  время создания заказа\n",
    "\n",
    "***order_approved_at*** —  время подтверждения оплаты заказа\n",
    "\n",
    "***order_delivered_carrier_date*** —  время передачи заказа в логистическую службу\n",
    "\n",
    "***order_delivered_customer_date*** —  время доставки заказа\n",
    "\n",
    "***order_estimated_delivery_date*** —  обещанная дата доставки"
   ]
  },
  {
   "cell_type": "markdown",
   "metadata": {},
   "source": [
    "### Посмотрим на типы данных и кол-во непустых значений"
   ]
  },
  {
   "cell_type": "code",
   "execution_count": 13,
   "metadata": {},
   "outputs": [
    {
     "name": "stdout",
     "output_type": "stream",
     "text": [
      "<class 'pandas.core.frame.DataFrame'>\n",
      "RangeIndex: 99441 entries, 0 to 99440\n",
      "Data columns (total 8 columns):\n",
      " #   Column                         Non-Null Count  Dtype \n",
      "---  ------                         --------------  ----- \n",
      " 0   order_id                       99441 non-null  object\n",
      " 1   customer_id                    99441 non-null  object\n",
      " 2   order_status                   99441 non-null  object\n",
      " 3   order_purchase_timestamp       99441 non-null  object\n",
      " 4   order_approved_at              99281 non-null  object\n",
      " 5   order_delivered_carrier_date   97658 non-null  object\n",
      " 6   order_delivered_customer_date  96476 non-null  object\n",
      " 7   order_estimated_delivery_date  99441 non-null  object\n",
      "dtypes: object(8)\n",
      "memory usage: 6.1+ MB\n"
     ]
    }
   ],
   "source": [
    "orders.info()"
   ]
  },
  {
   "cell_type": "markdown",
   "metadata": {},
   "source": [
    "Во-первых, видим, что столбцы с датами имеют неподходящий формат. \n",
    "\n",
    "***Приводим колонки к нужному типу***"
   ]
  },
  {
   "cell_type": "code",
   "execution_count": 14,
   "metadata": {},
   "outputs": [],
   "source": [
    "orders[['order_purchase_timestamp', 'order_approved_at', 'order_delivered_carrier_date', 'order_delivered_customer_date', 'order_estimated_delivery_date']] = \\\n",
    "orders[['order_purchase_timestamp', 'order_approved_at', 'order_delivered_carrier_date', 'order_delivered_customer_date', 'order_estimated_delivery_date']].apply(pd.to_datetime)"
   ]
  },
  {
   "cell_type": "markdown",
   "metadata": {},
   "source": [
    "***Проверяем, что все сработало.***"
   ]
  },
  {
   "cell_type": "code",
   "execution_count": 15,
   "metadata": {},
   "outputs": [
    {
     "name": "stdout",
     "output_type": "stream",
     "text": [
      "<class 'pandas.core.frame.DataFrame'>\n",
      "RangeIndex: 99441 entries, 0 to 99440\n",
      "Data columns (total 8 columns):\n",
      " #   Column                         Non-Null Count  Dtype         \n",
      "---  ------                         --------------  -----         \n",
      " 0   order_id                       99441 non-null  object        \n",
      " 1   customer_id                    99441 non-null  object        \n",
      " 2   order_status                   99441 non-null  object        \n",
      " 3   order_purchase_timestamp       99441 non-null  datetime64[ns]\n",
      " 4   order_approved_at              99281 non-null  datetime64[ns]\n",
      " 5   order_delivered_carrier_date   97658 non-null  datetime64[ns]\n",
      " 6   order_delivered_customer_date  96476 non-null  datetime64[ns]\n",
      " 7   order_estimated_delivery_date  99441 non-null  datetime64[ns]\n",
      "dtypes: datetime64[ns](5), object(3)\n",
      "memory usage: 6.1+ MB\n"
     ]
    }
   ],
   "source": [
    "orders.info()"
   ]
  },
  {
   "cell_type": "markdown",
   "metadata": {},
   "source": [
    "Во-вторых, в нескольких столбцах присутствуют пустые значения. Посчитаем их:"
   ]
  },
  {
   "cell_type": "code",
   "execution_count": 16,
   "metadata": {},
   "outputs": [
    {
     "data": {
      "text/plain": [
       "order_id                            0\n",
       "customer_id                         0\n",
       "order_status                        0\n",
       "order_purchase_timestamp            0\n",
       "order_approved_at                 160\n",
       "order_delivered_carrier_date     1783\n",
       "order_delivered_customer_date    2965\n",
       "order_estimated_delivery_date       0\n",
       "dtype: int64"
      ]
     },
     "execution_count": 16,
     "metadata": {},
     "output_type": "execute_result"
    }
   ],
   "source": [
    "orders.isna().sum()"
   ]
  },
  {
   "cell_type": "markdown",
   "metadata": {},
   "source": [
    "## 1. order_approved_at  — время подтверждения оплаты заказа.\n",
    "\n",
    "160 заказов не были оплачены?"
   ]
  },
  {
   "cell_type": "code",
   "execution_count": 17,
   "metadata": {},
   "outputs": [
    {
     "data": {
      "text/html": [
       "<div>\n",
       "<style scoped>\n",
       "    .dataframe tbody tr th:only-of-type {\n",
       "        vertical-align: middle;\n",
       "    }\n",
       "\n",
       "    .dataframe tbody tr th {\n",
       "        vertical-align: top;\n",
       "    }\n",
       "\n",
       "    .dataframe thead th {\n",
       "        text-align: right;\n",
       "    }\n",
       "</style>\n",
       "<table border=\"1\" class=\"dataframe\">\n",
       "  <thead>\n",
       "    <tr style=\"text-align: right;\">\n",
       "      <th></th>\n",
       "      <th>order_id</th>\n",
       "      <th>customer_id</th>\n",
       "      <th>order_status</th>\n",
       "      <th>order_purchase_timestamp</th>\n",
       "      <th>order_approved_at</th>\n",
       "      <th>order_delivered_carrier_date</th>\n",
       "      <th>order_delivered_customer_date</th>\n",
       "      <th>order_estimated_delivery_date</th>\n",
       "    </tr>\n",
       "  </thead>\n",
       "  <tbody>\n",
       "    <tr>\n",
       "      <th>1130</th>\n",
       "      <td>00b1cb0320190ca0daa2c88b35206009</td>\n",
       "      <td>3532ba38a3fd242259a514ac2b6ae6b6</td>\n",
       "      <td>canceled</td>\n",
       "      <td>2018-08-28 15:26:39</td>\n",
       "      <td>NaT</td>\n",
       "      <td>NaT</td>\n",
       "      <td>NaT</td>\n",
       "      <td>2018-09-12</td>\n",
       "    </tr>\n",
       "    <tr>\n",
       "      <th>1801</th>\n",
       "      <td>ed3efbd3a87bea76c2812c66a0b32219</td>\n",
       "      <td>191984a8ba4cbb2145acb4fe35b69664</td>\n",
       "      <td>canceled</td>\n",
       "      <td>2018-09-20 13:54:16</td>\n",
       "      <td>NaT</td>\n",
       "      <td>NaT</td>\n",
       "      <td>NaT</td>\n",
       "      <td>2018-10-17</td>\n",
       "    </tr>\n",
       "    <tr>\n",
       "      <th>1868</th>\n",
       "      <td>df8282afe61008dc26c6c31011474d02</td>\n",
       "      <td>aa797b187b5466bc6925aaaa4bb3bed1</td>\n",
       "      <td>canceled</td>\n",
       "      <td>2017-03-04 12:14:30</td>\n",
       "      <td>NaT</td>\n",
       "      <td>NaT</td>\n",
       "      <td>NaT</td>\n",
       "      <td>2017-04-10</td>\n",
       "    </tr>\n",
       "    <tr>\n",
       "      <th>2029</th>\n",
       "      <td>8d4c637f1accf7a88a4555f02741e606</td>\n",
       "      <td>b1dd715db389a2077f43174e7a675d07</td>\n",
       "      <td>canceled</td>\n",
       "      <td>2018-08-29 16:27:49</td>\n",
       "      <td>NaT</td>\n",
       "      <td>NaT</td>\n",
       "      <td>NaT</td>\n",
       "      <td>2018-09-13</td>\n",
       "    </tr>\n",
       "    <tr>\n",
       "      <th>2161</th>\n",
       "      <td>7a9d4c7f9b068337875b95465330f2fc</td>\n",
       "      <td>7f71ae48074c0cfec9195f88fcbfac55</td>\n",
       "      <td>canceled</td>\n",
       "      <td>2017-05-01 16:12:39</td>\n",
       "      <td>NaT</td>\n",
       "      <td>NaT</td>\n",
       "      <td>NaT</td>\n",
       "      <td>2017-05-30</td>\n",
       "    </tr>\n",
       "    <tr>\n",
       "      <th>...</th>\n",
       "      <td>...</td>\n",
       "      <td>...</td>\n",
       "      <td>...</td>\n",
       "      <td>...</td>\n",
       "      <td>...</td>\n",
       "      <td>...</td>\n",
       "      <td>...</td>\n",
       "      <td>...</td>\n",
       "    </tr>\n",
       "    <tr>\n",
       "      <th>97696</th>\n",
       "      <td>5a00b4d35edffc56b825c3646a99ba9d</td>\n",
       "      <td>6a3bdf004ca96338fb5fad1b8d93c2e6</td>\n",
       "      <td>canceled</td>\n",
       "      <td>2017-07-02 15:38:46</td>\n",
       "      <td>NaT</td>\n",
       "      <td>NaT</td>\n",
       "      <td>NaT</td>\n",
       "      <td>2017-07-25</td>\n",
       "    </tr>\n",
       "    <tr>\n",
       "      <th>98415</th>\n",
       "      <td>227c804e2a44760671a6a5697ea549e4</td>\n",
       "      <td>62e7477e75e542243ee62a0ba73f410f</td>\n",
       "      <td>canceled</td>\n",
       "      <td>2017-09-28 15:02:56</td>\n",
       "      <td>NaT</td>\n",
       "      <td>NaT</td>\n",
       "      <td>NaT</td>\n",
       "      <td>2017-10-16</td>\n",
       "    </tr>\n",
       "    <tr>\n",
       "      <th>98909</th>\n",
       "      <td>e49e7ce1471b4693482d40c2bd3ad196</td>\n",
       "      <td>e4e7ab3f449aeb401f0216f86c2104db</td>\n",
       "      <td>canceled</td>\n",
       "      <td>2018-08-07 11:16:28</td>\n",
       "      <td>NaT</td>\n",
       "      <td>NaT</td>\n",
       "      <td>NaT</td>\n",
       "      <td>2018-08-10</td>\n",
       "    </tr>\n",
       "    <tr>\n",
       "      <th>99283</th>\n",
       "      <td>3a3cddda5a7c27851bd96c3313412840</td>\n",
       "      <td>0b0d6095c5555fe083844281f6b093bb</td>\n",
       "      <td>canceled</td>\n",
       "      <td>2018-08-31 16:13:44</td>\n",
       "      <td>NaT</td>\n",
       "      <td>NaT</td>\n",
       "      <td>NaT</td>\n",
       "      <td>2018-10-01</td>\n",
       "    </tr>\n",
       "    <tr>\n",
       "      <th>99347</th>\n",
       "      <td>a89abace0dcc01eeb267a9660b5ac126</td>\n",
       "      <td>2f0524a7b1b3845a1a57fcf3910c4333</td>\n",
       "      <td>canceled</td>\n",
       "      <td>2018-09-06 18:45:47</td>\n",
       "      <td>NaT</td>\n",
       "      <td>NaT</td>\n",
       "      <td>NaT</td>\n",
       "      <td>2018-09-27</td>\n",
       "    </tr>\n",
       "  </tbody>\n",
       "</table>\n",
       "<p>160 rows × 8 columns</p>\n",
       "</div>"
      ],
      "text/plain": [
       "                               order_id                       customer_id  \\\n",
       "1130   00b1cb0320190ca0daa2c88b35206009  3532ba38a3fd242259a514ac2b6ae6b6   \n",
       "1801   ed3efbd3a87bea76c2812c66a0b32219  191984a8ba4cbb2145acb4fe35b69664   \n",
       "1868   df8282afe61008dc26c6c31011474d02  aa797b187b5466bc6925aaaa4bb3bed1   \n",
       "2029   8d4c637f1accf7a88a4555f02741e606  b1dd715db389a2077f43174e7a675d07   \n",
       "2161   7a9d4c7f9b068337875b95465330f2fc  7f71ae48074c0cfec9195f88fcbfac55   \n",
       "...                                 ...                               ...   \n",
       "97696  5a00b4d35edffc56b825c3646a99ba9d  6a3bdf004ca96338fb5fad1b8d93c2e6   \n",
       "98415  227c804e2a44760671a6a5697ea549e4  62e7477e75e542243ee62a0ba73f410f   \n",
       "98909  e49e7ce1471b4693482d40c2bd3ad196  e4e7ab3f449aeb401f0216f86c2104db   \n",
       "99283  3a3cddda5a7c27851bd96c3313412840  0b0d6095c5555fe083844281f6b093bb   \n",
       "99347  a89abace0dcc01eeb267a9660b5ac126  2f0524a7b1b3845a1a57fcf3910c4333   \n",
       "\n",
       "      order_status order_purchase_timestamp order_approved_at  \\\n",
       "1130      canceled      2018-08-28 15:26:39               NaT   \n",
       "1801      canceled      2018-09-20 13:54:16               NaT   \n",
       "1868      canceled      2017-03-04 12:14:30               NaT   \n",
       "2029      canceled      2018-08-29 16:27:49               NaT   \n",
       "2161      canceled      2017-05-01 16:12:39               NaT   \n",
       "...            ...                      ...               ...   \n",
       "97696     canceled      2017-07-02 15:38:46               NaT   \n",
       "98415     canceled      2017-09-28 15:02:56               NaT   \n",
       "98909     canceled      2018-08-07 11:16:28               NaT   \n",
       "99283     canceled      2018-08-31 16:13:44               NaT   \n",
       "99347     canceled      2018-09-06 18:45:47               NaT   \n",
       "\n",
       "      order_delivered_carrier_date order_delivered_customer_date  \\\n",
       "1130                           NaT                           NaT   \n",
       "1801                           NaT                           NaT   \n",
       "1868                           NaT                           NaT   \n",
       "2029                           NaT                           NaT   \n",
       "2161                           NaT                           NaT   \n",
       "...                            ...                           ...   \n",
       "97696                          NaT                           NaT   \n",
       "98415                          NaT                           NaT   \n",
       "98909                          NaT                           NaT   \n",
       "99283                          NaT                           NaT   \n",
       "99347                          NaT                           NaT   \n",
       "\n",
       "      order_estimated_delivery_date  \n",
       "1130                     2018-09-12  \n",
       "1801                     2018-10-17  \n",
       "1868                     2017-04-10  \n",
       "2029                     2018-09-13  \n",
       "2161                     2017-05-30  \n",
       "...                             ...  \n",
       "97696                    2017-07-25  \n",
       "98415                    2017-10-16  \n",
       "98909                    2018-08-10  \n",
       "99283                    2018-10-01  \n",
       "99347                    2018-09-27  \n",
       "\n",
       "[160 rows x 8 columns]"
      ]
     },
     "execution_count": 17,
     "metadata": {},
     "output_type": "execute_result"
    }
   ],
   "source": [
    "without_payment = orders.query('order_approved_at == \"NaN\"')\n",
    "without_payment"
   ]
  },
  {
   "cell_type": "markdown",
   "metadata": {},
   "source": [
    "На первый взгляд все в порядке. Заказы были отменены, поэтому не оплачивались."
   ]
  },
  {
   "cell_type": "markdown",
   "metadata": {},
   "source": [
    "#### Но посмотрим на данные чуть внимательнее."
   ]
  },
  {
   "cell_type": "code",
   "execution_count": 18,
   "metadata": {},
   "outputs": [
    {
     "data": {
      "text/plain": [
       "order_id                         160\n",
       "customer_id                      160\n",
       "order_status                       3\n",
       "order_purchase_timestamp         160\n",
       "order_approved_at                  0\n",
       "order_delivered_carrier_date      13\n",
       "order_delivered_customer_date     14\n",
       "order_estimated_delivery_date    109\n",
       "dtype: int64"
      ]
     },
     "execution_count": 18,
     "metadata": {},
     "output_type": "execute_result"
    }
   ],
   "source": [
    "without_payment.nunique()"
   ]
  },
  {
   "cell_type": "markdown",
   "metadata": {},
   "source": [
    "Так, у нас имеется 3 уникальных статуса заказа. Получается, были не только отмененные.\n",
    "\n",
    "Более того, 14 заказов были доставлены без оплаты."
   ]
  },
  {
   "cell_type": "markdown",
   "metadata": {},
   "source": [
    "#### Разбираемся дальше. Посмотрим на неоплаченные заказы в разрезе их статуса."
   ]
  },
  {
   "cell_type": "code",
   "execution_count": 19,
   "metadata": {},
   "outputs": [
    {
     "data": {
      "text/html": [
       "<div>\n",
       "<style scoped>\n",
       "    .dataframe tbody tr th:only-of-type {\n",
       "        vertical-align: middle;\n",
       "    }\n",
       "\n",
       "    .dataframe tbody tr th {\n",
       "        vertical-align: top;\n",
       "    }\n",
       "\n",
       "    .dataframe thead th {\n",
       "        text-align: right;\n",
       "    }\n",
       "</style>\n",
       "<table border=\"1\" class=\"dataframe\">\n",
       "  <thead>\n",
       "    <tr style=\"text-align: right;\">\n",
       "      <th></th>\n",
       "      <th>order_status</th>\n",
       "      <th>count_of_orders</th>\n",
       "    </tr>\n",
       "  </thead>\n",
       "  <tbody>\n",
       "    <tr>\n",
       "      <th>0</th>\n",
       "      <td>canceled</td>\n",
       "      <td>141</td>\n",
       "    </tr>\n",
       "    <tr>\n",
       "      <th>2</th>\n",
       "      <td>delivered</td>\n",
       "      <td>14</td>\n",
       "    </tr>\n",
       "    <tr>\n",
       "      <th>1</th>\n",
       "      <td>created</td>\n",
       "      <td>5</td>\n",
       "    </tr>\n",
       "  </tbody>\n",
       "</table>\n",
       "</div>"
      ],
      "text/plain": [
       "  order_status  count_of_orders\n",
       "0     canceled              141\n",
       "2    delivered               14\n",
       "1      created                5"
      ]
     },
     "execution_count": 19,
     "metadata": {},
     "output_type": "execute_result"
    }
   ],
   "source": [
    "without_payment_by_status = without_payment.groupby('order_status', as_index=False) \\\n",
    "                                           .agg({'order_id' : 'count'}) \\\n",
    "                                           .rename(columns={'order_id':'count_of_orders'}) \\\n",
    "                                           .sort_values('count_of_orders', ascending=False)\n",
    "without_payment_by_status"
   ]
  },
  {
   "cell_type": "markdown",
   "metadata": {},
   "source": [
    "***Итак, что мы имеем:***\n",
    "\n",
    "canceled - 141 заказ был отменен, поэтому не оплачен. Все нормально.\n",
    "\n",
    "created - 5 заказов были только созданы, оплата будет произведена позже. Все нормально.\n",
    "\n",
    "delivered - 14 заказов были доставлены, но не оплачены. ***Что-то не так.***"
   ]
  },
  {
   "cell_type": "markdown",
   "metadata": {},
   "source": [
    "#### Посмотрим на доставленные, но не оплаченные заказы."
   ]
  },
  {
   "cell_type": "code",
   "execution_count": 20,
   "metadata": {},
   "outputs": [
    {
     "data": {
      "text/html": [
       "<div>\n",
       "<style scoped>\n",
       "    .dataframe tbody tr th:only-of-type {\n",
       "        vertical-align: middle;\n",
       "    }\n",
       "\n",
       "    .dataframe tbody tr th {\n",
       "        vertical-align: top;\n",
       "    }\n",
       "\n",
       "    .dataframe thead th {\n",
       "        text-align: right;\n",
       "    }\n",
       "</style>\n",
       "<table border=\"1\" class=\"dataframe\">\n",
       "  <thead>\n",
       "    <tr style=\"text-align: right;\">\n",
       "      <th></th>\n",
       "      <th>order_id</th>\n",
       "      <th>customer_id</th>\n",
       "      <th>order_status</th>\n",
       "      <th>order_purchase_timestamp</th>\n",
       "      <th>order_approved_at</th>\n",
       "      <th>order_delivered_carrier_date</th>\n",
       "      <th>order_delivered_customer_date</th>\n",
       "      <th>order_estimated_delivery_date</th>\n",
       "    </tr>\n",
       "  </thead>\n",
       "  <tbody>\n",
       "    <tr>\n",
       "      <th>5323</th>\n",
       "      <td>e04abd8149ef81b95221e88f6ed9ab6a</td>\n",
       "      <td>2127dc6603ac33544953ef05ec155771</td>\n",
       "      <td>delivered</td>\n",
       "      <td>2017-02-18 14:40:00</td>\n",
       "      <td>NaT</td>\n",
       "      <td>2017-02-23 12:04:47</td>\n",
       "      <td>2017-03-01 13:25:33</td>\n",
       "      <td>2017-03-17</td>\n",
       "    </tr>\n",
       "    <tr>\n",
       "      <th>16567</th>\n",
       "      <td>8a9adc69528e1001fc68dd0aaebbb54a</td>\n",
       "      <td>4c1ccc74e00993733742a3c786dc3c1f</td>\n",
       "      <td>delivered</td>\n",
       "      <td>2017-02-18 12:45:31</td>\n",
       "      <td>NaT</td>\n",
       "      <td>2017-02-23 09:01:52</td>\n",
       "      <td>2017-03-02 10:05:06</td>\n",
       "      <td>2017-03-21</td>\n",
       "    </tr>\n",
       "    <tr>\n",
       "      <th>19031</th>\n",
       "      <td>7013bcfc1c97fe719a7b5e05e61c12db</td>\n",
       "      <td>2941af76d38100e0f8740a374f1a5dc3</td>\n",
       "      <td>delivered</td>\n",
       "      <td>2017-02-18 13:29:47</td>\n",
       "      <td>NaT</td>\n",
       "      <td>2017-02-22 16:25:25</td>\n",
       "      <td>2017-03-01 08:07:38</td>\n",
       "      <td>2017-03-17</td>\n",
       "    </tr>\n",
       "    <tr>\n",
       "      <th>22663</th>\n",
       "      <td>5cf925b116421afa85ee25e99b4c34fb</td>\n",
       "      <td>29c35fc91fc13fb5073c8f30505d860d</td>\n",
       "      <td>delivered</td>\n",
       "      <td>2017-02-18 16:48:35</td>\n",
       "      <td>NaT</td>\n",
       "      <td>2017-02-22 11:23:10</td>\n",
       "      <td>2017-03-09 07:28:47</td>\n",
       "      <td>2017-03-31</td>\n",
       "    </tr>\n",
       "    <tr>\n",
       "      <th>23156</th>\n",
       "      <td>12a95a3c06dbaec84bcfb0e2da5d228a</td>\n",
       "      <td>1e101e0daffaddce8159d25a8e53f2b2</td>\n",
       "      <td>delivered</td>\n",
       "      <td>2017-02-17 13:05:55</td>\n",
       "      <td>NaT</td>\n",
       "      <td>2017-02-22 11:23:11</td>\n",
       "      <td>2017-03-02 11:09:19</td>\n",
       "      <td>2017-03-20</td>\n",
       "    </tr>\n",
       "    <tr>\n",
       "      <th>26800</th>\n",
       "      <td>c1d4211b3dae76144deccd6c74144a88</td>\n",
       "      <td>684cb238dc5b5d6366244e0e0776b450</td>\n",
       "      <td>delivered</td>\n",
       "      <td>2017-01-19 12:48:08</td>\n",
       "      <td>NaT</td>\n",
       "      <td>2017-01-25 14:56:50</td>\n",
       "      <td>2017-01-30 18:16:01</td>\n",
       "      <td>2017-03-01</td>\n",
       "    </tr>\n",
       "    <tr>\n",
       "      <th>38290</th>\n",
       "      <td>d69e5d356402adc8cf17e08b5033acfb</td>\n",
       "      <td>68d081753ad4fe22fc4d410a9eb1ca01</td>\n",
       "      <td>delivered</td>\n",
       "      <td>2017-02-19 01:28:47</td>\n",
       "      <td>NaT</td>\n",
       "      <td>2017-02-23 03:11:48</td>\n",
       "      <td>2017-03-02 03:41:58</td>\n",
       "      <td>2017-03-27</td>\n",
       "    </tr>\n",
       "    <tr>\n",
       "      <th>39334</th>\n",
       "      <td>d77031d6a3c8a52f019764e68f211c69</td>\n",
       "      <td>0bf35cac6cc7327065da879e2d90fae8</td>\n",
       "      <td>delivered</td>\n",
       "      <td>2017-02-18 11:04:19</td>\n",
       "      <td>NaT</td>\n",
       "      <td>2017-02-23 07:23:36</td>\n",
       "      <td>2017-03-02 16:15:23</td>\n",
       "      <td>2017-03-22</td>\n",
       "    </tr>\n",
       "    <tr>\n",
       "      <th>48401</th>\n",
       "      <td>7002a78c79c519ac54022d4f8a65e6e8</td>\n",
       "      <td>d5de688c321096d15508faae67a27051</td>\n",
       "      <td>delivered</td>\n",
       "      <td>2017-01-19 22:26:59</td>\n",
       "      <td>NaT</td>\n",
       "      <td>2017-01-27 11:08:05</td>\n",
       "      <td>2017-02-06 14:22:19</td>\n",
       "      <td>2017-03-16</td>\n",
       "    </tr>\n",
       "    <tr>\n",
       "      <th>61743</th>\n",
       "      <td>2eecb0d85f281280f79fa00f9cec1a95</td>\n",
       "      <td>a3d3c38e58b9d2dfb9207cab690b6310</td>\n",
       "      <td>delivered</td>\n",
       "      <td>2017-02-17 17:21:55</td>\n",
       "      <td>NaT</td>\n",
       "      <td>2017-02-22 11:42:51</td>\n",
       "      <td>2017-03-03 12:16:03</td>\n",
       "      <td>2017-03-20</td>\n",
       "    </tr>\n",
       "    <tr>\n",
       "      <th>63052</th>\n",
       "      <td>51eb2eebd5d76a24625b31c33dd41449</td>\n",
       "      <td>07a2a7e0f63fd8cb757ed77d4245623c</td>\n",
       "      <td>delivered</td>\n",
       "      <td>2017-02-18 15:52:27</td>\n",
       "      <td>NaT</td>\n",
       "      <td>2017-02-23 03:09:14</td>\n",
       "      <td>2017-03-07 13:57:47</td>\n",
       "      <td>2017-03-29</td>\n",
       "    </tr>\n",
       "    <tr>\n",
       "      <th>67697</th>\n",
       "      <td>88083e8f64d95b932164187484d90212</td>\n",
       "      <td>f67cd1a215aae2a1074638bbd35a223a</td>\n",
       "      <td>delivered</td>\n",
       "      <td>2017-02-18 22:49:19</td>\n",
       "      <td>NaT</td>\n",
       "      <td>2017-02-22 11:31:06</td>\n",
       "      <td>2017-03-02 12:06:06</td>\n",
       "      <td>2017-03-21</td>\n",
       "    </tr>\n",
       "    <tr>\n",
       "      <th>72407</th>\n",
       "      <td>3c0b8706b065f9919d0505d3b3343881</td>\n",
       "      <td>d85919cb3c0529589c6fa617f5f43281</td>\n",
       "      <td>delivered</td>\n",
       "      <td>2017-02-17 15:53:27</td>\n",
       "      <td>NaT</td>\n",
       "      <td>2017-02-22 11:31:30</td>\n",
       "      <td>2017-03-03 11:47:47</td>\n",
       "      <td>2017-03-23</td>\n",
       "    </tr>\n",
       "    <tr>\n",
       "      <th>84999</th>\n",
       "      <td>2babbb4b15e6d2dfe95e2de765c97bce</td>\n",
       "      <td>74bebaf46603f9340e3b50c6b086f992</td>\n",
       "      <td>delivered</td>\n",
       "      <td>2017-02-18 17:15:03</td>\n",
       "      <td>NaT</td>\n",
       "      <td>2017-02-22 11:23:11</td>\n",
       "      <td>2017-03-03 18:43:43</td>\n",
       "      <td>2017-03-31</td>\n",
       "    </tr>\n",
       "  </tbody>\n",
       "</table>\n",
       "</div>"
      ],
      "text/plain": [
       "                               order_id                       customer_id  \\\n",
       "5323   e04abd8149ef81b95221e88f6ed9ab6a  2127dc6603ac33544953ef05ec155771   \n",
       "16567  8a9adc69528e1001fc68dd0aaebbb54a  4c1ccc74e00993733742a3c786dc3c1f   \n",
       "19031  7013bcfc1c97fe719a7b5e05e61c12db  2941af76d38100e0f8740a374f1a5dc3   \n",
       "22663  5cf925b116421afa85ee25e99b4c34fb  29c35fc91fc13fb5073c8f30505d860d   \n",
       "23156  12a95a3c06dbaec84bcfb0e2da5d228a  1e101e0daffaddce8159d25a8e53f2b2   \n",
       "26800  c1d4211b3dae76144deccd6c74144a88  684cb238dc5b5d6366244e0e0776b450   \n",
       "38290  d69e5d356402adc8cf17e08b5033acfb  68d081753ad4fe22fc4d410a9eb1ca01   \n",
       "39334  d77031d6a3c8a52f019764e68f211c69  0bf35cac6cc7327065da879e2d90fae8   \n",
       "48401  7002a78c79c519ac54022d4f8a65e6e8  d5de688c321096d15508faae67a27051   \n",
       "61743  2eecb0d85f281280f79fa00f9cec1a95  a3d3c38e58b9d2dfb9207cab690b6310   \n",
       "63052  51eb2eebd5d76a24625b31c33dd41449  07a2a7e0f63fd8cb757ed77d4245623c   \n",
       "67697  88083e8f64d95b932164187484d90212  f67cd1a215aae2a1074638bbd35a223a   \n",
       "72407  3c0b8706b065f9919d0505d3b3343881  d85919cb3c0529589c6fa617f5f43281   \n",
       "84999  2babbb4b15e6d2dfe95e2de765c97bce  74bebaf46603f9340e3b50c6b086f992   \n",
       "\n",
       "      order_status order_purchase_timestamp order_approved_at  \\\n",
       "5323     delivered      2017-02-18 14:40:00               NaT   \n",
       "16567    delivered      2017-02-18 12:45:31               NaT   \n",
       "19031    delivered      2017-02-18 13:29:47               NaT   \n",
       "22663    delivered      2017-02-18 16:48:35               NaT   \n",
       "23156    delivered      2017-02-17 13:05:55               NaT   \n",
       "26800    delivered      2017-01-19 12:48:08               NaT   \n",
       "38290    delivered      2017-02-19 01:28:47               NaT   \n",
       "39334    delivered      2017-02-18 11:04:19               NaT   \n",
       "48401    delivered      2017-01-19 22:26:59               NaT   \n",
       "61743    delivered      2017-02-17 17:21:55               NaT   \n",
       "63052    delivered      2017-02-18 15:52:27               NaT   \n",
       "67697    delivered      2017-02-18 22:49:19               NaT   \n",
       "72407    delivered      2017-02-17 15:53:27               NaT   \n",
       "84999    delivered      2017-02-18 17:15:03               NaT   \n",
       "\n",
       "      order_delivered_carrier_date order_delivered_customer_date  \\\n",
       "5323           2017-02-23 12:04:47           2017-03-01 13:25:33   \n",
       "16567          2017-02-23 09:01:52           2017-03-02 10:05:06   \n",
       "19031          2017-02-22 16:25:25           2017-03-01 08:07:38   \n",
       "22663          2017-02-22 11:23:10           2017-03-09 07:28:47   \n",
       "23156          2017-02-22 11:23:11           2017-03-02 11:09:19   \n",
       "26800          2017-01-25 14:56:50           2017-01-30 18:16:01   \n",
       "38290          2017-02-23 03:11:48           2017-03-02 03:41:58   \n",
       "39334          2017-02-23 07:23:36           2017-03-02 16:15:23   \n",
       "48401          2017-01-27 11:08:05           2017-02-06 14:22:19   \n",
       "61743          2017-02-22 11:42:51           2017-03-03 12:16:03   \n",
       "63052          2017-02-23 03:09:14           2017-03-07 13:57:47   \n",
       "67697          2017-02-22 11:31:06           2017-03-02 12:06:06   \n",
       "72407          2017-02-22 11:31:30           2017-03-03 11:47:47   \n",
       "84999          2017-02-22 11:23:11           2017-03-03 18:43:43   \n",
       "\n",
       "      order_estimated_delivery_date  \n",
       "5323                     2017-03-17  \n",
       "16567                    2017-03-21  \n",
       "19031                    2017-03-17  \n",
       "22663                    2017-03-31  \n",
       "23156                    2017-03-20  \n",
       "26800                    2017-03-01  \n",
       "38290                    2017-03-27  \n",
       "39334                    2017-03-22  \n",
       "48401                    2017-03-16  \n",
       "61743                    2017-03-20  \n",
       "63052                    2017-03-29  \n",
       "67697                    2017-03-21  \n",
       "72407                    2017-03-23  \n",
       "84999                    2017-03-31  "
      ]
     },
     "execution_count": 20,
     "metadata": {},
     "output_type": "execute_result"
    }
   ],
   "source": [
    "delivered_for_free = without_payment.query('order_status == \"delivered\"')\n",
    "delivered_for_free"
   ]
  },
  {
   "cell_type": "markdown",
   "metadata": {},
   "source": [
    "Все 14 заказов по какой-то причине были переданы в логистическую службу без факта их оплаты и затем доставлены потребителю."
   ]
  },
  {
   "cell_type": "markdown",
   "metadata": {},
   "source": [
    "### Возможно, произошел технический сбой, из-за которого данные об оплате просто не записались. Посмотрим в какие даты такие заказы были переданы в логистику."
   ]
  },
  {
   "cell_type": "code",
   "execution_count": 21,
   "metadata": {},
   "outputs": [],
   "source": [
    "# Берем дату передачи заказа в логичтическую службу без времени, что бы посмотреть в какие ДНИ происходил сбой.\n",
    "logistic_false = pd.to_datetime(delivered_for_free['order_delivered_carrier_date']).dt.date"
   ]
  },
  {
   "cell_type": "code",
   "execution_count": 22,
   "metadata": {},
   "outputs": [
    {
     "data": {
      "text/plain": [
       "2017-02-22    7\n",
       "2017-02-23    5\n",
       "2017-01-25    1\n",
       "2017-01-27    1\n",
       "Name: order_delivered_carrier_date, dtype: int64"
      ]
     },
     "execution_count": 22,
     "metadata": {},
     "output_type": "execute_result"
    }
   ],
   "source": [
    "logistic_false.value_counts()"
   ]
  },
  {
   "cell_type": "markdown",
   "metadata": {},
   "source": [
    "Для двух дней у нас 7 и 5 неоплаченных заказов. Но насколько это критично?"
   ]
  },
  {
   "cell_type": "markdown",
   "metadata": {},
   "source": [
    "### Посмотрим на общее число доставленных заказов для 22 и 23 февраля 2017 года."
   ]
  },
  {
   "cell_type": "code",
   "execution_count": 23,
   "metadata": {},
   "outputs": [],
   "source": [
    "# Сделаем новый датафрейм, что бы посмотреть интересующую нас информацию,\n",
    "# и при этом оставить исходный датафрейм в первоначальном виде.\n",
    "orders_by_date = orders.copy(deep=True)"
   ]
  },
  {
   "cell_type": "code",
   "execution_count": 24,
   "metadata": {},
   "outputs": [],
   "source": [
    "# Помним, что нас интересуют дни. Преобразовываем колонку, что бы время не учитывалось.\n",
    "orders_by_date['order_delivered_carrier_date'] = pd.to_datetime(orders_by_date['order_delivered_carrier_date']).dt.date"
   ]
  },
  {
   "cell_type": "code",
   "execution_count": 25,
   "metadata": {},
   "outputs": [],
   "source": [
    "orders_by_date['order_delivered_carrier_date'] = pd.to_datetime(orders_by_date['order_delivered_carrier_date'])"
   ]
  },
  {
   "cell_type": "markdown",
   "metadata": {},
   "source": [
    "#### Отбираем только нужные нам дни и статус заказа 'delivered'."
   ]
  },
  {
   "cell_type": "code",
   "execution_count": 26,
   "metadata": {},
   "outputs": [
    {
     "data": {
      "text/html": [
       "<div>\n",
       "<style scoped>\n",
       "    .dataframe tbody tr th:only-of-type {\n",
       "        vertical-align: middle;\n",
       "    }\n",
       "\n",
       "    .dataframe tbody tr th {\n",
       "        vertical-align: top;\n",
       "    }\n",
       "\n",
       "    .dataframe thead th {\n",
       "        text-align: right;\n",
       "    }\n",
       "</style>\n",
       "<table border=\"1\" class=\"dataframe\">\n",
       "  <thead>\n",
       "    <tr style=\"text-align: right;\">\n",
       "      <th></th>\n",
       "      <th>order_id</th>\n",
       "      <th>customer_id</th>\n",
       "      <th>order_status</th>\n",
       "      <th>order_purchase_timestamp</th>\n",
       "      <th>order_approved_at</th>\n",
       "      <th>order_delivered_carrier_date</th>\n",
       "      <th>order_delivered_customer_date</th>\n",
       "      <th>order_estimated_delivery_date</th>\n",
       "    </tr>\n",
       "  </thead>\n",
       "  <tbody>\n",
       "    <tr>\n",
       "      <th>73</th>\n",
       "      <td>974c1993ab8024d3ed16229183c2308d</td>\n",
       "      <td>a90391a47de936d56c66a5366cba1462</td>\n",
       "      <td>delivered</td>\n",
       "      <td>2017-02-20 11:45:39</td>\n",
       "      <td>2017-02-22 03:10:20</td>\n",
       "      <td>2017-02-23</td>\n",
       "      <td>2017-03-09 14:27:58</td>\n",
       "      <td>2017-03-21</td>\n",
       "    </tr>\n",
       "    <tr>\n",
       "      <th>369</th>\n",
       "      <td>6f6665c1d76e55561978ccb45bdcafc6</td>\n",
       "      <td>12ae89712aa5a178c22147486d3cd310</td>\n",
       "      <td>delivered</td>\n",
       "      <td>2017-02-23 08:03:00</td>\n",
       "      <td>2017-02-23 08:15:17</td>\n",
       "      <td>2017-02-23</td>\n",
       "      <td>2017-03-02 09:23:07</td>\n",
       "      <td>2017-04-03</td>\n",
       "    </tr>\n",
       "    <tr>\n",
       "      <th>510</th>\n",
       "      <td>9d513821c0477231fc7c1bfd684d13d8</td>\n",
       "      <td>00a6e2753fc2652cb87386ffbf5792b2</td>\n",
       "      <td>delivered</td>\n",
       "      <td>2017-02-20 21:31:59</td>\n",
       "      <td>2017-02-22 06:50:09</td>\n",
       "      <td>2017-02-23</td>\n",
       "      <td>2017-03-21 10:35:41</td>\n",
       "      <td>2017-03-17</td>\n",
       "    </tr>\n",
       "    <tr>\n",
       "      <th>959</th>\n",
       "      <td>0adf4c5c9a1399ceefdb7ba880df1ca7</td>\n",
       "      <td>eab22d3171e51fc2a3b380f5da7c7310</td>\n",
       "      <td>delivered</td>\n",
       "      <td>2017-02-22 13:22:13</td>\n",
       "      <td>2017-02-22 13:30:16</td>\n",
       "      <td>2017-02-22</td>\n",
       "      <td>2017-03-28 16:23:53</td>\n",
       "      <td>2017-04-06</td>\n",
       "    </tr>\n",
       "    <tr>\n",
       "      <th>2496</th>\n",
       "      <td>008fab5602c441d51f30b1464f5d4643</td>\n",
       "      <td>337e39b83fac394e62eb7876f45ee981</td>\n",
       "      <td>delivered</td>\n",
       "      <td>2017-02-22 10:37:41</td>\n",
       "      <td>2017-02-22 10:50:13</td>\n",
       "      <td>2017-02-22</td>\n",
       "      <td>2017-03-03 12:43:46</td>\n",
       "      <td>2017-03-23</td>\n",
       "    </tr>\n",
       "  </tbody>\n",
       "</table>\n",
       "</div>"
      ],
      "text/plain": [
       "                              order_id                       customer_id  \\\n",
       "73    974c1993ab8024d3ed16229183c2308d  a90391a47de936d56c66a5366cba1462   \n",
       "369   6f6665c1d76e55561978ccb45bdcafc6  12ae89712aa5a178c22147486d3cd310   \n",
       "510   9d513821c0477231fc7c1bfd684d13d8  00a6e2753fc2652cb87386ffbf5792b2   \n",
       "959   0adf4c5c9a1399ceefdb7ba880df1ca7  eab22d3171e51fc2a3b380f5da7c7310   \n",
       "2496  008fab5602c441d51f30b1464f5d4643  337e39b83fac394e62eb7876f45ee981   \n",
       "\n",
       "     order_status order_purchase_timestamp   order_approved_at  \\\n",
       "73      delivered      2017-02-20 11:45:39 2017-02-22 03:10:20   \n",
       "369     delivered      2017-02-23 08:03:00 2017-02-23 08:15:17   \n",
       "510     delivered      2017-02-20 21:31:59 2017-02-22 06:50:09   \n",
       "959     delivered      2017-02-22 13:22:13 2017-02-22 13:30:16   \n",
       "2496    delivered      2017-02-22 10:37:41 2017-02-22 10:50:13   \n",
       "\n",
       "     order_delivered_carrier_date order_delivered_customer_date  \\\n",
       "73                     2017-02-23           2017-03-09 14:27:58   \n",
       "369                    2017-02-23           2017-03-02 09:23:07   \n",
       "510                    2017-02-23           2017-03-21 10:35:41   \n",
       "959                    2017-02-22           2017-03-28 16:23:53   \n",
       "2496                   2017-02-22           2017-03-03 12:43:46   \n",
       "\n",
       "     order_estimated_delivery_date  \n",
       "73                      2017-03-21  \n",
       "369                     2017-04-03  \n",
       "510                     2017-03-17  \n",
       "959                     2017-04-06  \n",
       "2496                    2017-03-23  "
      ]
     },
     "execution_count": 26,
     "metadata": {},
     "output_type": "execute_result"
    }
   ],
   "source": [
    "fail_days = orders_by_date.query('(order_delivered_carrier_date == \"2017-02-22\" or order_delivered_carrier_date == \"2017-02-23\") and order_status ==\"delivered\"')\n",
    "fail_days.head()"
   ]
  },
  {
   "cell_type": "markdown",
   "metadata": {},
   "source": [
    "#### Считаем кол-во доставленных 22 и 23 февраля заказов."
   ]
  },
  {
   "cell_type": "code",
   "execution_count": 27,
   "metadata": {},
   "outputs": [
    {
     "data": {
      "text/html": [
       "<div>\n",
       "<style scoped>\n",
       "    .dataframe tbody tr th:only-of-type {\n",
       "        vertical-align: middle;\n",
       "    }\n",
       "\n",
       "    .dataframe tbody tr th {\n",
       "        vertical-align: top;\n",
       "    }\n",
       "\n",
       "    .dataframe thead th {\n",
       "        text-align: right;\n",
       "    }\n",
       "</style>\n",
       "<table border=\"1\" class=\"dataframe\">\n",
       "  <thead>\n",
       "    <tr style=\"text-align: right;\">\n",
       "      <th></th>\n",
       "      <th>order_delivered_carrier_date</th>\n",
       "      <th>count_of_orders</th>\n",
       "    </tr>\n",
       "  </thead>\n",
       "  <tbody>\n",
       "    <tr>\n",
       "      <th>0</th>\n",
       "      <td>2017-02-22</td>\n",
       "      <td>73</td>\n",
       "    </tr>\n",
       "    <tr>\n",
       "      <th>1</th>\n",
       "      <td>2017-02-23</td>\n",
       "      <td>55</td>\n",
       "    </tr>\n",
       "  </tbody>\n",
       "</table>\n",
       "</div>"
      ],
      "text/plain": [
       "  order_delivered_carrier_date  count_of_orders\n",
       "0                   2017-02-22               73\n",
       "1                   2017-02-23               55"
      ]
     },
     "execution_count": 27,
     "metadata": {},
     "output_type": "execute_result"
    }
   ],
   "source": [
    "count_of_orders_by_fail_days = fail_days.groupby('order_delivered_carrier_date', as_index=False) \\\n",
    "                                        .agg({'order_id' : 'count'}) \\\n",
    "                                        .rename(columns={'order_id':'count_of_orders'}) \\\n",
    "                                        .sort_values('count_of_orders', ascending=False)\n",
    "\n",
    "count_of_orders_by_fail_days"
   ]
  },
  {
   "cell_type": "markdown",
   "metadata": {},
   "source": [
    "#### Посчитаем % неоплаченных доставленных заказов, от общего числа доставленных заказов, переданных в логистику в эти два дня."
   ]
  },
  {
   "cell_type": "code",
   "execution_count": 28,
   "metadata": {},
   "outputs": [
    {
     "name": "stdout",
     "output_type": "stream",
     "text": [
      "Неоплаченных заказов, переданных в логистику 22 февраля 2017 года - 10%, 23 февраля 2017 года - 9%.\n"
     ]
    }
   ],
   "source": [
    "proc_fail_02_22 = round((7/73) * 100)\n",
    "proc_fail_02_23 = round((5/55) * 100)\n",
    "print(f'Неоплаченных заказов, переданных в логистику 22 февраля 2017 года - {proc_fail_02_22}%, 23 февраля 2017 года - {proc_fail_02_23}%.')"
   ]
  },
  {
   "cell_type": "markdown",
   "metadata": {},
   "source": [
    "***На мой взгляд, проценты внушительные. Так что стоит передать информацию ответственным, что бы разобрались, в чем причина появления таких данных.***"
   ]
  },
  {
   "cell_type": "markdown",
   "metadata": {},
   "source": [
    " "
   ]
  },
  {
   "cell_type": "markdown",
   "metadata": {},
   "source": [
    "### 2. order_delivered_carrier_date  — время передачи заказа в логистическую службу.\n",
    "\n",
    "***Пропущено 1783 значения.*** "
   ]
  },
  {
   "cell_type": "code",
   "execution_count": 29,
   "metadata": {},
   "outputs": [
    {
     "data": {
      "text/plain": [
       "order_id                            0\n",
       "customer_id                         0\n",
       "order_status                        0\n",
       "order_purchase_timestamp            0\n",
       "order_approved_at                 160\n",
       "order_delivered_carrier_date     1783\n",
       "order_delivered_customer_date    2965\n",
       "order_estimated_delivery_date       0\n",
       "dtype: int64"
      ]
     },
     "execution_count": 29,
     "metadata": {},
     "output_type": "execute_result"
    }
   ],
   "source": [
    "orders.isna().sum()"
   ]
  },
  {
   "cell_type": "markdown",
   "metadata": {},
   "source": [
    "#### Отберем только пропущенные значения."
   ]
  },
  {
   "cell_type": "code",
   "execution_count": 30,
   "metadata": {},
   "outputs": [
    {
     "data": {
      "text/html": [
       "<div>\n",
       "<style scoped>\n",
       "    .dataframe tbody tr th:only-of-type {\n",
       "        vertical-align: middle;\n",
       "    }\n",
       "\n",
       "    .dataframe tbody tr th {\n",
       "        vertical-align: top;\n",
       "    }\n",
       "\n",
       "    .dataframe thead th {\n",
       "        text-align: right;\n",
       "    }\n",
       "</style>\n",
       "<table border=\"1\" class=\"dataframe\">\n",
       "  <thead>\n",
       "    <tr style=\"text-align: right;\">\n",
       "      <th></th>\n",
       "      <th>order_id</th>\n",
       "      <th>customer_id</th>\n",
       "      <th>order_status</th>\n",
       "      <th>order_purchase_timestamp</th>\n",
       "      <th>order_approved_at</th>\n",
       "      <th>order_delivered_carrier_date</th>\n",
       "      <th>order_delivered_customer_date</th>\n",
       "      <th>order_estimated_delivery_date</th>\n",
       "    </tr>\n",
       "  </thead>\n",
       "  <tbody>\n",
       "    <tr>\n",
       "      <th>6</th>\n",
       "      <td>136cce7faa42fdb2cefd53fdc79a6098</td>\n",
       "      <td>ed0271e0b7da060a393796590e7b737a</td>\n",
       "      <td>invoiced</td>\n",
       "      <td>2017-04-11 12:22:08</td>\n",
       "      <td>2017-04-13 13:25:17</td>\n",
       "      <td>NaT</td>\n",
       "      <td>NaT</td>\n",
       "      <td>2017-05-09</td>\n",
       "    </tr>\n",
       "    <tr>\n",
       "      <th>103</th>\n",
       "      <td>0760a852e4e9d89eb77bf631eaaf1c84</td>\n",
       "      <td>d2a79636084590b7465af8ab374a8cf5</td>\n",
       "      <td>invoiced</td>\n",
       "      <td>2018-08-03 17:44:42</td>\n",
       "      <td>2018-08-07 06:15:14</td>\n",
       "      <td>NaT</td>\n",
       "      <td>NaT</td>\n",
       "      <td>2018-08-21</td>\n",
       "    </tr>\n",
       "    <tr>\n",
       "      <th>128</th>\n",
       "      <td>15bed8e2fec7fdbadb186b57c46c92f2</td>\n",
       "      <td>f3f0e613e0bdb9c7cee75504f0f90679</td>\n",
       "      <td>processing</td>\n",
       "      <td>2017-09-03 14:22:03</td>\n",
       "      <td>2017-09-03 14:30:09</td>\n",
       "      <td>NaT</td>\n",
       "      <td>NaT</td>\n",
       "      <td>2017-10-03</td>\n",
       "    </tr>\n",
       "    <tr>\n",
       "      <th>266</th>\n",
       "      <td>8e24261a7e58791d10cb1bf9da94df5c</td>\n",
       "      <td>64a254d30eed42cd0e6c36dddb88adf0</td>\n",
       "      <td>unavailable</td>\n",
       "      <td>2017-11-16 15:09:28</td>\n",
       "      <td>2017-11-16 15:26:57</td>\n",
       "      <td>NaT</td>\n",
       "      <td>NaT</td>\n",
       "      <td>2017-12-05</td>\n",
       "    </tr>\n",
       "    <tr>\n",
       "      <th>324</th>\n",
       "      <td>d3c8851a6651eeff2f73b0e011ac45d0</td>\n",
       "      <td>957f8e082185574de25992dc659ebbc0</td>\n",
       "      <td>processing</td>\n",
       "      <td>2016-10-05 22:44:13</td>\n",
       "      <td>2016-10-06 15:51:05</td>\n",
       "      <td>NaT</td>\n",
       "      <td>NaT</td>\n",
       "      <td>2016-12-09</td>\n",
       "    </tr>\n",
       "  </tbody>\n",
       "</table>\n",
       "</div>"
      ],
      "text/plain": [
       "                             order_id                       customer_id  \\\n",
       "6    136cce7faa42fdb2cefd53fdc79a6098  ed0271e0b7da060a393796590e7b737a   \n",
       "103  0760a852e4e9d89eb77bf631eaaf1c84  d2a79636084590b7465af8ab374a8cf5   \n",
       "128  15bed8e2fec7fdbadb186b57c46c92f2  f3f0e613e0bdb9c7cee75504f0f90679   \n",
       "266  8e24261a7e58791d10cb1bf9da94df5c  64a254d30eed42cd0e6c36dddb88adf0   \n",
       "324  d3c8851a6651eeff2f73b0e011ac45d0  957f8e082185574de25992dc659ebbc0   \n",
       "\n",
       "    order_status order_purchase_timestamp   order_approved_at  \\\n",
       "6       invoiced      2017-04-11 12:22:08 2017-04-13 13:25:17   \n",
       "103     invoiced      2018-08-03 17:44:42 2018-08-07 06:15:14   \n",
       "128   processing      2017-09-03 14:22:03 2017-09-03 14:30:09   \n",
       "266  unavailable      2017-11-16 15:09:28 2017-11-16 15:26:57   \n",
       "324   processing      2016-10-05 22:44:13 2016-10-06 15:51:05   \n",
       "\n",
       "    order_delivered_carrier_date order_delivered_customer_date  \\\n",
       "6                            NaT                           NaT   \n",
       "103                          NaT                           NaT   \n",
       "128                          NaT                           NaT   \n",
       "266                          NaT                           NaT   \n",
       "324                          NaT                           NaT   \n",
       "\n",
       "    order_estimated_delivery_date  \n",
       "6                      2017-05-09  \n",
       "103                    2018-08-21  \n",
       "128                    2017-10-03  \n",
       "266                    2017-12-05  \n",
       "324                    2016-12-09  "
      ]
     },
     "execution_count": 30,
     "metadata": {},
     "output_type": "execute_result"
    }
   ],
   "source": [
    "logistic_nan = orders.query('order_delivered_carrier_date == \"NaN\"')\n",
    "logistic_nan.head()"
   ]
  },
  {
   "cell_type": "markdown",
   "metadata": {},
   "source": [
    "#### Посмотрим на статусы заказов, которые не были переданы в логистику."
   ]
  },
  {
   "cell_type": "code",
   "execution_count": 31,
   "metadata": {},
   "outputs": [
    {
     "data": {
      "text/html": [
       "<div>\n",
       "<style scoped>\n",
       "    .dataframe tbody tr th:only-of-type {\n",
       "        vertical-align: middle;\n",
       "    }\n",
       "\n",
       "    .dataframe tbody tr th {\n",
       "        vertical-align: top;\n",
       "    }\n",
       "\n",
       "    .dataframe thead th {\n",
       "        text-align: right;\n",
       "    }\n",
       "</style>\n",
       "<table border=\"1\" class=\"dataframe\">\n",
       "  <thead>\n",
       "    <tr style=\"text-align: right;\">\n",
       "      <th></th>\n",
       "      <th>order_status</th>\n",
       "      <th>count_of_order</th>\n",
       "    </tr>\n",
       "  </thead>\n",
       "  <tbody>\n",
       "    <tr>\n",
       "      <th>6</th>\n",
       "      <td>unavailable</td>\n",
       "      <td>609</td>\n",
       "    </tr>\n",
       "    <tr>\n",
       "      <th>1</th>\n",
       "      <td>canceled</td>\n",
       "      <td>550</td>\n",
       "    </tr>\n",
       "    <tr>\n",
       "      <th>4</th>\n",
       "      <td>invoiced</td>\n",
       "      <td>314</td>\n",
       "    </tr>\n",
       "    <tr>\n",
       "      <th>5</th>\n",
       "      <td>processing</td>\n",
       "      <td>301</td>\n",
       "    </tr>\n",
       "    <tr>\n",
       "      <th>2</th>\n",
       "      <td>created</td>\n",
       "      <td>5</td>\n",
       "    </tr>\n",
       "    <tr>\n",
       "      <th>0</th>\n",
       "      <td>approved</td>\n",
       "      <td>2</td>\n",
       "    </tr>\n",
       "    <tr>\n",
       "      <th>3</th>\n",
       "      <td>delivered</td>\n",
       "      <td>2</td>\n",
       "    </tr>\n",
       "  </tbody>\n",
       "</table>\n",
       "</div>"
      ],
      "text/plain": [
       "  order_status  count_of_order\n",
       "6  unavailable             609\n",
       "1     canceled             550\n",
       "4     invoiced             314\n",
       "5   processing             301\n",
       "2      created               5\n",
       "0     approved               2\n",
       "3    delivered               2"
      ]
     },
     "execution_count": 31,
     "metadata": {},
     "output_type": "execute_result"
    }
   ],
   "source": [
    "logistic_by_status = logistic_nan.groupby('order_status', as_index=False) \\\n",
    "                           .agg({'order_id' : 'count'}) \\\n",
    "                           .rename(columns={'order_id' : 'count_of_order'}) \\\n",
    "                           .sort_values('count_of_order', ascending = False)\n",
    "\n",
    "logistic_by_status"
   ]
  },
  {
   "cell_type": "markdown",
   "metadata": {},
   "source": [
    "### Статусы заказов:\n",
    "\n",
    "***Не должны попасть в логистическую службу, так что пустые значения оправданы:***\n",
    "\n",
    "unavailable —  недоступен \n",
    "\n",
    "canceled —  отменён\n",
    "\n",
    "invoiced —  выставлен счёт\n",
    "\n",
    "processing —  в процессе сборки заказа\n",
    "\n",
    "created —  создан\n",
    "\n",
    "approved —  подтверждён\n",
    "\n",
    "\n",
    "***Должны были сперва попасть в логистическую службу. Проблема.***\n",
    "\n",
    "delivered —  доставлен пользователю"
   ]
  },
  {
   "cell_type": "markdown",
   "metadata": {},
   "source": [
    "#### Посмотрим на доставленные заказы, которые не отдавали в логистику."
   ]
  },
  {
   "cell_type": "code",
   "execution_count": 32,
   "metadata": {},
   "outputs": [
    {
     "data": {
      "text/html": [
       "<div>\n",
       "<style scoped>\n",
       "    .dataframe tbody tr th:only-of-type {\n",
       "        vertical-align: middle;\n",
       "    }\n",
       "\n",
       "    .dataframe tbody tr th {\n",
       "        vertical-align: top;\n",
       "    }\n",
       "\n",
       "    .dataframe thead th {\n",
       "        text-align: right;\n",
       "    }\n",
       "</style>\n",
       "<table border=\"1\" class=\"dataframe\">\n",
       "  <thead>\n",
       "    <tr style=\"text-align: right;\">\n",
       "      <th></th>\n",
       "      <th>order_id</th>\n",
       "      <th>customer_id</th>\n",
       "      <th>order_status</th>\n",
       "      <th>order_purchase_timestamp</th>\n",
       "      <th>order_approved_at</th>\n",
       "      <th>order_delivered_carrier_date</th>\n",
       "      <th>order_delivered_customer_date</th>\n",
       "      <th>order_estimated_delivery_date</th>\n",
       "    </tr>\n",
       "  </thead>\n",
       "  <tbody>\n",
       "    <tr>\n",
       "      <th>73222</th>\n",
       "      <td>2aa91108853cecb43c84a5dc5b277475</td>\n",
       "      <td>afeb16c7f46396c0ed54acb45ccaaa40</td>\n",
       "      <td>delivered</td>\n",
       "      <td>2017-09-29 08:52:58</td>\n",
       "      <td>2017-09-29 09:07:16</td>\n",
       "      <td>NaT</td>\n",
       "      <td>2017-11-20 19:44:47</td>\n",
       "      <td>2017-11-14</td>\n",
       "    </tr>\n",
       "    <tr>\n",
       "      <th>92643</th>\n",
       "      <td>2d858f451373b04fb5c984a1cc2defaf</td>\n",
       "      <td>e08caf668d499a6d643dafd7c5cc498a</td>\n",
       "      <td>delivered</td>\n",
       "      <td>2017-05-25 23:22:43</td>\n",
       "      <td>2017-05-25 23:30:16</td>\n",
       "      <td>NaT</td>\n",
       "      <td>NaT</td>\n",
       "      <td>2017-06-23</td>\n",
       "    </tr>\n",
       "  </tbody>\n",
       "</table>\n",
       "</div>"
      ],
      "text/plain": [
       "                               order_id                       customer_id  \\\n",
       "73222  2aa91108853cecb43c84a5dc5b277475  afeb16c7f46396c0ed54acb45ccaaa40   \n",
       "92643  2d858f451373b04fb5c984a1cc2defaf  e08caf668d499a6d643dafd7c5cc498a   \n",
       "\n",
       "      order_status order_purchase_timestamp   order_approved_at  \\\n",
       "73222    delivered      2017-09-29 08:52:58 2017-09-29 09:07:16   \n",
       "92643    delivered      2017-05-25 23:22:43 2017-05-25 23:30:16   \n",
       "\n",
       "      order_delivered_carrier_date order_delivered_customer_date  \\\n",
       "73222                          NaT           2017-11-20 19:44:47   \n",
       "92643                          NaT                           NaT   \n",
       "\n",
       "      order_estimated_delivery_date  \n",
       "73222                    2017-11-14  \n",
       "92643                    2017-06-23  "
      ]
     },
     "execution_count": 32,
     "metadata": {},
     "output_type": "execute_result"
    }
   ],
   "source": [
    "delivered_avoid_logistic = logistic_nan.query('order_status == \"delivered\"')\n",
    "delivered_avoid_logistic"
   ]
  },
  {
   "cell_type": "markdown",
   "metadata": {},
   "source": [
    "### И мы снова видим проблему с присвоением статуса \"delivered\".\n",
    "\n",
    "В первом случае, заказ не был передан в логистику, но был доставлен, и запись о времени доставки имеется.\n",
    "\n",
    "Во втором случае, заказ не был передан в логистику, не имеет даты доставки, но статус \"доставлен\"."
   ]
  },
  {
   "cell_type": "markdown",
   "metadata": {},
   "source": [
    " "
   ]
  },
  {
   "cell_type": "markdown",
   "metadata": {},
   "source": [
    "### 3. order_delivered_customer_date —  время доставки заказа\n",
    "\n",
    "***Пропущенных значений — 2965***"
   ]
  },
  {
   "cell_type": "code",
   "execution_count": 33,
   "metadata": {},
   "outputs": [
    {
     "data": {
      "text/plain": [
       "order_id                            0\n",
       "customer_id                         0\n",
       "order_status                        0\n",
       "order_purchase_timestamp            0\n",
       "order_approved_at                 160\n",
       "order_delivered_carrier_date     1783\n",
       "order_delivered_customer_date    2965\n",
       "order_estimated_delivery_date       0\n",
       "dtype: int64"
      ]
     },
     "execution_count": 33,
     "metadata": {},
     "output_type": "execute_result"
    }
   ],
   "source": [
    "orders.isna().sum()"
   ]
  },
  {
   "cell_type": "markdown",
   "metadata": {},
   "source": [
    "#### Отбираем только пропущенные значения."
   ]
  },
  {
   "cell_type": "code",
   "execution_count": 34,
   "metadata": {},
   "outputs": [
    {
     "data": {
      "text/html": [
       "<div>\n",
       "<style scoped>\n",
       "    .dataframe tbody tr th:only-of-type {\n",
       "        vertical-align: middle;\n",
       "    }\n",
       "\n",
       "    .dataframe tbody tr th {\n",
       "        vertical-align: top;\n",
       "    }\n",
       "\n",
       "    .dataframe thead th {\n",
       "        text-align: right;\n",
       "    }\n",
       "</style>\n",
       "<table border=\"1\" class=\"dataframe\">\n",
       "  <thead>\n",
       "    <tr style=\"text-align: right;\">\n",
       "      <th></th>\n",
       "      <th>order_id</th>\n",
       "      <th>customer_id</th>\n",
       "      <th>order_status</th>\n",
       "      <th>order_purchase_timestamp</th>\n",
       "      <th>order_approved_at</th>\n",
       "      <th>order_delivered_carrier_date</th>\n",
       "      <th>order_delivered_customer_date</th>\n",
       "      <th>order_estimated_delivery_date</th>\n",
       "    </tr>\n",
       "  </thead>\n",
       "  <tbody>\n",
       "    <tr>\n",
       "      <th>6</th>\n",
       "      <td>136cce7faa42fdb2cefd53fdc79a6098</td>\n",
       "      <td>ed0271e0b7da060a393796590e7b737a</td>\n",
       "      <td>invoiced</td>\n",
       "      <td>2017-04-11 12:22:08</td>\n",
       "      <td>2017-04-13 13:25:17</td>\n",
       "      <td>NaT</td>\n",
       "      <td>NaT</td>\n",
       "      <td>2017-05-09</td>\n",
       "    </tr>\n",
       "    <tr>\n",
       "      <th>44</th>\n",
       "      <td>ee64d42b8cf066f35eac1cf57de1aa85</td>\n",
       "      <td>caded193e8e47b8362864762a83db3c5</td>\n",
       "      <td>shipped</td>\n",
       "      <td>2018-06-04 16:44:48</td>\n",
       "      <td>2018-06-05 04:31:18</td>\n",
       "      <td>2018-06-05 14:32:00</td>\n",
       "      <td>NaT</td>\n",
       "      <td>2018-06-28</td>\n",
       "    </tr>\n",
       "    <tr>\n",
       "      <th>103</th>\n",
       "      <td>0760a852e4e9d89eb77bf631eaaf1c84</td>\n",
       "      <td>d2a79636084590b7465af8ab374a8cf5</td>\n",
       "      <td>invoiced</td>\n",
       "      <td>2018-08-03 17:44:42</td>\n",
       "      <td>2018-08-07 06:15:14</td>\n",
       "      <td>NaT</td>\n",
       "      <td>NaT</td>\n",
       "      <td>2018-08-21</td>\n",
       "    </tr>\n",
       "    <tr>\n",
       "      <th>128</th>\n",
       "      <td>15bed8e2fec7fdbadb186b57c46c92f2</td>\n",
       "      <td>f3f0e613e0bdb9c7cee75504f0f90679</td>\n",
       "      <td>processing</td>\n",
       "      <td>2017-09-03 14:22:03</td>\n",
       "      <td>2017-09-03 14:30:09</td>\n",
       "      <td>NaT</td>\n",
       "      <td>NaT</td>\n",
       "      <td>2017-10-03</td>\n",
       "    </tr>\n",
       "    <tr>\n",
       "      <th>154</th>\n",
       "      <td>6942b8da583c2f9957e990d028607019</td>\n",
       "      <td>52006a9383bf149a4fb24226b173106f</td>\n",
       "      <td>shipped</td>\n",
       "      <td>2018-01-10 11:33:07</td>\n",
       "      <td>2018-01-11 02:32:30</td>\n",
       "      <td>2018-01-11 19:39:23</td>\n",
       "      <td>NaT</td>\n",
       "      <td>2018-02-07</td>\n",
       "    </tr>\n",
       "  </tbody>\n",
       "</table>\n",
       "</div>"
      ],
      "text/plain": [
       "                             order_id                       customer_id  \\\n",
       "6    136cce7faa42fdb2cefd53fdc79a6098  ed0271e0b7da060a393796590e7b737a   \n",
       "44   ee64d42b8cf066f35eac1cf57de1aa85  caded193e8e47b8362864762a83db3c5   \n",
       "103  0760a852e4e9d89eb77bf631eaaf1c84  d2a79636084590b7465af8ab374a8cf5   \n",
       "128  15bed8e2fec7fdbadb186b57c46c92f2  f3f0e613e0bdb9c7cee75504f0f90679   \n",
       "154  6942b8da583c2f9957e990d028607019  52006a9383bf149a4fb24226b173106f   \n",
       "\n",
       "    order_status order_purchase_timestamp   order_approved_at  \\\n",
       "6       invoiced      2017-04-11 12:22:08 2017-04-13 13:25:17   \n",
       "44       shipped      2018-06-04 16:44:48 2018-06-05 04:31:18   \n",
       "103     invoiced      2018-08-03 17:44:42 2018-08-07 06:15:14   \n",
       "128   processing      2017-09-03 14:22:03 2017-09-03 14:30:09   \n",
       "154      shipped      2018-01-10 11:33:07 2018-01-11 02:32:30   \n",
       "\n",
       "    order_delivered_carrier_date order_delivered_customer_date  \\\n",
       "6                            NaT                           NaT   \n",
       "44           2018-06-05 14:32:00                           NaT   \n",
       "103                          NaT                           NaT   \n",
       "128                          NaT                           NaT   \n",
       "154          2018-01-11 19:39:23                           NaT   \n",
       "\n",
       "    order_estimated_delivery_date  \n",
       "6                      2017-05-09  \n",
       "44                     2018-06-28  \n",
       "103                    2018-08-21  \n",
       "128                    2017-10-03  \n",
       "154                    2018-02-07  "
      ]
     },
     "execution_count": 34,
     "metadata": {},
     "output_type": "execute_result"
    }
   ],
   "source": [
    "delivered_nan = orders.query('order_delivered_customer_date == \"NaN\"')\n",
    "delivered_nan.head()"
   ]
  },
  {
   "cell_type": "markdown",
   "metadata": {},
   "source": [
    "#### Смотрим на статусы заказов."
   ]
  },
  {
   "cell_type": "code",
   "execution_count": 35,
   "metadata": {},
   "outputs": [
    {
     "data": {
      "text/html": [
       "<div>\n",
       "<style scoped>\n",
       "    .dataframe tbody tr th:only-of-type {\n",
       "        vertical-align: middle;\n",
       "    }\n",
       "\n",
       "    .dataframe tbody tr th {\n",
       "        vertical-align: top;\n",
       "    }\n",
       "\n",
       "    .dataframe thead th {\n",
       "        text-align: right;\n",
       "    }\n",
       "</style>\n",
       "<table border=\"1\" class=\"dataframe\">\n",
       "  <thead>\n",
       "    <tr style=\"text-align: right;\">\n",
       "      <th></th>\n",
       "      <th>order_status</th>\n",
       "      <th>count_of_orders</th>\n",
       "    </tr>\n",
       "  </thead>\n",
       "  <tbody>\n",
       "    <tr>\n",
       "      <th>6</th>\n",
       "      <td>shipped</td>\n",
       "      <td>1107</td>\n",
       "    </tr>\n",
       "    <tr>\n",
       "      <th>1</th>\n",
       "      <td>canceled</td>\n",
       "      <td>619</td>\n",
       "    </tr>\n",
       "    <tr>\n",
       "      <th>7</th>\n",
       "      <td>unavailable</td>\n",
       "      <td>609</td>\n",
       "    </tr>\n",
       "    <tr>\n",
       "      <th>4</th>\n",
       "      <td>invoiced</td>\n",
       "      <td>314</td>\n",
       "    </tr>\n",
       "    <tr>\n",
       "      <th>5</th>\n",
       "      <td>processing</td>\n",
       "      <td>301</td>\n",
       "    </tr>\n",
       "    <tr>\n",
       "      <th>3</th>\n",
       "      <td>delivered</td>\n",
       "      <td>8</td>\n",
       "    </tr>\n",
       "    <tr>\n",
       "      <th>2</th>\n",
       "      <td>created</td>\n",
       "      <td>5</td>\n",
       "    </tr>\n",
       "    <tr>\n",
       "      <th>0</th>\n",
       "      <td>approved</td>\n",
       "      <td>2</td>\n",
       "    </tr>\n",
       "  </tbody>\n",
       "</table>\n",
       "</div>"
      ],
      "text/plain": [
       "  order_status  count_of_orders\n",
       "6      shipped             1107\n",
       "1     canceled              619\n",
       "7  unavailable              609\n",
       "4     invoiced              314\n",
       "5   processing              301\n",
       "3    delivered                8\n",
       "2      created                5\n",
       "0     approved                2"
      ]
     },
     "execution_count": 35,
     "metadata": {},
     "output_type": "execute_result"
    }
   ],
   "source": [
    "not_delivered_status = delivered_nan.groupby('order_status', as_index=False) \\\n",
    "                                    .agg({'order_id' : 'count'}) \\\n",
    "                                    .rename(columns={'order_id' : 'count_of_orders'}) \\\n",
    "                                    .sort_values('count_of_orders', ascending=False)\n",
    "not_delivered_status"
   ]
  },
  {
   "cell_type": "markdown",
   "metadata": {},
   "source": [
    "Отсутствующее значение в дате доставке логично объясняется всеми статусами, кроме \"delivered\". Ведь данный статус должен присваиваться только в случае доставленного заказа, а у нас 8 пустых значений в дате доставки!"
   ]
  },
  {
   "cell_type": "code",
   "execution_count": 36,
   "metadata": {},
   "outputs": [
    {
     "data": {
      "text/html": [
       "<div>\n",
       "<style scoped>\n",
       "    .dataframe tbody tr th:only-of-type {\n",
       "        vertical-align: middle;\n",
       "    }\n",
       "\n",
       "    .dataframe tbody tr th {\n",
       "        vertical-align: top;\n",
       "    }\n",
       "\n",
       "    .dataframe thead th {\n",
       "        text-align: right;\n",
       "    }\n",
       "</style>\n",
       "<table border=\"1\" class=\"dataframe\">\n",
       "  <thead>\n",
       "    <tr style=\"text-align: right;\">\n",
       "      <th></th>\n",
       "      <th>order_id</th>\n",
       "      <th>customer_id</th>\n",
       "      <th>order_status</th>\n",
       "      <th>order_purchase_timestamp</th>\n",
       "      <th>order_approved_at</th>\n",
       "      <th>order_delivered_carrier_date</th>\n",
       "      <th>order_delivered_customer_date</th>\n",
       "      <th>order_estimated_delivery_date</th>\n",
       "    </tr>\n",
       "  </thead>\n",
       "  <tbody>\n",
       "    <tr>\n",
       "      <th>3002</th>\n",
       "      <td>2d1e2d5bf4dc7227b3bfebb81328c15f</td>\n",
       "      <td>ec05a6d8558c6455f0cbbd8a420ad34f</td>\n",
       "      <td>delivered</td>\n",
       "      <td>2017-11-28 17:44:07</td>\n",
       "      <td>2017-11-28 17:56:40</td>\n",
       "      <td>2017-11-30 18:12:23</td>\n",
       "      <td>NaT</td>\n",
       "      <td>2017-12-18</td>\n",
       "    </tr>\n",
       "    <tr>\n",
       "      <th>20618</th>\n",
       "      <td>f5dd62b788049ad9fc0526e3ad11a097</td>\n",
       "      <td>5e89028e024b381dc84a13a3570decb4</td>\n",
       "      <td>delivered</td>\n",
       "      <td>2018-06-20 06:58:43</td>\n",
       "      <td>2018-06-20 07:19:05</td>\n",
       "      <td>2018-06-25 08:05:00</td>\n",
       "      <td>NaT</td>\n",
       "      <td>2018-07-16</td>\n",
       "    </tr>\n",
       "    <tr>\n",
       "      <th>43834</th>\n",
       "      <td>2ebdfc4f15f23b91474edf87475f108e</td>\n",
       "      <td>29f0540231702fda0cfdee0a310f11aa</td>\n",
       "      <td>delivered</td>\n",
       "      <td>2018-07-01 17:05:11</td>\n",
       "      <td>2018-07-01 17:15:12</td>\n",
       "      <td>2018-07-03 13:57:00</td>\n",
       "      <td>NaT</td>\n",
       "      <td>2018-07-30</td>\n",
       "    </tr>\n",
       "    <tr>\n",
       "      <th>79263</th>\n",
       "      <td>e69f75a717d64fc5ecdfae42b2e8e086</td>\n",
       "      <td>cfda40ca8dd0a5d486a9635b611b398a</td>\n",
       "      <td>delivered</td>\n",
       "      <td>2018-07-01 22:05:55</td>\n",
       "      <td>2018-07-01 22:15:14</td>\n",
       "      <td>2018-07-03 13:57:00</td>\n",
       "      <td>NaT</td>\n",
       "      <td>2018-07-30</td>\n",
       "    </tr>\n",
       "    <tr>\n",
       "      <th>82868</th>\n",
       "      <td>0d3268bad9b086af767785e3f0fc0133</td>\n",
       "      <td>4f1d63d35fb7c8999853b2699f5c7649</td>\n",
       "      <td>delivered</td>\n",
       "      <td>2018-07-01 21:14:02</td>\n",
       "      <td>2018-07-01 21:29:54</td>\n",
       "      <td>2018-07-03 09:28:00</td>\n",
       "      <td>NaT</td>\n",
       "      <td>2018-07-24</td>\n",
       "    </tr>\n",
       "    <tr>\n",
       "      <th>92643</th>\n",
       "      <td>2d858f451373b04fb5c984a1cc2defaf</td>\n",
       "      <td>e08caf668d499a6d643dafd7c5cc498a</td>\n",
       "      <td>delivered</td>\n",
       "      <td>2017-05-25 23:22:43</td>\n",
       "      <td>2017-05-25 23:30:16</td>\n",
       "      <td>NaT</td>\n",
       "      <td>NaT</td>\n",
       "      <td>2017-06-23</td>\n",
       "    </tr>\n",
       "    <tr>\n",
       "      <th>97647</th>\n",
       "      <td>ab7c89dc1bf4a1ead9d6ec1ec8968a84</td>\n",
       "      <td>dd1b84a7286eb4524d52af4256c0ba24</td>\n",
       "      <td>delivered</td>\n",
       "      <td>2018-06-08 12:09:39</td>\n",
       "      <td>2018-06-08 12:36:39</td>\n",
       "      <td>2018-06-12 14:10:00</td>\n",
       "      <td>NaT</td>\n",
       "      <td>2018-06-26</td>\n",
       "    </tr>\n",
       "    <tr>\n",
       "      <th>98038</th>\n",
       "      <td>20edc82cf5400ce95e1afacc25798b31</td>\n",
       "      <td>28c37425f1127d887d7337f284080a0f</td>\n",
       "      <td>delivered</td>\n",
       "      <td>2018-06-27 16:09:12</td>\n",
       "      <td>2018-06-27 16:29:30</td>\n",
       "      <td>2018-07-03 19:26:00</td>\n",
       "      <td>NaT</td>\n",
       "      <td>2018-07-19</td>\n",
       "    </tr>\n",
       "  </tbody>\n",
       "</table>\n",
       "</div>"
      ],
      "text/plain": [
       "                               order_id                       customer_id  \\\n",
       "3002   2d1e2d5bf4dc7227b3bfebb81328c15f  ec05a6d8558c6455f0cbbd8a420ad34f   \n",
       "20618  f5dd62b788049ad9fc0526e3ad11a097  5e89028e024b381dc84a13a3570decb4   \n",
       "43834  2ebdfc4f15f23b91474edf87475f108e  29f0540231702fda0cfdee0a310f11aa   \n",
       "79263  e69f75a717d64fc5ecdfae42b2e8e086  cfda40ca8dd0a5d486a9635b611b398a   \n",
       "82868  0d3268bad9b086af767785e3f0fc0133  4f1d63d35fb7c8999853b2699f5c7649   \n",
       "92643  2d858f451373b04fb5c984a1cc2defaf  e08caf668d499a6d643dafd7c5cc498a   \n",
       "97647  ab7c89dc1bf4a1ead9d6ec1ec8968a84  dd1b84a7286eb4524d52af4256c0ba24   \n",
       "98038  20edc82cf5400ce95e1afacc25798b31  28c37425f1127d887d7337f284080a0f   \n",
       "\n",
       "      order_status order_purchase_timestamp   order_approved_at  \\\n",
       "3002     delivered      2017-11-28 17:44:07 2017-11-28 17:56:40   \n",
       "20618    delivered      2018-06-20 06:58:43 2018-06-20 07:19:05   \n",
       "43834    delivered      2018-07-01 17:05:11 2018-07-01 17:15:12   \n",
       "79263    delivered      2018-07-01 22:05:55 2018-07-01 22:15:14   \n",
       "82868    delivered      2018-07-01 21:14:02 2018-07-01 21:29:54   \n",
       "92643    delivered      2017-05-25 23:22:43 2017-05-25 23:30:16   \n",
       "97647    delivered      2018-06-08 12:09:39 2018-06-08 12:36:39   \n",
       "98038    delivered      2018-06-27 16:09:12 2018-06-27 16:29:30   \n",
       "\n",
       "      order_delivered_carrier_date order_delivered_customer_date  \\\n",
       "3002           2017-11-30 18:12:23                           NaT   \n",
       "20618          2018-06-25 08:05:00                           NaT   \n",
       "43834          2018-07-03 13:57:00                           NaT   \n",
       "79263          2018-07-03 13:57:00                           NaT   \n",
       "82868          2018-07-03 09:28:00                           NaT   \n",
       "92643                          NaT                           NaT   \n",
       "97647          2018-06-12 14:10:00                           NaT   \n",
       "98038          2018-07-03 19:26:00                           NaT   \n",
       "\n",
       "      order_estimated_delivery_date  \n",
       "3002                     2017-12-18  \n",
       "20618                    2018-07-16  \n",
       "43834                    2018-07-30  \n",
       "79263                    2018-07-30  \n",
       "82868                    2018-07-24  \n",
       "92643                    2017-06-23  \n",
       "97647                    2018-06-26  \n",
       "98038                    2018-07-19  "
      ]
     },
     "execution_count": 36,
     "metadata": {},
     "output_type": "execute_result"
    }
   ],
   "source": [
    "delivered_without_date = delivered_nan.query('order_status == \"delivered\"')\n",
    "delivered_without_date"
   ]
  },
  {
   "cell_type": "markdown",
   "metadata": {},
   "source": [
    " "
   ]
  },
  {
   "cell_type": "markdown",
   "metadata": {},
   "source": [
    "### Итак, после изучения пустых значений в датафрейме orders, делаем вывод:\n",
    "***В данных есть проблема со статусом \"delivered\", так как:*** \n",
    "\n",
    "- Часть заказов не была оплачена, но была доставлена пользователям;\n",
    "- Так же статус доставленных получили заказы, которые каким-то образом избежали логистической службы;\n",
    "- Часть заказов получила статус \"delivered\", но не имеет даты доставки."
   ]
  },
  {
   "cell_type": "markdown",
   "metadata": {},
   "source": [
    "### Третий датафрейм (products_info)"
   ]
  },
  {
   "cell_type": "code",
   "execution_count": 37,
   "metadata": {},
   "outputs": [
    {
     "data": {
      "text/html": [
       "<div>\n",
       "<style scoped>\n",
       "    .dataframe tbody tr th:only-of-type {\n",
       "        vertical-align: middle;\n",
       "    }\n",
       "\n",
       "    .dataframe tbody tr th {\n",
       "        vertical-align: top;\n",
       "    }\n",
       "\n",
       "    .dataframe thead th {\n",
       "        text-align: right;\n",
       "    }\n",
       "</style>\n",
       "<table border=\"1\" class=\"dataframe\">\n",
       "  <thead>\n",
       "    <tr style=\"text-align: right;\">\n",
       "      <th></th>\n",
       "      <th>order_id</th>\n",
       "      <th>order_item_id</th>\n",
       "      <th>product_id</th>\n",
       "      <th>seller_id</th>\n",
       "      <th>shipping_limit_date</th>\n",
       "      <th>price</th>\n",
       "      <th>freight_value</th>\n",
       "    </tr>\n",
       "  </thead>\n",
       "  <tbody>\n",
       "    <tr>\n",
       "      <th>0</th>\n",
       "      <td>00010242fe8c5a6d1ba2dd792cb16214</td>\n",
       "      <td>1</td>\n",
       "      <td>4244733e06e7ecb4970a6e2683c13e61</td>\n",
       "      <td>48436dade18ac8b2bce089ec2a041202</td>\n",
       "      <td>2017-09-19 09:45:35</td>\n",
       "      <td>58.90</td>\n",
       "      <td>13.29</td>\n",
       "    </tr>\n",
       "    <tr>\n",
       "      <th>1</th>\n",
       "      <td>00018f77f2f0320c557190d7a144bdd3</td>\n",
       "      <td>1</td>\n",
       "      <td>e5f2d52b802189ee658865ca93d83a8f</td>\n",
       "      <td>dd7ddc04e1b6c2c614352b383efe2d36</td>\n",
       "      <td>2017-05-03 11:05:13</td>\n",
       "      <td>239.90</td>\n",
       "      <td>19.93</td>\n",
       "    </tr>\n",
       "    <tr>\n",
       "      <th>2</th>\n",
       "      <td>000229ec398224ef6ca0657da4fc703e</td>\n",
       "      <td>1</td>\n",
       "      <td>c777355d18b72b67abbeef9df44fd0fd</td>\n",
       "      <td>5b51032eddd242adc84c38acab88f23d</td>\n",
       "      <td>2018-01-18 14:48:30</td>\n",
       "      <td>199.00</td>\n",
       "      <td>17.87</td>\n",
       "    </tr>\n",
       "    <tr>\n",
       "      <th>3</th>\n",
       "      <td>00024acbcdf0a6daa1e931b038114c75</td>\n",
       "      <td>1</td>\n",
       "      <td>7634da152a4610f1595efa32f14722fc</td>\n",
       "      <td>9d7a1d34a5052409006425275ba1c2b4</td>\n",
       "      <td>2018-08-15 10:10:18</td>\n",
       "      <td>12.99</td>\n",
       "      <td>12.79</td>\n",
       "    </tr>\n",
       "    <tr>\n",
       "      <th>4</th>\n",
       "      <td>00042b26cf59d7ce69dfabb4e55b4fd9</td>\n",
       "      <td>1</td>\n",
       "      <td>ac6c3623068f30de03045865e4e10089</td>\n",
       "      <td>df560393f3a51e74553ab94004ba5c87</td>\n",
       "      <td>2017-02-13 13:57:51</td>\n",
       "      <td>199.90</td>\n",
       "      <td>18.14</td>\n",
       "    </tr>\n",
       "  </tbody>\n",
       "</table>\n",
       "</div>"
      ],
      "text/plain": [
       "                           order_id  order_item_id  \\\n",
       "0  00010242fe8c5a6d1ba2dd792cb16214              1   \n",
       "1  00018f77f2f0320c557190d7a144bdd3              1   \n",
       "2  000229ec398224ef6ca0657da4fc703e              1   \n",
       "3  00024acbcdf0a6daa1e931b038114c75              1   \n",
       "4  00042b26cf59d7ce69dfabb4e55b4fd9              1   \n",
       "\n",
       "                         product_id                         seller_id  \\\n",
       "0  4244733e06e7ecb4970a6e2683c13e61  48436dade18ac8b2bce089ec2a041202   \n",
       "1  e5f2d52b802189ee658865ca93d83a8f  dd7ddc04e1b6c2c614352b383efe2d36   \n",
       "2  c777355d18b72b67abbeef9df44fd0fd  5b51032eddd242adc84c38acab88f23d   \n",
       "3  7634da152a4610f1595efa32f14722fc  9d7a1d34a5052409006425275ba1c2b4   \n",
       "4  ac6c3623068f30de03045865e4e10089  df560393f3a51e74553ab94004ba5c87   \n",
       "\n",
       "   shipping_limit_date   price  freight_value  \n",
       "0  2017-09-19 09:45:35   58.90          13.29  \n",
       "1  2017-05-03 11:05:13  239.90          19.93  \n",
       "2  2018-01-18 14:48:30  199.00          17.87  \n",
       "3  2018-08-15 10:10:18   12.99          12.79  \n",
       "4  2017-02-13 13:57:51  199.90          18.14  "
      ]
     },
     "execution_count": 37,
     "metadata": {},
     "output_type": "execute_result"
    }
   ],
   "source": [
    "products_info =  pd.read_csv('https://getfile.dokpub.com/yandex/get/https://disk.yandex.ru/d/xCsQ0FiC-Ue4Lg')\n",
    "products_info.head()"
   ]
  },
  {
   "cell_type": "markdown",
   "metadata": {},
   "source": [
    "### Содержит информацию о товарных позициях, входящих в заказы:\n",
    "\n",
    "***order_id*** —  уникальный идентификатор заказа (номер чека)\n",
    "\n",
    "***order_item_id*** —  идентификатор товара внутри одного заказа\n",
    "\n",
    "***product_id*** —  ид товара (аналог штрихкода)\n",
    "\n",
    "***seller_id*** — ид производителя товара\n",
    "\n",
    "***shipping_limit_date*** —  максимальная дата доставки продавцом для передачи заказа партнеру по логистике\n",
    "\n",
    "***price*** —  цена за единицу товара\n",
    "\n",
    "***freight_value*** —  вес товара"
   ]
  },
  {
   "cell_type": "markdown",
   "metadata": {},
   "source": [
    "### Посмотрим на типы данных и наличие пустых значений."
   ]
  },
  {
   "cell_type": "code",
   "execution_count": 38,
   "metadata": {},
   "outputs": [
    {
     "name": "stdout",
     "output_type": "stream",
     "text": [
      "<class 'pandas.core.frame.DataFrame'>\n",
      "RangeIndex: 112650 entries, 0 to 112649\n",
      "Data columns (total 7 columns):\n",
      " #   Column               Non-Null Count   Dtype  \n",
      "---  ------               --------------   -----  \n",
      " 0   order_id             112650 non-null  object \n",
      " 1   order_item_id        112650 non-null  int64  \n",
      " 2   product_id           112650 non-null  object \n",
      " 3   seller_id            112650 non-null  object \n",
      " 4   shipping_limit_date  112650 non-null  object \n",
      " 5   price                112650 non-null  float64\n",
      " 6   freight_value        112650 non-null  float64\n",
      "dtypes: float64(2), int64(1), object(4)\n",
      "memory usage: 6.0+ MB\n"
     ]
    }
   ],
   "source": [
    "products_info.info()"
   ]
  },
  {
   "cell_type": "markdown",
   "metadata": {},
   "source": [
    "#### Приводим shipping_limit_date к нужному типу."
   ]
  },
  {
   "cell_type": "code",
   "execution_count": 39,
   "metadata": {},
   "outputs": [],
   "source": [
    "products_info['shipping_limit_date'] = pd.to_datetime(products_info['shipping_limit_date'])"
   ]
  },
  {
   "cell_type": "markdown",
   "metadata": {},
   "source": [
    "#### Перепроверяем"
   ]
  },
  {
   "cell_type": "code",
   "execution_count": 40,
   "metadata": {},
   "outputs": [
    {
     "name": "stdout",
     "output_type": "stream",
     "text": [
      "<class 'pandas.core.frame.DataFrame'>\n",
      "RangeIndex: 112650 entries, 0 to 112649\n",
      "Data columns (total 7 columns):\n",
      " #   Column               Non-Null Count   Dtype         \n",
      "---  ------               --------------   -----         \n",
      " 0   order_id             112650 non-null  object        \n",
      " 1   order_item_id        112650 non-null  int64         \n",
      " 2   product_id           112650 non-null  object        \n",
      " 3   seller_id            112650 non-null  object        \n",
      " 4   shipping_limit_date  112650 non-null  datetime64[ns]\n",
      " 5   price                112650 non-null  float64       \n",
      " 6   freight_value        112650 non-null  float64       \n",
      "dtypes: datetime64[ns](1), float64(2), int64(1), object(3)\n",
      "memory usage: 6.0+ MB\n"
     ]
    }
   ],
   "source": [
    "products_info.info()"
   ]
  },
  {
   "cell_type": "markdown",
   "metadata": {},
   "source": [
    "#### Пустых значений нет"
   ]
  },
  {
   "cell_type": "code",
   "execution_count": 41,
   "metadata": {},
   "outputs": [
    {
     "data": {
      "text/plain": [
       "order_id               0\n",
       "order_item_id          0\n",
       "product_id             0\n",
       "seller_id              0\n",
       "shipping_limit_date    0\n",
       "price                  0\n",
       "freight_value          0\n",
       "dtype: int64"
      ]
     },
     "execution_count": 41,
     "metadata": {},
     "output_type": "execute_result"
    }
   ],
   "source": [
    "products_info.isna().sum()"
   ]
  },
  {
   "cell_type": "markdown",
   "metadata": {},
   "source": [
    "#### Посмотрим, сколько у нас уникальных производителей"
   ]
  },
  {
   "cell_type": "code",
   "execution_count": 42,
   "metadata": {},
   "outputs": [
    {
     "data": {
      "text/plain": [
       "3095"
      ]
     },
     "execution_count": 42,
     "metadata": {},
     "output_type": "execute_result"
    }
   ],
   "source": [
    "products_info.seller_id.nunique()"
   ]
  },
  {
   "cell_type": "markdown",
   "metadata": {},
   "source": [
    "#### А уникальных товаров?"
   ]
  },
  {
   "cell_type": "code",
   "execution_count": 43,
   "metadata": {},
   "outputs": [
    {
     "data": {
      "text/plain": [
       "32951"
      ]
     },
     "execution_count": 43,
     "metadata": {},
     "output_type": "execute_result"
    }
   ],
   "source": [
    "products_info.product_id.nunique()"
   ]
  },
  {
   "cell_type": "markdown",
   "metadata": {},
   "source": [
    "#### Посчитаем, какое кол-во товаров представлено каждым из производителей"
   ]
  },
  {
   "cell_type": "code",
   "execution_count": 44,
   "metadata": {},
   "outputs": [
    {
     "data": {
      "text/html": [
       "<div>\n",
       "<style scoped>\n",
       "    .dataframe tbody tr th:only-of-type {\n",
       "        vertical-align: middle;\n",
       "    }\n",
       "\n",
       "    .dataframe tbody tr th {\n",
       "        vertical-align: top;\n",
       "    }\n",
       "\n",
       "    .dataframe thead th {\n",
       "        text-align: right;\n",
       "    }\n",
       "</style>\n",
       "<table border=\"1\" class=\"dataframe\">\n",
       "  <thead>\n",
       "    <tr style=\"text-align: right;\">\n",
       "      <th></th>\n",
       "      <th>seller_id</th>\n",
       "      <th>count_of_orders</th>\n",
       "    </tr>\n",
       "  </thead>\n",
       "  <tbody>\n",
       "    <tr>\n",
       "      <th>1235</th>\n",
       "      <td>6560211a19b47992c3666cc44a7e94c0</td>\n",
       "      <td>2033</td>\n",
       "    </tr>\n",
       "    <tr>\n",
       "      <th>881</th>\n",
       "      <td>4a3ca9315b744ce9f8e9374361493884</td>\n",
       "      <td>1987</td>\n",
       "    </tr>\n",
       "    <tr>\n",
       "      <th>368</th>\n",
       "      <td>1f50f920176fa81dab994f9023523100</td>\n",
       "      <td>1931</td>\n",
       "    </tr>\n",
       "    <tr>\n",
       "      <th>2481</th>\n",
       "      <td>cc419e0650a3c5ba77189a1882b7556a</td>\n",
       "      <td>1775</td>\n",
       "    </tr>\n",
       "    <tr>\n",
       "      <th>2643</th>\n",
       "      <td>da8622b14eb17ae2831f4ac5b9dab84a</td>\n",
       "      <td>1551</td>\n",
       "    </tr>\n",
       "    <tr>\n",
       "      <th>...</th>\n",
       "      <td>...</td>\n",
       "      <td>...</td>\n",
       "    </tr>\n",
       "    <tr>\n",
       "      <th>1172</th>\n",
       "      <td>5f57db27027655e6c6a391601daa0258</td>\n",
       "      <td>1</td>\n",
       "    </tr>\n",
       "    <tr>\n",
       "      <th>1160</th>\n",
       "      <td>5e25c632f9db6cfb8bc100421c2737b6</td>\n",
       "      <td>1</td>\n",
       "    </tr>\n",
       "    <tr>\n",
       "      <th>1159</th>\n",
       "      <td>5e106d93b717c2682b9383da480364a1</td>\n",
       "      <td>1</td>\n",
       "    </tr>\n",
       "    <tr>\n",
       "      <th>2561</th>\n",
       "      <td>d36b07fd3c5088e477a72d1fccfe29d4</td>\n",
       "      <td>1</td>\n",
       "    </tr>\n",
       "    <tr>\n",
       "      <th>1547</th>\n",
       "      <td>7d81e74a4755b552267cd5e081563028</td>\n",
       "      <td>1</td>\n",
       "    </tr>\n",
       "  </tbody>\n",
       "</table>\n",
       "<p>3095 rows × 2 columns</p>\n",
       "</div>"
      ],
      "text/plain": [
       "                             seller_id  count_of_orders\n",
       "1235  6560211a19b47992c3666cc44a7e94c0             2033\n",
       "881   4a3ca9315b744ce9f8e9374361493884             1987\n",
       "368   1f50f920176fa81dab994f9023523100             1931\n",
       "2481  cc419e0650a3c5ba77189a1882b7556a             1775\n",
       "2643  da8622b14eb17ae2831f4ac5b9dab84a             1551\n",
       "...                                ...              ...\n",
       "1172  5f57db27027655e6c6a391601daa0258                1\n",
       "1160  5e25c632f9db6cfb8bc100421c2737b6                1\n",
       "1159  5e106d93b717c2682b9383da480364a1                1\n",
       "2561  d36b07fd3c5088e477a72d1fccfe29d4                1\n",
       "1547  7d81e74a4755b552267cd5e081563028                1\n",
       "\n",
       "[3095 rows x 2 columns]"
      ]
     },
     "execution_count": 44,
     "metadata": {},
     "output_type": "execute_result"
    }
   ],
   "source": [
    "count_of_product_by_seller = products_info.groupby('seller_id', as_index=False) \\\n",
    "                                          .agg({'product_id' : 'count'}) \\\n",
    "                                          .rename(columns={'product_id' : 'count_of_orders'}) \\\n",
    "                                          .sort_values('count_of_orders', ascending=False)\n",
    "count_of_product_by_seller"
   ]
  },
  {
   "cell_type": "markdown",
   "metadata": {},
   "source": [
    "#### Выведем описательную статистику по кол-ву товаров"
   ]
  },
  {
   "cell_type": "code",
   "execution_count": 45,
   "metadata": {},
   "outputs": [
    {
     "data": {
      "text/plain": [
       "count    3095.000000\n",
       "mean       36.397415\n",
       "std       119.193461\n",
       "min         1.000000\n",
       "25%         2.000000\n",
       "50%         8.000000\n",
       "75%        24.000000\n",
       "max      2033.000000\n",
       "Name: count_of_orders, dtype: float64"
      ]
     },
     "execution_count": 45,
     "metadata": {},
     "output_type": "execute_result"
    }
   ],
   "source": [
    "count_of_product_by_seller.count_of_orders.describe()"
   ]
  },
  {
   "cell_type": "markdown",
   "metadata": {},
   "source": [
    "  "
   ]
  },
  {
   "cell_type": "markdown",
   "metadata": {},
   "source": [
    "## 3. Приступаем к ответам на вопросы продакт-менеджера Василия."
   ]
  },
  {
   "cell_type": "markdown",
   "metadata": {},
   "source": [
    "### 1. Сколько у нас пользователей, которые совершили покупку только один раз? (7 баллов) "
   ]
  },
  {
   "cell_type": "markdown",
   "metadata": {},
   "source": [
    "\n",
    "***Совершенной*** будем считать покупку, которая ***была оплачена и получена*** пользователем."
   ]
  },
  {
   "cell_type": "markdown",
   "metadata": {},
   "source": [
    "Объединим информацию о пользователях и заказах."
   ]
  },
  {
   "cell_type": "code",
   "execution_count": 130,
   "metadata": {},
   "outputs": [],
   "source": [
    "orders_and_customers = orders.merge(customers[['customer_id', 'customer_unique_id']], how = 'inner', on = 'customer_id')"
   ]
  },
  {
   "cell_type": "markdown",
   "metadata": {},
   "source": [
    "#### Приведем временные колонки к нужному типу"
   ]
  },
  {
   "cell_type": "code",
   "execution_count": 47,
   "metadata": {},
   "outputs": [],
   "source": [
    "orders_and_customers[['order_purchase_timestamp', 'order_approved_at', 'order_delivered_carrier_date', 'order_delivered_customer_date', 'order_estimated_delivery_date']] = \\\n",
    "orders_and_customers[['order_purchase_timestamp', 'order_approved_at', 'order_delivered_carrier_date', 'order_delivered_customer_date', 'order_estimated_delivery_date']].apply(pd.to_datetime)"
   ]
  },
  {
   "cell_type": "code",
   "execution_count": 48,
   "metadata": {},
   "outputs": [
    {
     "name": "stdout",
     "output_type": "stream",
     "text": [
      "<class 'pandas.core.frame.DataFrame'>\n",
      "Int64Index: 99441 entries, 0 to 99440\n",
      "Data columns (total 9 columns):\n",
      " #   Column                         Non-Null Count  Dtype         \n",
      "---  ------                         --------------  -----         \n",
      " 0   order_id                       99441 non-null  object        \n",
      " 1   customer_id                    99441 non-null  object        \n",
      " 2   order_status                   99441 non-null  object        \n",
      " 3   order_purchase_timestamp       99441 non-null  datetime64[ns]\n",
      " 4   order_approved_at              99281 non-null  datetime64[ns]\n",
      " 5   order_delivered_carrier_date   97658 non-null  datetime64[ns]\n",
      " 6   order_delivered_customer_date  96476 non-null  datetime64[ns]\n",
      " 7   order_estimated_delivery_date  99441 non-null  datetime64[ns]\n",
      " 8   customer_unique_id             99441 non-null  object        \n",
      "dtypes: datetime64[ns](5), object(4)\n",
      "memory usage: 7.6+ MB\n"
     ]
    }
   ],
   "source": [
    "orders_and_customers.info()"
   ]
  },
  {
   "cell_type": "markdown",
   "metadata": {},
   "source": [
    "#### Сначала отберем только доставленные заказы"
   ]
  },
  {
   "cell_type": "code",
   "execution_count": 49,
   "metadata": {},
   "outputs": [],
   "source": [
    "delivered_orders = orders_and_customers.query('order_status == \"delivered\"')"
   ]
  },
  {
   "cell_type": "markdown",
   "metadata": {},
   "source": [
    "#### Оставим только строки, где даты оплаты и доставки в порядке.\n",
    "Как мы выяснили, со статусом \"delivered\" есть проблемы. Возможно, даты оплаты и доставки просто не записались, но будем ориентироваться на корректные данные. "
   ]
  },
  {
   "cell_type": "code",
   "execution_count": 50,
   "metadata": {},
   "outputs": [],
   "source": [
    "valid_orders = delivered_orders.query('order_approved_at != \"NaN\" and order_delivered_customer_date != \"NaN\"')"
   ]
  },
  {
   "cell_type": "markdown",
   "metadata": {},
   "source": [
    "#### Считаем, сколько покупок совершали пользователи"
   ]
  },
  {
   "cell_type": "code",
   "execution_count": 51,
   "metadata": {},
   "outputs": [],
   "source": [
    "count_of_orders = valid_orders.groupby('customer_unique_id', as_index=False) \\\n",
    "                        .agg({'order_id' : 'nunique'}) \\\n",
    "                        .rename(columns={'order_id' : 'number_of_orders'}) \\\n",
    "                        .sort_values('number_of_orders', ascending=False)"
   ]
  },
  {
   "cell_type": "markdown",
   "metadata": {},
   "source": [
    "#### Между делом посмотрим на описательную статистику покупок пользователей."
   ]
  },
  {
   "cell_type": "code",
   "execution_count": 52,
   "metadata": {},
   "outputs": [
    {
     "data": {
      "text/plain": [
       "count    93337.000000\n",
       "mean         1.033417\n",
       "std          0.209096\n",
       "min          1.000000\n",
       "25%          1.000000\n",
       "50%          1.000000\n",
       "75%          1.000000\n",
       "max         15.000000\n",
       "Name: number_of_orders, dtype: float64"
      ]
     },
     "execution_count": 52,
     "metadata": {},
     "output_type": "execute_result"
    }
   ],
   "source": [
    "count_of_orders.number_of_orders.describe()"
   ]
  },
  {
   "cell_type": "markdown",
   "metadata": {},
   "source": [
    "#### Оставляем только пользователей с 1 покупкой"
   ]
  },
  {
   "cell_type": "code",
   "execution_count": 53,
   "metadata": {},
   "outputs": [
    {
     "data": {
      "text/plain": [
       "1    90537\n",
       "Name: number_of_orders, dtype: int64"
      ]
     },
     "execution_count": 53,
     "metadata": {},
     "output_type": "execute_result"
    }
   ],
   "source": [
    "one_order = count_of_orders.query('number_of_orders == 1')\n",
    "one_order.number_of_orders.value_counts()"
   ]
  },
  {
   "cell_type": "markdown",
   "metadata": {},
   "source": [
    "### Ответ:\n",
    "Пользователей, которые совершили только 1 покупку — ***90537***"
   ]
  },
  {
   "cell_type": "markdown",
   "metadata": {},
   "source": [
    "## 2. Сколько заказов в месяц в среднем не доставляется по разным причинам (вывести детализацию по причинам)? (10 баллов)"
   ]
  },
  {
   "cell_type": "markdown",
   "metadata": {},
   "source": [
    "Нас интересуют недоставленные заказы, поэтому отфильтруем датафрейм, исключая из него статус \"delivered\"."
   ]
  },
  {
   "cell_type": "code",
   "execution_count": 54,
   "metadata": {},
   "outputs": [],
   "source": [
    "not_delivered = orders.query('order_status != \"delivered\"')"
   ]
  },
  {
   "cell_type": "markdown",
   "metadata": {},
   "source": [
    "#### Посчитаем кол-во заказов по каждому статусу. "
   ]
  },
  {
   "cell_type": "code",
   "execution_count": 55,
   "metadata": {},
   "outputs": [],
   "source": [
    "orders_by_status = not_delivered.groupby('order_status', as_index = False) \\\n",
    "                                .agg({'order_id' : 'count'}) \\\n",
    "                                .rename(columns={'order_id' : 'number_of_order'}) \\\n",
    "                                .sort_values('number_of_order', ascending=False)"
   ]
  },
  {
   "cell_type": "code",
   "execution_count": 56,
   "metadata": {},
   "outputs": [
    {
     "data": {
      "text/html": [
       "<div>\n",
       "<style scoped>\n",
       "    .dataframe tbody tr th:only-of-type {\n",
       "        vertical-align: middle;\n",
       "    }\n",
       "\n",
       "    .dataframe tbody tr th {\n",
       "        vertical-align: top;\n",
       "    }\n",
       "\n",
       "    .dataframe thead th {\n",
       "        text-align: right;\n",
       "    }\n",
       "</style>\n",
       "<table border=\"1\" class=\"dataframe\">\n",
       "  <thead>\n",
       "    <tr style=\"text-align: right;\">\n",
       "      <th></th>\n",
       "      <th>order_status</th>\n",
       "      <th>number_of_order</th>\n",
       "    </tr>\n",
       "  </thead>\n",
       "  <tbody>\n",
       "    <tr>\n",
       "      <th>5</th>\n",
       "      <td>shipped</td>\n",
       "      <td>1107</td>\n",
       "    </tr>\n",
       "    <tr>\n",
       "      <th>1</th>\n",
       "      <td>canceled</td>\n",
       "      <td>625</td>\n",
       "    </tr>\n",
       "    <tr>\n",
       "      <th>6</th>\n",
       "      <td>unavailable</td>\n",
       "      <td>609</td>\n",
       "    </tr>\n",
       "    <tr>\n",
       "      <th>3</th>\n",
       "      <td>invoiced</td>\n",
       "      <td>314</td>\n",
       "    </tr>\n",
       "    <tr>\n",
       "      <th>4</th>\n",
       "      <td>processing</td>\n",
       "      <td>301</td>\n",
       "    </tr>\n",
       "    <tr>\n",
       "      <th>2</th>\n",
       "      <td>created</td>\n",
       "      <td>5</td>\n",
       "    </tr>\n",
       "    <tr>\n",
       "      <th>0</th>\n",
       "      <td>approved</td>\n",
       "      <td>2</td>\n",
       "    </tr>\n",
       "  </tbody>\n",
       "</table>\n",
       "</div>"
      ],
      "text/plain": [
       "  order_status  number_of_order\n",
       "5      shipped             1107\n",
       "1     canceled              625\n",
       "6  unavailable              609\n",
       "3     invoiced              314\n",
       "4   processing              301\n",
       "2      created                5\n",
       "0     approved                2"
      ]
     },
     "execution_count": 56,
     "metadata": {},
     "output_type": "execute_result"
    }
   ],
   "source": [
    "orders_by_status"
   ]
  },
  {
   "cell_type": "markdown",
   "metadata": {},
   "source": [
    "#### Теперь посчитаем общее кол-во месяцев в данных."
   ]
  },
  {
   "cell_type": "markdown",
   "metadata": {},
   "source": [
    "Благодаря предварительному анализу мы знаем, что некоторые временные отметки в датафрейме имеют пропущенные значения. Так что будем ориентироваться на данные из столбца даты создания заказа, что бы получить корректное общее число месяцев."
   ]
  },
  {
   "cell_type": "code",
   "execution_count": 57,
   "metadata": {},
   "outputs": [
    {
     "data": {
      "text/plain": [
       "order_id                            0\n",
       "customer_id                         0\n",
       "order_status                        0\n",
       "order_purchase_timestamp            0\n",
       "order_approved_at                 146\n",
       "order_delivered_carrier_date     1781\n",
       "order_delivered_customer_date    2957\n",
       "order_estimated_delivery_date       0\n",
       "dtype: int64"
      ]
     },
     "execution_count": 57,
     "metadata": {},
     "output_type": "execute_result"
    }
   ],
   "source": [
    "not_delivered.isna().sum()"
   ]
  },
  {
   "cell_type": "code",
   "execution_count": 58,
   "metadata": {},
   "outputs": [],
   "source": [
    "# Приводим столбец с датой к строковому типу, и берем дату в виде год-месяц\n",
    "months = not_delivered['order_purchase_timestamp'].apply(lambda x: x.strftime('%Y-%m-%d')[:7])"
   ]
  },
  {
   "cell_type": "code",
   "execution_count": 59,
   "metadata": {},
   "outputs": [
    {
     "data": {
      "text/plain": [
       "6        2017-04\n",
       "44       2018-06\n",
       "103      2018-08\n",
       "128      2017-09\n",
       "154      2018-01\n",
       "          ...   \n",
       "99283    2018-08\n",
       "99313    2018-01\n",
       "99347    2018-09\n",
       "99348    2017-08\n",
       "99415    2017-10\n",
       "Name: order_purchase_timestamp, Length: 2963, dtype: object"
      ]
     },
     "execution_count": 59,
     "metadata": {},
     "output_type": "execute_result"
    }
   ],
   "source": [
    "months"
   ]
  },
  {
   "cell_type": "code",
   "execution_count": 60,
   "metadata": {},
   "outputs": [
    {
     "data": {
      "text/plain": [
       "24"
      ]
     },
     "execution_count": 60,
     "metadata": {},
     "output_type": "execute_result"
    }
   ],
   "source": [
    "# Считаем уникальные значения\n",
    "months.nunique()"
   ]
  },
  {
   "cell_type": "markdown",
   "metadata": {},
   "source": [
    "Итак, для подсчета среднего, сумму заказов по каждому статусу делим на кол-во месяцев. Поместим значения в отдельный столбец."
   ]
  },
  {
   "cell_type": "code",
   "execution_count": 61,
   "metadata": {},
   "outputs": [],
   "source": [
    "orders_by_status['mean_not_delivered'] = round(orders_by_status['number_of_order'] / 24, 2)"
   ]
  },
  {
   "cell_type": "code",
   "execution_count": 62,
   "metadata": {},
   "outputs": [
    {
     "data": {
      "text/html": [
       "<div>\n",
       "<style scoped>\n",
       "    .dataframe tbody tr th:only-of-type {\n",
       "        vertical-align: middle;\n",
       "    }\n",
       "\n",
       "    .dataframe tbody tr th {\n",
       "        vertical-align: top;\n",
       "    }\n",
       "\n",
       "    .dataframe thead th {\n",
       "        text-align: right;\n",
       "    }\n",
       "</style>\n",
       "<table border=\"1\" class=\"dataframe\">\n",
       "  <thead>\n",
       "    <tr style=\"text-align: right;\">\n",
       "      <th></th>\n",
       "      <th>order_status</th>\n",
       "      <th>number_of_order</th>\n",
       "      <th>mean_not_delivered</th>\n",
       "    </tr>\n",
       "  </thead>\n",
       "  <tbody>\n",
       "    <tr>\n",
       "      <th>5</th>\n",
       "      <td>shipped</td>\n",
       "      <td>1107</td>\n",
       "      <td>46.12</td>\n",
       "    </tr>\n",
       "    <tr>\n",
       "      <th>1</th>\n",
       "      <td>canceled</td>\n",
       "      <td>625</td>\n",
       "      <td>26.04</td>\n",
       "    </tr>\n",
       "    <tr>\n",
       "      <th>6</th>\n",
       "      <td>unavailable</td>\n",
       "      <td>609</td>\n",
       "      <td>25.38</td>\n",
       "    </tr>\n",
       "    <tr>\n",
       "      <th>3</th>\n",
       "      <td>invoiced</td>\n",
       "      <td>314</td>\n",
       "      <td>13.08</td>\n",
       "    </tr>\n",
       "    <tr>\n",
       "      <th>4</th>\n",
       "      <td>processing</td>\n",
       "      <td>301</td>\n",
       "      <td>12.54</td>\n",
       "    </tr>\n",
       "    <tr>\n",
       "      <th>2</th>\n",
       "      <td>created</td>\n",
       "      <td>5</td>\n",
       "      <td>0.21</td>\n",
       "    </tr>\n",
       "    <tr>\n",
       "      <th>0</th>\n",
       "      <td>approved</td>\n",
       "      <td>2</td>\n",
       "      <td>0.08</td>\n",
       "    </tr>\n",
       "  </tbody>\n",
       "</table>\n",
       "</div>"
      ],
      "text/plain": [
       "  order_status  number_of_order  mean_not_delivered\n",
       "5      shipped             1107               46.12\n",
       "1     canceled              625               26.04\n",
       "6  unavailable              609               25.38\n",
       "3     invoiced              314               13.08\n",
       "4   processing              301               12.54\n",
       "2      created                5                0.21\n",
       "0     approved                2                0.08"
      ]
     },
     "execution_count": 62,
     "metadata": {},
     "output_type": "execute_result"
    }
   ],
   "source": [
    "orders_by_status"
   ]
  },
  {
   "cell_type": "markdown",
   "metadata": {},
   "source": [
    "### Детализация причин:\n",
    "\n",
    "#### Отгружены, но не доставлены(shipped) — ***46.12*** \n",
    "\n",
    "\n",
    "#### Отменены(canceled)  — ***26.04***\n",
    "\n",
    "\n",
    "#### Недоступны, нет на складе(unavailable) — ***25.38***\n",
    "\n",
    "\n",
    "#### Не оплачен выставленный счет(invoiced)  — ***13.08*** \n",
    "\n",
    "\n",
    "#### В процессе сборки(processing) — ***12.54***\n",
    "\t\n",
    "\n",
    "#### Заказ не подтвержден(created) — ***0.21***\n",
    "\t\n",
    "\n",
    "#### Не передан в доставку(approved) — ***0.08***"
   ]
  },
  {
   "cell_type": "markdown",
   "metadata": {},
   "source": [
    "### Визуализируем результат"
   ]
  },
  {
   "cell_type": "code",
   "execution_count": 63,
   "metadata": {},
   "outputs": [
    {
     "data": {
      "text/plain": [
       "Text(0, 0.5, 'Среднее кол-во недоставленных товаров')"
      ]
     },
     "execution_count": 63,
     "metadata": {},
     "output_type": "execute_result"
    },
    {
     "data": {
      "image/png": "[encoded data removed]",
      "text/plain": [
       "<Figure size 1440x360 with 1 Axes>"
      ]
     },
     "metadata": {
      "needs_background": "light"
     },
     "output_type": "display_data"
    }
   ],
   "source": [
    "plt.figure(figsize=(20,5))\n",
    "sns.barplot(data=orders_by_status, x=\"order_status\", y=\"mean_not_delivered\")\n",
    "plt.xlabel('Причины', fontsize=15)\n",
    "plt.ylabel('Среднее кол-во недоставленных товаров', fontsize=15)"
   ]
  },
  {
   "cell_type": "markdown",
   "metadata": {},
   "source": [
    "\n"
   ]
  },
  {
   "cell_type": "markdown",
   "metadata": {},
   "source": [
    "## 3. По каждому товару определить, в какой день недели товар чаще всего покупается. (7 баллов)"
   ]
  },
  {
   "cell_type": "markdown",
   "metadata": {},
   "source": [
    "Ранее мы определили, что покупка - это оплаченный и доставленный пользователю товар.\n",
    "\n",
    "Но вопрос нам задает Продакт-менеджер, и я предположу, что его интересуют ***дни***, в которые пользователи чаще всего ***заказывают*** товары. \n",
    "\n",
    "Проще говоря, ***спрос на товары*** по дням недели."
   ]
  },
  {
   "cell_type": "code",
   "execution_count": 64,
   "metadata": {},
   "outputs": [],
   "source": [
    "# Объединим датафреймы с заказами и информацией о товарах.\n",
    "full_orders_info = products_info.merge(orders,  how='right', on='order_id')"
   ]
  },
  {
   "cell_type": "code",
   "execution_count": 65,
   "metadata": {},
   "outputs": [
    {
     "data": {
      "text/html": [
       "<div>\n",
       "<style scoped>\n",
       "    .dataframe tbody tr th:only-of-type {\n",
       "        vertical-align: middle;\n",
       "    }\n",
       "\n",
       "    .dataframe tbody tr th {\n",
       "        vertical-align: top;\n",
       "    }\n",
       "\n",
       "    .dataframe thead th {\n",
       "        text-align: right;\n",
       "    }\n",
       "</style>\n",
       "<table border=\"1\" class=\"dataframe\">\n",
       "  <thead>\n",
       "    <tr style=\"text-align: right;\">\n",
       "      <th></th>\n",
       "      <th>order_id</th>\n",
       "      <th>order_item_id</th>\n",
       "      <th>product_id</th>\n",
       "      <th>seller_id</th>\n",
       "      <th>shipping_limit_date</th>\n",
       "      <th>price</th>\n",
       "      <th>freight_value</th>\n",
       "      <th>customer_id</th>\n",
       "      <th>order_status</th>\n",
       "      <th>order_purchase_timestamp</th>\n",
       "      <th>order_approved_at</th>\n",
       "      <th>order_delivered_carrier_date</th>\n",
       "      <th>order_delivered_customer_date</th>\n",
       "      <th>order_estimated_delivery_date</th>\n",
       "    </tr>\n",
       "  </thead>\n",
       "  <tbody>\n",
       "    <tr>\n",
       "      <th>0</th>\n",
       "      <td>e481f51cbdc54678b7cc49136f2d6af7</td>\n",
       "      <td>1.0</td>\n",
       "      <td>87285b34884572647811a353c7ac498a</td>\n",
       "      <td>3504c0cb71d7fa48d967e0e4c94d59d9</td>\n",
       "      <td>2017-10-06 11:07:15</td>\n",
       "      <td>29.99</td>\n",
       "      <td>8.72</td>\n",
       "      <td>9ef432eb6251297304e76186b10a928d</td>\n",
       "      <td>delivered</td>\n",
       "      <td>2017-10-02 10:56:33</td>\n",
       "      <td>2017-10-02 11:07:15</td>\n",
       "      <td>2017-10-04 19:55:00</td>\n",
       "      <td>2017-10-10 21:25:13</td>\n",
       "      <td>2017-10-18</td>\n",
       "    </tr>\n",
       "    <tr>\n",
       "      <th>1</th>\n",
       "      <td>53cdb2fc8bc7dce0b6741e2150273451</td>\n",
       "      <td>1.0</td>\n",
       "      <td>595fac2a385ac33a80bd5114aec74eb8</td>\n",
       "      <td>289cdb325fb7e7f891c38608bf9e0962</td>\n",
       "      <td>2018-07-30 03:24:27</td>\n",
       "      <td>118.70</td>\n",
       "      <td>22.76</td>\n",
       "      <td>b0830fb4747a6c6d20dea0b8c802d7ef</td>\n",
       "      <td>delivered</td>\n",
       "      <td>2018-07-24 20:41:37</td>\n",
       "      <td>2018-07-26 03:24:27</td>\n",
       "      <td>2018-07-26 14:31:00</td>\n",
       "      <td>2018-08-07 15:27:45</td>\n",
       "      <td>2018-08-13</td>\n",
       "    </tr>\n",
       "    <tr>\n",
       "      <th>2</th>\n",
       "      <td>47770eb9100c2d0c44946d9cf07ec65d</td>\n",
       "      <td>1.0</td>\n",
       "      <td>aa4383b373c6aca5d8797843e5594415</td>\n",
       "      <td>4869f7a5dfa277a7dca6462dcf3b52b2</td>\n",
       "      <td>2018-08-13 08:55:23</td>\n",
       "      <td>159.90</td>\n",
       "      <td>19.22</td>\n",
       "      <td>41ce2a54c0b03bf3443c3d931a367089</td>\n",
       "      <td>delivered</td>\n",
       "      <td>2018-08-08 08:38:49</td>\n",
       "      <td>2018-08-08 08:55:23</td>\n",
       "      <td>2018-08-08 13:50:00</td>\n",
       "      <td>2018-08-17 18:06:29</td>\n",
       "      <td>2018-09-04</td>\n",
       "    </tr>\n",
       "    <tr>\n",
       "      <th>3</th>\n",
       "      <td>949d5b44dbf5de918fe9c16f97b45f8a</td>\n",
       "      <td>1.0</td>\n",
       "      <td>d0b61bfb1de832b15ba9d266ca96e5b0</td>\n",
       "      <td>66922902710d126a0e7d26b0e3805106</td>\n",
       "      <td>2017-11-23 19:45:59</td>\n",
       "      <td>45.00</td>\n",
       "      <td>27.20</td>\n",
       "      <td>f88197465ea7920adcdbec7375364d82</td>\n",
       "      <td>delivered</td>\n",
       "      <td>2017-11-18 19:28:06</td>\n",
       "      <td>2017-11-18 19:45:59</td>\n",
       "      <td>2017-11-22 13:39:59</td>\n",
       "      <td>2017-12-02 00:28:42</td>\n",
       "      <td>2017-12-15</td>\n",
       "    </tr>\n",
       "    <tr>\n",
       "      <th>4</th>\n",
       "      <td>ad21c59c0840e6cb83a9ceb5573f8159</td>\n",
       "      <td>1.0</td>\n",
       "      <td>65266b2da20d04dbe00c5c2d3bb7859e</td>\n",
       "      <td>2c9e548be18521d1c43cde1c582c6de8</td>\n",
       "      <td>2018-02-19 20:31:37</td>\n",
       "      <td>19.90</td>\n",
       "      <td>8.72</td>\n",
       "      <td>8ab97904e6daea8866dbdbc4fb7aad2c</td>\n",
       "      <td>delivered</td>\n",
       "      <td>2018-02-13 21:18:39</td>\n",
       "      <td>2018-02-13 22:20:29</td>\n",
       "      <td>2018-02-14 19:46:34</td>\n",
       "      <td>2018-02-16 18:17:02</td>\n",
       "      <td>2018-02-26</td>\n",
       "    </tr>\n",
       "  </tbody>\n",
       "</table>\n",
       "</div>"
      ],
      "text/plain": [
       "                           order_id  order_item_id  \\\n",
       "0  e481f51cbdc54678b7cc49136f2d6af7            1.0   \n",
       "1  53cdb2fc8bc7dce0b6741e2150273451            1.0   \n",
       "2  47770eb9100c2d0c44946d9cf07ec65d            1.0   \n",
       "3  949d5b44dbf5de918fe9c16f97b45f8a            1.0   \n",
       "4  ad21c59c0840e6cb83a9ceb5573f8159            1.0   \n",
       "\n",
       "                         product_id                         seller_id  \\\n",
       "0  87285b34884572647811a353c7ac498a  3504c0cb71d7fa48d967e0e4c94d59d9   \n",
       "1  595fac2a385ac33a80bd5114aec74eb8  289cdb325fb7e7f891c38608bf9e0962   \n",
       "2  aa4383b373c6aca5d8797843e5594415  4869f7a5dfa277a7dca6462dcf3b52b2   \n",
       "3  d0b61bfb1de832b15ba9d266ca96e5b0  66922902710d126a0e7d26b0e3805106   \n",
       "4  65266b2da20d04dbe00c5c2d3bb7859e  2c9e548be18521d1c43cde1c582c6de8   \n",
       "\n",
       "  shipping_limit_date   price  freight_value  \\\n",
       "0 2017-10-06 11:07:15   29.99           8.72   \n",
       "1 2018-07-30 03:24:27  118.70          22.76   \n",
       "2 2018-08-13 08:55:23  159.90          19.22   \n",
       "3 2017-11-23 19:45:59   45.00          27.20   \n",
       "4 2018-02-19 20:31:37   19.90           8.72   \n",
       "\n",
       "                        customer_id order_status order_purchase_timestamp  \\\n",
       "0  9ef432eb6251297304e76186b10a928d    delivered      2017-10-02 10:56:33   \n",
       "1  b0830fb4747a6c6d20dea0b8c802d7ef    delivered      2018-07-24 20:41:37   \n",
       "2  41ce2a54c0b03bf3443c3d931a367089    delivered      2018-08-08 08:38:49   \n",
       "3  f88197465ea7920adcdbec7375364d82    delivered      2017-11-18 19:28:06   \n",
       "4  8ab97904e6daea8866dbdbc4fb7aad2c    delivered      2018-02-13 21:18:39   \n",
       "\n",
       "    order_approved_at order_delivered_carrier_date  \\\n",
       "0 2017-10-02 11:07:15          2017-10-04 19:55:00   \n",
       "1 2018-07-26 03:24:27          2018-07-26 14:31:00   \n",
       "2 2018-08-08 08:55:23          2018-08-08 13:50:00   \n",
       "3 2017-11-18 19:45:59          2017-11-22 13:39:59   \n",
       "4 2018-02-13 22:20:29          2018-02-14 19:46:34   \n",
       "\n",
       "  order_delivered_customer_date order_estimated_delivery_date  \n",
       "0           2017-10-10 21:25:13                    2017-10-18  \n",
       "1           2018-08-07 15:27:45                    2018-08-13  \n",
       "2           2018-08-17 18:06:29                    2018-09-04  \n",
       "3           2017-12-02 00:28:42                    2017-12-15  \n",
       "4           2018-02-16 18:17:02                    2018-02-26  "
      ]
     },
     "execution_count": 65,
     "metadata": {},
     "output_type": "execute_result"
    }
   ],
   "source": [
    "full_orders_info.head()"
   ]
  },
  {
   "cell_type": "code",
   "execution_count": 66,
   "metadata": {},
   "outputs": [],
   "source": [
    "# Создадим колонку с наименованием дня недели \n",
    "full_orders_info['day'] = full_orders_info['order_purchase_timestamp'].dt.day_name()"
   ]
  },
  {
   "cell_type": "code",
   "execution_count": 67,
   "metadata": {},
   "outputs": [],
   "source": [
    "# Посчитаем число заказов для каждого товара по дням недели\n",
    "products_orders_by_day = full_orders_info.groupby(['product_id','day'], as_index=False) \\\n",
    "                                         .agg({'order_id':'count'}) \\\n",
    "                                         .rename(columns={'order_id' : 'number_of_order'}) \\\n",
    "                                         .sort_values('number_of_order', ascending=False)"
   ]
  },
  {
   "cell_type": "code",
   "execution_count": 68,
   "metadata": {},
   "outputs": [
    {
     "data": {
      "text/html": [
       "<div>\n",
       "<style scoped>\n",
       "    .dataframe tbody tr th:only-of-type {\n",
       "        vertical-align: middle;\n",
       "    }\n",
       "\n",
       "    .dataframe tbody tr th {\n",
       "        vertical-align: top;\n",
       "    }\n",
       "\n",
       "    .dataframe thead th {\n",
       "        text-align: right;\n",
       "    }\n",
       "</style>\n",
       "<table border=\"1\" class=\"dataframe\">\n",
       "  <thead>\n",
       "    <tr style=\"text-align: right;\">\n",
       "      <th></th>\n",
       "      <th>product_id</th>\n",
       "      <th>day</th>\n",
       "      <th>number_of_order</th>\n",
       "    </tr>\n",
       "  </thead>\n",
       "  <tbody>\n",
       "    <tr>\n",
       "      <th>15902</th>\n",
       "      <td>422879e10f46682990de24d770e7f83d</td>\n",
       "      <td>Wednesday</td>\n",
       "      <td>93</td>\n",
       "    </tr>\n",
       "    <tr>\n",
       "      <th>36513</th>\n",
       "      <td>99a4788cb24856965c36a24e339b6058</td>\n",
       "      <td>Monday</td>\n",
       "      <td>92</td>\n",
       "    </tr>\n",
       "    <tr>\n",
       "      <th>41045</th>\n",
       "      <td>aca2eb7d00ea1a7b8ebd4e68314663af</td>\n",
       "      <td>Thursday</td>\n",
       "      <td>89</td>\n",
       "    </tr>\n",
       "    <tr>\n",
       "      <th>41041</th>\n",
       "      <td>aca2eb7d00ea1a7b8ebd4e68314663af</td>\n",
       "      <td>Friday</td>\n",
       "      <td>87</td>\n",
       "    </tr>\n",
       "    <tr>\n",
       "      <th>41046</th>\n",
       "      <td>aca2eb7d00ea1a7b8ebd4e68314663af</td>\n",
       "      <td>Tuesday</td>\n",
       "      <td>85</td>\n",
       "    </tr>\n",
       "  </tbody>\n",
       "</table>\n",
       "</div>"
      ],
      "text/plain": [
       "                             product_id        day  number_of_order\n",
       "15902  422879e10f46682990de24d770e7f83d  Wednesday               93\n",
       "36513  99a4788cb24856965c36a24e339b6058     Monday               92\n",
       "41045  aca2eb7d00ea1a7b8ebd4e68314663af   Thursday               89\n",
       "41041  aca2eb7d00ea1a7b8ebd4e68314663af     Friday               87\n",
       "41046  aca2eb7d00ea1a7b8ebd4e68314663af    Tuesday               85"
      ]
     },
     "execution_count": 68,
     "metadata": {},
     "output_type": "execute_result"
    }
   ],
   "source": [
    "products_orders_by_day.head()"
   ]
  },
  {
   "cell_type": "code",
   "execution_count": 69,
   "metadata": {},
   "outputs": [],
   "source": [
    "# Сгруппируем по товару, и оставим только дни с максимальным кол-вом заказов.\n",
    "# keep = 'all' в nlargest() - оставим значения, если товар одинаково часто заказывают в разные дни.\n",
    "day_with_max_orders = products_orders_by_day.groupby(['product_id'], as_index = False)\\\n",
    "                                            .apply(lambda x: x.nlargest(1,['number_of_order'], keep = 'all')) \\\n",
    "                                            .sort_values('number_of_order', ascending=False) "
   ]
  },
  {
   "cell_type": "markdown",
   "metadata": {},
   "source": [
    "### Датафрейм, в котором лежит информация о том, в какой день каждый товар чаще всего заказывают:"
   ]
  },
  {
   "cell_type": "code",
   "execution_count": 70,
   "metadata": {},
   "outputs": [
    {
     "data": {
      "text/html": [
       "<div>\n",
       "<style scoped>\n",
       "    .dataframe tbody tr th:only-of-type {\n",
       "        vertical-align: middle;\n",
       "    }\n",
       "\n",
       "    .dataframe tbody tr th {\n",
       "        vertical-align: top;\n",
       "    }\n",
       "\n",
       "    .dataframe thead th {\n",
       "        text-align: right;\n",
       "    }\n",
       "</style>\n",
       "<table border=\"1\" class=\"dataframe\">\n",
       "  <thead>\n",
       "    <tr style=\"text-align: right;\">\n",
       "      <th></th>\n",
       "      <th></th>\n",
       "      <th>product_id</th>\n",
       "      <th>day</th>\n",
       "      <th>number_of_order</th>\n",
       "    </tr>\n",
       "  </thead>\n",
       "  <tbody>\n",
       "    <tr>\n",
       "      <th>8613</th>\n",
       "      <th>15902</th>\n",
       "      <td>422879e10f46682990de24d770e7f83d</td>\n",
       "      <td>Wednesday</td>\n",
       "      <td>93</td>\n",
       "    </tr>\n",
       "    <tr>\n",
       "      <th>19742</th>\n",
       "      <th>36513</th>\n",
       "      <td>99a4788cb24856965c36a24e339b6058</td>\n",
       "      <td>Monday</td>\n",
       "      <td>92</td>\n",
       "    </tr>\n",
       "    <tr>\n",
       "      <th>22112</th>\n",
       "      <th>41045</th>\n",
       "      <td>aca2eb7d00ea1a7b8ebd4e68314663af</td>\n",
       "      <td>Thursday</td>\n",
       "      <td>89</td>\n",
       "    </tr>\n",
       "    <tr>\n",
       "      <th>10867</th>\n",
       "      <th>20127</th>\n",
       "      <td>53b36df67ebb7c41585e8d54d6772e08</td>\n",
       "      <td>Tuesday</td>\n",
       "      <td>76</td>\n",
       "    </tr>\n",
       "    <tr>\n",
       "      <th>7364</th>\n",
       "      <th>13537</th>\n",
       "      <td>389d119b48cf3043d311335e499d9c6b</td>\n",
       "      <td>Thursday</td>\n",
       "      <td>67</td>\n",
       "    </tr>\n",
       "  </tbody>\n",
       "</table>\n",
       "</div>"
      ],
      "text/plain": [
       "                                   product_id        day  number_of_order\n",
       "8613  15902  422879e10f46682990de24d770e7f83d  Wednesday               93\n",
       "19742 36513  99a4788cb24856965c36a24e339b6058     Monday               92\n",
       "22112 41045  aca2eb7d00ea1a7b8ebd4e68314663af   Thursday               89\n",
       "10867 20127  53b36df67ebb7c41585e8d54d6772e08    Tuesday               76\n",
       "7364  13537  389d119b48cf3043d311335e499d9c6b   Thursday               67"
      ]
     },
     "execution_count": 70,
     "metadata": {},
     "output_type": "execute_result"
    }
   ],
   "source": [
    "day_with_max_orders.head()"
   ]
  },
  {
   "cell_type": "markdown",
   "metadata": {},
   "source": [
    "\n",
    "\n"
   ]
  },
  {
   "cell_type": "markdown",
   "metadata": {},
   "source": [
    "## 4. Сколько у каждого из пользователей в среднем покупок в неделю (по месяцам)? \n",
    "### Не стоит забывать, что внутри месяца может быть не целое количество недель. Например, в ноябре 2021 года 4,28 недели. И внутри метрики это нужно учесть. (8 баллов) "
   ]
  },
  {
   "cell_type": "markdown",
   "metadata": {},
   "source": [
    "В задании нас просят расчитать ***покупки***, так что используем датафрейм из первого задания, где объединена информация о пользователях и их заказах, с корректными датами доставки и оплаты."
   ]
  },
  {
   "cell_type": "code",
   "execution_count": 71,
   "metadata": {},
   "outputs": [
    {
     "data": {
      "text/html": [
       "<div>\n",
       "<style scoped>\n",
       "    .dataframe tbody tr th:only-of-type {\n",
       "        vertical-align: middle;\n",
       "    }\n",
       "\n",
       "    .dataframe tbody tr th {\n",
       "        vertical-align: top;\n",
       "    }\n",
       "\n",
       "    .dataframe thead th {\n",
       "        text-align: right;\n",
       "    }\n",
       "</style>\n",
       "<table border=\"1\" class=\"dataframe\">\n",
       "  <thead>\n",
       "    <tr style=\"text-align: right;\">\n",
       "      <th></th>\n",
       "      <th>order_id</th>\n",
       "      <th>customer_id</th>\n",
       "      <th>order_status</th>\n",
       "      <th>order_purchase_timestamp</th>\n",
       "      <th>order_approved_at</th>\n",
       "      <th>order_delivered_carrier_date</th>\n",
       "      <th>order_delivered_customer_date</th>\n",
       "      <th>order_estimated_delivery_date</th>\n",
       "      <th>customer_unique_id</th>\n",
       "    </tr>\n",
       "  </thead>\n",
       "  <tbody>\n",
       "    <tr>\n",
       "      <th>0</th>\n",
       "      <td>e481f51cbdc54678b7cc49136f2d6af7</td>\n",
       "      <td>9ef432eb6251297304e76186b10a928d</td>\n",
       "      <td>delivered</td>\n",
       "      <td>2017-10-02 10:56:33</td>\n",
       "      <td>2017-10-02 11:07:15</td>\n",
       "      <td>2017-10-04 19:55:00</td>\n",
       "      <td>2017-10-10 21:25:13</td>\n",
       "      <td>2017-10-18</td>\n",
       "      <td>7c396fd4830fd04220f754e42b4e5bff</td>\n",
       "    </tr>\n",
       "    <tr>\n",
       "      <th>1</th>\n",
       "      <td>53cdb2fc8bc7dce0b6741e2150273451</td>\n",
       "      <td>b0830fb4747a6c6d20dea0b8c802d7ef</td>\n",
       "      <td>delivered</td>\n",
       "      <td>2018-07-24 20:41:37</td>\n",
       "      <td>2018-07-26 03:24:27</td>\n",
       "      <td>2018-07-26 14:31:00</td>\n",
       "      <td>2018-08-07 15:27:45</td>\n",
       "      <td>2018-08-13</td>\n",
       "      <td>af07308b275d755c9edb36a90c618231</td>\n",
       "    </tr>\n",
       "    <tr>\n",
       "      <th>2</th>\n",
       "      <td>47770eb9100c2d0c44946d9cf07ec65d</td>\n",
       "      <td>41ce2a54c0b03bf3443c3d931a367089</td>\n",
       "      <td>delivered</td>\n",
       "      <td>2018-08-08 08:38:49</td>\n",
       "      <td>2018-08-08 08:55:23</td>\n",
       "      <td>2018-08-08 13:50:00</td>\n",
       "      <td>2018-08-17 18:06:29</td>\n",
       "      <td>2018-09-04</td>\n",
       "      <td>3a653a41f6f9fc3d2a113cf8398680e8</td>\n",
       "    </tr>\n",
       "    <tr>\n",
       "      <th>3</th>\n",
       "      <td>949d5b44dbf5de918fe9c16f97b45f8a</td>\n",
       "      <td>f88197465ea7920adcdbec7375364d82</td>\n",
       "      <td>delivered</td>\n",
       "      <td>2017-11-18 19:28:06</td>\n",
       "      <td>2017-11-18 19:45:59</td>\n",
       "      <td>2017-11-22 13:39:59</td>\n",
       "      <td>2017-12-02 00:28:42</td>\n",
       "      <td>2017-12-15</td>\n",
       "      <td>7c142cf63193a1473d2e66489a9ae977</td>\n",
       "    </tr>\n",
       "    <tr>\n",
       "      <th>4</th>\n",
       "      <td>ad21c59c0840e6cb83a9ceb5573f8159</td>\n",
       "      <td>8ab97904e6daea8866dbdbc4fb7aad2c</td>\n",
       "      <td>delivered</td>\n",
       "      <td>2018-02-13 21:18:39</td>\n",
       "      <td>2018-02-13 22:20:29</td>\n",
       "      <td>2018-02-14 19:46:34</td>\n",
       "      <td>2018-02-16 18:17:02</td>\n",
       "      <td>2018-02-26</td>\n",
       "      <td>72632f0f9dd73dfee390c9b22eb56dd6</td>\n",
       "    </tr>\n",
       "  </tbody>\n",
       "</table>\n",
       "</div>"
      ],
      "text/plain": [
       "                           order_id                       customer_id  \\\n",
       "0  e481f51cbdc54678b7cc49136f2d6af7  9ef432eb6251297304e76186b10a928d   \n",
       "1  53cdb2fc8bc7dce0b6741e2150273451  b0830fb4747a6c6d20dea0b8c802d7ef   \n",
       "2  47770eb9100c2d0c44946d9cf07ec65d  41ce2a54c0b03bf3443c3d931a367089   \n",
       "3  949d5b44dbf5de918fe9c16f97b45f8a  f88197465ea7920adcdbec7375364d82   \n",
       "4  ad21c59c0840e6cb83a9ceb5573f8159  8ab97904e6daea8866dbdbc4fb7aad2c   \n",
       "\n",
       "  order_status order_purchase_timestamp   order_approved_at  \\\n",
       "0    delivered      2017-10-02 10:56:33 2017-10-02 11:07:15   \n",
       "1    delivered      2018-07-24 20:41:37 2018-07-26 03:24:27   \n",
       "2    delivered      2018-08-08 08:38:49 2018-08-08 08:55:23   \n",
       "3    delivered      2017-11-18 19:28:06 2017-11-18 19:45:59   \n",
       "4    delivered      2018-02-13 21:18:39 2018-02-13 22:20:29   \n",
       "\n",
       "  order_delivered_carrier_date order_delivered_customer_date  \\\n",
       "0          2017-10-04 19:55:00           2017-10-10 21:25:13   \n",
       "1          2018-07-26 14:31:00           2018-08-07 15:27:45   \n",
       "2          2018-08-08 13:50:00           2018-08-17 18:06:29   \n",
       "3          2017-11-22 13:39:59           2017-12-02 00:28:42   \n",
       "4          2018-02-14 19:46:34           2018-02-16 18:17:02   \n",
       "\n",
       "  order_estimated_delivery_date                customer_unique_id  \n",
       "0                    2017-10-18  7c396fd4830fd04220f754e42b4e5bff  \n",
       "1                    2018-08-13  af07308b275d755c9edb36a90c618231  \n",
       "2                    2018-09-04  3a653a41f6f9fc3d2a113cf8398680e8  \n",
       "3                    2017-12-15  7c142cf63193a1473d2e66489a9ae977  \n",
       "4                    2018-02-26  72632f0f9dd73dfee390c9b22eb56dd6  "
      ]
     },
     "execution_count": 71,
     "metadata": {},
     "output_type": "execute_result"
    }
   ],
   "source": [
    "valid_orders.head()"
   ]
  },
  {
   "cell_type": "markdown",
   "metadata": {},
   "source": [
    "\n"
   ]
  },
  {
   "cell_type": "markdown",
   "metadata": {},
   "source": [
    "Так же нас просят учесть кол-во недель в месяцах. Для расчета будем использовать ***.dt.daysinmonth*** (считает число дней в месяце) и делить на ***7*** (дни недели). Создадим новый столбец с этими данными."
   ]
  },
  {
   "cell_type": "code",
   "execution_count": 72,
   "metadata": {},
   "outputs": [],
   "source": [
    "valid_orders['numbers_of_weeks'] = valid_orders.order_purchase_timestamp.dt.daysinmonth / 7"
   ]
  },
  {
   "cell_type": "code",
   "execution_count": 73,
   "metadata": {},
   "outputs": [],
   "source": [
    "# Создадим датафрейм только с нужной нам информацией.\n",
    "orders_per_week = valid_orders[['customer_unique_id', 'order_id', 'numbers_of_weeks', 'order_delivered_customer_date']]"
   ]
  },
  {
   "cell_type": "code",
   "execution_count": 74,
   "metadata": {},
   "outputs": [],
   "source": [
    "# Так же немного преобразуем дату доставки, оставив только месяц и год.\n",
    "orders_per_week['order_delivered_customer_date'] = orders_per_week['order_delivered_customer_date'].dt.strftime('%Y-%m')"
   ]
  },
  {
   "cell_type": "code",
   "execution_count": 75,
   "metadata": {},
   "outputs": [
    {
     "data": {
      "text/html": [
       "<div>\n",
       "<style scoped>\n",
       "    .dataframe tbody tr th:only-of-type {\n",
       "        vertical-align: middle;\n",
       "    }\n",
       "\n",
       "    .dataframe tbody tr th {\n",
       "        vertical-align: top;\n",
       "    }\n",
       "\n",
       "    .dataframe thead th {\n",
       "        text-align: right;\n",
       "    }\n",
       "</style>\n",
       "<table border=\"1\" class=\"dataframe\">\n",
       "  <thead>\n",
       "    <tr style=\"text-align: right;\">\n",
       "      <th></th>\n",
       "      <th>customer_unique_id</th>\n",
       "      <th>order_id</th>\n",
       "      <th>numbers_of_weeks</th>\n",
       "      <th>order_delivered_customer_date</th>\n",
       "    </tr>\n",
       "  </thead>\n",
       "  <tbody>\n",
       "    <tr>\n",
       "      <th>0</th>\n",
       "      <td>7c396fd4830fd04220f754e42b4e5bff</td>\n",
       "      <td>e481f51cbdc54678b7cc49136f2d6af7</td>\n",
       "      <td>4.428571</td>\n",
       "      <td>2017-10</td>\n",
       "    </tr>\n",
       "    <tr>\n",
       "      <th>1</th>\n",
       "      <td>af07308b275d755c9edb36a90c618231</td>\n",
       "      <td>53cdb2fc8bc7dce0b6741e2150273451</td>\n",
       "      <td>4.428571</td>\n",
       "      <td>2018-08</td>\n",
       "    </tr>\n",
       "    <tr>\n",
       "      <th>2</th>\n",
       "      <td>3a653a41f6f9fc3d2a113cf8398680e8</td>\n",
       "      <td>47770eb9100c2d0c44946d9cf07ec65d</td>\n",
       "      <td>4.428571</td>\n",
       "      <td>2018-08</td>\n",
       "    </tr>\n",
       "    <tr>\n",
       "      <th>3</th>\n",
       "      <td>7c142cf63193a1473d2e66489a9ae977</td>\n",
       "      <td>949d5b44dbf5de918fe9c16f97b45f8a</td>\n",
       "      <td>4.285714</td>\n",
       "      <td>2017-12</td>\n",
       "    </tr>\n",
       "    <tr>\n",
       "      <th>4</th>\n",
       "      <td>72632f0f9dd73dfee390c9b22eb56dd6</td>\n",
       "      <td>ad21c59c0840e6cb83a9ceb5573f8159</td>\n",
       "      <td>4.000000</td>\n",
       "      <td>2018-02</td>\n",
       "    </tr>\n",
       "    <tr>\n",
       "      <th>...</th>\n",
       "      <td>...</td>\n",
       "      <td>...</td>\n",
       "      <td>...</td>\n",
       "      <td>...</td>\n",
       "    </tr>\n",
       "    <tr>\n",
       "      <th>99436</th>\n",
       "      <td>6359f309b166b0196dbf7ad2ac62bb5a</td>\n",
       "      <td>9c5dedf39a927c1b2549525ed64a053c</td>\n",
       "      <td>4.428571</td>\n",
       "      <td>2017-03</td>\n",
       "    </tr>\n",
       "    <tr>\n",
       "      <th>99437</th>\n",
       "      <td>da62f9e57a76d978d02ab5362c509660</td>\n",
       "      <td>63943bddc261676b46f01ca7ac2f7bd8</td>\n",
       "      <td>4.000000</td>\n",
       "      <td>2018-02</td>\n",
       "    </tr>\n",
       "    <tr>\n",
       "      <th>99438</th>\n",
       "      <td>737520a9aad80b3fbbdad19b66b37b30</td>\n",
       "      <td>83c1379a015df1e13d02aae0204711ab</td>\n",
       "      <td>4.428571</td>\n",
       "      <td>2017-09</td>\n",
       "    </tr>\n",
       "    <tr>\n",
       "      <th>99439</th>\n",
       "      <td>5097a5312c8b157bb7be58ae360ef43c</td>\n",
       "      <td>11c177c8e97725db2631073c19f07b62</td>\n",
       "      <td>4.428571</td>\n",
       "      <td>2018-01</td>\n",
       "    </tr>\n",
       "    <tr>\n",
       "      <th>99440</th>\n",
       "      <td>60350aa974b26ff12caad89e55993bd6</td>\n",
       "      <td>66dea50a8b16d9b4dee7af250b4be1a5</td>\n",
       "      <td>4.428571</td>\n",
       "      <td>2018-03</td>\n",
       "    </tr>\n",
       "  </tbody>\n",
       "</table>\n",
       "<p>96456 rows × 4 columns</p>\n",
       "</div>"
      ],
      "text/plain": [
       "                     customer_unique_id                          order_id  \\\n",
       "0      7c396fd4830fd04220f754e42b4e5bff  e481f51cbdc54678b7cc49136f2d6af7   \n",
       "1      af07308b275d755c9edb36a90c618231  53cdb2fc8bc7dce0b6741e2150273451   \n",
       "2      3a653a41f6f9fc3d2a113cf8398680e8  47770eb9100c2d0c44946d9cf07ec65d   \n",
       "3      7c142cf63193a1473d2e66489a9ae977  949d5b44dbf5de918fe9c16f97b45f8a   \n",
       "4      72632f0f9dd73dfee390c9b22eb56dd6  ad21c59c0840e6cb83a9ceb5573f8159   \n",
       "...                                 ...                               ...   \n",
       "99436  6359f309b166b0196dbf7ad2ac62bb5a  9c5dedf39a927c1b2549525ed64a053c   \n",
       "99437  da62f9e57a76d978d02ab5362c509660  63943bddc261676b46f01ca7ac2f7bd8   \n",
       "99438  737520a9aad80b3fbbdad19b66b37b30  83c1379a015df1e13d02aae0204711ab   \n",
       "99439  5097a5312c8b157bb7be58ae360ef43c  11c177c8e97725db2631073c19f07b62   \n",
       "99440  60350aa974b26ff12caad89e55993bd6  66dea50a8b16d9b4dee7af250b4be1a5   \n",
       "\n",
       "       numbers_of_weeks order_delivered_customer_date  \n",
       "0              4.428571                       2017-10  \n",
       "1              4.428571                       2018-08  \n",
       "2              4.428571                       2018-08  \n",
       "3              4.285714                       2017-12  \n",
       "4              4.000000                       2018-02  \n",
       "...                 ...                           ...  \n",
       "99436          4.428571                       2017-03  \n",
       "99437          4.000000                       2018-02  \n",
       "99438          4.428571                       2017-09  \n",
       "99439          4.428571                       2018-01  \n",
       "99440          4.428571                       2018-03  \n",
       "\n",
       "[96456 rows x 4 columns]"
      ]
     },
     "execution_count": 75,
     "metadata": {},
     "output_type": "execute_result"
    }
   ],
   "source": [
    "orders_per_week"
   ]
  },
  {
   "cell_type": "code",
   "execution_count": 76,
   "metadata": {},
   "outputs": [],
   "source": [
    "# Посчитаем число покупок в месяц для каждого пользователя и вернем число недель в соответствующем месяце\n",
    "orders_per_week_count = orders_per_week.groupby(['customer_unique_id','order_delivered_customer_date'], as_index=False) \\\n",
    "                              .agg({'order_id': 'count','numbers_of_weeks': 'mean'}) \\\n",
    "                              .rename(columns={'order_id': 'number_of_orders', 'order_delivered_customer_date': 'month'})"
   ]
  },
  {
   "cell_type": "code",
   "execution_count": 77,
   "metadata": {},
   "outputs": [],
   "source": [
    "# Посчитаем среднее число покупок в месяц для каждого пользователя\n",
    "orders_per_week_count['mean_weekly_orders'] = orders_per_week_count.number_of_orders / orders_per_week_count.numbers_of_weeks"
   ]
  },
  {
   "cell_type": "code",
   "execution_count": 78,
   "metadata": {},
   "outputs": [
    {
     "data": {
      "text/html": [
       "<div>\n",
       "<style scoped>\n",
       "    .dataframe tbody tr th:only-of-type {\n",
       "        vertical-align: middle;\n",
       "    }\n",
       "\n",
       "    .dataframe tbody tr th {\n",
       "        vertical-align: top;\n",
       "    }\n",
       "\n",
       "    .dataframe thead th {\n",
       "        text-align: right;\n",
       "    }\n",
       "</style>\n",
       "<table border=\"1\" class=\"dataframe\">\n",
       "  <thead>\n",
       "    <tr style=\"text-align: right;\">\n",
       "      <th></th>\n",
       "      <th>customer_unique_id</th>\n",
       "      <th>month</th>\n",
       "      <th>number_of_orders</th>\n",
       "      <th>numbers_of_weeks</th>\n",
       "      <th>mean_weekly_orders</th>\n",
       "    </tr>\n",
       "  </thead>\n",
       "  <tbody>\n",
       "    <tr>\n",
       "      <th>0</th>\n",
       "      <td>0000366f3b9a7992bf8c76cfdf3221e2</td>\n",
       "      <td>2018-05</td>\n",
       "      <td>1</td>\n",
       "      <td>4.428571</td>\n",
       "      <td>0.225806</td>\n",
       "    </tr>\n",
       "    <tr>\n",
       "      <th>1</th>\n",
       "      <td>0000b849f77a49e4a4ce2b2a4ca5be3f</td>\n",
       "      <td>2018-05</td>\n",
       "      <td>1</td>\n",
       "      <td>4.428571</td>\n",
       "      <td>0.225806</td>\n",
       "    </tr>\n",
       "    <tr>\n",
       "      <th>2</th>\n",
       "      <td>0000f46a3911fa3c0805444483337064</td>\n",
       "      <td>2017-04</td>\n",
       "      <td>1</td>\n",
       "      <td>4.428571</td>\n",
       "      <td>0.225806</td>\n",
       "    </tr>\n",
       "    <tr>\n",
       "      <th>3</th>\n",
       "      <td>0000f6ccb0745a6a4b88665a16c9f078</td>\n",
       "      <td>2017-11</td>\n",
       "      <td>1</td>\n",
       "      <td>4.428571</td>\n",
       "      <td>0.225806</td>\n",
       "    </tr>\n",
       "    <tr>\n",
       "      <th>4</th>\n",
       "      <td>0004aac84e0df4da2b147fca70cf8255</td>\n",
       "      <td>2017-11</td>\n",
       "      <td>1</td>\n",
       "      <td>4.285714</td>\n",
       "      <td>0.233333</td>\n",
       "    </tr>\n",
       "  </tbody>\n",
       "</table>\n",
       "</div>"
      ],
      "text/plain": [
       "                 customer_unique_id    month  number_of_orders  \\\n",
       "0  0000366f3b9a7992bf8c76cfdf3221e2  2018-05                 1   \n",
       "1  0000b849f77a49e4a4ce2b2a4ca5be3f  2018-05                 1   \n",
       "2  0000f46a3911fa3c0805444483337064  2017-04                 1   \n",
       "3  0000f6ccb0745a6a4b88665a16c9f078  2017-11                 1   \n",
       "4  0004aac84e0df4da2b147fca70cf8255  2017-11                 1   \n",
       "\n",
       "   numbers_of_weeks  mean_weekly_orders  \n",
       "0          4.428571            0.225806  \n",
       "1          4.428571            0.225806  \n",
       "2          4.428571            0.225806  \n",
       "3          4.428571            0.225806  \n",
       "4          4.285714            0.233333  "
      ]
     },
     "execution_count": 78,
     "metadata": {},
     "output_type": "execute_result"
    }
   ],
   "source": [
    "orders_per_week_count.head()"
   ]
  },
  {
   "cell_type": "markdown",
   "metadata": {},
   "source": [
    "#### Меняем структуру таблицы, что бы видеть среднее число покупок пользователей по месяцам."
   ]
  },
  {
   "cell_type": "code",
   "execution_count": 79,
   "metadata": {},
   "outputs": [
    {
     "data": {
      "text/html": [
       "<div>\n",
       "<style scoped>\n",
       "    .dataframe tbody tr th:only-of-type {\n",
       "        vertical-align: middle;\n",
       "    }\n",
       "\n",
       "    .dataframe tbody tr th {\n",
       "        vertical-align: top;\n",
       "    }\n",
       "\n",
       "    .dataframe thead th {\n",
       "        text-align: right;\n",
       "    }\n",
       "</style>\n",
       "<table border=\"1\" class=\"dataframe\">\n",
       "  <thead>\n",
       "    <tr style=\"text-align: right;\">\n",
       "      <th>month</th>\n",
       "      <th>2016-10</th>\n",
       "      <th>2016-11</th>\n",
       "      <th>2016-12</th>\n",
       "      <th>2017-01</th>\n",
       "      <th>2017-02</th>\n",
       "      <th>2017-03</th>\n",
       "      <th>2017-04</th>\n",
       "      <th>2017-05</th>\n",
       "      <th>2017-06</th>\n",
       "      <th>2017-07</th>\n",
       "      <th>...</th>\n",
       "      <th>2018-01</th>\n",
       "      <th>2018-02</th>\n",
       "      <th>2018-03</th>\n",
       "      <th>2018-04</th>\n",
       "      <th>2018-05</th>\n",
       "      <th>2018-06</th>\n",
       "      <th>2018-07</th>\n",
       "      <th>2018-08</th>\n",
       "      <th>2018-09</th>\n",
       "      <th>2018-10</th>\n",
       "    </tr>\n",
       "    <tr>\n",
       "      <th>customer_unique_id</th>\n",
       "      <th></th>\n",
       "      <th></th>\n",
       "      <th></th>\n",
       "      <th></th>\n",
       "      <th></th>\n",
       "      <th></th>\n",
       "      <th></th>\n",
       "      <th></th>\n",
       "      <th></th>\n",
       "      <th></th>\n",
       "      <th></th>\n",
       "      <th></th>\n",
       "      <th></th>\n",
       "      <th></th>\n",
       "      <th></th>\n",
       "      <th></th>\n",
       "      <th></th>\n",
       "      <th></th>\n",
       "      <th></th>\n",
       "      <th></th>\n",
       "      <th></th>\n",
       "    </tr>\n",
       "  </thead>\n",
       "  <tbody>\n",
       "    <tr>\n",
       "      <th>0000366f3b9a7992bf8c76cfdf3221e2</th>\n",
       "      <td>0.0</td>\n",
       "      <td>0.0</td>\n",
       "      <td>0.0</td>\n",
       "      <td>0.0</td>\n",
       "      <td>0.00</td>\n",
       "      <td>0.0</td>\n",
       "      <td>0.000000</td>\n",
       "      <td>0.000000</td>\n",
       "      <td>0.0</td>\n",
       "      <td>0.000000</td>\n",
       "      <td>...</td>\n",
       "      <td>0.000000</td>\n",
       "      <td>0.0</td>\n",
       "      <td>0.0</td>\n",
       "      <td>0.0</td>\n",
       "      <td>0.225806</td>\n",
       "      <td>0.0</td>\n",
       "      <td>0.0</td>\n",
       "      <td>0.0</td>\n",
       "      <td>0.0</td>\n",
       "      <td>0.0</td>\n",
       "    </tr>\n",
       "    <tr>\n",
       "      <th>0000b849f77a49e4a4ce2b2a4ca5be3f</th>\n",
       "      <td>0.0</td>\n",
       "      <td>0.0</td>\n",
       "      <td>0.0</td>\n",
       "      <td>0.0</td>\n",
       "      <td>0.00</td>\n",
       "      <td>0.0</td>\n",
       "      <td>0.000000</td>\n",
       "      <td>0.000000</td>\n",
       "      <td>0.0</td>\n",
       "      <td>0.000000</td>\n",
       "      <td>...</td>\n",
       "      <td>0.000000</td>\n",
       "      <td>0.0</td>\n",
       "      <td>0.0</td>\n",
       "      <td>0.0</td>\n",
       "      <td>0.225806</td>\n",
       "      <td>0.0</td>\n",
       "      <td>0.0</td>\n",
       "      <td>0.0</td>\n",
       "      <td>0.0</td>\n",
       "      <td>0.0</td>\n",
       "    </tr>\n",
       "    <tr>\n",
       "      <th>0000f46a3911fa3c0805444483337064</th>\n",
       "      <td>0.0</td>\n",
       "      <td>0.0</td>\n",
       "      <td>0.0</td>\n",
       "      <td>0.0</td>\n",
       "      <td>0.00</td>\n",
       "      <td>0.0</td>\n",
       "      <td>0.225806</td>\n",
       "      <td>0.000000</td>\n",
       "      <td>0.0</td>\n",
       "      <td>0.000000</td>\n",
       "      <td>...</td>\n",
       "      <td>0.000000</td>\n",
       "      <td>0.0</td>\n",
       "      <td>0.0</td>\n",
       "      <td>0.0</td>\n",
       "      <td>0.000000</td>\n",
       "      <td>0.0</td>\n",
       "      <td>0.0</td>\n",
       "      <td>0.0</td>\n",
       "      <td>0.0</td>\n",
       "      <td>0.0</td>\n",
       "    </tr>\n",
       "    <tr>\n",
       "      <th>0000f6ccb0745a6a4b88665a16c9f078</th>\n",
       "      <td>0.0</td>\n",
       "      <td>0.0</td>\n",
       "      <td>0.0</td>\n",
       "      <td>0.0</td>\n",
       "      <td>0.00</td>\n",
       "      <td>0.0</td>\n",
       "      <td>0.000000</td>\n",
       "      <td>0.000000</td>\n",
       "      <td>0.0</td>\n",
       "      <td>0.000000</td>\n",
       "      <td>...</td>\n",
       "      <td>0.000000</td>\n",
       "      <td>0.0</td>\n",
       "      <td>0.0</td>\n",
       "      <td>0.0</td>\n",
       "      <td>0.000000</td>\n",
       "      <td>0.0</td>\n",
       "      <td>0.0</td>\n",
       "      <td>0.0</td>\n",
       "      <td>0.0</td>\n",
       "      <td>0.0</td>\n",
       "    </tr>\n",
       "    <tr>\n",
       "      <th>0004aac84e0df4da2b147fca70cf8255</th>\n",
       "      <td>0.0</td>\n",
       "      <td>0.0</td>\n",
       "      <td>0.0</td>\n",
       "      <td>0.0</td>\n",
       "      <td>0.00</td>\n",
       "      <td>0.0</td>\n",
       "      <td>0.000000</td>\n",
       "      <td>0.000000</td>\n",
       "      <td>0.0</td>\n",
       "      <td>0.000000</td>\n",
       "      <td>...</td>\n",
       "      <td>0.000000</td>\n",
       "      <td>0.0</td>\n",
       "      <td>0.0</td>\n",
       "      <td>0.0</td>\n",
       "      <td>0.000000</td>\n",
       "      <td>0.0</td>\n",
       "      <td>0.0</td>\n",
       "      <td>0.0</td>\n",
       "      <td>0.0</td>\n",
       "      <td>0.0</td>\n",
       "    </tr>\n",
       "    <tr>\n",
       "      <th>...</th>\n",
       "      <td>...</td>\n",
       "      <td>...</td>\n",
       "      <td>...</td>\n",
       "      <td>...</td>\n",
       "      <td>...</td>\n",
       "      <td>...</td>\n",
       "      <td>...</td>\n",
       "      <td>...</td>\n",
       "      <td>...</td>\n",
       "      <td>...</td>\n",
       "      <td>...</td>\n",
       "      <td>...</td>\n",
       "      <td>...</td>\n",
       "      <td>...</td>\n",
       "      <td>...</td>\n",
       "      <td>...</td>\n",
       "      <td>...</td>\n",
       "      <td>...</td>\n",
       "      <td>...</td>\n",
       "      <td>...</td>\n",
       "      <td>...</td>\n",
       "    </tr>\n",
       "    <tr>\n",
       "      <th>fffcf5a5ff07b0908bd4e2dbc735a684</th>\n",
       "      <td>0.0</td>\n",
       "      <td>0.0</td>\n",
       "      <td>0.0</td>\n",
       "      <td>0.0</td>\n",
       "      <td>0.00</td>\n",
       "      <td>0.0</td>\n",
       "      <td>0.000000</td>\n",
       "      <td>0.000000</td>\n",
       "      <td>0.0</td>\n",
       "      <td>0.233333</td>\n",
       "      <td>...</td>\n",
       "      <td>0.000000</td>\n",
       "      <td>0.0</td>\n",
       "      <td>0.0</td>\n",
       "      <td>0.0</td>\n",
       "      <td>0.000000</td>\n",
       "      <td>0.0</td>\n",
       "      <td>0.0</td>\n",
       "      <td>0.0</td>\n",
       "      <td>0.0</td>\n",
       "      <td>0.0</td>\n",
       "    </tr>\n",
       "    <tr>\n",
       "      <th>fffea47cd6d3cc0a88bd621562a9d061</th>\n",
       "      <td>0.0</td>\n",
       "      <td>0.0</td>\n",
       "      <td>0.0</td>\n",
       "      <td>0.0</td>\n",
       "      <td>0.00</td>\n",
       "      <td>0.0</td>\n",
       "      <td>0.000000</td>\n",
       "      <td>0.000000</td>\n",
       "      <td>0.0</td>\n",
       "      <td>0.000000</td>\n",
       "      <td>...</td>\n",
       "      <td>0.225806</td>\n",
       "      <td>0.0</td>\n",
       "      <td>0.0</td>\n",
       "      <td>0.0</td>\n",
       "      <td>0.000000</td>\n",
       "      <td>0.0</td>\n",
       "      <td>0.0</td>\n",
       "      <td>0.0</td>\n",
       "      <td>0.0</td>\n",
       "      <td>0.0</td>\n",
       "    </tr>\n",
       "    <tr>\n",
       "      <th>ffff371b4d645b6ecea244b27531430a</th>\n",
       "      <td>0.0</td>\n",
       "      <td>0.0</td>\n",
       "      <td>0.0</td>\n",
       "      <td>0.0</td>\n",
       "      <td>0.25</td>\n",
       "      <td>0.0</td>\n",
       "      <td>0.000000</td>\n",
       "      <td>0.000000</td>\n",
       "      <td>0.0</td>\n",
       "      <td>0.000000</td>\n",
       "      <td>...</td>\n",
       "      <td>0.000000</td>\n",
       "      <td>0.0</td>\n",
       "      <td>0.0</td>\n",
       "      <td>0.0</td>\n",
       "      <td>0.000000</td>\n",
       "      <td>0.0</td>\n",
       "      <td>0.0</td>\n",
       "      <td>0.0</td>\n",
       "      <td>0.0</td>\n",
       "      <td>0.0</td>\n",
       "    </tr>\n",
       "    <tr>\n",
       "      <th>ffff5962728ec6157033ef9805bacc48</th>\n",
       "      <td>0.0</td>\n",
       "      <td>0.0</td>\n",
       "      <td>0.0</td>\n",
       "      <td>0.0</td>\n",
       "      <td>0.00</td>\n",
       "      <td>0.0</td>\n",
       "      <td>0.000000</td>\n",
       "      <td>0.000000</td>\n",
       "      <td>0.0</td>\n",
       "      <td>0.000000</td>\n",
       "      <td>...</td>\n",
       "      <td>0.000000</td>\n",
       "      <td>0.0</td>\n",
       "      <td>0.0</td>\n",
       "      <td>0.0</td>\n",
       "      <td>0.225806</td>\n",
       "      <td>0.0</td>\n",
       "      <td>0.0</td>\n",
       "      <td>0.0</td>\n",
       "      <td>0.0</td>\n",
       "      <td>0.0</td>\n",
       "    </tr>\n",
       "    <tr>\n",
       "      <th>ffffd2657e2aad2907e67c3e9daecbeb</th>\n",
       "      <td>0.0</td>\n",
       "      <td>0.0</td>\n",
       "      <td>0.0</td>\n",
       "      <td>0.0</td>\n",
       "      <td>0.00</td>\n",
       "      <td>0.0</td>\n",
       "      <td>0.000000</td>\n",
       "      <td>0.225806</td>\n",
       "      <td>0.0</td>\n",
       "      <td>0.000000</td>\n",
       "      <td>...</td>\n",
       "      <td>0.000000</td>\n",
       "      <td>0.0</td>\n",
       "      <td>0.0</td>\n",
       "      <td>0.0</td>\n",
       "      <td>0.000000</td>\n",
       "      <td>0.0</td>\n",
       "      <td>0.0</td>\n",
       "      <td>0.0</td>\n",
       "      <td>0.0</td>\n",
       "      <td>0.0</td>\n",
       "    </tr>\n",
       "  </tbody>\n",
       "</table>\n",
       "<p>93337 rows × 25 columns</p>\n",
       "</div>"
      ],
      "text/plain": [
       "month                             2016-10  2016-11  2016-12  2017-01  2017-02  \\\n",
       "customer_unique_id                                                              \n",
       "0000366f3b9a7992bf8c76cfdf3221e2      0.0      0.0      0.0      0.0     0.00   \n",
       "0000b849f77a49e4a4ce2b2a4ca5be3f      0.0      0.0      0.0      0.0     0.00   \n",
       "0000f46a3911fa3c0805444483337064      0.0      0.0      0.0      0.0     0.00   \n",
       "0000f6ccb0745a6a4b88665a16c9f078      0.0      0.0      0.0      0.0     0.00   \n",
       "0004aac84e0df4da2b147fca70cf8255      0.0      0.0      0.0      0.0     0.00   \n",
       "...                                   ...      ...      ...      ...      ...   \n",
       "fffcf5a5ff07b0908bd4e2dbc735a684      0.0      0.0      0.0      0.0     0.00   \n",
       "fffea47cd6d3cc0a88bd621562a9d061      0.0      0.0      0.0      0.0     0.00   \n",
       "ffff371b4d645b6ecea244b27531430a      0.0      0.0      0.0      0.0     0.25   \n",
       "ffff5962728ec6157033ef9805bacc48      0.0      0.0      0.0      0.0     0.00   \n",
       "ffffd2657e2aad2907e67c3e9daecbeb      0.0      0.0      0.0      0.0     0.00   \n",
       "\n",
       "month                             2017-03   2017-04   2017-05  2017-06  \\\n",
       "customer_unique_id                                                       \n",
       "0000366f3b9a7992bf8c76cfdf3221e2      0.0  0.000000  0.000000      0.0   \n",
       "0000b849f77a49e4a4ce2b2a4ca5be3f      0.0  0.000000  0.000000      0.0   \n",
       "0000f46a3911fa3c0805444483337064      0.0  0.225806  0.000000      0.0   \n",
       "0000f6ccb0745a6a4b88665a16c9f078      0.0  0.000000  0.000000      0.0   \n",
       "0004aac84e0df4da2b147fca70cf8255      0.0  0.000000  0.000000      0.0   \n",
       "...                                   ...       ...       ...      ...   \n",
       "fffcf5a5ff07b0908bd4e2dbc735a684      0.0  0.000000  0.000000      0.0   \n",
       "fffea47cd6d3cc0a88bd621562a9d061      0.0  0.000000  0.000000      0.0   \n",
       "ffff371b4d645b6ecea244b27531430a      0.0  0.000000  0.000000      0.0   \n",
       "ffff5962728ec6157033ef9805bacc48      0.0  0.000000  0.000000      0.0   \n",
       "ffffd2657e2aad2907e67c3e9daecbeb      0.0  0.000000  0.225806      0.0   \n",
       "\n",
       "month                              2017-07  ...   2018-01  2018-02  2018-03  \\\n",
       "customer_unique_id                          ...                               \n",
       "0000366f3b9a7992bf8c76cfdf3221e2  0.000000  ...  0.000000      0.0      0.0   \n",
       "0000b849f77a49e4a4ce2b2a4ca5be3f  0.000000  ...  0.000000      0.0      0.0   \n",
       "0000f46a3911fa3c0805444483337064  0.000000  ...  0.000000      0.0      0.0   \n",
       "0000f6ccb0745a6a4b88665a16c9f078  0.000000  ...  0.000000      0.0      0.0   \n",
       "0004aac84e0df4da2b147fca70cf8255  0.000000  ...  0.000000      0.0      0.0   \n",
       "...                                    ...  ...       ...      ...      ...   \n",
       "fffcf5a5ff07b0908bd4e2dbc735a684  0.233333  ...  0.000000      0.0      0.0   \n",
       "fffea47cd6d3cc0a88bd621562a9d061  0.000000  ...  0.225806      0.0      0.0   \n",
       "ffff371b4d645b6ecea244b27531430a  0.000000  ...  0.000000      0.0      0.0   \n",
       "ffff5962728ec6157033ef9805bacc48  0.000000  ...  0.000000      0.0      0.0   \n",
       "ffffd2657e2aad2907e67c3e9daecbeb  0.000000  ...  0.000000      0.0      0.0   \n",
       "\n",
       "month                             2018-04   2018-05  2018-06  2018-07  \\\n",
       "customer_unique_id                                                      \n",
       "0000366f3b9a7992bf8c76cfdf3221e2      0.0  0.225806      0.0      0.0   \n",
       "0000b849f77a49e4a4ce2b2a4ca5be3f      0.0  0.225806      0.0      0.0   \n",
       "0000f46a3911fa3c0805444483337064      0.0  0.000000      0.0      0.0   \n",
       "0000f6ccb0745a6a4b88665a16c9f078      0.0  0.000000      0.0      0.0   \n",
       "0004aac84e0df4da2b147fca70cf8255      0.0  0.000000      0.0      0.0   \n",
       "...                                   ...       ...      ...      ...   \n",
       "fffcf5a5ff07b0908bd4e2dbc735a684      0.0  0.000000      0.0      0.0   \n",
       "fffea47cd6d3cc0a88bd621562a9d061      0.0  0.000000      0.0      0.0   \n",
       "ffff371b4d645b6ecea244b27531430a      0.0  0.000000      0.0      0.0   \n",
       "ffff5962728ec6157033ef9805bacc48      0.0  0.225806      0.0      0.0   \n",
       "ffffd2657e2aad2907e67c3e9daecbeb      0.0  0.000000      0.0      0.0   \n",
       "\n",
       "month                             2018-08  2018-09  2018-10  \n",
       "customer_unique_id                                           \n",
       "0000366f3b9a7992bf8c76cfdf3221e2      0.0      0.0      0.0  \n",
       "0000b849f77a49e4a4ce2b2a4ca5be3f      0.0      0.0      0.0  \n",
       "0000f46a3911fa3c0805444483337064      0.0      0.0      0.0  \n",
       "0000f6ccb0745a6a4b88665a16c9f078      0.0      0.0      0.0  \n",
       "0004aac84e0df4da2b147fca70cf8255      0.0      0.0      0.0  \n",
       "...                                   ...      ...      ...  \n",
       "fffcf5a5ff07b0908bd4e2dbc735a684      0.0      0.0      0.0  \n",
       "fffea47cd6d3cc0a88bd621562a9d061      0.0      0.0      0.0  \n",
       "ffff371b4d645b6ecea244b27531430a      0.0      0.0      0.0  \n",
       "ffff5962728ec6157033ef9805bacc48      0.0      0.0      0.0  \n",
       "ffffd2657e2aad2907e67c3e9daecbeb      0.0      0.0      0.0  \n",
       "\n",
       "[93337 rows x 25 columns]"
      ]
     },
     "execution_count": 79,
     "metadata": {},
     "output_type": "execute_result"
    }
   ],
   "source": [
    "orders_per_week_mean = orders_per_week_count.pivot(index='customer_unique_id',\n",
    "                                                    columns='month',\n",
    "                                                    values='mean_weekly_orders').fillna(0)\n",
    "orders_per_week_mean"
   ]
  },
  {
   "cell_type": "markdown",
   "metadata": {},
   "source": [
    "Из таблицы делаем вывод, что активность пользователей крайне низка. "
   ]
  },
  {
   "cell_type": "markdown",
   "metadata": {},
   "source": [
    "\n",
    "\n"
   ]
  },
  {
   "cell_type": "markdown",
   "metadata": {},
   "source": [
    "## 5. Выполните когортный анализ пользователей. В период с января по декабрь выявите когорту с самым высоким retention на 3-й месяц."
   ]
  },
  {
   "cell_type": "markdown",
   "metadata": {},
   "source": [
    "***Когорта*** — это группа людей, которая совершила нужное действие в определенный промежуток времени.\n",
    "\n",
    "***Когортный анализ*** — это наблюдение за когортами. Выбираем одну или несколько метрик, измеряем их и делаем выводы.\n",
    "\n",
    "В нашем случае метрикой выступает ***retention***.\n",
    "\n",
    "***Retention*** — это метрика, отвечающая на вопрос, сколько людей вернулись в день Х (неделю Х, месяц Х) после первого входа в продукт. Измеряется в процентах, то есть показывает долю вернувшихся людей от изначально пришедших."
   ]
  },
  {
   "cell_type": "markdown",
   "metadata": {},
   "source": [
    "#### Что бы сформировать когорты берем не отфильтрованный датафрейм с информацией о пользователях и их заказах."
   ]
  },
  {
   "cell_type": "code",
   "execution_count": 80,
   "metadata": {},
   "outputs": [],
   "source": [
    "# определим месяц каждого заказа\n",
    "orders_and_customers['month_of_order'] = orders_and_customers['order_purchase_timestamp'].dt.to_period('M')"
   ]
  },
  {
   "cell_type": "code",
   "execution_count": 81,
   "metadata": {},
   "outputs": [
    {
     "data": {
      "text/html": [
       "<div>\n",
       "<style scoped>\n",
       "    .dataframe tbody tr th:only-of-type {\n",
       "        vertical-align: middle;\n",
       "    }\n",
       "\n",
       "    .dataframe tbody tr th {\n",
       "        vertical-align: top;\n",
       "    }\n",
       "\n",
       "    .dataframe thead th {\n",
       "        text-align: right;\n",
       "    }\n",
       "</style>\n",
       "<table border=\"1\" class=\"dataframe\">\n",
       "  <thead>\n",
       "    <tr style=\"text-align: right;\">\n",
       "      <th></th>\n",
       "      <th>order_id</th>\n",
       "      <th>customer_id</th>\n",
       "      <th>order_status</th>\n",
       "      <th>order_purchase_timestamp</th>\n",
       "      <th>order_approved_at</th>\n",
       "      <th>order_delivered_carrier_date</th>\n",
       "      <th>order_delivered_customer_date</th>\n",
       "      <th>order_estimated_delivery_date</th>\n",
       "      <th>customer_unique_id</th>\n",
       "      <th>month_of_order</th>\n",
       "      <th>cohort</th>\n",
       "    </tr>\n",
       "  </thead>\n",
       "  <tbody>\n",
       "    <tr>\n",
       "      <th>0</th>\n",
       "      <td>e481f51cbdc54678b7cc49136f2d6af7</td>\n",
       "      <td>9ef432eb6251297304e76186b10a928d</td>\n",
       "      <td>delivered</td>\n",
       "      <td>2017-10-02 10:56:33</td>\n",
       "      <td>2017-10-02 11:07:15</td>\n",
       "      <td>2017-10-04 19:55:00</td>\n",
       "      <td>2017-10-10 21:25:13</td>\n",
       "      <td>2017-10-18</td>\n",
       "      <td>7c396fd4830fd04220f754e42b4e5bff</td>\n",
       "      <td>2017-10</td>\n",
       "      <td>2017-09</td>\n",
       "    </tr>\n",
       "    <tr>\n",
       "      <th>1</th>\n",
       "      <td>53cdb2fc8bc7dce0b6741e2150273451</td>\n",
       "      <td>b0830fb4747a6c6d20dea0b8c802d7ef</td>\n",
       "      <td>delivered</td>\n",
       "      <td>2018-07-24 20:41:37</td>\n",
       "      <td>2018-07-26 03:24:27</td>\n",
       "      <td>2018-07-26 14:31:00</td>\n",
       "      <td>2018-08-07 15:27:45</td>\n",
       "      <td>2018-08-13</td>\n",
       "      <td>af07308b275d755c9edb36a90c618231</td>\n",
       "      <td>2018-07</td>\n",
       "      <td>2018-07</td>\n",
       "    </tr>\n",
       "    <tr>\n",
       "      <th>2</th>\n",
       "      <td>47770eb9100c2d0c44946d9cf07ec65d</td>\n",
       "      <td>41ce2a54c0b03bf3443c3d931a367089</td>\n",
       "      <td>delivered</td>\n",
       "      <td>2018-08-08 08:38:49</td>\n",
       "      <td>2018-08-08 08:55:23</td>\n",
       "      <td>2018-08-08 13:50:00</td>\n",
       "      <td>2018-08-17 18:06:29</td>\n",
       "      <td>2018-09-04</td>\n",
       "      <td>3a653a41f6f9fc3d2a113cf8398680e8</td>\n",
       "      <td>2018-08</td>\n",
       "      <td>2018-08</td>\n",
       "    </tr>\n",
       "    <tr>\n",
       "      <th>3</th>\n",
       "      <td>949d5b44dbf5de918fe9c16f97b45f8a</td>\n",
       "      <td>f88197465ea7920adcdbec7375364d82</td>\n",
       "      <td>delivered</td>\n",
       "      <td>2017-11-18 19:28:06</td>\n",
       "      <td>2017-11-18 19:45:59</td>\n",
       "      <td>2017-11-22 13:39:59</td>\n",
       "      <td>2017-12-02 00:28:42</td>\n",
       "      <td>2017-12-15</td>\n",
       "      <td>7c142cf63193a1473d2e66489a9ae977</td>\n",
       "      <td>2017-11</td>\n",
       "      <td>2017-11</td>\n",
       "    </tr>\n",
       "    <tr>\n",
       "      <th>4</th>\n",
       "      <td>ad21c59c0840e6cb83a9ceb5573f8159</td>\n",
       "      <td>8ab97904e6daea8866dbdbc4fb7aad2c</td>\n",
       "      <td>delivered</td>\n",
       "      <td>2018-02-13 21:18:39</td>\n",
       "      <td>2018-02-13 22:20:29</td>\n",
       "      <td>2018-02-14 19:46:34</td>\n",
       "      <td>2018-02-16 18:17:02</td>\n",
       "      <td>2018-02-26</td>\n",
       "      <td>72632f0f9dd73dfee390c9b22eb56dd6</td>\n",
       "      <td>2018-02</td>\n",
       "      <td>2018-02</td>\n",
       "    </tr>\n",
       "  </tbody>\n",
       "</table>\n",
       "</div>"
      ],
      "text/plain": [
       "                           order_id                       customer_id  \\\n",
       "0  e481f51cbdc54678b7cc49136f2d6af7  9ef432eb6251297304e76186b10a928d   \n",
       "1  53cdb2fc8bc7dce0b6741e2150273451  b0830fb4747a6c6d20dea0b8c802d7ef   \n",
       "2  47770eb9100c2d0c44946d9cf07ec65d  41ce2a54c0b03bf3443c3d931a367089   \n",
       "3  949d5b44dbf5de918fe9c16f97b45f8a  f88197465ea7920adcdbec7375364d82   \n",
       "4  ad21c59c0840e6cb83a9ceb5573f8159  8ab97904e6daea8866dbdbc4fb7aad2c   \n",
       "\n",
       "  order_status order_purchase_timestamp   order_approved_at  \\\n",
       "0    delivered      2017-10-02 10:56:33 2017-10-02 11:07:15   \n",
       "1    delivered      2018-07-24 20:41:37 2018-07-26 03:24:27   \n",
       "2    delivered      2018-08-08 08:38:49 2018-08-08 08:55:23   \n",
       "3    delivered      2017-11-18 19:28:06 2017-11-18 19:45:59   \n",
       "4    delivered      2018-02-13 21:18:39 2018-02-13 22:20:29   \n",
       "\n",
       "  order_delivered_carrier_date order_delivered_customer_date  \\\n",
       "0          2017-10-04 19:55:00           2017-10-10 21:25:13   \n",
       "1          2018-07-26 14:31:00           2018-08-07 15:27:45   \n",
       "2          2018-08-08 13:50:00           2018-08-17 18:06:29   \n",
       "3          2017-11-22 13:39:59           2017-12-02 00:28:42   \n",
       "4          2018-02-14 19:46:34           2018-02-16 18:17:02   \n",
       "\n",
       "  order_estimated_delivery_date                customer_unique_id  \\\n",
       "0                    2017-10-18  7c396fd4830fd04220f754e42b4e5bff   \n",
       "1                    2018-08-13  af07308b275d755c9edb36a90c618231   \n",
       "2                    2018-09-04  3a653a41f6f9fc3d2a113cf8398680e8   \n",
       "3                    2017-12-15  7c142cf63193a1473d2e66489a9ae977   \n",
       "4                    2018-02-26  72632f0f9dd73dfee390c9b22eb56dd6   \n",
       "\n",
       "  month_of_order   cohort  \n",
       "0        2017-10  2017-09  \n",
       "1        2018-07  2018-07  \n",
       "2        2018-08  2018-08  \n",
       "3        2017-11  2017-11  \n",
       "4        2018-02  2018-02  "
      ]
     },
     "execution_count": 81,
     "metadata": {},
     "output_type": "execute_result"
    }
   ],
   "source": [
    "# Сформируем когорты по первому месяцу заказа для каждого пользователя \n",
    "orders_and_customers['cohort'] = orders_and_customers.groupby('customer_unique_id')['order_purchase_timestamp'] \\\n",
    "                                                     .transform('min').dt.to_period('M')\n",
    "orders_and_customers.head()"
   ]
  },
  {
   "cell_type": "code",
   "execution_count": 82,
   "metadata": {},
   "outputs": [
    {
     "data": {
      "text/plain": [
       "<PeriodArray>\n",
       "['2017-09', '2018-07', '2018-08', '2017-11', '2018-02', '2017-07', '2017-04',\n",
       " '2017-05', '2017-01', '2018-06', '2018-03', '2016-10', '2017-12', '2017-10',\n",
       " '2018-01', '2018-05', '2017-08', '2018-04', '2017-03', '2017-06', '2017-02',\n",
       " '2016-09', '2018-09', '2016-12', '2018-10']\n",
       "Length: 25, dtype: period[M]"
      ]
     },
     "execution_count": 82,
     "metadata": {},
     "output_type": "execute_result"
    }
   ],
   "source": [
    "# Имеющиеся когорты\n",
    "orders_and_customers.cohort.unique()"
   ]
  },
  {
   "cell_type": "markdown",
   "metadata": {},
   "source": [
    "В задании нас просят выявить когорту с января по декабрь. По имеющимся данным видим, что этому запросу удовлетворяет 2017 год (2018 и 2016 - неполные). Отфильтруем нужные когорты."
   ]
  },
  {
   "cell_type": "code",
   "execution_count": 83,
   "metadata": {},
   "outputs": [
    {
     "data": {
      "text/plain": [
       "<PeriodArray>\n",
       "['2017-09', '2017-11', '2017-07', '2017-04', '2017-05', '2017-01', '2017-12',\n",
       " '2017-10', '2017-08', '2017-03', '2017-06', '2017-02']\n",
       "Length: 12, dtype: period[M]"
      ]
     },
     "execution_count": 83,
     "metadata": {},
     "output_type": "execute_result"
    }
   ],
   "source": [
    "orders_and_customers = orders_and_customers.loc[(orders_and_customers.cohort >='2017-01') & (orders_and_customers.cohort <= '2017-12')]\n",
    "orders_and_customers.cohort.unique()"
   ]
  },
  {
   "cell_type": "code",
   "execution_count": 84,
   "metadata": {},
   "outputs": [
    {
     "data": {
      "text/html": [
       "<div>\n",
       "<style scoped>\n",
       "    .dataframe tbody tr th:only-of-type {\n",
       "        vertical-align: middle;\n",
       "    }\n",
       "\n",
       "    .dataframe tbody tr th {\n",
       "        vertical-align: top;\n",
       "    }\n",
       "\n",
       "    .dataframe thead th {\n",
       "        text-align: right;\n",
       "    }\n",
       "</style>\n",
       "<table border=\"1\" class=\"dataframe\">\n",
       "  <thead>\n",
       "    <tr style=\"text-align: right;\">\n",
       "      <th></th>\n",
       "      <th>order_id</th>\n",
       "      <th>customer_id</th>\n",
       "      <th>order_status</th>\n",
       "      <th>order_purchase_timestamp</th>\n",
       "      <th>order_approved_at</th>\n",
       "      <th>order_delivered_carrier_date</th>\n",
       "      <th>order_delivered_customer_date</th>\n",
       "      <th>order_estimated_delivery_date</th>\n",
       "      <th>customer_unique_id</th>\n",
       "      <th>month_of_order</th>\n",
       "      <th>cohort</th>\n",
       "    </tr>\n",
       "  </thead>\n",
       "  <tbody>\n",
       "    <tr>\n",
       "      <th>0</th>\n",
       "      <td>e481f51cbdc54678b7cc49136f2d6af7</td>\n",
       "      <td>9ef432eb6251297304e76186b10a928d</td>\n",
       "      <td>delivered</td>\n",
       "      <td>2017-10-02 10:56:33</td>\n",
       "      <td>2017-10-02 11:07:15</td>\n",
       "      <td>2017-10-04 19:55:00</td>\n",
       "      <td>2017-10-10 21:25:13</td>\n",
       "      <td>2017-10-18</td>\n",
       "      <td>7c396fd4830fd04220f754e42b4e5bff</td>\n",
       "      <td>2017-10</td>\n",
       "      <td>2017-09</td>\n",
       "    </tr>\n",
       "    <tr>\n",
       "      <th>3</th>\n",
       "      <td>949d5b44dbf5de918fe9c16f97b45f8a</td>\n",
       "      <td>f88197465ea7920adcdbec7375364d82</td>\n",
       "      <td>delivered</td>\n",
       "      <td>2017-11-18 19:28:06</td>\n",
       "      <td>2017-11-18 19:45:59</td>\n",
       "      <td>2017-11-22 13:39:59</td>\n",
       "      <td>2017-12-02 00:28:42</td>\n",
       "      <td>2017-12-15</td>\n",
       "      <td>7c142cf63193a1473d2e66489a9ae977</td>\n",
       "      <td>2017-11</td>\n",
       "      <td>2017-11</td>\n",
       "    </tr>\n",
       "    <tr>\n",
       "      <th>5</th>\n",
       "      <td>a4591c265e18cb1dcee52889e2d8acc3</td>\n",
       "      <td>503740e9ca751ccdda7ba28e9ab8f608</td>\n",
       "      <td>delivered</td>\n",
       "      <td>2017-07-09 21:57:05</td>\n",
       "      <td>2017-07-09 22:10:13</td>\n",
       "      <td>2017-07-11 14:58:04</td>\n",
       "      <td>2017-07-26 10:57:55</td>\n",
       "      <td>2017-08-01</td>\n",
       "      <td>80bb27c7c16e8f973207a5086ab329e2</td>\n",
       "      <td>2017-07</td>\n",
       "      <td>2017-07</td>\n",
       "    </tr>\n",
       "  </tbody>\n",
       "</table>\n",
       "</div>"
      ],
      "text/plain": [
       "                           order_id                       customer_id  \\\n",
       "0  e481f51cbdc54678b7cc49136f2d6af7  9ef432eb6251297304e76186b10a928d   \n",
       "3  949d5b44dbf5de918fe9c16f97b45f8a  f88197465ea7920adcdbec7375364d82   \n",
       "5  a4591c265e18cb1dcee52889e2d8acc3  503740e9ca751ccdda7ba28e9ab8f608   \n",
       "\n",
       "  order_status order_purchase_timestamp   order_approved_at  \\\n",
       "0    delivered      2017-10-02 10:56:33 2017-10-02 11:07:15   \n",
       "3    delivered      2017-11-18 19:28:06 2017-11-18 19:45:59   \n",
       "5    delivered      2017-07-09 21:57:05 2017-07-09 22:10:13   \n",
       "\n",
       "  order_delivered_carrier_date order_delivered_customer_date  \\\n",
       "0          2017-10-04 19:55:00           2017-10-10 21:25:13   \n",
       "3          2017-11-22 13:39:59           2017-12-02 00:28:42   \n",
       "5          2017-07-11 14:58:04           2017-07-26 10:57:55   \n",
       "\n",
       "  order_estimated_delivery_date                customer_unique_id  \\\n",
       "0                    2017-10-18  7c396fd4830fd04220f754e42b4e5bff   \n",
       "3                    2017-12-15  7c142cf63193a1473d2e66489a9ae977   \n",
       "5                    2017-08-01  80bb27c7c16e8f973207a5086ab329e2   \n",
       "\n",
       "  month_of_order   cohort  \n",
       "0        2017-10  2017-09  \n",
       "3        2017-11  2017-11  \n",
       "5        2017-07  2017-07  "
      ]
     },
     "execution_count": 84,
     "metadata": {},
     "output_type": "execute_result"
    }
   ],
   "source": [
    "orders_and_customers.head(3)"
   ]
  },
  {
   "cell_type": "code",
   "execution_count": 85,
   "metadata": {},
   "outputs": [],
   "source": [
    "# Считаем количество уникальных пользователей, которые создали заказы в каждый из месяцев\n",
    "cohort_df = orders_and_customers.groupby(['cohort', 'month_of_order'],  as_index = False) \\\n",
    "                                .agg({'customer_unique_id' : 'nunique'}) \\\n",
    "                                .rename(columns={'customer_unique_id' : 'customers_by_month'})"
   ]
  },
  {
   "cell_type": "code",
   "execution_count": 86,
   "metadata": {},
   "outputs": [],
   "source": [
    "# Добавляем столбец с количеством месяцев от первой покупки\n",
    "cohort_df['month_from_start'] = (cohort_df.month_of_order - cohort_df.cohort).apply(attrgetter('n'))"
   ]
  },
  {
   "cell_type": "code",
   "execution_count": 87,
   "metadata": {},
   "outputs": [
    {
     "data": {
      "text/html": [
       "<div>\n",
       "<style scoped>\n",
       "    .dataframe tbody tr th:only-of-type {\n",
       "        vertical-align: middle;\n",
       "    }\n",
       "\n",
       "    .dataframe tbody tr th {\n",
       "        vertical-align: top;\n",
       "    }\n",
       "\n",
       "    .dataframe thead th {\n",
       "        text-align: right;\n",
       "    }\n",
       "</style>\n",
       "<table border=\"1\" class=\"dataframe\">\n",
       "  <thead>\n",
       "    <tr style=\"text-align: right;\">\n",
       "      <th>month_from_start</th>\n",
       "      <th>0</th>\n",
       "      <th>1</th>\n",
       "      <th>2</th>\n",
       "      <th>3</th>\n",
       "      <th>4</th>\n",
       "      <th>5</th>\n",
       "      <th>6</th>\n",
       "      <th>7</th>\n",
       "      <th>8</th>\n",
       "      <th>9</th>\n",
       "      <th>10</th>\n",
       "      <th>11</th>\n",
       "      <th>12</th>\n",
       "      <th>13</th>\n",
       "      <th>14</th>\n",
       "      <th>15</th>\n",
       "      <th>16</th>\n",
       "      <th>17</th>\n",
       "      <th>19</th>\n",
       "    </tr>\n",
       "    <tr>\n",
       "      <th>cohort</th>\n",
       "      <th></th>\n",
       "      <th></th>\n",
       "      <th></th>\n",
       "      <th></th>\n",
       "      <th></th>\n",
       "      <th></th>\n",
       "      <th></th>\n",
       "      <th></th>\n",
       "      <th></th>\n",
       "      <th></th>\n",
       "      <th></th>\n",
       "      <th></th>\n",
       "      <th></th>\n",
       "      <th></th>\n",
       "      <th></th>\n",
       "      <th></th>\n",
       "      <th></th>\n",
       "      <th></th>\n",
       "      <th></th>\n",
       "    </tr>\n",
       "  </thead>\n",
       "  <tbody>\n",
       "    <tr>\n",
       "      <th>2017-01</th>\n",
       "      <td>764.0</td>\n",
       "      <td>3.0</td>\n",
       "      <td>2.0</td>\n",
       "      <td>1.0</td>\n",
       "      <td>3.0</td>\n",
       "      <td>1.0</td>\n",
       "      <td>4.0</td>\n",
       "      <td>1.0</td>\n",
       "      <td>1.0</td>\n",
       "      <td>0.0</td>\n",
       "      <td>3.0</td>\n",
       "      <td>1.0</td>\n",
       "      <td>6.0</td>\n",
       "      <td>3.0</td>\n",
       "      <td>1.0</td>\n",
       "      <td>1.0</td>\n",
       "      <td>2.0</td>\n",
       "      <td>3.0</td>\n",
       "      <td>1.0</td>\n",
       "    </tr>\n",
       "    <tr>\n",
       "      <th>2017-02</th>\n",
       "      <td>1752.0</td>\n",
       "      <td>4.0</td>\n",
       "      <td>5.0</td>\n",
       "      <td>2.0</td>\n",
       "      <td>7.0</td>\n",
       "      <td>2.0</td>\n",
       "      <td>4.0</td>\n",
       "      <td>3.0</td>\n",
       "      <td>3.0</td>\n",
       "      <td>4.0</td>\n",
       "      <td>2.0</td>\n",
       "      <td>5.0</td>\n",
       "      <td>3.0</td>\n",
       "      <td>3.0</td>\n",
       "      <td>2.0</td>\n",
       "      <td>1.0</td>\n",
       "      <td>1.0</td>\n",
       "      <td>4.0</td>\n",
       "      <td>0.0</td>\n",
       "    </tr>\n",
       "    <tr>\n",
       "      <th>2017-03</th>\n",
       "      <td>2636.0</td>\n",
       "      <td>13.0</td>\n",
       "      <td>10.0</td>\n",
       "      <td>10.0</td>\n",
       "      <td>9.0</td>\n",
       "      <td>4.0</td>\n",
       "      <td>4.0</td>\n",
       "      <td>8.0</td>\n",
       "      <td>9.0</td>\n",
       "      <td>2.0</td>\n",
       "      <td>10.0</td>\n",
       "      <td>4.0</td>\n",
       "      <td>6.0</td>\n",
       "      <td>3.0</td>\n",
       "      <td>4.0</td>\n",
       "      <td>6.0</td>\n",
       "      <td>2.0</td>\n",
       "      <td>4.0</td>\n",
       "      <td>0.0</td>\n",
       "    </tr>\n",
       "    <tr>\n",
       "      <th>2017-04</th>\n",
       "      <td>2352.0</td>\n",
       "      <td>14.0</td>\n",
       "      <td>5.0</td>\n",
       "      <td>4.0</td>\n",
       "      <td>8.0</td>\n",
       "      <td>6.0</td>\n",
       "      <td>8.0</td>\n",
       "      <td>7.0</td>\n",
       "      <td>7.0</td>\n",
       "      <td>4.0</td>\n",
       "      <td>6.0</td>\n",
       "      <td>2.0</td>\n",
       "      <td>2.0</td>\n",
       "      <td>1.0</td>\n",
       "      <td>2.0</td>\n",
       "      <td>2.0</td>\n",
       "      <td>5.0</td>\n",
       "      <td>0.0</td>\n",
       "      <td>0.0</td>\n",
       "    </tr>\n",
       "    <tr>\n",
       "      <th>2017-05</th>\n",
       "      <td>3596.0</td>\n",
       "      <td>18.0</td>\n",
       "      <td>18.0</td>\n",
       "      <td>14.0</td>\n",
       "      <td>11.0</td>\n",
       "      <td>12.0</td>\n",
       "      <td>15.0</td>\n",
       "      <td>6.0</td>\n",
       "      <td>9.0</td>\n",
       "      <td>11.0</td>\n",
       "      <td>9.0</td>\n",
       "      <td>12.0</td>\n",
       "      <td>9.0</td>\n",
       "      <td>1.0</td>\n",
       "      <td>7.0</td>\n",
       "      <td>9.0</td>\n",
       "      <td>0.0</td>\n",
       "      <td>0.0</td>\n",
       "      <td>0.0</td>\n",
       "    </tr>\n",
       "    <tr>\n",
       "      <th>2017-06</th>\n",
       "      <td>3139.0</td>\n",
       "      <td>15.0</td>\n",
       "      <td>11.0</td>\n",
       "      <td>13.0</td>\n",
       "      <td>8.0</td>\n",
       "      <td>12.0</td>\n",
       "      <td>12.0</td>\n",
       "      <td>7.0</td>\n",
       "      <td>4.0</td>\n",
       "      <td>7.0</td>\n",
       "      <td>10.0</td>\n",
       "      <td>11.0</td>\n",
       "      <td>5.0</td>\n",
       "      <td>4.0</td>\n",
       "      <td>6.0</td>\n",
       "      <td>0.0</td>\n",
       "      <td>0.0</td>\n",
       "      <td>0.0</td>\n",
       "      <td>0.0</td>\n",
       "    </tr>\n",
       "    <tr>\n",
       "      <th>2017-07</th>\n",
       "      <td>3894.0</td>\n",
       "      <td>20.0</td>\n",
       "      <td>14.0</td>\n",
       "      <td>10.0</td>\n",
       "      <td>11.0</td>\n",
       "      <td>8.0</td>\n",
       "      <td>12.0</td>\n",
       "      <td>4.0</td>\n",
       "      <td>7.0</td>\n",
       "      <td>10.0</td>\n",
       "      <td>9.0</td>\n",
       "      <td>12.0</td>\n",
       "      <td>5.0</td>\n",
       "      <td>10.0</td>\n",
       "      <td>0.0</td>\n",
       "      <td>0.0</td>\n",
       "      <td>0.0</td>\n",
       "      <td>0.0</td>\n",
       "      <td>0.0</td>\n",
       "    </tr>\n",
       "    <tr>\n",
       "      <th>2017-08</th>\n",
       "      <td>4184.0</td>\n",
       "      <td>29.0</td>\n",
       "      <td>14.0</td>\n",
       "      <td>11.0</td>\n",
       "      <td>15.0</td>\n",
       "      <td>22.0</td>\n",
       "      <td>12.0</td>\n",
       "      <td>11.0</td>\n",
       "      <td>6.0</td>\n",
       "      <td>6.0</td>\n",
       "      <td>10.0</td>\n",
       "      <td>8.0</td>\n",
       "      <td>4.0</td>\n",
       "      <td>0.0</td>\n",
       "      <td>0.0</td>\n",
       "      <td>0.0</td>\n",
       "      <td>0.0</td>\n",
       "      <td>0.0</td>\n",
       "      <td>0.0</td>\n",
       "    </tr>\n",
       "    <tr>\n",
       "      <th>2017-09</th>\n",
       "      <td>4130.0</td>\n",
       "      <td>28.0</td>\n",
       "      <td>22.0</td>\n",
       "      <td>12.0</td>\n",
       "      <td>19.0</td>\n",
       "      <td>9.0</td>\n",
       "      <td>9.0</td>\n",
       "      <td>10.0</td>\n",
       "      <td>12.0</td>\n",
       "      <td>7.0</td>\n",
       "      <td>11.0</td>\n",
       "      <td>3.0</td>\n",
       "      <td>0.0</td>\n",
       "      <td>0.0</td>\n",
       "      <td>0.0</td>\n",
       "      <td>0.0</td>\n",
       "      <td>0.0</td>\n",
       "      <td>0.0</td>\n",
       "      <td>0.0</td>\n",
       "    </tr>\n",
       "    <tr>\n",
       "      <th>2017-10</th>\n",
       "      <td>4470.0</td>\n",
       "      <td>31.0</td>\n",
       "      <td>11.0</td>\n",
       "      <td>4.0</td>\n",
       "      <td>10.0</td>\n",
       "      <td>9.0</td>\n",
       "      <td>10.0</td>\n",
       "      <td>16.0</td>\n",
       "      <td>12.0</td>\n",
       "      <td>9.0</td>\n",
       "      <td>9.0</td>\n",
       "      <td>0.0</td>\n",
       "      <td>0.0</td>\n",
       "      <td>0.0</td>\n",
       "      <td>0.0</td>\n",
       "      <td>0.0</td>\n",
       "      <td>0.0</td>\n",
       "      <td>0.0</td>\n",
       "      <td>0.0</td>\n",
       "    </tr>\n",
       "    <tr>\n",
       "      <th>2017-11</th>\n",
       "      <td>7304.0</td>\n",
       "      <td>40.0</td>\n",
       "      <td>28.0</td>\n",
       "      <td>13.0</td>\n",
       "      <td>14.0</td>\n",
       "      <td>13.0</td>\n",
       "      <td>8.0</td>\n",
       "      <td>14.0</td>\n",
       "      <td>10.0</td>\n",
       "      <td>4.0</td>\n",
       "      <td>0.0</td>\n",
       "      <td>0.0</td>\n",
       "      <td>0.0</td>\n",
       "      <td>0.0</td>\n",
       "      <td>0.0</td>\n",
       "      <td>0.0</td>\n",
       "      <td>0.0</td>\n",
       "      <td>0.0</td>\n",
       "      <td>0.0</td>\n",
       "    </tr>\n",
       "    <tr>\n",
       "      <th>2017-12</th>\n",
       "      <td>5487.0</td>\n",
       "      <td>14.0</td>\n",
       "      <td>15.0</td>\n",
       "      <td>19.0</td>\n",
       "      <td>15.0</td>\n",
       "      <td>11.0</td>\n",
       "      <td>9.0</td>\n",
       "      <td>3.0</td>\n",
       "      <td>12.0</td>\n",
       "      <td>0.0</td>\n",
       "      <td>0.0</td>\n",
       "      <td>0.0</td>\n",
       "      <td>0.0</td>\n",
       "      <td>0.0</td>\n",
       "      <td>0.0</td>\n",
       "      <td>0.0</td>\n",
       "      <td>0.0</td>\n",
       "      <td>0.0</td>\n",
       "      <td>0.0</td>\n",
       "    </tr>\n",
       "  </tbody>\n",
       "</table>\n",
       "</div>"
      ],
      "text/plain": [
       "month_from_start      0     1     2     3     4     5     6     7     8   \\\n",
       "cohort                                                                     \n",
       "2017-01            764.0   3.0   2.0   1.0   3.0   1.0   4.0   1.0   1.0   \n",
       "2017-02           1752.0   4.0   5.0   2.0   7.0   2.0   4.0   3.0   3.0   \n",
       "2017-03           2636.0  13.0  10.0  10.0   9.0   4.0   4.0   8.0   9.0   \n",
       "2017-04           2352.0  14.0   5.0   4.0   8.0   6.0   8.0   7.0   7.0   \n",
       "2017-05           3596.0  18.0  18.0  14.0  11.0  12.0  15.0   6.0   9.0   \n",
       "2017-06           3139.0  15.0  11.0  13.0   8.0  12.0  12.0   7.0   4.0   \n",
       "2017-07           3894.0  20.0  14.0  10.0  11.0   8.0  12.0   4.0   7.0   \n",
       "2017-08           4184.0  29.0  14.0  11.0  15.0  22.0  12.0  11.0   6.0   \n",
       "2017-09           4130.0  28.0  22.0  12.0  19.0   9.0   9.0  10.0  12.0   \n",
       "2017-10           4470.0  31.0  11.0   4.0  10.0   9.0  10.0  16.0  12.0   \n",
       "2017-11           7304.0  40.0  28.0  13.0  14.0  13.0   8.0  14.0  10.0   \n",
       "2017-12           5487.0  14.0  15.0  19.0  15.0  11.0   9.0   3.0  12.0   \n",
       "\n",
       "month_from_start    9     10    11   12    13   14   15   16   17   19  \n",
       "cohort                                                                  \n",
       "2017-01            0.0   3.0   1.0  6.0   3.0  1.0  1.0  2.0  3.0  1.0  \n",
       "2017-02            4.0   2.0   5.0  3.0   3.0  2.0  1.0  1.0  4.0  0.0  \n",
       "2017-03            2.0  10.0   4.0  6.0   3.0  4.0  6.0  2.0  4.0  0.0  \n",
       "2017-04            4.0   6.0   2.0  2.0   1.0  2.0  2.0  5.0  0.0  0.0  \n",
       "2017-05           11.0   9.0  12.0  9.0   1.0  7.0  9.0  0.0  0.0  0.0  \n",
       "2017-06            7.0  10.0  11.0  5.0   4.0  6.0  0.0  0.0  0.0  0.0  \n",
       "2017-07           10.0   9.0  12.0  5.0  10.0  0.0  0.0  0.0  0.0  0.0  \n",
       "2017-08            6.0  10.0   8.0  4.0   0.0  0.0  0.0  0.0  0.0  0.0  \n",
       "2017-09            7.0  11.0   3.0  0.0   0.0  0.0  0.0  0.0  0.0  0.0  \n",
       "2017-10            9.0   9.0   0.0  0.0   0.0  0.0  0.0  0.0  0.0  0.0  \n",
       "2017-11            4.0   0.0   0.0  0.0   0.0  0.0  0.0  0.0  0.0  0.0  \n",
       "2017-12            0.0   0.0   0.0  0.0   0.0  0.0  0.0  0.0  0.0  0.0  "
      ]
     },
     "execution_count": 87,
     "metadata": {},
     "output_type": "execute_result"
    }
   ],
   "source": [
    "# Меняем структуру таблицы, где столбцами будут месяцы от первого заказа, а значениями кол-во пользователей. \n",
    "cohort_by_months = cohort_df.pivot_table(index='cohort', columns='month_from_start', values='customers_by_month').fillna(0)\n",
    "cohort_by_months"
   ]
  },
  {
   "cell_type": "code",
   "execution_count": 88,
   "metadata": {},
   "outputs": [],
   "source": [
    "# Посчитаем Retention Rate\n",
    "retention = (cohort_by_months.divide(cohort_by_months[0], axis=0))"
   ]
  },
  {
   "cell_type": "code",
   "execution_count": 89,
   "metadata": {},
   "outputs": [
    {
     "data": {
      "text/plain": [
       "Period('2017-06', 'M')"
      ]
     },
     "execution_count": 89,
     "metadata": {},
     "output_type": "execute_result"
    }
   ],
   "source": [
    "# Находим когорту с самым высоким retention для 3 месяца.\n",
    "retention[3].idxmax()"
   ]
  },
  {
   "cell_type": "markdown",
   "metadata": {},
   "source": [
    "### Ответ: \n",
    "В период с января по декабрь когорта с самым высоким retention на 3-й месяц - ***2017-06***"
   ]
  },
  {
   "cell_type": "markdown",
   "metadata": {},
   "source": [
    "### Визуализируем результат:"
   ]
  },
  {
   "cell_type": "code",
   "execution_count": 90,
   "metadata": {},
   "outputs": [
    {
     "data": {
      "text/html": [
       "<style  type=\"text/css\" >\n",
       "#T_c940f6f2_573c_11ef_bdbb_96000040dfb6row0_col0,#T_c940f6f2_573c_11ef_bdbb_96000040dfb6row0_col9,#T_c940f6f2_573c_11ef_bdbb_96000040dfb6row1_col0,#T_c940f6f2_573c_11ef_bdbb_96000040dfb6row1_col1,#T_c940f6f2_573c_11ef_bdbb_96000040dfb6row1_col5,#T_c940f6f2_573c_11ef_bdbb_96000040dfb6row1_col18,#T_c940f6f2_573c_11ef_bdbb_96000040dfb6row2_col0,#T_c940f6f2_573c_11ef_bdbb_96000040dfb6row2_col18,#T_c940f6f2_573c_11ef_bdbb_96000040dfb6row3_col0,#T_c940f6f2_573c_11ef_bdbb_96000040dfb6row3_col2,#T_c940f6f2_573c_11ef_bdbb_96000040dfb6row3_col17,#T_c940f6f2_573c_11ef_bdbb_96000040dfb6row3_col18,#T_c940f6f2_573c_11ef_bdbb_96000040dfb6row4_col0,#T_c940f6f2_573c_11ef_bdbb_96000040dfb6row4_col16,#T_c940f6f2_573c_11ef_bdbb_96000040dfb6row4_col17,#T_c940f6f2_573c_11ef_bdbb_96000040dfb6row4_col18,#T_c940f6f2_573c_11ef_bdbb_96000040dfb6row5_col0,#T_c940f6f2_573c_11ef_bdbb_96000040dfb6row5_col8,#T_c940f6f2_573c_11ef_bdbb_96000040dfb6row5_col15,#T_c940f6f2_573c_11ef_bdbb_96000040dfb6row5_col16,#T_c940f6f2_573c_11ef_bdbb_96000040dfb6row5_col17,#T_c940f6f2_573c_11ef_bdbb_96000040dfb6row5_col18,#T_c940f6f2_573c_11ef_bdbb_96000040dfb6row6_col0,#T_c940f6f2_573c_11ef_bdbb_96000040dfb6row6_col14,#T_c940f6f2_573c_11ef_bdbb_96000040dfb6row6_col15,#T_c940f6f2_573c_11ef_bdbb_96000040dfb6row6_col16,#T_c940f6f2_573c_11ef_bdbb_96000040dfb6row6_col17,#T_c940f6f2_573c_11ef_bdbb_96000040dfb6row6_col18,#T_c940f6f2_573c_11ef_bdbb_96000040dfb6row7_col0,#T_c940f6f2_573c_11ef_bdbb_96000040dfb6row7_col13,#T_c940f6f2_573c_11ef_bdbb_96000040dfb6row7_col14,#T_c940f6f2_573c_11ef_bdbb_96000040dfb6row7_col15,#T_c940f6f2_573c_11ef_bdbb_96000040dfb6row7_col16,#T_c940f6f2_573c_11ef_bdbb_96000040dfb6row7_col17,#T_c940f6f2_573c_11ef_bdbb_96000040dfb6row7_col18,#T_c940f6f2_573c_11ef_bdbb_96000040dfb6row8_col0,#T_c940f6f2_573c_11ef_bdbb_96000040dfb6row8_col12,#T_c940f6f2_573c_11ef_bdbb_96000040dfb6row8_col13,#T_c940f6f2_573c_11ef_bdbb_96000040dfb6row8_col14,#T_c940f6f2_573c_11ef_bdbb_96000040dfb6row8_col15,#T_c940f6f2_573c_11ef_bdbb_96000040dfb6row8_col16,#T_c940f6f2_573c_11ef_bdbb_96000040dfb6row8_col17,#T_c940f6f2_573c_11ef_bdbb_96000040dfb6row8_col18,#T_c940f6f2_573c_11ef_bdbb_96000040dfb6row9_col0,#T_c940f6f2_573c_11ef_bdbb_96000040dfb6row9_col3,#T_c940f6f2_573c_11ef_bdbb_96000040dfb6row9_col11,#T_c940f6f2_573c_11ef_bdbb_96000040dfb6row9_col12,#T_c940f6f2_573c_11ef_bdbb_96000040dfb6row9_col13,#T_c940f6f2_573c_11ef_bdbb_96000040dfb6row9_col14,#T_c940f6f2_573c_11ef_bdbb_96000040dfb6row9_col15,#T_c940f6f2_573c_11ef_bdbb_96000040dfb6row9_col16,#T_c940f6f2_573c_11ef_bdbb_96000040dfb6row9_col17,#T_c940f6f2_573c_11ef_bdbb_96000040dfb6row9_col18,#T_c940f6f2_573c_11ef_bdbb_96000040dfb6row10_col0,#T_c940f6f2_573c_11ef_bdbb_96000040dfb6row10_col4,#T_c940f6f2_573c_11ef_bdbb_96000040dfb6row10_col6,#T_c940f6f2_573c_11ef_bdbb_96000040dfb6row10_col10,#T_c940f6f2_573c_11ef_bdbb_96000040dfb6row10_col11,#T_c940f6f2_573c_11ef_bdbb_96000040dfb6row10_col12,#T_c940f6f2_573c_11ef_bdbb_96000040dfb6row10_col13,#T_c940f6f2_573c_11ef_bdbb_96000040dfb6row10_col14,#T_c940f6f2_573c_11ef_bdbb_96000040dfb6row10_col15,#T_c940f6f2_573c_11ef_bdbb_96000040dfb6row10_col16,#T_c940f6f2_573c_11ef_bdbb_96000040dfb6row10_col17,#T_c940f6f2_573c_11ef_bdbb_96000040dfb6row10_col18,#T_c940f6f2_573c_11ef_bdbb_96000040dfb6row11_col0,#T_c940f6f2_573c_11ef_bdbb_96000040dfb6row11_col7,#T_c940f6f2_573c_11ef_bdbb_96000040dfb6row11_col9,#T_c940f6f2_573c_11ef_bdbb_96000040dfb6row11_col10,#T_c940f6f2_573c_11ef_bdbb_96000040dfb6row11_col11,#T_c940f6f2_573c_11ef_bdbb_96000040dfb6row11_col12,#T_c940f6f2_573c_11ef_bdbb_96000040dfb6row11_col13,#T_c940f6f2_573c_11ef_bdbb_96000040dfb6row11_col14,#T_c940f6f2_573c_11ef_bdbb_96000040dfb6row11_col15,#T_c940f6f2_573c_11ef_bdbb_96000040dfb6row11_col16,#T_c940f6f2_573c_11ef_bdbb_96000040dfb6row11_col17,#T_c940f6f2_573c_11ef_bdbb_96000040dfb6row11_col18{\n",
       "            background-color:  #ffffcc;\n",
       "            color:  #000000;\n",
       "        }#T_c940f6f2_573c_11ef_bdbb_96000040dfb6row0_col1{\n",
       "            background-color:  #feb953;\n",
       "            color:  #000000;\n",
       "        }#T_c940f6f2_573c_11ef_bdbb_96000040dfb6row0_col2,#T_c940f6f2_573c_11ef_bdbb_96000040dfb6row10_col5{\n",
       "            background-color:  #ffe997;\n",
       "            color:  #000000;\n",
       "        }#T_c940f6f2_573c_11ef_bdbb_96000040dfb6row0_col3{\n",
       "            background-color:  #ffeda0;\n",
       "            color:  #000000;\n",
       "        }#T_c940f6f2_573c_11ef_bdbb_96000040dfb6row0_col4,#T_c940f6f2_573c_11ef_bdbb_96000040dfb6row1_col9{\n",
       "            background-color:  #e31a1c;\n",
       "            color:  #f1f1f1;\n",
       "        }#T_c940f6f2_573c_11ef_bdbb_96000040dfb6row0_col5{\n",
       "            background-color:  #fff9be;\n",
       "            color:  #000000;\n",
       "        }#T_c940f6f2_573c_11ef_bdbb_96000040dfb6row0_col6,#T_c940f6f2_573c_11ef_bdbb_96000040dfb6row0_col10,#T_c940f6f2_573c_11ef_bdbb_96000040dfb6row0_col12,#T_c940f6f2_573c_11ef_bdbb_96000040dfb6row0_col13,#T_c940f6f2_573c_11ef_bdbb_96000040dfb6row0_col16,#T_c940f6f2_573c_11ef_bdbb_96000040dfb6row0_col17,#T_c940f6f2_573c_11ef_bdbb_96000040dfb6row0_col18,#T_c940f6f2_573c_11ef_bdbb_96000040dfb6row2_col8,#T_c940f6f2_573c_11ef_bdbb_96000040dfb6row4_col9,#T_c940f6f2_573c_11ef_bdbb_96000040dfb6row4_col14,#T_c940f6f2_573c_11ef_bdbb_96000040dfb6row4_col15,#T_c940f6f2_573c_11ef_bdbb_96000040dfb6row5_col3,#T_c940f6f2_573c_11ef_bdbb_96000040dfb6row5_col11,#T_c940f6f2_573c_11ef_bdbb_96000040dfb6row7_col1,#T_c940f6f2_573c_11ef_bdbb_96000040dfb6row7_col5,#T_c940f6f2_573c_11ef_bdbb_96000040dfb6row8_col2,#T_c940f6f2_573c_11ef_bdbb_96000040dfb6row8_col4,#T_c940f6f2_573c_11ef_bdbb_96000040dfb6row9_col1,#T_c940f6f2_573c_11ef_bdbb_96000040dfb6row9_col7{\n",
       "            background-color:  #800026;\n",
       "            color:  #f1f1f1;\n",
       "        }#T_c940f6f2_573c_11ef_bdbb_96000040dfb6row0_col7,#T_c940f6f2_573c_11ef_bdbb_96000040dfb6row8_col5{\n",
       "            background-color:  #fed976;\n",
       "            color:  #000000;\n",
       "        }#T_c940f6f2_573c_11ef_bdbb_96000040dfb6row0_col8{\n",
       "            background-color:  #fffdc6;\n",
       "            color:  #000000;\n",
       "        }#T_c940f6f2_573c_11ef_bdbb_96000040dfb6row0_col11{\n",
       "            background-color:  #feb34d;\n",
       "            color:  #000000;\n",
       "        }#T_c940f6f2_573c_11ef_bdbb_96000040dfb6row0_col14{\n",
       "            background-color:  #f23924;\n",
       "            color:  #f1f1f1;\n",
       "        }#T_c940f6f2_573c_11ef_bdbb_96000040dfb6row0_col15,#T_c940f6f2_573c_11ef_bdbb_96000040dfb6row2_col2{\n",
       "            background-color:  #fd8239;\n",
       "            color:  #000000;\n",
       "        }#T_c940f6f2_573c_11ef_bdbb_96000040dfb6row1_col2,#T_c940f6f2_573c_11ef_bdbb_96000040dfb6row1_col15{\n",
       "            background-color:  #fedd7e;\n",
       "            color:  #000000;\n",
       "        }#T_c940f6f2_573c_11ef_bdbb_96000040dfb6row1_col3,#T_c940f6f2_573c_11ef_bdbb_96000040dfb6row7_col8{\n",
       "            background-color:  #fff4b2;\n",
       "            color:  #000000;\n",
       "        }#T_c940f6f2_573c_11ef_bdbb_96000040dfb6row1_col4{\n",
       "            background-color:  #db141e;\n",
       "            color:  #f1f1f1;\n",
       "        }#T_c940f6f2_573c_11ef_bdbb_96000040dfb6row1_col6{\n",
       "            background-color:  #fece6a;\n",
       "            color:  #000000;\n",
       "        }#T_c940f6f2_573c_11ef_bdbb_96000040dfb6row1_col7,#T_c940f6f2_573c_11ef_bdbb_96000040dfb6row2_col17{\n",
       "            background-color:  #feaf4b;\n",
       "            color:  #000000;\n",
       "        }#T_c940f6f2_573c_11ef_bdbb_96000040dfb6row1_col8{\n",
       "            background-color:  #fee085;\n",
       "            color:  #000000;\n",
       "        }#T_c940f6f2_573c_11ef_bdbb_96000040dfb6row1_col10,#T_c940f6f2_573c_11ef_bdbb_96000040dfb6row2_col12,#T_c940f6f2_573c_11ef_bdbb_96000040dfb6row2_col13,#T_c940f6f2_573c_11ef_bdbb_96000040dfb6row2_col16{\n",
       "            background-color:  #fecc68;\n",
       "            color:  #000000;\n",
       "        }#T_c940f6f2_573c_11ef_bdbb_96000040dfb6row1_col11{\n",
       "            background-color:  #cf0c21;\n",
       "            color:  #f1f1f1;\n",
       "        }#T_c940f6f2_573c_11ef_bdbb_96000040dfb6row1_col12,#T_c940f6f2_573c_11ef_bdbb_96000040dfb6row1_col16{\n",
       "            background-color:  #fede82;\n",
       "            color:  #000000;\n",
       "        }#T_c940f6f2_573c_11ef_bdbb_96000040dfb6row1_col13,#T_c940f6f2_573c_11ef_bdbb_96000040dfb6row3_col14{\n",
       "            background-color:  #fea044;\n",
       "            color:  #000000;\n",
       "        }#T_c940f6f2_573c_11ef_bdbb_96000040dfb6row1_col14,#T_c940f6f2_573c_11ef_bdbb_96000040dfb6row6_col10{\n",
       "            background-color:  #fc612f;\n",
       "            color:  #000000;\n",
       "        }#T_c940f6f2_573c_11ef_bdbb_96000040dfb6row1_col17{\n",
       "            background-color:  #fc6430;\n",
       "            color:  #000000;\n",
       "        }#T_c940f6f2_573c_11ef_bdbb_96000040dfb6row2_col1{\n",
       "            background-color:  #fc6a32;\n",
       "            color:  #000000;\n",
       "        }#T_c940f6f2_573c_11ef_bdbb_96000040dfb6row2_col3{\n",
       "            background-color:  #b40026;\n",
       "            color:  #f1f1f1;\n",
       "        }#T_c940f6f2_573c_11ef_bdbb_96000040dfb6row2_col4,#T_c940f6f2_573c_11ef_bdbb_96000040dfb6row3_col6,#T_c940f6f2_573c_11ef_bdbb_96000040dfb6row3_col9,#T_c940f6f2_573c_11ef_bdbb_96000040dfb6row5_col7{\n",
       "            background-color:  #fd7034;\n",
       "            color:  #000000;\n",
       "        }#T_c940f6f2_573c_11ef_bdbb_96000040dfb6row2_col5{\n",
       "            background-color:  #fff2ac;\n",
       "            color:  #000000;\n",
       "        }#T_c940f6f2_573c_11ef_bdbb_96000040dfb6row2_col6,#T_c940f6f2_573c_11ef_bdbb_96000040dfb6row9_col2{\n",
       "            background-color:  #fff0a8;\n",
       "            color:  #000000;\n",
       "        }#T_c940f6f2_573c_11ef_bdbb_96000040dfb6row2_col7{\n",
       "            background-color:  #cd0b22;\n",
       "            color:  #f1f1f1;\n",
       "        }#T_c940f6f2_573c_11ef_bdbb_96000040dfb6row2_col9,#T_c940f6f2_573c_11ef_bdbb_96000040dfb6row3_col3{\n",
       "            background-color:  #fed977;\n",
       "            color:  #000000;\n",
       "        }#T_c940f6f2_573c_11ef_bdbb_96000040dfb6row2_col10,#T_c940f6f2_573c_11ef_bdbb_96000040dfb6row8_col1{\n",
       "            background-color:  #8f0026;\n",
       "            color:  #f1f1f1;\n",
       "        }#T_c940f6f2_573c_11ef_bdbb_96000040dfb6row2_col11,#T_c940f6f2_573c_11ef_bdbb_96000040dfb6row5_col2{\n",
       "            background-color:  #fea145;\n",
       "            color:  #000000;\n",
       "        }#T_c940f6f2_573c_11ef_bdbb_96000040dfb6row2_col14{\n",
       "            background-color:  #da141e;\n",
       "            color:  #f1f1f1;\n",
       "        }#T_c940f6f2_573c_11ef_bdbb_96000040dfb6row2_col15{\n",
       "            background-color:  #ac0026;\n",
       "            color:  #f1f1f1;\n",
       "        }#T_c940f6f2_573c_11ef_bdbb_96000040dfb6row3_col1{\n",
       "            background-color:  #d7121f;\n",
       "            color:  #f1f1f1;\n",
       "        }#T_c940f6f2_573c_11ef_bdbb_96000040dfb6row3_col4,#T_c940f6f2_573c_11ef_bdbb_96000040dfb6row8_col9{\n",
       "            background-color:  #fd7234;\n",
       "            color:  #000000;\n",
       "        }#T_c940f6f2_573c_11ef_bdbb_96000040dfb6row3_col5{\n",
       "            background-color:  #febd57;\n",
       "            color:  #000000;\n",
       "        }#T_c940f6f2_573c_11ef_bdbb_96000040dfb6row3_col7{\n",
       "            background-color:  #d30f20;\n",
       "            color:  #f1f1f1;\n",
       "        }#T_c940f6f2_573c_11ef_bdbb_96000040dfb6row3_col8{\n",
       "            background-color:  #d51020;\n",
       "            color:  #f1f1f1;\n",
       "        }#T_c940f6f2_573c_11ef_bdbb_96000040dfb6row3_col10,#T_c940f6f2_573c_11ef_bdbb_96000040dfb6row5_col5{\n",
       "            background-color:  #f74327;\n",
       "            color:  #f1f1f1;\n",
       "        }#T_c940f6f2_573c_11ef_bdbb_96000040dfb6row3_col11,#T_c940f6f2_573c_11ef_bdbb_96000040dfb6row6_col8{\n",
       "            background-color:  #feda78;\n",
       "            color:  #000000;\n",
       "        }#T_c940f6f2_573c_11ef_bdbb_96000040dfb6row3_col12,#T_c940f6f2_573c_11ef_bdbb_96000040dfb6row3_col13{\n",
       "            background-color:  #fff0a7;\n",
       "            color:  #000000;\n",
       "        }#T_c940f6f2_573c_11ef_bdbb_96000040dfb6row3_col15,#T_c940f6f2_573c_11ef_bdbb_96000040dfb6row6_col4{\n",
       "            background-color:  #febe59;\n",
       "            color:  #000000;\n",
       "        }#T_c940f6f2_573c_11ef_bdbb_96000040dfb6row3_col16,#T_c940f6f2_573c_11ef_bdbb_96000040dfb6row5_col10{\n",
       "            background-color:  #d00d21;\n",
       "            color:  #f1f1f1;\n",
       "        }#T_c940f6f2_573c_11ef_bdbb_96000040dfb6row4_col1{\n",
       "            background-color:  #fc6330;\n",
       "            color:  #000000;\n",
       "        }#T_c940f6f2_573c_11ef_bdbb_96000040dfb6row4_col2{\n",
       "            background-color:  #b00026;\n",
       "            color:  #f1f1f1;\n",
       "        }#T_c940f6f2_573c_11ef_bdbb_96000040dfb6row4_col3{\n",
       "            background-color:  #a40026;\n",
       "            color:  #f1f1f1;\n",
       "        }#T_c940f6f2_573c_11ef_bdbb_96000040dfb6row4_col4{\n",
       "            background-color:  #fea446;\n",
       "            color:  #000000;\n",
       "        }#T_c940f6f2_573c_11ef_bdbb_96000040dfb6row4_col5,#T_c940f6f2_573c_11ef_bdbb_96000040dfb6row7_col3,#T_c940f6f2_573c_11ef_bdbb_96000040dfb6row10_col2{\n",
       "            background-color:  #fd7c37;\n",
       "            color:  #000000;\n",
       "        }#T_c940f6f2_573c_11ef_bdbb_96000040dfb6row4_col6{\n",
       "            background-color:  #e41c1d;\n",
       "            color:  #f1f1f1;\n",
       "        }#T_c940f6f2_573c_11ef_bdbb_96000040dfb6row4_col7{\n",
       "            background-color:  #feb44e;\n",
       "            color:  #000000;\n",
       "        }#T_c940f6f2_573c_11ef_bdbb_96000040dfb6row4_col8{\n",
       "            background-color:  #fc6832;\n",
       "            color:  #000000;\n",
       "        }#T_c940f6f2_573c_11ef_bdbb_96000040dfb6row4_col10{\n",
       "            background-color:  #f94828;\n",
       "            color:  #000000;\n",
       "        }#T_c940f6f2_573c_11ef_bdbb_96000040dfb6row4_col11{\n",
       "            background-color:  #970026;\n",
       "            color:  #f1f1f1;\n",
       "        }#T_c940f6f2_573c_11ef_bdbb_96000040dfb6row4_col12{\n",
       "            background-color:  #fec45f;\n",
       "            color:  #000000;\n",
       "        }#T_c940f6f2_573c_11ef_bdbb_96000040dfb6row4_col13{\n",
       "            background-color:  #fff5b3;\n",
       "            color:  #000000;\n",
       "        }#T_c940f6f2_573c_11ef_bdbb_96000040dfb6row5_col1{\n",
       "            background-color:  #fd7a37;\n",
       "            color:  #000000;\n",
       "        }#T_c940f6f2_573c_11ef_bdbb_96000040dfb6row5_col4{\n",
       "            background-color:  #fedb7b;\n",
       "            color:  #000000;\n",
       "        }#T_c940f6f2_573c_11ef_bdbb_96000040dfb6row5_col6,#T_c940f6f2_573c_11ef_bdbb_96000040dfb6row9_col8,#T_c940f6f2_573c_11ef_bdbb_96000040dfb6row9_col9{\n",
       "            background-color:  #f54026;\n",
       "            color:  #f1f1f1;\n",
       "        }#T_c940f6f2_573c_11ef_bdbb_96000040dfb6row5_col9{\n",
       "            background-color:  #e7231e;\n",
       "            color:  #f1f1f1;\n",
       "        }#T_c940f6f2_573c_11ef_bdbb_96000040dfb6row5_col12{\n",
       "            background-color:  #fee187;\n",
       "            color:  #000000;\n",
       "        }#T_c940f6f2_573c_11ef_bdbb_96000040dfb6row5_col13{\n",
       "            background-color:  #fec15d;\n",
       "            color:  #000000;\n",
       "        }#T_c940f6f2_573c_11ef_bdbb_96000040dfb6row5_col14{\n",
       "            background-color:  #880026;\n",
       "            color:  #f1f1f1;\n",
       "        }#T_c940f6f2_573c_11ef_bdbb_96000040dfb6row6_col1{\n",
       "            background-color:  #fc532b;\n",
       "            color:  #000000;\n",
       "        }#T_c940f6f2_573c_11ef_bdbb_96000040dfb6row6_col2{\n",
       "            background-color:  #fd9941;\n",
       "            color:  #000000;\n",
       "        }#T_c940f6f2_573c_11ef_bdbb_96000040dfb6row6_col3,#T_c940f6f2_573c_11ef_bdbb_96000040dfb6row9_col10{\n",
       "            background-color:  #fd863a;\n",
       "            color:  #000000;\n",
       "        }#T_c940f6f2_573c_11ef_bdbb_96000040dfb6row6_col5{\n",
       "            background-color:  #fede80;\n",
       "            color:  #000000;\n",
       "        }#T_c940f6f2_573c_11ef_bdbb_96000040dfb6row6_col6{\n",
       "            background-color:  #fd933f;\n",
       "            color:  #000000;\n",
       "        }#T_c940f6f2_573c_11ef_bdbb_96000040dfb6row6_col7{\n",
       "            background-color:  #ffe895;\n",
       "            color:  #000000;\n",
       "        }#T_c940f6f2_573c_11ef_bdbb_96000040dfb6row6_col9{\n",
       "            background-color:  #c80723;\n",
       "            color:  #f1f1f1;\n",
       "        }#T_c940f6f2_573c_11ef_bdbb_96000040dfb6row6_col11{\n",
       "            background-color:  #b90026;\n",
       "            color:  #f1f1f1;\n",
       "        }#T_c940f6f2_573c_11ef_bdbb_96000040dfb6row6_col12{\n",
       "            background-color:  #ffe794;\n",
       "            color:  #000000;\n",
       "        }#T_c940f6f2_573c_11ef_bdbb_96000040dfb6row6_col13{\n",
       "            background-color:  #f64227;\n",
       "            color:  #f1f1f1;\n",
       "        }#T_c940f6f2_573c_11ef_bdbb_96000040dfb6row7_col2{\n",
       "            background-color:  #feb04b;\n",
       "            color:  #000000;\n",
       "        }#T_c940f6f2_573c_11ef_bdbb_96000040dfb6row7_col4{\n",
       "            background-color:  #fc4f2a;\n",
       "            color:  #000000;\n",
       "        }#T_c940f6f2_573c_11ef_bdbb_96000040dfb6row7_col6,#T_c940f6f2_573c_11ef_bdbb_96000040dfb6row11_col8{\n",
       "            background-color:  #fea245;\n",
       "            color:  #000000;\n",
       "        }#T_c940f6f2_573c_11ef_bdbb_96000040dfb6row7_col7,#T_c940f6f2_573c_11ef_bdbb_96000040dfb6row10_col1{\n",
       "            background-color:  #f03523;\n",
       "            color:  #f1f1f1;\n",
       "        }#T_c940f6f2_573c_11ef_bdbb_96000040dfb6row7_col9{\n",
       "            background-color:  #fd9640;\n",
       "            color:  #000000;\n",
       "        }#T_c940f6f2_573c_11ef_bdbb_96000040dfb6row7_col10{\n",
       "            background-color:  #fc572c;\n",
       "            color:  #000000;\n",
       "        }#T_c940f6f2_573c_11ef_bdbb_96000040dfb6row7_col11{\n",
       "            background-color:  #fd7636;\n",
       "            color:  #000000;\n",
       "        }#T_c940f6f2_573c_11ef_bdbb_96000040dfb6row7_col12{\n",
       "            background-color:  #ffeda1;\n",
       "            color:  #000000;\n",
       "        }#T_c940f6f2_573c_11ef_bdbb_96000040dfb6row8_col3,#T_c940f6f2_573c_11ef_bdbb_96000040dfb6row8_col7{\n",
       "            background-color:  #fc512b;\n",
       "            color:  #000000;\n",
       "        }#T_c940f6f2_573c_11ef_bdbb_96000040dfb6row8_col6{\n",
       "            background-color:  #fed572;\n",
       "            color:  #000000;\n",
       "        }#T_c940f6f2_573c_11ef_bdbb_96000040dfb6row8_col8{\n",
       "            background-color:  #df171d;\n",
       "            color:  #f1f1f1;\n",
       "        }#T_c940f6f2_573c_11ef_bdbb_96000040dfb6row8_col10{\n",
       "            background-color:  #f13824;\n",
       "            color:  #f1f1f1;\n",
       "        }#T_c940f6f2_573c_11ef_bdbb_96000040dfb6row8_col11,#T_c940f6f2_573c_11ef_bdbb_96000040dfb6row11_col5{\n",
       "            background-color:  #fee084;\n",
       "            color:  #000000;\n",
       "        }#T_c940f6f2_573c_11ef_bdbb_96000040dfb6row9_col4{\n",
       "            background-color:  #ffeea3;\n",
       "            color:  #000000;\n",
       "        }#T_c940f6f2_573c_11ef_bdbb_96000040dfb6row9_col5{\n",
       "            background-color:  #fedf83;\n",
       "            color:  #000000;\n",
       "        }#T_c940f6f2_573c_11ef_bdbb_96000040dfb6row9_col6{\n",
       "            background-color:  #fed16e;\n",
       "            color:  #000000;\n",
       "        }#T_c940f6f2_573c_11ef_bdbb_96000040dfb6row10_col3{\n",
       "            background-color:  #fed36f;\n",
       "            color:  #000000;\n",
       "        }#T_c940f6f2_573c_11ef_bdbb_96000040dfb6row10_col7{\n",
       "            background-color:  #fd9c42;\n",
       "            color:  #000000;\n",
       "        }#T_c940f6f2_573c_11ef_bdbb_96000040dfb6row10_col8{\n",
       "            background-color:  #fff9bd;\n",
       "            color:  #000000;\n",
       "        }#T_c940f6f2_573c_11ef_bdbb_96000040dfb6row10_col9{\n",
       "            background-color:  #ffe58f;\n",
       "            color:  #000000;\n",
       "        }#T_c940f6f2_573c_11ef_bdbb_96000040dfb6row11_col1{\n",
       "            background-color:  #fff7b9;\n",
       "            color:  #000000;\n",
       "        }#T_c940f6f2_573c_11ef_bdbb_96000040dfb6row11_col2{\n",
       "            background-color:  #fee38b;\n",
       "            color:  #000000;\n",
       "        }#T_c940f6f2_573c_11ef_bdbb_96000040dfb6row11_col3{\n",
       "            background-color:  #d6111f;\n",
       "            color:  #f1f1f1;\n",
       "        }#T_c940f6f2_573c_11ef_bdbb_96000040dfb6row11_col4{\n",
       "            background-color:  #fec965;\n",
       "            color:  #000000;\n",
       "        }#T_c940f6f2_573c_11ef_bdbb_96000040dfb6row11_col6{\n",
       "            background-color:  #ffec9f;\n",
       "            color:  #000000;\n",
       "        }</style><table id=\"T_c940f6f2_573c_11ef_bdbb_96000040dfb6\" ><caption>Cohort Retention</caption><thead>    <tr>        <th class=\"index_name level0\" >month_from_start</th>        <th class=\"col_heading level0 col0\" >0</th>        <th class=\"col_heading level0 col1\" >1</th>        <th class=\"col_heading level0 col2\" >2</th>        <th class=\"col_heading level0 col3\" >3</th>        <th class=\"col_heading level0 col4\" >4</th>        <th class=\"col_heading level0 col5\" >5</th>        <th class=\"col_heading level0 col6\" >6</th>        <th class=\"col_heading level0 col7\" >7</th>        <th class=\"col_heading level0 col8\" >8</th>        <th class=\"col_heading level0 col9\" >9</th>        <th class=\"col_heading level0 col10\" >10</th>        <th class=\"col_heading level0 col11\" >11</th>        <th class=\"col_heading level0 col12\" >12</th>        <th class=\"col_heading level0 col13\" >13</th>        <th class=\"col_heading level0 col14\" >14</th>        <th class=\"col_heading level0 col15\" >15</th>        <th class=\"col_heading level0 col16\" >16</th>        <th class=\"col_heading level0 col17\" >17</th>        <th class=\"col_heading level0 col18\" >19</th>    </tr>    <tr>        <th class=\"index_name level0\" >cohort</th>        <th class=\"blank\" ></th>        <th class=\"blank\" ></th>        <th class=\"blank\" ></th>        <th class=\"blank\" ></th>        <th class=\"blank\" ></th>        <th class=\"blank\" ></th>        <th class=\"blank\" ></th>        <th class=\"blank\" ></th>        <th class=\"blank\" ></th>        <th class=\"blank\" ></th>        <th class=\"blank\" ></th>        <th class=\"blank\" ></th>        <th class=\"blank\" ></th>        <th class=\"blank\" ></th>        <th class=\"blank\" ></th>        <th class=\"blank\" ></th>        <th class=\"blank\" ></th>        <th class=\"blank\" ></th>        <th class=\"blank\" ></th>    </tr></thead><tbody>\n",
       "                <tr>\n",
       "                        <th id=\"T_c940f6f2_573c_11ef_bdbb_96000040dfb6level0_row0\" class=\"row_heading level0 row0\" >2017-01</th>\n",
       "                        <td id=\"T_c940f6f2_573c_11ef_bdbb_96000040dfb6row0_col0\" class=\"data row0 col0\" >100.00%</td>\n",
       "                        <td id=\"T_c940f6f2_573c_11ef_bdbb_96000040dfb6row0_col1\" class=\"data row0 col1\" >0.39%</td>\n",
       "                        <td id=\"T_c940f6f2_573c_11ef_bdbb_96000040dfb6row0_col2\" class=\"data row0 col2\" >0.26%</td>\n",
       "                        <td id=\"T_c940f6f2_573c_11ef_bdbb_96000040dfb6row0_col3\" class=\"data row0 col3\" >0.13%</td>\n",
       "                        <td id=\"T_c940f6f2_573c_11ef_bdbb_96000040dfb6row0_col4\" class=\"data row0 col4\" >0.39%</td>\n",
       "                        <td id=\"T_c940f6f2_573c_11ef_bdbb_96000040dfb6row0_col5\" class=\"data row0 col5\" >0.13%</td>\n",
       "                        <td id=\"T_c940f6f2_573c_11ef_bdbb_96000040dfb6row0_col6\" class=\"data row0 col6\" >0.52%</td>\n",
       "                        <td id=\"T_c940f6f2_573c_11ef_bdbb_96000040dfb6row0_col7\" class=\"data row0 col7\" >0.13%</td>\n",
       "                        <td id=\"T_c940f6f2_573c_11ef_bdbb_96000040dfb6row0_col8\" class=\"data row0 col8\" >0.13%</td>\n",
       "                        <td id=\"T_c940f6f2_573c_11ef_bdbb_96000040dfb6row0_col9\" class=\"data row0 col9\" >0.00%</td>\n",
       "                        <td id=\"T_c940f6f2_573c_11ef_bdbb_96000040dfb6row0_col10\" class=\"data row0 col10\" >0.39%</td>\n",
       "                        <td id=\"T_c940f6f2_573c_11ef_bdbb_96000040dfb6row0_col11\" class=\"data row0 col11\" >0.13%</td>\n",
       "                        <td id=\"T_c940f6f2_573c_11ef_bdbb_96000040dfb6row0_col12\" class=\"data row0 col12\" >0.79%</td>\n",
       "                        <td id=\"T_c940f6f2_573c_11ef_bdbb_96000040dfb6row0_col13\" class=\"data row0 col13\" >0.39%</td>\n",
       "                        <td id=\"T_c940f6f2_573c_11ef_bdbb_96000040dfb6row0_col14\" class=\"data row0 col14\" >0.13%</td>\n",
       "                        <td id=\"T_c940f6f2_573c_11ef_bdbb_96000040dfb6row0_col15\" class=\"data row0 col15\" >0.13%</td>\n",
       "                        <td id=\"T_c940f6f2_573c_11ef_bdbb_96000040dfb6row0_col16\" class=\"data row0 col16\" >0.26%</td>\n",
       "                        <td id=\"T_c940f6f2_573c_11ef_bdbb_96000040dfb6row0_col17\" class=\"data row0 col17\" >0.39%</td>\n",
       "                        <td id=\"T_c940f6f2_573c_11ef_bdbb_96000040dfb6row0_col18\" class=\"data row0 col18\" >0.13%</td>\n",
       "            </tr>\n",
       "            <tr>\n",
       "                        <th id=\"T_c940f6f2_573c_11ef_bdbb_96000040dfb6level0_row1\" class=\"row_heading level0 row1\" >2017-02</th>\n",
       "                        <td id=\"T_c940f6f2_573c_11ef_bdbb_96000040dfb6row1_col0\" class=\"data row1 col0\" >100.00%</td>\n",
       "                        <td id=\"T_c940f6f2_573c_11ef_bdbb_96000040dfb6row1_col1\" class=\"data row1 col1\" >0.23%</td>\n",
       "                        <td id=\"T_c940f6f2_573c_11ef_bdbb_96000040dfb6row1_col2\" class=\"data row1 col2\" >0.29%</td>\n",
       "                        <td id=\"T_c940f6f2_573c_11ef_bdbb_96000040dfb6row1_col3\" class=\"data row1 col3\" >0.11%</td>\n",
       "                        <td id=\"T_c940f6f2_573c_11ef_bdbb_96000040dfb6row1_col4\" class=\"data row1 col4\" >0.40%</td>\n",
       "                        <td id=\"T_c940f6f2_573c_11ef_bdbb_96000040dfb6row1_col5\" class=\"data row1 col5\" >0.11%</td>\n",
       "                        <td id=\"T_c940f6f2_573c_11ef_bdbb_96000040dfb6row1_col6\" class=\"data row1 col6\" >0.23%</td>\n",
       "                        <td id=\"T_c940f6f2_573c_11ef_bdbb_96000040dfb6row1_col7\" class=\"data row1 col7\" >0.17%</td>\n",
       "                        <td id=\"T_c940f6f2_573c_11ef_bdbb_96000040dfb6row1_col8\" class=\"data row1 col8\" >0.17%</td>\n",
       "                        <td id=\"T_c940f6f2_573c_11ef_bdbb_96000040dfb6row1_col9\" class=\"data row1 col9\" >0.23%</td>\n",
       "                        <td id=\"T_c940f6f2_573c_11ef_bdbb_96000040dfb6row1_col10\" class=\"data row1 col10\" >0.11%</td>\n",
       "                        <td id=\"T_c940f6f2_573c_11ef_bdbb_96000040dfb6row1_col11\" class=\"data row1 col11\" >0.29%</td>\n",
       "                        <td id=\"T_c940f6f2_573c_11ef_bdbb_96000040dfb6row1_col12\" class=\"data row1 col12\" >0.17%</td>\n",
       "                        <td id=\"T_c940f6f2_573c_11ef_bdbb_96000040dfb6row1_col13\" class=\"data row1 col13\" >0.17%</td>\n",
       "                        <td id=\"T_c940f6f2_573c_11ef_bdbb_96000040dfb6row1_col14\" class=\"data row1 col14\" >0.11%</td>\n",
       "                        <td id=\"T_c940f6f2_573c_11ef_bdbb_96000040dfb6row1_col15\" class=\"data row1 col15\" >0.06%</td>\n",
       "                        <td id=\"T_c940f6f2_573c_11ef_bdbb_96000040dfb6row1_col16\" class=\"data row1 col16\" >0.06%</td>\n",
       "                        <td id=\"T_c940f6f2_573c_11ef_bdbb_96000040dfb6row1_col17\" class=\"data row1 col17\" >0.23%</td>\n",
       "                        <td id=\"T_c940f6f2_573c_11ef_bdbb_96000040dfb6row1_col18\" class=\"data row1 col18\" >0.00%</td>\n",
       "            </tr>\n",
       "            <tr>\n",
       "                        <th id=\"T_c940f6f2_573c_11ef_bdbb_96000040dfb6level0_row2\" class=\"row_heading level0 row2\" >2017-03</th>\n",
       "                        <td id=\"T_c940f6f2_573c_11ef_bdbb_96000040dfb6row2_col0\" class=\"data row2 col0\" >100.00%</td>\n",
       "                        <td id=\"T_c940f6f2_573c_11ef_bdbb_96000040dfb6row2_col1\" class=\"data row2 col1\" >0.49%</td>\n",
       "                        <td id=\"T_c940f6f2_573c_11ef_bdbb_96000040dfb6row2_col2\" class=\"data row2 col2\" >0.38%</td>\n",
       "                        <td id=\"T_c940f6f2_573c_11ef_bdbb_96000040dfb6row2_col3\" class=\"data row2 col3\" >0.38%</td>\n",
       "                        <td id=\"T_c940f6f2_573c_11ef_bdbb_96000040dfb6row2_col4\" class=\"data row2 col4\" >0.34%</td>\n",
       "                        <td id=\"T_c940f6f2_573c_11ef_bdbb_96000040dfb6row2_col5\" class=\"data row2 col5\" >0.15%</td>\n",
       "                        <td id=\"T_c940f6f2_573c_11ef_bdbb_96000040dfb6row2_col6\" class=\"data row2 col6\" >0.15%</td>\n",
       "                        <td id=\"T_c940f6f2_573c_11ef_bdbb_96000040dfb6row2_col7\" class=\"data row2 col7\" >0.30%</td>\n",
       "                        <td id=\"T_c940f6f2_573c_11ef_bdbb_96000040dfb6row2_col8\" class=\"data row2 col8\" >0.34%</td>\n",
       "                        <td id=\"T_c940f6f2_573c_11ef_bdbb_96000040dfb6row2_col9\" class=\"data row2 col9\" >0.08%</td>\n",
       "                        <td id=\"T_c940f6f2_573c_11ef_bdbb_96000040dfb6row2_col10\" class=\"data row2 col10\" >0.38%</td>\n",
       "                        <td id=\"T_c940f6f2_573c_11ef_bdbb_96000040dfb6row2_col11\" class=\"data row2 col11\" >0.15%</td>\n",
       "                        <td id=\"T_c940f6f2_573c_11ef_bdbb_96000040dfb6row2_col12\" class=\"data row2 col12\" >0.23%</td>\n",
       "                        <td id=\"T_c940f6f2_573c_11ef_bdbb_96000040dfb6row2_col13\" class=\"data row2 col13\" >0.11%</td>\n",
       "                        <td id=\"T_c940f6f2_573c_11ef_bdbb_96000040dfb6row2_col14\" class=\"data row2 col14\" >0.15%</td>\n",
       "                        <td id=\"T_c940f6f2_573c_11ef_bdbb_96000040dfb6row2_col15\" class=\"data row2 col15\" >0.23%</td>\n",
       "                        <td id=\"T_c940f6f2_573c_11ef_bdbb_96000040dfb6row2_col16\" class=\"data row2 col16\" >0.08%</td>\n",
       "                        <td id=\"T_c940f6f2_573c_11ef_bdbb_96000040dfb6row2_col17\" class=\"data row2 col17\" >0.15%</td>\n",
       "                        <td id=\"T_c940f6f2_573c_11ef_bdbb_96000040dfb6row2_col18\" class=\"data row2 col18\" >0.00%</td>\n",
       "            </tr>\n",
       "            <tr>\n",
       "                        <th id=\"T_c940f6f2_573c_11ef_bdbb_96000040dfb6level0_row3\" class=\"row_heading level0 row3\" >2017-04</th>\n",
       "                        <td id=\"T_c940f6f2_573c_11ef_bdbb_96000040dfb6row3_col0\" class=\"data row3 col0\" >100.00%</td>\n",
       "                        <td id=\"T_c940f6f2_573c_11ef_bdbb_96000040dfb6row3_col1\" class=\"data row3 col1\" >0.60%</td>\n",
       "                        <td id=\"T_c940f6f2_573c_11ef_bdbb_96000040dfb6row3_col2\" class=\"data row3 col2\" >0.21%</td>\n",
       "                        <td id=\"T_c940f6f2_573c_11ef_bdbb_96000040dfb6row3_col3\" class=\"data row3 col3\" >0.17%</td>\n",
       "                        <td id=\"T_c940f6f2_573c_11ef_bdbb_96000040dfb6row3_col4\" class=\"data row3 col4\" >0.34%</td>\n",
       "                        <td id=\"T_c940f6f2_573c_11ef_bdbb_96000040dfb6row3_col5\" class=\"data row3 col5\" >0.26%</td>\n",
       "                        <td id=\"T_c940f6f2_573c_11ef_bdbb_96000040dfb6row3_col6\" class=\"data row3 col6\" >0.34%</td>\n",
       "                        <td id=\"T_c940f6f2_573c_11ef_bdbb_96000040dfb6row3_col7\" class=\"data row3 col7\" >0.30%</td>\n",
       "                        <td id=\"T_c940f6f2_573c_11ef_bdbb_96000040dfb6row3_col8\" class=\"data row3 col8\" >0.30%</td>\n",
       "                        <td id=\"T_c940f6f2_573c_11ef_bdbb_96000040dfb6row3_col9\" class=\"data row3 col9\" >0.17%</td>\n",
       "                        <td id=\"T_c940f6f2_573c_11ef_bdbb_96000040dfb6row3_col10\" class=\"data row3 col10\" >0.26%</td>\n",
       "                        <td id=\"T_c940f6f2_573c_11ef_bdbb_96000040dfb6row3_col11\" class=\"data row3 col11\" >0.09%</td>\n",
       "                        <td id=\"T_c940f6f2_573c_11ef_bdbb_96000040dfb6row3_col12\" class=\"data row3 col12\" >0.09%</td>\n",
       "                        <td id=\"T_c940f6f2_573c_11ef_bdbb_96000040dfb6row3_col13\" class=\"data row3 col13\" >0.04%</td>\n",
       "                        <td id=\"T_c940f6f2_573c_11ef_bdbb_96000040dfb6row3_col14\" class=\"data row3 col14\" >0.09%</td>\n",
       "                        <td id=\"T_c940f6f2_573c_11ef_bdbb_96000040dfb6row3_col15\" class=\"data row3 col15\" >0.09%</td>\n",
       "                        <td id=\"T_c940f6f2_573c_11ef_bdbb_96000040dfb6row3_col16\" class=\"data row3 col16\" >0.21%</td>\n",
       "                        <td id=\"T_c940f6f2_573c_11ef_bdbb_96000040dfb6row3_col17\" class=\"data row3 col17\" >0.00%</td>\n",
       "                        <td id=\"T_c940f6f2_573c_11ef_bdbb_96000040dfb6row3_col18\" class=\"data row3 col18\" >0.00%</td>\n",
       "            </tr>\n",
       "            <tr>\n",
       "                        <th id=\"T_c940f6f2_573c_11ef_bdbb_96000040dfb6level0_row4\" class=\"row_heading level0 row4\" >2017-05</th>\n",
       "                        <td id=\"T_c940f6f2_573c_11ef_bdbb_96000040dfb6row4_col0\" class=\"data row4 col0\" >100.00%</td>\n",
       "                        <td id=\"T_c940f6f2_573c_11ef_bdbb_96000040dfb6row4_col1\" class=\"data row4 col1\" >0.50%</td>\n",
       "                        <td id=\"T_c940f6f2_573c_11ef_bdbb_96000040dfb6row4_col2\" class=\"data row4 col2\" >0.50%</td>\n",
       "                        <td id=\"T_c940f6f2_573c_11ef_bdbb_96000040dfb6row4_col3\" class=\"data row4 col3\" >0.39%</td>\n",
       "                        <td id=\"T_c940f6f2_573c_11ef_bdbb_96000040dfb6row4_col4\" class=\"data row4 col4\" >0.31%</td>\n",
       "                        <td id=\"T_c940f6f2_573c_11ef_bdbb_96000040dfb6row4_col5\" class=\"data row4 col5\" >0.33%</td>\n",
       "                        <td id=\"T_c940f6f2_573c_11ef_bdbb_96000040dfb6row4_col6\" class=\"data row4 col6\" >0.42%</td>\n",
       "                        <td id=\"T_c940f6f2_573c_11ef_bdbb_96000040dfb6row4_col7\" class=\"data row4 col7\" >0.17%</td>\n",
       "                        <td id=\"T_c940f6f2_573c_11ef_bdbb_96000040dfb6row4_col8\" class=\"data row4 col8\" >0.25%</td>\n",
       "                        <td id=\"T_c940f6f2_573c_11ef_bdbb_96000040dfb6row4_col9\" class=\"data row4 col9\" >0.31%</td>\n",
       "                        <td id=\"T_c940f6f2_573c_11ef_bdbb_96000040dfb6row4_col10\" class=\"data row4 col10\" >0.25%</td>\n",
       "                        <td id=\"T_c940f6f2_573c_11ef_bdbb_96000040dfb6row4_col11\" class=\"data row4 col11\" >0.33%</td>\n",
       "                        <td id=\"T_c940f6f2_573c_11ef_bdbb_96000040dfb6row4_col12\" class=\"data row4 col12\" >0.25%</td>\n",
       "                        <td id=\"T_c940f6f2_573c_11ef_bdbb_96000040dfb6row4_col13\" class=\"data row4 col13\" >0.03%</td>\n",
       "                        <td id=\"T_c940f6f2_573c_11ef_bdbb_96000040dfb6row4_col14\" class=\"data row4 col14\" >0.19%</td>\n",
       "                        <td id=\"T_c940f6f2_573c_11ef_bdbb_96000040dfb6row4_col15\" class=\"data row4 col15\" >0.25%</td>\n",
       "                        <td id=\"T_c940f6f2_573c_11ef_bdbb_96000040dfb6row4_col16\" class=\"data row4 col16\" >0.00%</td>\n",
       "                        <td id=\"T_c940f6f2_573c_11ef_bdbb_96000040dfb6row4_col17\" class=\"data row4 col17\" >0.00%</td>\n",
       "                        <td id=\"T_c940f6f2_573c_11ef_bdbb_96000040dfb6row4_col18\" class=\"data row4 col18\" >0.00%</td>\n",
       "            </tr>\n",
       "            <tr>\n",
       "                        <th id=\"T_c940f6f2_573c_11ef_bdbb_96000040dfb6level0_row5\" class=\"row_heading level0 row5\" >2017-06</th>\n",
       "                        <td id=\"T_c940f6f2_573c_11ef_bdbb_96000040dfb6row5_col0\" class=\"data row5 col0\" >100.00%</td>\n",
       "                        <td id=\"T_c940f6f2_573c_11ef_bdbb_96000040dfb6row5_col1\" class=\"data row5 col1\" >0.48%</td>\n",
       "                        <td id=\"T_c940f6f2_573c_11ef_bdbb_96000040dfb6row5_col2\" class=\"data row5 col2\" >0.35%</td>\n",
       "                        <td id=\"T_c940f6f2_573c_11ef_bdbb_96000040dfb6row5_col3\" class=\"data row5 col3\" >0.41%</td>\n",
       "                        <td id=\"T_c940f6f2_573c_11ef_bdbb_96000040dfb6row5_col4\" class=\"data row5 col4\" >0.25%</td>\n",
       "                        <td id=\"T_c940f6f2_573c_11ef_bdbb_96000040dfb6row5_col5\" class=\"data row5 col5\" >0.38%</td>\n",
       "                        <td id=\"T_c940f6f2_573c_11ef_bdbb_96000040dfb6row5_col6\" class=\"data row5 col6\" >0.38%</td>\n",
       "                        <td id=\"T_c940f6f2_573c_11ef_bdbb_96000040dfb6row5_col7\" class=\"data row5 col7\" >0.22%</td>\n",
       "                        <td id=\"T_c940f6f2_573c_11ef_bdbb_96000040dfb6row5_col8\" class=\"data row5 col8\" >0.13%</td>\n",
       "                        <td id=\"T_c940f6f2_573c_11ef_bdbb_96000040dfb6row5_col9\" class=\"data row5 col9\" >0.22%</td>\n",
       "                        <td id=\"T_c940f6f2_573c_11ef_bdbb_96000040dfb6row5_col10\" class=\"data row5 col10\" >0.32%</td>\n",
       "                        <td id=\"T_c940f6f2_573c_11ef_bdbb_96000040dfb6row5_col11\" class=\"data row5 col11\" >0.35%</td>\n",
       "                        <td id=\"T_c940f6f2_573c_11ef_bdbb_96000040dfb6row5_col12\" class=\"data row5 col12\" >0.16%</td>\n",
       "                        <td id=\"T_c940f6f2_573c_11ef_bdbb_96000040dfb6row5_col13\" class=\"data row5 col13\" >0.13%</td>\n",
       "                        <td id=\"T_c940f6f2_573c_11ef_bdbb_96000040dfb6row5_col14\" class=\"data row5 col14\" >0.19%</td>\n",
       "                        <td id=\"T_c940f6f2_573c_11ef_bdbb_96000040dfb6row5_col15\" class=\"data row5 col15\" >0.00%</td>\n",
       "                        <td id=\"T_c940f6f2_573c_11ef_bdbb_96000040dfb6row5_col16\" class=\"data row5 col16\" >0.00%</td>\n",
       "                        <td id=\"T_c940f6f2_573c_11ef_bdbb_96000040dfb6row5_col17\" class=\"data row5 col17\" >0.00%</td>\n",
       "                        <td id=\"T_c940f6f2_573c_11ef_bdbb_96000040dfb6row5_col18\" class=\"data row5 col18\" >0.00%</td>\n",
       "            </tr>\n",
       "            <tr>\n",
       "                        <th id=\"T_c940f6f2_573c_11ef_bdbb_96000040dfb6level0_row6\" class=\"row_heading level0 row6\" >2017-07</th>\n",
       "                        <td id=\"T_c940f6f2_573c_11ef_bdbb_96000040dfb6row6_col0\" class=\"data row6 col0\" >100.00%</td>\n",
       "                        <td id=\"T_c940f6f2_573c_11ef_bdbb_96000040dfb6row6_col1\" class=\"data row6 col1\" >0.51%</td>\n",
       "                        <td id=\"T_c940f6f2_573c_11ef_bdbb_96000040dfb6row6_col2\" class=\"data row6 col2\" >0.36%</td>\n",
       "                        <td id=\"T_c940f6f2_573c_11ef_bdbb_96000040dfb6row6_col3\" class=\"data row6 col3\" >0.26%</td>\n",
       "                        <td id=\"T_c940f6f2_573c_11ef_bdbb_96000040dfb6row6_col4\" class=\"data row6 col4\" >0.28%</td>\n",
       "                        <td id=\"T_c940f6f2_573c_11ef_bdbb_96000040dfb6row6_col5\" class=\"data row6 col5\" >0.21%</td>\n",
       "                        <td id=\"T_c940f6f2_573c_11ef_bdbb_96000040dfb6row6_col6\" class=\"data row6 col6\" >0.31%</td>\n",
       "                        <td id=\"T_c940f6f2_573c_11ef_bdbb_96000040dfb6row6_col7\" class=\"data row6 col7\" >0.10%</td>\n",
       "                        <td id=\"T_c940f6f2_573c_11ef_bdbb_96000040dfb6row6_col8\" class=\"data row6 col8\" >0.18%</td>\n",
       "                        <td id=\"T_c940f6f2_573c_11ef_bdbb_96000040dfb6row6_col9\" class=\"data row6 col9\" >0.26%</td>\n",
       "                        <td id=\"T_c940f6f2_573c_11ef_bdbb_96000040dfb6row6_col10\" class=\"data row6 col10\" >0.23%</td>\n",
       "                        <td id=\"T_c940f6f2_573c_11ef_bdbb_96000040dfb6row6_col11\" class=\"data row6 col11\" >0.31%</td>\n",
       "                        <td id=\"T_c940f6f2_573c_11ef_bdbb_96000040dfb6row6_col12\" class=\"data row6 col12\" >0.13%</td>\n",
       "                        <td id=\"T_c940f6f2_573c_11ef_bdbb_96000040dfb6row6_col13\" class=\"data row6 col13\" >0.26%</td>\n",
       "                        <td id=\"T_c940f6f2_573c_11ef_bdbb_96000040dfb6row6_col14\" class=\"data row6 col14\" >0.00%</td>\n",
       "                        <td id=\"T_c940f6f2_573c_11ef_bdbb_96000040dfb6row6_col15\" class=\"data row6 col15\" >0.00%</td>\n",
       "                        <td id=\"T_c940f6f2_573c_11ef_bdbb_96000040dfb6row6_col16\" class=\"data row6 col16\" >0.00%</td>\n",
       "                        <td id=\"T_c940f6f2_573c_11ef_bdbb_96000040dfb6row6_col17\" class=\"data row6 col17\" >0.00%</td>\n",
       "                        <td id=\"T_c940f6f2_573c_11ef_bdbb_96000040dfb6row6_col18\" class=\"data row6 col18\" >0.00%</td>\n",
       "            </tr>\n",
       "            <tr>\n",
       "                        <th id=\"T_c940f6f2_573c_11ef_bdbb_96000040dfb6level0_row7\" class=\"row_heading level0 row7\" >2017-08</th>\n",
       "                        <td id=\"T_c940f6f2_573c_11ef_bdbb_96000040dfb6row7_col0\" class=\"data row7 col0\" >100.00%</td>\n",
       "                        <td id=\"T_c940f6f2_573c_11ef_bdbb_96000040dfb6row7_col1\" class=\"data row7 col1\" >0.69%</td>\n",
       "                        <td id=\"T_c940f6f2_573c_11ef_bdbb_96000040dfb6row7_col2\" class=\"data row7 col2\" >0.33%</td>\n",
       "                        <td id=\"T_c940f6f2_573c_11ef_bdbb_96000040dfb6row7_col3\" class=\"data row7 col3\" >0.26%</td>\n",
       "                        <td id=\"T_c940f6f2_573c_11ef_bdbb_96000040dfb6row7_col4\" class=\"data row7 col4\" >0.36%</td>\n",
       "                        <td id=\"T_c940f6f2_573c_11ef_bdbb_96000040dfb6row7_col5\" class=\"data row7 col5\" >0.53%</td>\n",
       "                        <td id=\"T_c940f6f2_573c_11ef_bdbb_96000040dfb6row7_col6\" class=\"data row7 col6\" >0.29%</td>\n",
       "                        <td id=\"T_c940f6f2_573c_11ef_bdbb_96000040dfb6row7_col7\" class=\"data row7 col7\" >0.26%</td>\n",
       "                        <td id=\"T_c940f6f2_573c_11ef_bdbb_96000040dfb6row7_col8\" class=\"data row7 col8\" >0.14%</td>\n",
       "                        <td id=\"T_c940f6f2_573c_11ef_bdbb_96000040dfb6row7_col9\" class=\"data row7 col9\" >0.14%</td>\n",
       "                        <td id=\"T_c940f6f2_573c_11ef_bdbb_96000040dfb6row7_col10\" class=\"data row7 col10\" >0.24%</td>\n",
       "                        <td id=\"T_c940f6f2_573c_11ef_bdbb_96000040dfb6row7_col11\" class=\"data row7 col11\" >0.19%</td>\n",
       "                        <td id=\"T_c940f6f2_573c_11ef_bdbb_96000040dfb6row7_col12\" class=\"data row7 col12\" >0.10%</td>\n",
       "                        <td id=\"T_c940f6f2_573c_11ef_bdbb_96000040dfb6row7_col13\" class=\"data row7 col13\" >0.00%</td>\n",
       "                        <td id=\"T_c940f6f2_573c_11ef_bdbb_96000040dfb6row7_col14\" class=\"data row7 col14\" >0.00%</td>\n",
       "                        <td id=\"T_c940f6f2_573c_11ef_bdbb_96000040dfb6row7_col15\" class=\"data row7 col15\" >0.00%</td>\n",
       "                        <td id=\"T_c940f6f2_573c_11ef_bdbb_96000040dfb6row7_col16\" class=\"data row7 col16\" >0.00%</td>\n",
       "                        <td id=\"T_c940f6f2_573c_11ef_bdbb_96000040dfb6row7_col17\" class=\"data row7 col17\" >0.00%</td>\n",
       "                        <td id=\"T_c940f6f2_573c_11ef_bdbb_96000040dfb6row7_col18\" class=\"data row7 col18\" >0.00%</td>\n",
       "            </tr>\n",
       "            <tr>\n",
       "                        <th id=\"T_c940f6f2_573c_11ef_bdbb_96000040dfb6level0_row8\" class=\"row_heading level0 row8\" >2017-09</th>\n",
       "                        <td id=\"T_c940f6f2_573c_11ef_bdbb_96000040dfb6row8_col0\" class=\"data row8 col0\" >100.00%</td>\n",
       "                        <td id=\"T_c940f6f2_573c_11ef_bdbb_96000040dfb6row8_col1\" class=\"data row8 col1\" >0.68%</td>\n",
       "                        <td id=\"T_c940f6f2_573c_11ef_bdbb_96000040dfb6row8_col2\" class=\"data row8 col2\" >0.53%</td>\n",
       "                        <td id=\"T_c940f6f2_573c_11ef_bdbb_96000040dfb6row8_col3\" class=\"data row8 col3\" >0.29%</td>\n",
       "                        <td id=\"T_c940f6f2_573c_11ef_bdbb_96000040dfb6row8_col4\" class=\"data row8 col4\" >0.46%</td>\n",
       "                        <td id=\"T_c940f6f2_573c_11ef_bdbb_96000040dfb6row8_col5\" class=\"data row8 col5\" >0.22%</td>\n",
       "                        <td id=\"T_c940f6f2_573c_11ef_bdbb_96000040dfb6row8_col6\" class=\"data row8 col6\" >0.22%</td>\n",
       "                        <td id=\"T_c940f6f2_573c_11ef_bdbb_96000040dfb6row8_col7\" class=\"data row8 col7\" >0.24%</td>\n",
       "                        <td id=\"T_c940f6f2_573c_11ef_bdbb_96000040dfb6row8_col8\" class=\"data row8 col8\" >0.29%</td>\n",
       "                        <td id=\"T_c940f6f2_573c_11ef_bdbb_96000040dfb6row8_col9\" class=\"data row8 col9\" >0.17%</td>\n",
       "                        <td id=\"T_c940f6f2_573c_11ef_bdbb_96000040dfb6row8_col10\" class=\"data row8 col10\" >0.27%</td>\n",
       "                        <td id=\"T_c940f6f2_573c_11ef_bdbb_96000040dfb6row8_col11\" class=\"data row8 col11\" >0.07%</td>\n",
       "                        <td id=\"T_c940f6f2_573c_11ef_bdbb_96000040dfb6row8_col12\" class=\"data row8 col12\" >0.00%</td>\n",
       "                        <td id=\"T_c940f6f2_573c_11ef_bdbb_96000040dfb6row8_col13\" class=\"data row8 col13\" >0.00%</td>\n",
       "                        <td id=\"T_c940f6f2_573c_11ef_bdbb_96000040dfb6row8_col14\" class=\"data row8 col14\" >0.00%</td>\n",
       "                        <td id=\"T_c940f6f2_573c_11ef_bdbb_96000040dfb6row8_col15\" class=\"data row8 col15\" >0.00%</td>\n",
       "                        <td id=\"T_c940f6f2_573c_11ef_bdbb_96000040dfb6row8_col16\" class=\"data row8 col16\" >0.00%</td>\n",
       "                        <td id=\"T_c940f6f2_573c_11ef_bdbb_96000040dfb6row8_col17\" class=\"data row8 col17\" >0.00%</td>\n",
       "                        <td id=\"T_c940f6f2_573c_11ef_bdbb_96000040dfb6row8_col18\" class=\"data row8 col18\" >0.00%</td>\n",
       "            </tr>\n",
       "            <tr>\n",
       "                        <th id=\"T_c940f6f2_573c_11ef_bdbb_96000040dfb6level0_row9\" class=\"row_heading level0 row9\" >2017-10</th>\n",
       "                        <td id=\"T_c940f6f2_573c_11ef_bdbb_96000040dfb6row9_col0\" class=\"data row9 col0\" >100.00%</td>\n",
       "                        <td id=\"T_c940f6f2_573c_11ef_bdbb_96000040dfb6row9_col1\" class=\"data row9 col1\" >0.69%</td>\n",
       "                        <td id=\"T_c940f6f2_573c_11ef_bdbb_96000040dfb6row9_col2\" class=\"data row9 col2\" >0.25%</td>\n",
       "                        <td id=\"T_c940f6f2_573c_11ef_bdbb_96000040dfb6row9_col3\" class=\"data row9 col3\" >0.09%</td>\n",
       "                        <td id=\"T_c940f6f2_573c_11ef_bdbb_96000040dfb6row9_col4\" class=\"data row9 col4\" >0.22%</td>\n",
       "                        <td id=\"T_c940f6f2_573c_11ef_bdbb_96000040dfb6row9_col5\" class=\"data row9 col5\" >0.20%</td>\n",
       "                        <td id=\"T_c940f6f2_573c_11ef_bdbb_96000040dfb6row9_col6\" class=\"data row9 col6\" >0.22%</td>\n",
       "                        <td id=\"T_c940f6f2_573c_11ef_bdbb_96000040dfb6row9_col7\" class=\"data row9 col7\" >0.36%</td>\n",
       "                        <td id=\"T_c940f6f2_573c_11ef_bdbb_96000040dfb6row9_col8\" class=\"data row9 col8\" >0.27%</td>\n",
       "                        <td id=\"T_c940f6f2_573c_11ef_bdbb_96000040dfb6row9_col9\" class=\"data row9 col9\" >0.20%</td>\n",
       "                        <td id=\"T_c940f6f2_573c_11ef_bdbb_96000040dfb6row9_col10\" class=\"data row9 col10\" >0.20%</td>\n",
       "                        <td id=\"T_c940f6f2_573c_11ef_bdbb_96000040dfb6row9_col11\" class=\"data row9 col11\" >0.00%</td>\n",
       "                        <td id=\"T_c940f6f2_573c_11ef_bdbb_96000040dfb6row9_col12\" class=\"data row9 col12\" >0.00%</td>\n",
       "                        <td id=\"T_c940f6f2_573c_11ef_bdbb_96000040dfb6row9_col13\" class=\"data row9 col13\" >0.00%</td>\n",
       "                        <td id=\"T_c940f6f2_573c_11ef_bdbb_96000040dfb6row9_col14\" class=\"data row9 col14\" >0.00%</td>\n",
       "                        <td id=\"T_c940f6f2_573c_11ef_bdbb_96000040dfb6row9_col15\" class=\"data row9 col15\" >0.00%</td>\n",
       "                        <td id=\"T_c940f6f2_573c_11ef_bdbb_96000040dfb6row9_col16\" class=\"data row9 col16\" >0.00%</td>\n",
       "                        <td id=\"T_c940f6f2_573c_11ef_bdbb_96000040dfb6row9_col17\" class=\"data row9 col17\" >0.00%</td>\n",
       "                        <td id=\"T_c940f6f2_573c_11ef_bdbb_96000040dfb6row9_col18\" class=\"data row9 col18\" >0.00%</td>\n",
       "            </tr>\n",
       "            <tr>\n",
       "                        <th id=\"T_c940f6f2_573c_11ef_bdbb_96000040dfb6level0_row10\" class=\"row_heading level0 row10\" >2017-11</th>\n",
       "                        <td id=\"T_c940f6f2_573c_11ef_bdbb_96000040dfb6row10_col0\" class=\"data row10 col0\" >100.00%</td>\n",
       "                        <td id=\"T_c940f6f2_573c_11ef_bdbb_96000040dfb6row10_col1\" class=\"data row10 col1\" >0.55%</td>\n",
       "                        <td id=\"T_c940f6f2_573c_11ef_bdbb_96000040dfb6row10_col2\" class=\"data row10 col2\" >0.38%</td>\n",
       "                        <td id=\"T_c940f6f2_573c_11ef_bdbb_96000040dfb6row10_col3\" class=\"data row10 col3\" >0.18%</td>\n",
       "                        <td id=\"T_c940f6f2_573c_11ef_bdbb_96000040dfb6row10_col4\" class=\"data row10 col4\" >0.19%</td>\n",
       "                        <td id=\"T_c940f6f2_573c_11ef_bdbb_96000040dfb6row10_col5\" class=\"data row10 col5\" >0.18%</td>\n",
       "                        <td id=\"T_c940f6f2_573c_11ef_bdbb_96000040dfb6row10_col6\" class=\"data row10 col6\" >0.11%</td>\n",
       "                        <td id=\"T_c940f6f2_573c_11ef_bdbb_96000040dfb6row10_col7\" class=\"data row10 col7\" >0.19%</td>\n",
       "                        <td id=\"T_c940f6f2_573c_11ef_bdbb_96000040dfb6row10_col8\" class=\"data row10 col8\" >0.14%</td>\n",
       "                        <td id=\"T_c940f6f2_573c_11ef_bdbb_96000040dfb6row10_col9\" class=\"data row10 col9\" >0.05%</td>\n",
       "                        <td id=\"T_c940f6f2_573c_11ef_bdbb_96000040dfb6row10_col10\" class=\"data row10 col10\" >0.00%</td>\n",
       "                        <td id=\"T_c940f6f2_573c_11ef_bdbb_96000040dfb6row10_col11\" class=\"data row10 col11\" >0.00%</td>\n",
       "                        <td id=\"T_c940f6f2_573c_11ef_bdbb_96000040dfb6row10_col12\" class=\"data row10 col12\" >0.00%</td>\n",
       "                        <td id=\"T_c940f6f2_573c_11ef_bdbb_96000040dfb6row10_col13\" class=\"data row10 col13\" >0.00%</td>\n",
       "                        <td id=\"T_c940f6f2_573c_11ef_bdbb_96000040dfb6row10_col14\" class=\"data row10 col14\" >0.00%</td>\n",
       "                        <td id=\"T_c940f6f2_573c_11ef_bdbb_96000040dfb6row10_col15\" class=\"data row10 col15\" >0.00%</td>\n",
       "                        <td id=\"T_c940f6f2_573c_11ef_bdbb_96000040dfb6row10_col16\" class=\"data row10 col16\" >0.00%</td>\n",
       "                        <td id=\"T_c940f6f2_573c_11ef_bdbb_96000040dfb6row10_col17\" class=\"data row10 col17\" >0.00%</td>\n",
       "                        <td id=\"T_c940f6f2_573c_11ef_bdbb_96000040dfb6row10_col18\" class=\"data row10 col18\" >0.00%</td>\n",
       "            </tr>\n",
       "            <tr>\n",
       "                        <th id=\"T_c940f6f2_573c_11ef_bdbb_96000040dfb6level0_row11\" class=\"row_heading level0 row11\" >2017-12</th>\n",
       "                        <td id=\"T_c940f6f2_573c_11ef_bdbb_96000040dfb6row11_col0\" class=\"data row11 col0\" >100.00%</td>\n",
       "                        <td id=\"T_c940f6f2_573c_11ef_bdbb_96000040dfb6row11_col1\" class=\"data row11 col1\" >0.26%</td>\n",
       "                        <td id=\"T_c940f6f2_573c_11ef_bdbb_96000040dfb6row11_col2\" class=\"data row11 col2\" >0.27%</td>\n",
       "                        <td id=\"T_c940f6f2_573c_11ef_bdbb_96000040dfb6row11_col3\" class=\"data row11 col3\" >0.35%</td>\n",
       "                        <td id=\"T_c940f6f2_573c_11ef_bdbb_96000040dfb6row11_col4\" class=\"data row11 col4\" >0.27%</td>\n",
       "                        <td id=\"T_c940f6f2_573c_11ef_bdbb_96000040dfb6row11_col5\" class=\"data row11 col5\" >0.20%</td>\n",
       "                        <td id=\"T_c940f6f2_573c_11ef_bdbb_96000040dfb6row11_col6\" class=\"data row11 col6\" >0.16%</td>\n",
       "                        <td id=\"T_c940f6f2_573c_11ef_bdbb_96000040dfb6row11_col7\" class=\"data row11 col7\" >0.05%</td>\n",
       "                        <td id=\"T_c940f6f2_573c_11ef_bdbb_96000040dfb6row11_col8\" class=\"data row11 col8\" >0.22%</td>\n",
       "                        <td id=\"T_c940f6f2_573c_11ef_bdbb_96000040dfb6row11_col9\" class=\"data row11 col9\" >0.00%</td>\n",
       "                        <td id=\"T_c940f6f2_573c_11ef_bdbb_96000040dfb6row11_col10\" class=\"data row11 col10\" >0.00%</td>\n",
       "                        <td id=\"T_c940f6f2_573c_11ef_bdbb_96000040dfb6row11_col11\" class=\"data row11 col11\" >0.00%</td>\n",
       "                        <td id=\"T_c940f6f2_573c_11ef_bdbb_96000040dfb6row11_col12\" class=\"data row11 col12\" >0.00%</td>\n",
       "                        <td id=\"T_c940f6f2_573c_11ef_bdbb_96000040dfb6row11_col13\" class=\"data row11 col13\" >0.00%</td>\n",
       "                        <td id=\"T_c940f6f2_573c_11ef_bdbb_96000040dfb6row11_col14\" class=\"data row11 col14\" >0.00%</td>\n",
       "                        <td id=\"T_c940f6f2_573c_11ef_bdbb_96000040dfb6row11_col15\" class=\"data row11 col15\" >0.00%</td>\n",
       "                        <td id=\"T_c940f6f2_573c_11ef_bdbb_96000040dfb6row11_col16\" class=\"data row11 col16\" >0.00%</td>\n",
       "                        <td id=\"T_c940f6f2_573c_11ef_bdbb_96000040dfb6row11_col17\" class=\"data row11 col17\" >0.00%</td>\n",
       "                        <td id=\"T_c940f6f2_573c_11ef_bdbb_96000040dfb6row11_col18\" class=\"data row11 col18\" >0.00%</td>\n",
       "            </tr>\n",
       "    </tbody></table>"
      ],
      "text/plain": [
       "<pandas.io.formats.style.Styler at 0x7f0966092908>"
      ]
     },
     "execution_count": 90,
     "metadata": {},
     "output_type": "execute_result"
    }
   ],
   "source": [
    " ur_style = (retention\n",
    "            .style\n",
    "            .set_caption('Cohort Retention')  \n",
    "            .background_gradient(cmap='YlOrRd')  \n",
    "            .highlight_null('white')  \n",
    "            .format(\"{:.2%}\", na_rep=\"\"))  \n",
    "ur_style"
   ]
  },
  {
   "cell_type": "markdown",
   "metadata": {},
   "source": [
    "\n",
    "\n"
   ]
  },
  {
   "cell_type": "markdown",
   "metadata": {},
   "source": [
    "## 6. Построить RFM-сегментацию пользователей, чтобы качественно оценить свою аудиторию. "
   ]
  },
  {
   "cell_type": "markdown",
   "metadata": {},
   "source": [
    "#### ***RFM*** — это метод, используемый для анализа потребительской ценности.\n"
   ]
  },
  {
   "cell_type": "markdown",
   "metadata": {},
   "source": [
    "Для RFM-анализа нам потребуются определенные данные о каждом из клиентов:\n",
    "\n",
    "- customer_unique_id - для их идентификации.\n",
    "\n",
    "- Давность (R) как количество дней с момента последней покупки. \n",
    "\n",
    "- Частота (F) как суммарное количество покупок у пользователя за всё время.\n",
    "\n",
    "- Деньги (М) как сумма покупок за всё время."
   ]
  },
  {
   "cell_type": "code",
   "execution_count": 91,
   "metadata": {},
   "outputs": [],
   "source": [
    "# Используем только корректные данные без пропущенных значений.\n",
    "# Создаем датафрейм с нужной нам информацией.\n",
    "full_data = valid_orders.merge(products_info,  how='right', on='order_id')"
   ]
  },
  {
   "cell_type": "code",
   "execution_count": 92,
   "metadata": {},
   "outputs": [],
   "source": [
    "last_date = full_data.order_purchase_timestamp.max()\n",
    "RFM_table = full_data.groupby('customer_unique_id', as_index=False) \\\n",
    "                     .agg({'order_purchase_timestamp': lambda x: (last_date - x.max()).days,\n",
    "                           'order_id': lambda x: len(x.unique()),\n",
    "                           'price': lambda x: x.sum()}) \\\n",
    "                     .rename(columns={'order_purchase_timestamp' : 'recency',\n",
    "                                      'order_id' : 'frequency',\n",
    "                                      'price' : 'monetary'})"
   ]
  },
  {
   "cell_type": "markdown",
   "metadata": {},
   "source": [
    "### Посмотрим на распределения."
   ]
  },
  {
   "cell_type": "code",
   "execution_count": 93,
   "metadata": {},
   "outputs": [
    {
     "data": {
      "image/png": "[encoded data removed]",
      "text/plain": [
       "<Figure size 1440x576 with 1 Axes>"
      ]
     },
     "metadata": {
      "needs_background": "light"
     },
     "output_type": "display_data"
    }
   ],
   "source": [
    "plt.figure(figsize = (20, 8))\n",
    "sns.countplot(RFM_table.frequency)\n",
    "plt.title('Распределение пользователей по количеству покупок', fontsize=22)\n",
    "plt.show()"
   ]
  },
  {
   "cell_type": "code",
   "execution_count": 94,
   "metadata": {},
   "outputs": [
    {
     "data": {
      "image/png": "[encoded data removed]",
      "text/plain": [
       "<Figure size 1152x576 with 1 Axes>"
      ]
     },
     "metadata": {
      "needs_background": "light"
     },
     "output_type": "display_data"
    }
   ],
   "source": [
    "plt.figure(figsize = (16, 8))\n",
    "sns.distplot(RFM_table.recency)\n",
    "plt.title('Распределение пользователей по количеству дней с последней покупки', fontsize=22)\n",
    "plt.show()"
   ]
  },
  {
   "cell_type": "code",
   "execution_count": 95,
   "metadata": {},
   "outputs": [
    {
     "data": {
      "image/png": "[encoded data removed]",
      "text/plain": [
       "<Figure size 1152x576 with 1 Axes>"
      ]
     },
     "metadata": {
      "needs_background": "light"
     },
     "output_type": "display_data"
    }
   ],
   "source": [
    "plt.figure(figsize = (16, 8))\n",
    "sns.distplot(RFM_table.monetary)\n",
    "plt.title('Распределение пользователей по потраченным деньгам', fontsize=22)\n",
    "plt.show()"
   ]
  },
  {
   "cell_type": "code",
   "execution_count": 96,
   "metadata": {},
   "outputs": [
    {
     "data": {
      "text/html": [
       "<div>\n",
       "<style scoped>\n",
       "    .dataframe tbody tr th:only-of-type {\n",
       "        vertical-align: middle;\n",
       "    }\n",
       "\n",
       "    .dataframe tbody tr th {\n",
       "        vertical-align: top;\n",
       "    }\n",
       "\n",
       "    .dataframe thead th {\n",
       "        text-align: right;\n",
       "    }\n",
       "</style>\n",
       "<table border=\"1\" class=\"dataframe\">\n",
       "  <thead>\n",
       "    <tr style=\"text-align: right;\">\n",
       "      <th></th>\n",
       "      <th>recency</th>\n",
       "      <th>frequency</th>\n",
       "      <th>monetary</th>\n",
       "    </tr>\n",
       "  </thead>\n",
       "  <tbody>\n",
       "    <tr>\n",
       "      <th>count</th>\n",
       "      <td>93337.000000</td>\n",
       "      <td>93337.000000</td>\n",
       "      <td>93337.000000</td>\n",
       "    </tr>\n",
       "    <tr>\n",
       "      <th>mean</th>\n",
       "      <td>236.904893</td>\n",
       "      <td>1.033417</td>\n",
       "      <td>141.622063</td>\n",
       "    </tr>\n",
       "    <tr>\n",
       "      <th>std</th>\n",
       "      <td>152.552478</td>\n",
       "      <td>0.209096</td>\n",
       "      <td>215.713022</td>\n",
       "    </tr>\n",
       "    <tr>\n",
       "      <th>min</th>\n",
       "      <td>0.000000</td>\n",
       "      <td>1.000000</td>\n",
       "      <td>0.850000</td>\n",
       "    </tr>\n",
       "    <tr>\n",
       "      <th>25%</th>\n",
       "      <td>113.000000</td>\n",
       "      <td>1.000000</td>\n",
       "      <td>47.650000</td>\n",
       "    </tr>\n",
       "    <tr>\n",
       "      <th>50%</th>\n",
       "      <td>218.000000</td>\n",
       "      <td>1.000000</td>\n",
       "      <td>89.700000</td>\n",
       "    </tr>\n",
       "    <tr>\n",
       "      <th>75%</th>\n",
       "      <td>345.000000</td>\n",
       "      <td>1.000000</td>\n",
       "      <td>154.700000</td>\n",
       "    </tr>\n",
       "    <tr>\n",
       "      <th>max</th>\n",
       "      <td>713.000000</td>\n",
       "      <td>15.000000</td>\n",
       "      <td>13440.000000</td>\n",
       "    </tr>\n",
       "  </tbody>\n",
       "</table>\n",
       "</div>"
      ],
      "text/plain": [
       "            recency     frequency      monetary\n",
       "count  93337.000000  93337.000000  93337.000000\n",
       "mean     236.904893      1.033417    141.622063\n",
       "std      152.552478      0.209096    215.713022\n",
       "min        0.000000      1.000000      0.850000\n",
       "25%      113.000000      1.000000     47.650000\n",
       "50%      218.000000      1.000000     89.700000\n",
       "75%      345.000000      1.000000    154.700000\n",
       "max      713.000000     15.000000  13440.000000"
      ]
     },
     "execution_count": 96,
     "metadata": {},
     "output_type": "execute_result"
    }
   ],
   "source": [
    "# Посмотрим на описательную статистику.\n",
    "RFM_table.describe()"
   ]
  },
  {
   "cell_type": "markdown",
   "metadata": {},
   "source": [
    "#### Первые выводы: \n",
    "1. Как видно на графиках, распределения recency, frequency и monetary НЕ нормальные.\n",
    "2. Frequency - абсолютное большинство пользователей совершили всего 1 покупку.\n",
    "3. Monetary - мы можем видеть большую разницу между средним чеком и максимальным."
   ]
  },
  {
   "cell_type": "markdown",
   "metadata": {},
   "source": [
    "### Frequency"
   ]
  },
  {
   "cell_type": "code",
   "execution_count": 97,
   "metadata": {},
   "outputs": [
    {
     "data": {
      "text/plain": [
       "1     90537\n",
       "2      2572\n",
       "3       181\n",
       "4        28\n",
       "5         9\n",
       "6         5\n",
       "7         3\n",
       "15        1\n",
       "9         1\n",
       "Name: frequency, dtype: int64"
      ]
     },
     "execution_count": 97,
     "metadata": {},
     "output_type": "execute_result"
    }
   ],
   "source": [
    "# Посмотрим на кол-во покупок.\n",
    "RFM_table.frequency.value_counts()"
   ]
  },
  {
   "cell_type": "markdown",
   "metadata": {},
   "source": [
    "#### На основе имеющихся у нас данных, предлагаю следующую сегментацию:\n",
    "\n",
    "Частые покупки(1) -  3 и более покупок\n",
    "\n",
    "Редкие покупки(2) - 2 покупки\n",
    "\n",
    "Разовая покупка(3) - 1 покупка"
   ]
  },
  {
   "cell_type": "code",
   "execution_count": 98,
   "metadata": {},
   "outputs": [],
   "source": [
    "# Создадим функцию для определения сегмента пользователя по frequency. \n",
    "\n",
    "def frequency_segmentation (x):\n",
    "    if x == 1:\n",
    "        return 3\n",
    "    elif x == 2:\n",
    "        return 2\n",
    "    else:\n",
    "        return 1"
   ]
  },
  {
   "cell_type": "code",
   "execution_count": 99,
   "metadata": {},
   "outputs": [],
   "source": [
    "RFM_table['F_segment'] = RFM_table.frequency.apply(frequency_segmentation)"
   ]
  },
  {
   "cell_type": "code",
   "execution_count": 100,
   "metadata": {},
   "outputs": [
    {
     "data": {
      "text/html": [
       "<div>\n",
       "<style scoped>\n",
       "    .dataframe tbody tr th:only-of-type {\n",
       "        vertical-align: middle;\n",
       "    }\n",
       "\n",
       "    .dataframe tbody tr th {\n",
       "        vertical-align: top;\n",
       "    }\n",
       "\n",
       "    .dataframe thead th {\n",
       "        text-align: right;\n",
       "    }\n",
       "</style>\n",
       "<table border=\"1\" class=\"dataframe\">\n",
       "  <thead>\n",
       "    <tr style=\"text-align: right;\">\n",
       "      <th></th>\n",
       "      <th>customer_unique_id</th>\n",
       "      <th>recency</th>\n",
       "      <th>frequency</th>\n",
       "      <th>monetary</th>\n",
       "      <th>F_segment</th>\n",
       "    </tr>\n",
       "  </thead>\n",
       "  <tbody>\n",
       "    <tr>\n",
       "      <th>0</th>\n",
       "      <td>0000366f3b9a7992bf8c76cfdf3221e2</td>\n",
       "      <td>111</td>\n",
       "      <td>1</td>\n",
       "      <td>129.90</td>\n",
       "      <td>3</td>\n",
       "    </tr>\n",
       "    <tr>\n",
       "      <th>1</th>\n",
       "      <td>0000b849f77a49e4a4ce2b2a4ca5be3f</td>\n",
       "      <td>114</td>\n",
       "      <td>1</td>\n",
       "      <td>18.90</td>\n",
       "      <td>3</td>\n",
       "    </tr>\n",
       "    <tr>\n",
       "      <th>2</th>\n",
       "      <td>0000f46a3911fa3c0805444483337064</td>\n",
       "      <td>536</td>\n",
       "      <td>1</td>\n",
       "      <td>69.00</td>\n",
       "      <td>3</td>\n",
       "    </tr>\n",
       "    <tr>\n",
       "      <th>3</th>\n",
       "      <td>0000f6ccb0745a6a4b88665a16c9f078</td>\n",
       "      <td>320</td>\n",
       "      <td>1</td>\n",
       "      <td>25.99</td>\n",
       "      <td>3</td>\n",
       "    </tr>\n",
       "    <tr>\n",
       "      <th>4</th>\n",
       "      <td>0004aac84e0df4da2b147fca70cf8255</td>\n",
       "      <td>287</td>\n",
       "      <td>1</td>\n",
       "      <td>180.00</td>\n",
       "      <td>3</td>\n",
       "    </tr>\n",
       "    <tr>\n",
       "      <th>...</th>\n",
       "      <td>...</td>\n",
       "      <td>...</td>\n",
       "      <td>...</td>\n",
       "      <td>...</td>\n",
       "      <td>...</td>\n",
       "    </tr>\n",
       "    <tr>\n",
       "      <th>93332</th>\n",
       "      <td>fffcf5a5ff07b0908bd4e2dbc735a684</td>\n",
       "      <td>446</td>\n",
       "      <td>1</td>\n",
       "      <td>1570.00</td>\n",
       "      <td>3</td>\n",
       "    </tr>\n",
       "    <tr>\n",
       "      <th>93333</th>\n",
       "      <td>fffea47cd6d3cc0a88bd621562a9d061</td>\n",
       "      <td>261</td>\n",
       "      <td>1</td>\n",
       "      <td>64.89</td>\n",
       "      <td>3</td>\n",
       "    </tr>\n",
       "    <tr>\n",
       "      <th>93334</th>\n",
       "      <td>ffff371b4d645b6ecea244b27531430a</td>\n",
       "      <td>567</td>\n",
       "      <td>1</td>\n",
       "      <td>89.90</td>\n",
       "      <td>3</td>\n",
       "    </tr>\n",
       "    <tr>\n",
       "      <th>93335</th>\n",
       "      <td>ffff5962728ec6157033ef9805bacc48</td>\n",
       "      <td>118</td>\n",
       "      <td>1</td>\n",
       "      <td>115.00</td>\n",
       "      <td>3</td>\n",
       "    </tr>\n",
       "    <tr>\n",
       "      <th>93336</th>\n",
       "      <td>ffffd2657e2aad2907e67c3e9daecbeb</td>\n",
       "      <td>483</td>\n",
       "      <td>1</td>\n",
       "      <td>56.99</td>\n",
       "      <td>3</td>\n",
       "    </tr>\n",
       "  </tbody>\n",
       "</table>\n",
       "<p>93337 rows × 5 columns</p>\n",
       "</div>"
      ],
      "text/plain": [
       "                     customer_unique_id  recency  frequency  monetary  \\\n",
       "0      0000366f3b9a7992bf8c76cfdf3221e2      111          1    129.90   \n",
       "1      0000b849f77a49e4a4ce2b2a4ca5be3f      114          1     18.90   \n",
       "2      0000f46a3911fa3c0805444483337064      536          1     69.00   \n",
       "3      0000f6ccb0745a6a4b88665a16c9f078      320          1     25.99   \n",
       "4      0004aac84e0df4da2b147fca70cf8255      287          1    180.00   \n",
       "...                                 ...      ...        ...       ...   \n",
       "93332  fffcf5a5ff07b0908bd4e2dbc735a684      446          1   1570.00   \n",
       "93333  fffea47cd6d3cc0a88bd621562a9d061      261          1     64.89   \n",
       "93334  ffff371b4d645b6ecea244b27531430a      567          1     89.90   \n",
       "93335  ffff5962728ec6157033ef9805bacc48      118          1    115.00   \n",
       "93336  ffffd2657e2aad2907e67c3e9daecbeb      483          1     56.99   \n",
       "\n",
       "       F_segment  \n",
       "0              3  \n",
       "1              3  \n",
       "2              3  \n",
       "3              3  \n",
       "4              3  \n",
       "...          ...  \n",
       "93332          3  \n",
       "93333          3  \n",
       "93334          3  \n",
       "93335          3  \n",
       "93336          3  \n",
       "\n",
       "[93337 rows x 5 columns]"
      ]
     },
     "execution_count": 100,
     "metadata": {},
     "output_type": "execute_result"
    }
   ],
   "source": [
    "RFM_table"
   ]
  },
  {
   "cell_type": "markdown",
   "metadata": {},
   "source": [
    "### Recency"
   ]
  },
  {
   "cell_type": "code",
   "execution_count": 101,
   "metadata": {},
   "outputs": [
    {
     "data": {
      "text/plain": [
       "count    93337.000000\n",
       "mean       236.904893\n",
       "std        152.552478\n",
       "min          0.000000\n",
       "25%        113.000000\n",
       "50%        218.000000\n",
       "75%        345.000000\n",
       "max        713.000000\n",
       "Name: recency, dtype: float64"
      ]
     },
     "execution_count": 101,
     "metadata": {},
     "output_type": "execute_result"
    }
   ],
   "source": [
    "RFM_table.recency.describe()"
   ]
  },
  {
   "cell_type": "markdown",
   "metadata": {},
   "source": [
    "***Если бы было понимание того, что конкретно продает компания, было бы проще разделить покупателей на сегменты. Машина купленная год назад - недавняя покупка, в то время как шампунь купленный год назад - это явно давно.***\n",
    "\n",
    "Исходя из имеющихся данных, я предполагаю, что мы имеем дело с маркетплейсом. Так как у нас есть 3095 уникальных производителя и 32951 уникальных товаров."
   ]
  },
  {
   "cell_type": "code",
   "execution_count": 102,
   "metadata": {},
   "outputs": [
    {
     "data": {
      "text/plain": [
       "3095"
      ]
     },
     "execution_count": 102,
     "metadata": {},
     "output_type": "execute_result"
    }
   ],
   "source": [
    "full_data.seller_id.nunique()"
   ]
  },
  {
   "cell_type": "code",
   "execution_count": 103,
   "metadata": {},
   "outputs": [
    {
     "data": {
      "text/plain": [
       "32951"
      ]
     },
     "execution_count": 103,
     "metadata": {},
     "output_type": "execute_result"
    }
   ],
   "source": [
    "full_data.product_id.nunique()"
   ]
  },
  {
   "cell_type": "markdown",
   "metadata": {},
   "source": [
    "#### Так что сегментация для Recency:\n",
    "\n",
    "Клиент был недавно(1) - исходя из здравово смысла, будем считать, что такой клиент сделал заказ не больше месяца назад.\n",
    "\n",
    "«Засыпающий» клиент(2) - таким клиентам дадим окно в 3 месяца.\n",
    "\n",
    "Был очень давно(3) - последняя покупка более 3 месяцев назад.\n",
    " "
   ]
  },
  {
   "cell_type": "code",
   "execution_count": 104,
   "metadata": {},
   "outputs": [],
   "source": [
    "# Функция для сегмантации по recency\n",
    "def recency_segmentation(x):\n",
    "    if x <= 30:\n",
    "        return 1\n",
    "    elif x <= 90:\n",
    "        return 2\n",
    "    else:\n",
    "        return 3"
   ]
  },
  {
   "cell_type": "code",
   "execution_count": 105,
   "metadata": {},
   "outputs": [],
   "source": [
    "RFM_table['R_segment'] = RFM_table.recency.apply(recency_segmentation)"
   ]
  },
  {
   "cell_type": "code",
   "execution_count": 106,
   "metadata": {},
   "outputs": [
    {
     "data": {
      "text/html": [
       "<div>\n",
       "<style scoped>\n",
       "    .dataframe tbody tr th:only-of-type {\n",
       "        vertical-align: middle;\n",
       "    }\n",
       "\n",
       "    .dataframe tbody tr th {\n",
       "        vertical-align: top;\n",
       "    }\n",
       "\n",
       "    .dataframe thead th {\n",
       "        text-align: right;\n",
       "    }\n",
       "</style>\n",
       "<table border=\"1\" class=\"dataframe\">\n",
       "  <thead>\n",
       "    <tr style=\"text-align: right;\">\n",
       "      <th></th>\n",
       "      <th>customer_unique_id</th>\n",
       "      <th>recency</th>\n",
       "      <th>frequency</th>\n",
       "      <th>monetary</th>\n",
       "      <th>F_segment</th>\n",
       "      <th>R_segment</th>\n",
       "    </tr>\n",
       "  </thead>\n",
       "  <tbody>\n",
       "    <tr>\n",
       "      <th>0</th>\n",
       "      <td>0000366f3b9a7992bf8c76cfdf3221e2</td>\n",
       "      <td>111</td>\n",
       "      <td>1</td>\n",
       "      <td>129.90</td>\n",
       "      <td>3</td>\n",
       "      <td>3</td>\n",
       "    </tr>\n",
       "    <tr>\n",
       "      <th>1</th>\n",
       "      <td>0000b849f77a49e4a4ce2b2a4ca5be3f</td>\n",
       "      <td>114</td>\n",
       "      <td>1</td>\n",
       "      <td>18.90</td>\n",
       "      <td>3</td>\n",
       "      <td>3</td>\n",
       "    </tr>\n",
       "    <tr>\n",
       "      <th>2</th>\n",
       "      <td>0000f46a3911fa3c0805444483337064</td>\n",
       "      <td>536</td>\n",
       "      <td>1</td>\n",
       "      <td>69.00</td>\n",
       "      <td>3</td>\n",
       "      <td>3</td>\n",
       "    </tr>\n",
       "    <tr>\n",
       "      <th>3</th>\n",
       "      <td>0000f6ccb0745a6a4b88665a16c9f078</td>\n",
       "      <td>320</td>\n",
       "      <td>1</td>\n",
       "      <td>25.99</td>\n",
       "      <td>3</td>\n",
       "      <td>3</td>\n",
       "    </tr>\n",
       "    <tr>\n",
       "      <th>4</th>\n",
       "      <td>0004aac84e0df4da2b147fca70cf8255</td>\n",
       "      <td>287</td>\n",
       "      <td>1</td>\n",
       "      <td>180.00</td>\n",
       "      <td>3</td>\n",
       "      <td>3</td>\n",
       "    </tr>\n",
       "    <tr>\n",
       "      <th>...</th>\n",
       "      <td>...</td>\n",
       "      <td>...</td>\n",
       "      <td>...</td>\n",
       "      <td>...</td>\n",
       "      <td>...</td>\n",
       "      <td>...</td>\n",
       "    </tr>\n",
       "    <tr>\n",
       "      <th>93332</th>\n",
       "      <td>fffcf5a5ff07b0908bd4e2dbc735a684</td>\n",
       "      <td>446</td>\n",
       "      <td>1</td>\n",
       "      <td>1570.00</td>\n",
       "      <td>3</td>\n",
       "      <td>3</td>\n",
       "    </tr>\n",
       "    <tr>\n",
       "      <th>93333</th>\n",
       "      <td>fffea47cd6d3cc0a88bd621562a9d061</td>\n",
       "      <td>261</td>\n",
       "      <td>1</td>\n",
       "      <td>64.89</td>\n",
       "      <td>3</td>\n",
       "      <td>3</td>\n",
       "    </tr>\n",
       "    <tr>\n",
       "      <th>93334</th>\n",
       "      <td>ffff371b4d645b6ecea244b27531430a</td>\n",
       "      <td>567</td>\n",
       "      <td>1</td>\n",
       "      <td>89.90</td>\n",
       "      <td>3</td>\n",
       "      <td>3</td>\n",
       "    </tr>\n",
       "    <tr>\n",
       "      <th>93335</th>\n",
       "      <td>ffff5962728ec6157033ef9805bacc48</td>\n",
       "      <td>118</td>\n",
       "      <td>1</td>\n",
       "      <td>115.00</td>\n",
       "      <td>3</td>\n",
       "      <td>3</td>\n",
       "    </tr>\n",
       "    <tr>\n",
       "      <th>93336</th>\n",
       "      <td>ffffd2657e2aad2907e67c3e9daecbeb</td>\n",
       "      <td>483</td>\n",
       "      <td>1</td>\n",
       "      <td>56.99</td>\n",
       "      <td>3</td>\n",
       "      <td>3</td>\n",
       "    </tr>\n",
       "  </tbody>\n",
       "</table>\n",
       "<p>93337 rows × 6 columns</p>\n",
       "</div>"
      ],
      "text/plain": [
       "                     customer_unique_id  recency  frequency  monetary  \\\n",
       "0      0000366f3b9a7992bf8c76cfdf3221e2      111          1    129.90   \n",
       "1      0000b849f77a49e4a4ce2b2a4ca5be3f      114          1     18.90   \n",
       "2      0000f46a3911fa3c0805444483337064      536          1     69.00   \n",
       "3      0000f6ccb0745a6a4b88665a16c9f078      320          1     25.99   \n",
       "4      0004aac84e0df4da2b147fca70cf8255      287          1    180.00   \n",
       "...                                 ...      ...        ...       ...   \n",
       "93332  fffcf5a5ff07b0908bd4e2dbc735a684      446          1   1570.00   \n",
       "93333  fffea47cd6d3cc0a88bd621562a9d061      261          1     64.89   \n",
       "93334  ffff371b4d645b6ecea244b27531430a      567          1     89.90   \n",
       "93335  ffff5962728ec6157033ef9805bacc48      118          1    115.00   \n",
       "93336  ffffd2657e2aad2907e67c3e9daecbeb      483          1     56.99   \n",
       "\n",
       "       F_segment  R_segment  \n",
       "0              3          3  \n",
       "1              3          3  \n",
       "2              3          3  \n",
       "3              3          3  \n",
       "4              3          3  \n",
       "...          ...        ...  \n",
       "93332          3          3  \n",
       "93333          3          3  \n",
       "93334          3          3  \n",
       "93335          3          3  \n",
       "93336          3          3  \n",
       "\n",
       "[93337 rows x 6 columns]"
      ]
     },
     "execution_count": 106,
     "metadata": {},
     "output_type": "execute_result"
    }
   ],
   "source": [
    "RFM_table"
   ]
  },
  {
   "cell_type": "markdown",
   "metadata": {},
   "source": [
    "### Monetary"
   ]
  },
  {
   "cell_type": "code",
   "execution_count": 107,
   "metadata": {},
   "outputs": [
    {
     "data": {
      "text/plain": [
       "count    93337.000000\n",
       "mean       141.622063\n",
       "std        215.713022\n",
       "min          0.850000\n",
       "25%         47.650000\n",
       "50%         89.700000\n",
       "75%        154.700000\n",
       "max      13440.000000\n",
       "Name: monetary, dtype: float64"
      ]
     },
     "execution_count": 107,
     "metadata": {},
     "output_type": "execute_result"
    }
   ],
   "source": [
    "RFM_table.monetary.describe()"
   ]
  },
  {
   "cell_type": "markdown",
   "metadata": {},
   "source": [
    "Визуализируем показатель."
   ]
  },
  {
   "cell_type": "code",
   "execution_count": 108,
   "metadata": {},
   "outputs": [
    {
     "data": {
      "text/plain": [
       "<matplotlib.axes._subplots.AxesSubplot at 0x7f09ac3b61d0>"
      ]
     },
     "execution_count": 108,
     "metadata": {},
     "output_type": "execute_result"
    },
    {
     "data": {
      "image/png": "[encoded data removed]",
      "text/plain": [
       "<Figure size 432x288 with 1 Axes>"
      ]
     },
     "metadata": {
      "needs_background": "light"
     },
     "output_type": "display_data"
    }
   ],
   "source": [
    "RFM_table.monetary.hist()"
   ]
  },
  {
   "cell_type": "markdown",
   "metadata": {},
   "source": [
    "Видим, что большая часть наблюдений сосредоточена до 2000. \n",
    "Отсеем выбросы, что бы посмотреть на корректную статистику."
   ]
  },
  {
   "cell_type": "code",
   "execution_count": 109,
   "metadata": {},
   "outputs": [
    {
     "data": {
      "text/plain": [
       "<matplotlib.axes._subplots.AxesSubplot at 0x7f09ac323ba8>"
      ]
     },
     "execution_count": 109,
     "metadata": {},
     "output_type": "execute_result"
    },
    {
     "data": {
      "image/png": "[encoded data removed]",
      "text/plain": [
       "<Figure size 432x288 with 1 Axes>"
      ]
     },
     "metadata": {
      "needs_background": "light"
     },
     "output_type": "display_data"
    }
   ],
   "source": [
    "RFM_table.query('monetary < 2000').monetary.hist()"
   ]
  },
  {
   "cell_type": "code",
   "execution_count": 110,
   "metadata": {},
   "outputs": [
    {
     "data": {
      "text/plain": [
       "count    93195.000000\n",
       "mean       137.361757\n",
       "std        178.581497\n",
       "min          0.850000\n",
       "25%         47.600000\n",
       "50%         89.500000\n",
       "75%        153.000000\n",
       "max       1999.990000\n",
       "Name: monetary, dtype: float64"
      ]
     },
     "execution_count": 110,
     "metadata": {},
     "output_type": "execute_result"
    }
   ],
   "source": [
    "RFM_table.query('monetary < 2000').monetary.describe()"
   ]
  },
  {
   "cell_type": "markdown",
   "metadata": {},
   "source": [
    "#### Сегментация для monetary:\n",
    "\n",
    "***Ориентируясь на график:***\n",
    "\n",
    "Высокий чек(1) - 200 и больше\n",
    "\n",
    "Средний чек(2) - между 137 и 200\n",
    "\n",
    "Низкий чек(3) - меньше 137"
   ]
  },
  {
   "cell_type": "code",
   "execution_count": 111,
   "metadata": {},
   "outputs": [],
   "source": [
    "# Функция для сегмантации по monetary\n",
    "def monetary_segmentation(x):\n",
    "    if x >= 200:\n",
    "        return 1\n",
    "    elif x >= 137:\n",
    "        return 2\n",
    "    else:\n",
    "        return 3"
   ]
  },
  {
   "cell_type": "code",
   "execution_count": 112,
   "metadata": {},
   "outputs": [],
   "source": [
    "RFM_table['M_segment'] = RFM_table.monetary.apply(monetary_segmentation)"
   ]
  },
  {
   "cell_type": "markdown",
   "metadata": {},
   "source": [
    "#### Добавим итоговый RFM_segment для каждого покупателя"
   ]
  },
  {
   "cell_type": "code",
   "execution_count": 113,
   "metadata": {},
   "outputs": [],
   "source": [
    "RFM_table['RFM_segment'] = RFM_table['R_segment'].map(str) + RFM_table['F_segment'].map(str) + RFM_table['M_segment'].map(str)"
   ]
  },
  {
   "cell_type": "code",
   "execution_count": 114,
   "metadata": {},
   "outputs": [
    {
     "data": {
      "text/html": [
       "<div>\n",
       "<style scoped>\n",
       "    .dataframe tbody tr th:only-of-type {\n",
       "        vertical-align: middle;\n",
       "    }\n",
       "\n",
       "    .dataframe tbody tr th {\n",
       "        vertical-align: top;\n",
       "    }\n",
       "\n",
       "    .dataframe thead th {\n",
       "        text-align: right;\n",
       "    }\n",
       "</style>\n",
       "<table border=\"1\" class=\"dataframe\">\n",
       "  <thead>\n",
       "    <tr style=\"text-align: right;\">\n",
       "      <th></th>\n",
       "      <th>customer_unique_id</th>\n",
       "      <th>recency</th>\n",
       "      <th>frequency</th>\n",
       "      <th>monetary</th>\n",
       "      <th>F_segment</th>\n",
       "      <th>R_segment</th>\n",
       "      <th>M_segment</th>\n",
       "      <th>RFM_segment</th>\n",
       "    </tr>\n",
       "  </thead>\n",
       "  <tbody>\n",
       "    <tr>\n",
       "      <th>0</th>\n",
       "      <td>0000366f3b9a7992bf8c76cfdf3221e2</td>\n",
       "      <td>111</td>\n",
       "      <td>1</td>\n",
       "      <td>129.90</td>\n",
       "      <td>3</td>\n",
       "      <td>3</td>\n",
       "      <td>3</td>\n",
       "      <td>333</td>\n",
       "    </tr>\n",
       "    <tr>\n",
       "      <th>1</th>\n",
       "      <td>0000b849f77a49e4a4ce2b2a4ca5be3f</td>\n",
       "      <td>114</td>\n",
       "      <td>1</td>\n",
       "      <td>18.90</td>\n",
       "      <td>3</td>\n",
       "      <td>3</td>\n",
       "      <td>3</td>\n",
       "      <td>333</td>\n",
       "    </tr>\n",
       "    <tr>\n",
       "      <th>2</th>\n",
       "      <td>0000f46a3911fa3c0805444483337064</td>\n",
       "      <td>536</td>\n",
       "      <td>1</td>\n",
       "      <td>69.00</td>\n",
       "      <td>3</td>\n",
       "      <td>3</td>\n",
       "      <td>3</td>\n",
       "      <td>333</td>\n",
       "    </tr>\n",
       "    <tr>\n",
       "      <th>3</th>\n",
       "      <td>0000f6ccb0745a6a4b88665a16c9f078</td>\n",
       "      <td>320</td>\n",
       "      <td>1</td>\n",
       "      <td>25.99</td>\n",
       "      <td>3</td>\n",
       "      <td>3</td>\n",
       "      <td>3</td>\n",
       "      <td>333</td>\n",
       "    </tr>\n",
       "    <tr>\n",
       "      <th>4</th>\n",
       "      <td>0004aac84e0df4da2b147fca70cf8255</td>\n",
       "      <td>287</td>\n",
       "      <td>1</td>\n",
       "      <td>180.00</td>\n",
       "      <td>3</td>\n",
       "      <td>3</td>\n",
       "      <td>2</td>\n",
       "      <td>332</td>\n",
       "    </tr>\n",
       "  </tbody>\n",
       "</table>\n",
       "</div>"
      ],
      "text/plain": [
       "                 customer_unique_id  recency  frequency  monetary  F_segment  \\\n",
       "0  0000366f3b9a7992bf8c76cfdf3221e2      111          1    129.90          3   \n",
       "1  0000b849f77a49e4a4ce2b2a4ca5be3f      114          1     18.90          3   \n",
       "2  0000f46a3911fa3c0805444483337064      536          1     69.00          3   \n",
       "3  0000f6ccb0745a6a4b88665a16c9f078      320          1     25.99          3   \n",
       "4  0004aac84e0df4da2b147fca70cf8255      287          1    180.00          3   \n",
       "\n",
       "   R_segment  M_segment RFM_segment  \n",
       "0          3          3         333  \n",
       "1          3          3         333  \n",
       "2          3          3         333  \n",
       "3          3          3         333  \n",
       "4          3          2         332  "
      ]
     },
     "execution_count": 114,
     "metadata": {},
     "output_type": "execute_result"
    }
   ],
   "source": [
    "RFM_table.head()"
   ]
  },
  {
   "cell_type": "code",
   "execution_count": 115,
   "metadata": {},
   "outputs": [
    {
     "data": {
      "text/plain": [
       "27"
      ]
     },
     "execution_count": 115,
     "metadata": {},
     "output_type": "execute_result"
    }
   ],
   "source": [
    "# Проверим, корректно ли у нас образовались сегменты. Всего их должно быть 27.\n",
    "RFM_table.RFM_segment.nunique()"
   ]
  },
  {
   "cell_type": "markdown",
   "metadata": {},
   "source": [
    "#### Для каждого класса построим границы показателей monetary, frecuency и recency"
   ]
  },
  {
   "cell_type": "code",
   "execution_count": 116,
   "metadata": {},
   "outputs": [],
   "source": [
    "rfm_by_classes = RFM_table.groupby('RFM_segment', as_index = False).agg(n_customers = ('customer_unique_id', 'nunique')\\\n",
    "                                                     , recency_min = ('recency', 'min')\\\n",
    "                                                     , recency_max = ('recency', 'max')\\\n",
    "                                                     , frecuency_min = ('frequency', 'min')\\\n",
    "                                                     , frecuency_max = ('frequency', 'max')\\\n",
    "                                                     , monetary_min = ('monetary', 'min')\\\n",
    "                                                     , monetary_max = ('monetary', 'max'))"
   ]
  },
  {
   "cell_type": "markdown",
   "metadata": {},
   "source": [
    "### Задание 6. Ответ:"
   ]
  },
  {
   "cell_type": "code",
   "execution_count": 117,
   "metadata": {},
   "outputs": [
    {
     "data": {
      "text/html": [
       "<div>\n",
       "<style scoped>\n",
       "    .dataframe tbody tr th:only-of-type {\n",
       "        vertical-align: middle;\n",
       "    }\n",
       "\n",
       "    .dataframe tbody tr th {\n",
       "        vertical-align: top;\n",
       "    }\n",
       "\n",
       "    .dataframe thead th {\n",
       "        text-align: right;\n",
       "    }\n",
       "</style>\n",
       "<table border=\"1\" class=\"dataframe\">\n",
       "  <thead>\n",
       "    <tr style=\"text-align: right;\">\n",
       "      <th></th>\n",
       "      <th>RFM_segment</th>\n",
       "      <th>n_customers</th>\n",
       "      <th>recency_min</th>\n",
       "      <th>recency_max</th>\n",
       "      <th>frecuency_min</th>\n",
       "      <th>frecuency_max</th>\n",
       "      <th>monetary_min</th>\n",
       "      <th>monetary_max</th>\n",
       "    </tr>\n",
       "  </thead>\n",
       "  <tbody>\n",
       "    <tr>\n",
       "      <th>0</th>\n",
       "      <td>111</td>\n",
       "      <td>19</td>\n",
       "      <td>1</td>\n",
       "      <td>29</td>\n",
       "      <td>3</td>\n",
       "      <td>15</td>\n",
       "      <td>253.70</td>\n",
       "      <td>4080.00</td>\n",
       "    </tr>\n",
       "    <tr>\n",
       "      <th>1</th>\n",
       "      <td>112</td>\n",
       "      <td>1</td>\n",
       "      <td>10</td>\n",
       "      <td>10</td>\n",
       "      <td>3</td>\n",
       "      <td>3</td>\n",
       "      <td>169.70</td>\n",
       "      <td>169.70</td>\n",
       "    </tr>\n",
       "    <tr>\n",
       "      <th>2</th>\n",
       "      <td>113</td>\n",
       "      <td>5</td>\n",
       "      <td>2</td>\n",
       "      <td>26</td>\n",
       "      <td>3</td>\n",
       "      <td>3</td>\n",
       "      <td>62.98</td>\n",
       "      <td>127.90</td>\n",
       "    </tr>\n",
       "    <tr>\n",
       "      <th>3</th>\n",
       "      <td>121</td>\n",
       "      <td>90</td>\n",
       "      <td>0</td>\n",
       "      <td>30</td>\n",
       "      <td>2</td>\n",
       "      <td>2</td>\n",
       "      <td>202.69</td>\n",
       "      <td>1684.29</td>\n",
       "    </tr>\n",
       "    <tr>\n",
       "      <th>4</th>\n",
       "      <td>122</td>\n",
       "      <td>37</td>\n",
       "      <td>1</td>\n",
       "      <td>29</td>\n",
       "      <td>2</td>\n",
       "      <td>2</td>\n",
       "      <td>137.50</td>\n",
       "      <td>199.80</td>\n",
       "    </tr>\n",
       "    <tr>\n",
       "      <th>5</th>\n",
       "      <td>123</td>\n",
       "      <td>63</td>\n",
       "      <td>0</td>\n",
       "      <td>30</td>\n",
       "      <td>2</td>\n",
       "      <td>2</td>\n",
       "      <td>22.76</td>\n",
       "      <td>135.90</td>\n",
       "    </tr>\n",
       "    <tr>\n",
       "      <th>6</th>\n",
       "      <td>131</td>\n",
       "      <td>955</td>\n",
       "      <td>0</td>\n",
       "      <td>30</td>\n",
       "      <td>1</td>\n",
       "      <td>1</td>\n",
       "      <td>200.00</td>\n",
       "      <td>4399.87</td>\n",
       "    </tr>\n",
       "    <tr>\n",
       "      <th>7</th>\n",
       "      <td>132</td>\n",
       "      <td>910</td>\n",
       "      <td>0</td>\n",
       "      <td>30</td>\n",
       "      <td>1</td>\n",
       "      <td>1</td>\n",
       "      <td>137.00</td>\n",
       "      <td>199.99</td>\n",
       "    </tr>\n",
       "    <tr>\n",
       "      <th>8</th>\n",
       "      <td>133</td>\n",
       "      <td>4922</td>\n",
       "      <td>0</td>\n",
       "      <td>30</td>\n",
       "      <td>1</td>\n",
       "      <td>1</td>\n",
       "      <td>2.20</td>\n",
       "      <td>136.90</td>\n",
       "    </tr>\n",
       "    <tr>\n",
       "      <th>9</th>\n",
       "      <td>211</td>\n",
       "      <td>29</td>\n",
       "      <td>31</td>\n",
       "      <td>89</td>\n",
       "      <td>3</td>\n",
       "      <td>7</td>\n",
       "      <td>201.70</td>\n",
       "      <td>1650.00</td>\n",
       "    </tr>\n",
       "    <tr>\n",
       "      <th>10</th>\n",
       "      <td>212</td>\n",
       "      <td>2</td>\n",
       "      <td>65</td>\n",
       "      <td>74</td>\n",
       "      <td>3</td>\n",
       "      <td>3</td>\n",
       "      <td>193.50</td>\n",
       "      <td>193.50</td>\n",
       "    </tr>\n",
       "    <tr>\n",
       "      <th>11</th>\n",
       "      <td>213</td>\n",
       "      <td>4</td>\n",
       "      <td>40</td>\n",
       "      <td>89</td>\n",
       "      <td>3</td>\n",
       "      <td>3</td>\n",
       "      <td>76.47</td>\n",
       "      <td>114.41</td>\n",
       "    </tr>\n",
       "    <tr>\n",
       "      <th>12</th>\n",
       "      <td>221</td>\n",
       "      <td>159</td>\n",
       "      <td>31</td>\n",
       "      <td>90</td>\n",
       "      <td>2</td>\n",
       "      <td>2</td>\n",
       "      <td>200.00</td>\n",
       "      <td>1835.00</td>\n",
       "    </tr>\n",
       "    <tr>\n",
       "      <th>13</th>\n",
       "      <td>222</td>\n",
       "      <td>82</td>\n",
       "      <td>32</td>\n",
       "      <td>90</td>\n",
       "      <td>2</td>\n",
       "      <td>2</td>\n",
       "      <td>138.00</td>\n",
       "      <td>199.80</td>\n",
       "    </tr>\n",
       "    <tr>\n",
       "      <th>14</th>\n",
       "      <td>223</td>\n",
       "      <td>128</td>\n",
       "      <td>31</td>\n",
       "      <td>90</td>\n",
       "      <td>2</td>\n",
       "      <td>2</td>\n",
       "      <td>20.00</td>\n",
       "      <td>134.99</td>\n",
       "    </tr>\n",
       "    <tr>\n",
       "      <th>15</th>\n",
       "      <td>231</td>\n",
       "      <td>1726</td>\n",
       "      <td>31</td>\n",
       "      <td>90</td>\n",
       "      <td>1</td>\n",
       "      <td>1</td>\n",
       "      <td>200.00</td>\n",
       "      <td>7160.00</td>\n",
       "    </tr>\n",
       "    <tr>\n",
       "      <th>16</th>\n",
       "      <td>232</td>\n",
       "      <td>1600</td>\n",
       "      <td>31</td>\n",
       "      <td>90</td>\n",
       "      <td>1</td>\n",
       "      <td>1</td>\n",
       "      <td>137.00</td>\n",
       "      <td>199.99</td>\n",
       "    </tr>\n",
       "    <tr>\n",
       "      <th>17</th>\n",
       "      <td>233</td>\n",
       "      <td>7852</td>\n",
       "      <td>31</td>\n",
       "      <td>90</td>\n",
       "      <td>1</td>\n",
       "      <td>1</td>\n",
       "      <td>3.00</td>\n",
       "      <td>136.99</td>\n",
       "    </tr>\n",
       "    <tr>\n",
       "      <th>18</th>\n",
       "      <td>311</td>\n",
       "      <td>109</td>\n",
       "      <td>92</td>\n",
       "      <td>580</td>\n",
       "      <td>3</td>\n",
       "      <td>9</td>\n",
       "      <td>200.28</td>\n",
       "      <td>2200.00</td>\n",
       "    </tr>\n",
       "    <tr>\n",
       "      <th>19</th>\n",
       "      <td>312</td>\n",
       "      <td>27</td>\n",
       "      <td>99</td>\n",
       "      <td>567</td>\n",
       "      <td>3</td>\n",
       "      <td>3</td>\n",
       "      <td>137.79</td>\n",
       "      <td>199.59</td>\n",
       "    </tr>\n",
       "    <tr>\n",
       "      <th>20</th>\n",
       "      <td>313</td>\n",
       "      <td>32</td>\n",
       "      <td>97</td>\n",
       "      <td>601</td>\n",
       "      <td>3</td>\n",
       "      <td>6</td>\n",
       "      <td>20.70</td>\n",
       "      <td>136.88</td>\n",
       "    </tr>\n",
       "    <tr>\n",
       "      <th>21</th>\n",
       "      <td>321</td>\n",
       "      <td>847</td>\n",
       "      <td>91</td>\n",
       "      <td>689</td>\n",
       "      <td>2</td>\n",
       "      <td>2</td>\n",
       "      <td>200.00</td>\n",
       "      <td>7388.00</td>\n",
       "    </tr>\n",
       "    <tr>\n",
       "      <th>22</th>\n",
       "      <td>322</td>\n",
       "      <td>435</td>\n",
       "      <td>91</td>\n",
       "      <td>691</td>\n",
       "      <td>2</td>\n",
       "      <td>2</td>\n",
       "      <td>137.00</td>\n",
       "      <td>199.90</td>\n",
       "    </tr>\n",
       "    <tr>\n",
       "      <th>23</th>\n",
       "      <td>323</td>\n",
       "      <td>731</td>\n",
       "      <td>92</td>\n",
       "      <td>687</td>\n",
       "      <td>2</td>\n",
       "      <td>2</td>\n",
       "      <td>11.98</td>\n",
       "      <td>136.80</td>\n",
       "    </tr>\n",
       "    <tr>\n",
       "      <th>24</th>\n",
       "      <td>331</td>\n",
       "      <td>11150</td>\n",
       "      <td>91</td>\n",
       "      <td>694</td>\n",
       "      <td>1</td>\n",
       "      <td>1</td>\n",
       "      <td>200.00</td>\n",
       "      <td>13440.00</td>\n",
       "    </tr>\n",
       "    <tr>\n",
       "      <th>25</th>\n",
       "      <td>332</td>\n",
       "      <td>10231</td>\n",
       "      <td>91</td>\n",
       "      <td>694</td>\n",
       "      <td>1</td>\n",
       "      <td>1</td>\n",
       "      <td>137.00</td>\n",
       "      <td>199.99</td>\n",
       "    </tr>\n",
       "    <tr>\n",
       "      <th>26</th>\n",
       "      <td>333</td>\n",
       "      <td>51191</td>\n",
       "      <td>91</td>\n",
       "      <td>713</td>\n",
       "      <td>1</td>\n",
       "      <td>1</td>\n",
       "      <td>0.85</td>\n",
       "      <td>136.99</td>\n",
       "    </tr>\n",
       "  </tbody>\n",
       "</table>\n",
       "</div>"
      ],
      "text/plain": [
       "   RFM_segment  n_customers  recency_min  recency_max  frecuency_min  \\\n",
       "0          111           19            1           29              3   \n",
       "1          112            1           10           10              3   \n",
       "2          113            5            2           26              3   \n",
       "3          121           90            0           30              2   \n",
       "4          122           37            1           29              2   \n",
       "5          123           63            0           30              2   \n",
       "6          131          955            0           30              1   \n",
       "7          132          910            0           30              1   \n",
       "8          133         4922            0           30              1   \n",
       "9          211           29           31           89              3   \n",
       "10         212            2           65           74              3   \n",
       "11         213            4           40           89              3   \n",
       "12         221          159           31           90              2   \n",
       "13         222           82           32           90              2   \n",
       "14         223          128           31           90              2   \n",
       "15         231         1726           31           90              1   \n",
       "16         232         1600           31           90              1   \n",
       "17         233         7852           31           90              1   \n",
       "18         311          109           92          580              3   \n",
       "19         312           27           99          567              3   \n",
       "20         313           32           97          601              3   \n",
       "21         321          847           91          689              2   \n",
       "22         322          435           91          691              2   \n",
       "23         323          731           92          687              2   \n",
       "24         331        11150           91          694              1   \n",
       "25         332        10231           91          694              1   \n",
       "26         333        51191           91          713              1   \n",
       "\n",
       "    frecuency_max  monetary_min  monetary_max  \n",
       "0              15        253.70       4080.00  \n",
       "1               3        169.70        169.70  \n",
       "2               3         62.98        127.90  \n",
       "3               2        202.69       1684.29  \n",
       "4               2        137.50        199.80  \n",
       "5               2         22.76        135.90  \n",
       "6               1        200.00       4399.87  \n",
       "7               1        137.00        199.99  \n",
       "8               1          2.20        136.90  \n",
       "9               7        201.70       1650.00  \n",
       "10              3        193.50        193.50  \n",
       "11              3         76.47        114.41  \n",
       "12              2        200.00       1835.00  \n",
       "13              2        138.00        199.80  \n",
       "14              2         20.00        134.99  \n",
       "15              1        200.00       7160.00  \n",
       "16              1        137.00        199.99  \n",
       "17              1          3.00        136.99  \n",
       "18              9        200.28       2200.00  \n",
       "19              3        137.79        199.59  \n",
       "20              6         20.70        136.88  \n",
       "21              2        200.00       7388.00  \n",
       "22              2        137.00        199.90  \n",
       "23              2         11.98        136.80  \n",
       "24              1        200.00      13440.00  \n",
       "25              1        137.00        199.99  \n",
       "26              1          0.85        136.99  "
      ]
     },
     "execution_count": 117,
     "metadata": {},
     "output_type": "execute_result"
    }
   ],
   "source": [
    "rfm_by_classes"
   ]
  },
  {
   "cell_type": "markdown",
   "metadata": {},
   "source": [
    "### Задание 6. Визуализация."
   ]
  },
  {
   "cell_type": "code",
   "execution_count": 118,
   "metadata": {},
   "outputs": [
    {
     "data": {
      "text/plain": [
       "<matplotlib.axes._subplots.AxesSubplot at 0x7f09ac257eb8>"
      ]
     },
     "execution_count": 118,
     "metadata": {},
     "output_type": "execute_result"
    },
    {
     "data": {
      "image/png": "[encoded data removed]",
      "text/plain": [
       "<Figure size 1440x504 with 1 Axes>"
      ]
     },
     "metadata": {
      "needs_background": "light"
     },
     "output_type": "display_data"
    }
   ],
   "source": [
    "plt.figure(figsize = (20, 7))\n",
    "plt.title('Количество клиентов в разных RFM сегментах ', fontsize = 22)\n",
    "sns.barplot(data = rfm_by_classes, x = 'RFM_segment', y = 'n_customers')"
   ]
  },
  {
   "cell_type": "markdown",
   "metadata": {},
   "source": [
    "Бросается в глаза огромное кол-во клиентов из сегмента 333. Т.е в большинстве своем пользователи совершают только 1 покупку и больше не возвращаются. Это очень тревожный показатель."
   ]
  },
  {
   "cell_type": "code",
   "execution_count": 119,
   "metadata": {},
   "outputs": [
    {
     "data": {
      "text/html": [
       "<div>\n",
       "<style scoped>\n",
       "    .dataframe tbody tr th:only-of-type {\n",
       "        vertical-align: middle;\n",
       "    }\n",
       "\n",
       "    .dataframe tbody tr th {\n",
       "        vertical-align: top;\n",
       "    }\n",
       "\n",
       "    .dataframe thead th {\n",
       "        text-align: right;\n",
       "    }\n",
       "</style>\n",
       "<table border=\"1\" class=\"dataframe\">\n",
       "  <thead>\n",
       "    <tr style=\"text-align: right;\">\n",
       "      <th></th>\n",
       "      <th>RFM_segment</th>\n",
       "      <th>monetary</th>\n",
       "    </tr>\n",
       "  </thead>\n",
       "  <tbody>\n",
       "    <tr>\n",
       "      <th>0</th>\n",
       "      <td>111</td>\n",
       "      <td>13347.71</td>\n",
       "    </tr>\n",
       "    <tr>\n",
       "      <th>1</th>\n",
       "      <td>112</td>\n",
       "      <td>169.70</td>\n",
       "    </tr>\n",
       "    <tr>\n",
       "      <th>2</th>\n",
       "      <td>113</td>\n",
       "      <td>446.52</td>\n",
       "    </tr>\n",
       "  </tbody>\n",
       "</table>\n",
       "</div>"
      ],
      "text/plain": [
       "  RFM_segment  monetary\n",
       "0         111  13347.71\n",
       "1         112    169.70\n",
       "2         113    446.52"
      ]
     },
     "execution_count": 119,
     "metadata": {},
     "output_type": "execute_result"
    }
   ],
   "source": [
    "rfm_revenue = RFM_table.groupby('RFM_segment', as_index = False).agg({'monetary' : 'sum'})\n",
    "rfm_revenue.head(3)"
   ]
  },
  {
   "cell_type": "code",
   "execution_count": 120,
   "metadata": {},
   "outputs": [
    {
     "data": {
      "text/plain": [
       "<matplotlib.axes._subplots.AxesSubplot at 0x7f09ac1d9be0>"
      ]
     },
     "execution_count": 120,
     "metadata": {},
     "output_type": "execute_result"
    },
    {
     "data": {
      "image/png": "[encoded data removed]",
      "text/plain": [
       "<Figure size 1440x504 with 1 Axes>"
      ]
     },
     "metadata": {
      "needs_background": "light"
     },
     "output_type": "display_data"
    }
   ],
   "source": [
    "plt.figure(figsize = (20, 7))\n",
    "plt.title('Доходность от разных RFM сегментов ', fontsize = 22)\n",
    "sns.barplot(data = rfm_revenue, x = 'RFM_segment', y = 'monetary')  "
   ]
  },
  {
   "cell_type": "markdown",
   "metadata": {},
   "source": [
    "Опять же видим, что самую большую выручку нам принесли пользователи из сегментов 331, 332 и 333, которые не продолжили взаимодействие с магазином после первой покупки. "
   ]
  },
  {
   "cell_type": "markdown",
   "metadata": {},
   "source": [
    "### Далее - стратегия работы с RFM-сегментами.\n",
    "\n",
    "Разберем матрицу полученных сегментов по RFM, чтобы понять, как выстраивать с ними маркетинговые коммуникации. Разобьем их условно на три большие группы — «отток», «пассивные клиенты» и «активные клиенты»."
   ]
  },
  {
   "cell_type": "markdown",
   "metadata": {},
   "source": [
    "### 1. Сегмент оттока\n",
    "\n",
    "Этот сегмент включает тех, кто давно не покупал или купил лишь однажды, но больше не вернулся."
   ]
  },
  {
   "cell_type": "markdown",
   "metadata": {},
   "source": [
    "***Тип - 331, 332, 333***"
   ]
  },
  {
   "cell_type": "code",
   "execution_count": 121,
   "metadata": {},
   "outputs": [
    {
     "data": {
      "text/plain": [
       "72572"
      ]
     },
     "execution_count": 121,
     "metadata": {},
     "output_type": "execute_result"
    }
   ],
   "source": [
    "rfm_by_classes.query('RFM_segment in [\"331\",\"332\",\"333\"]').n_customers.sum()"
   ]
  },
  {
   "cell_type": "markdown",
   "metadata": {},
   "source": [
    "Разовые клиенты, которые не продолжили взаимодействие с магазином после первой покупки.\n",
    "Неутешительные цифры. 72572 пользователя не вернулись.\n",
    "\n",
    "Вывод:\n",
    "\n",
    "Эти клиенты, скорее всего, не вернутся. На всякий случай им можно отправить реактивационную рассылку с промокодом. Если они не читают рассылки более года, их можно удалить из базы."
   ]
  },
  {
   "cell_type": "markdown",
   "metadata": {},
   "source": [
    "***Тип - 321, 322, 323***"
   ]
  },
  {
   "cell_type": "code",
   "execution_count": 122,
   "metadata": {},
   "outputs": [
    {
     "data": {
      "text/plain": [
       "2013"
      ]
     },
     "execution_count": 122,
     "metadata": {},
     "output_type": "execute_result"
    }
   ],
   "source": [
    "rfm_by_classes.query('RFM_segment in [\"321\",\"322\",\"323\"]').n_customers.sum()"
   ]
  },
  {
   "cell_type": "markdown",
   "metadata": {},
   "source": [
    "2013 клиентов, покупавших время от времени, но нерегулярно. Возможно, они покупают в том числе у конкурентов.\n",
    "\n",
    "Вывод:\n",
    "\n",
    "В случае с этим сегментом важно понять, что поможет клиенту обращаться к вам чаще. Накопительные скидки или индивидуальные предложения со скидками могут мотивировать клиента вернуться от конкурентов."
   ]
  },
  {
   "cell_type": "markdown",
   "metadata": {},
   "source": [
    "***Тип - 311, 312, 313***"
   ]
  },
  {
   "cell_type": "code",
   "execution_count": 123,
   "metadata": {},
   "outputs": [
    {
     "data": {
      "text/plain": [
       "168"
      ]
     },
     "execution_count": 123,
     "metadata": {},
     "output_type": "execute_result"
    }
   ],
   "source": [
    "rfm_by_classes.query('RFM_segment in [\"311\",\"312\",\"313\"]').n_customers.sum()"
   ]
  },
  {
   "cell_type": "markdown",
   "metadata": {},
   "source": [
    "168 клиентам раньше нравился продукт, потому что они его часто покупали. Но по какой-то причине они перестали это делать.\n",
    "\n",
    "Вывод: \n",
    "\n",
    "Таких клиентов следует вернуть. Это можно сделать с помощью рассылки, в которой будет информация о скидках, программе лояльности и так далее."
   ]
  },
  {
   "cell_type": "markdown",
   "metadata": {},
   "source": [
    "### 2. Пассивные клиенты\n",
    "\n",
    "Это клиенты, которые покупали не слишком давно, поэтому, вероятно, их еще можно вернуть."
   ]
  },
  {
   "cell_type": "markdown",
   "metadata": {},
   "source": [
    "***Тип - 221, 222, 223, 231, 232, 233***"
   ]
  },
  {
   "cell_type": "code",
   "execution_count": 124,
   "metadata": {},
   "outputs": [
    {
     "data": {
      "text/plain": [
       "11547"
      ]
     },
     "execution_count": 124,
     "metadata": {},
     "output_type": "execute_result"
    }
   ],
   "source": [
    "rfm_by_classes.query('RFM_segment in [\"221\",\"222\",\"223\", \"231\",\"232\",\"233\"]').n_customers.sum()"
   ]
  },
  {
   "cell_type": "markdown",
   "metadata": {},
   "source": [
    "11547 пользователей. Сюда входят относительно недавние клиенты, которые покупают с разной частотой и на разную сумму. Эти клиенты находятся в средней зоне — они могут стать постоянными, а могут уйти в сегмент оттока.\n",
    "\n",
    "Вывод:\n",
    "\n",
    "Важно вовремя присылать персональные подборки и предложения скидок, чтобы поддерживать интерес клиентов."
   ]
  },
  {
   "cell_type": "markdown",
   "metadata": {},
   "source": [
    "***Тип - 213, 212, 211***"
   ]
  },
  {
   "cell_type": "code",
   "execution_count": 125,
   "metadata": {},
   "outputs": [
    {
     "data": {
      "text/plain": [
       "35"
      ]
     },
     "execution_count": 125,
     "metadata": {},
     "output_type": "execute_result"
    }
   ],
   "source": [
    "rfm_by_classes.query('RFM_segment in [\"213\",\"212\",\"211\"]').n_customers.sum()"
   ]
  },
  {
   "cell_type": "markdown",
   "metadata": {},
   "source": [
    "35 относительно недавних клиентов, которые часто покупали, но потом перестали.\n",
    "\n",
    "Вывод:\n",
    "\n",
    "Можно провести опрос, чтобы выяснить, почему клиент перестал покупать. После этого стоит попытаться его вернуть, предлагая бонусы или промокоды."
   ]
  },
  {
   "cell_type": "markdown",
   "metadata": {},
   "source": [
    "### 3. Активные клиенты\n",
    "\n",
    "Сюда входят клиенты, которые только познакомились с магазином или покупали недавно.\n"
   ]
  },
  {
   "cell_type": "markdown",
   "metadata": {},
   "source": [
    "***Тип - 131, 132, 133***"
   ]
  },
  {
   "cell_type": "code",
   "execution_count": 126,
   "metadata": {},
   "outputs": [
    {
     "data": {
      "text/plain": [
       "6787"
      ]
     },
     "execution_count": 126,
     "metadata": {},
     "output_type": "execute_result"
    }
   ],
   "source": [
    "rfm_by_classes.query('RFM_segment in [\"131\",\"132\",\"133\"]').n_customers.sum()"
   ]
  },
  {
   "cell_type": "markdown",
   "metadata": {},
   "source": [
    "6787 новых клиентов, которые недавно совершили одну-две покупки.\n",
    "\n",
    "Вывод:\n",
    "\n",
    "Для новичков обязательно должны быть прогревающие цепочки, подробно рассказывающие о магазине."
   ]
  },
  {
   "cell_type": "markdown",
   "metadata": {},
   "source": [
    "***Тип - 121, 122, 123***"
   ]
  },
  {
   "cell_type": "code",
   "execution_count": 127,
   "metadata": {},
   "outputs": [
    {
     "data": {
      "text/plain": [
       "190"
      ]
     },
     "execution_count": 127,
     "metadata": {},
     "output_type": "execute_result"
    }
   ],
   "source": [
    "rfm_by_classes.query('RFM_segment in [\"121\",\"122\",\"123\"]').n_customers.sum()"
   ]
  },
  {
   "cell_type": "markdown",
   "metadata": {},
   "source": [
    "190 активных клиентов, которые покупают время от времени на разную сумму.\n",
    "\n",
    "Вывод:\n",
    "\n",
    "Нужно поддерживать интерес клиентов к товарам: сообщать про новинки, отправлять предложения с сопутствующими товарами или аксессуарами к тем товарам, которые они уже купили.\n",
    "Постоянных клиентов, которые недавно совершили покупку, стоит регулярно спрашивать их мнение о покупке, чтобы вовремя понять, что что-то пошло не так."
   ]
  },
  {
   "cell_type": "markdown",
   "metadata": {},
   "source": [
    "***Тип - 111, 112, 113***"
   ]
  },
  {
   "cell_type": "code",
   "execution_count": 128,
   "metadata": {},
   "outputs": [
    {
     "data": {
      "text/plain": [
       "25"
      ]
     },
     "execution_count": 128,
     "metadata": {},
     "output_type": "execute_result"
    }
   ],
   "source": [
    "rfm_by_classes.query('RFM_segment in [\"111\",\"112\",\"113\"]').n_customers.sum()"
   ]
  },
  {
   "cell_type": "markdown",
   "metadata": {},
   "source": [
    "Всего 25 постоянных клиентов, которые готовы регулярно покупать.\n",
    "\n",
    "Вывод:\n",
    "\n",
    "Для сегмента с маленьким чеком можно попробовать увеличить сумму с помощью акций — например, купи на сумму N и получи подарок или скидку.\n",
    "\n",
    "Сегменту со средним чеком стоит отправлять персональные подборки и акции, чтобы поддерживать интерес.\n",
    "\n",
    "VIP-клиентам, которые покупают постоянно и на большие суммы, следует уделить особое внимание. Возможно, сделать особую систему привилегий и сервисов или предоставить персонального менеджера."
   ]
  },
  {
   "cell_type": "markdown",
   "metadata": {},
   "source": [
    "### Подводим итог. \n",
    "\n",
    "У магазина дифицит постоянных, лояльных и крупных клиентов. По сути, вся клиентская база состоит из пользователей с одной покупкой, которые больше не вернулись.\n",
    "\n",
    "Так что маркетинговая стратегия должна быть направлена на удержание все еще активных клиентов. И выяснение причин такого большого оттока пользователей, и их последующее возвращение (по возможности)."
   ]
  }
 ],
 "metadata": {
  "kernelspec": {
   "display_name": "Python 3 (ipykernel)",
   "language": "python",
   "name": "python3"
  },
  "language_info": {
   "codemirror_mode": {
    "name": "ipython",
    "version": 3
   },
   "file_extension": ".py",
   "mimetype": "text/x-python",
   "name": "python",
   "nbconvert_exporter": "python",
   "pygments_lexer": "ipython3",
   "version": "3.10.9"
  }
 },
 "nbformat": 4,
 "nbformat_minor": 4
}
