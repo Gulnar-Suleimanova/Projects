{
 "cells": [
  {
   "cell_type": "markdown",
   "metadata": {},
   "source": [
    "## Финальный проект.\n",
    "\n",
    "### Вариант 1.\n",
    "\n",
    "***Выполнен: студенткой 53DA — Сулеймановой Гульнар.***"
   ]
  },
  {
   "cell_type": "markdown",
   "metadata": {},
   "source": [
    "### Задачи:\n",
    "\n",
    "Представьте, что вы работаете в компании, которая разрабатывает мобильные игры. К вам пришел менеджер с рядом задач по исследованию нескольких аспектов мобильного приложения:\n",
    "\n",
    "***1.*** В первую очередь, его интересует показатель retention. Напишите функцию для его подсчета.\n",
    "\n",
    "***2.*** Помимо этого, в компании провели A/B тестирование наборов акционных предложений. На основе имеющихся данных определите, какой набор можно считать лучшим и на основе каких метрик стоит принять правильное решение.\n",
    "\n",
    "***3.*** Предложите метрики для оценки результатов последнего прошедшего тематического события в игре."
   ]
  },
  {
   "cell_type": "markdown",
   "metadata": {},
   "source": [
    "#### Импорт библиотек для работы:"
   ]
  },
  {
   "cell_type": "code",
   "execution_count": 65,
   "metadata": {},
   "outputs": [],
   "source": [
    "import pandas as pd\n",
    "import matplotlib.pyplot as plt\n",
    "import seaborn as sns\n",
    "import warnings\n",
    "warnings.filterwarnings('ignore')\n",
    "import pingouin as pg\n",
    "import scipy.stats as sps\n",
    "from scipy.stats import levene\n",
    "%matplotlib inline"
   ]
  },
  {
   "cell_type": "markdown",
   "metadata": {},
   "source": [
    "### Задание 1.\n",
    "\n",
    "Retention – один из самых важных показателей в компании. Ваша задача – написать функцию, которая будет считать retention игроков (по дням от даты регистрации игрока).\n",
    "\n",
    "***Retention*** — это метрика, отвечающая на вопрос, сколько людей вернулись в день Х (неделю Х, месяц Х) после первого входа в продукт. Измеряется в процентах, то есть показывает долю вернувшихся людей от изначально пришедших.\n",
    "\n",
    "#### Данные для задачи:\n",
    "\n",
    "- reg_data.csv – данные о времени регистрации\n",
    "\n",
    "- auth_data.csv – данные о времени захода пользователей в игру"
   ]
  },
  {
   "cell_type": "markdown",
   "metadata": {},
   "source": [
    "### 1.1 Предварительный анализ данных (EDA)."
   ]
  },
  {
   "cell_type": "code",
   "execution_count": 2,
   "metadata": {},
   "outputs": [],
   "source": [
    "# Выгружаем данные.\n",
    "reg_data = pd.read_csv('~/shared/problem1-reg_data.csv', sep = ';')\n",
    "auth_data = pd.read_csv('~/shared/problem1-auth_data.csv', sep = ';') "
   ]
  },
  {
   "cell_type": "markdown",
   "metadata": {},
   "source": [
    "***Первый датафрейм reg_data.csv — данные о времени регистрации.***"
   ]
  },
  {
   "cell_type": "code",
   "execution_count": 3,
   "metadata": {},
   "outputs": [
    {
     "data": {
      "text/html": [
       "<div>\n",
       "<style scoped>\n",
       "    .dataframe tbody tr th:only-of-type {\n",
       "        vertical-align: middle;\n",
       "    }\n",
       "\n",
       "    .dataframe tbody tr th {\n",
       "        vertical-align: top;\n",
       "    }\n",
       "\n",
       "    .dataframe thead th {\n",
       "        text-align: right;\n",
       "    }\n",
       "</style>\n",
       "<table border=\"1\" class=\"dataframe\">\n",
       "  <thead>\n",
       "    <tr style=\"text-align: right;\">\n",
       "      <th></th>\n",
       "      <th>reg_ts</th>\n",
       "      <th>uid</th>\n",
       "    </tr>\n",
       "  </thead>\n",
       "  <tbody>\n",
       "    <tr>\n",
       "      <th>0</th>\n",
       "      <td>911382223</td>\n",
       "      <td>1</td>\n",
       "    </tr>\n",
       "    <tr>\n",
       "      <th>1</th>\n",
       "      <td>932683089</td>\n",
       "      <td>2</td>\n",
       "    </tr>\n",
       "    <tr>\n",
       "      <th>2</th>\n",
       "      <td>947802447</td>\n",
       "      <td>3</td>\n",
       "    </tr>\n",
       "    <tr>\n",
       "      <th>3</th>\n",
       "      <td>959523541</td>\n",
       "      <td>4</td>\n",
       "    </tr>\n",
       "    <tr>\n",
       "      <th>4</th>\n",
       "      <td>969103313</td>\n",
       "      <td>5</td>\n",
       "    </tr>\n",
       "  </tbody>\n",
       "</table>\n",
       "</div>"
      ],
      "text/plain": [
       "      reg_ts  uid\n",
       "0  911382223    1\n",
       "1  932683089    2\n",
       "2  947802447    3\n",
       "3  959523541    4\n",
       "4  969103313    5"
      ]
     },
     "execution_count": 3,
     "metadata": {},
     "output_type": "execute_result"
    }
   ],
   "source": [
    "reg_data.head()"
   ]
  },
  {
   "cell_type": "code",
   "execution_count": 4,
   "metadata": {},
   "outputs": [
    {
     "name": "stdout",
     "output_type": "stream",
     "text": [
      "<class 'pandas.core.frame.DataFrame'>\n",
      "RangeIndex: 1000000 entries, 0 to 999999\n",
      "Data columns (total 2 columns):\n",
      " #   Column  Non-Null Count    Dtype\n",
      "---  ------  --------------    -----\n",
      " 0   reg_ts  1000000 non-null  int64\n",
      " 1   uid     1000000 non-null  int64\n",
      "dtypes: int64(2)\n",
      "memory usage: 15.3 MB\n"
     ]
    }
   ],
   "source": [
    "reg_data.info()"
   ]
  },
  {
   "cell_type": "markdown",
   "metadata": {},
   "source": [
    "Колонка с айдишниками в числовом формате нам подходит.\n",
    "\n",
    "Колонка ***reg_ts*** содержит дату, которая сейчас выражена числовым значением. Приведем ее к нужному типу:"
   ]
  },
  {
   "cell_type": "code",
   "execution_count": 66,
   "metadata": {},
   "outputs": [],
   "source": [
    "reg_data['reg_ts'] = pd.to_datetime(reg_data['reg_ts'], unit='s').dt.normalize()"
   ]
  },
  {
   "cell_type": "code",
   "execution_count": 6,
   "metadata": {},
   "outputs": [
    {
     "data": {
      "text/plain": [
       "reg_ts    datetime64[ns]\n",
       "uid                int64\n",
       "dtype: object"
      ]
     },
     "execution_count": 6,
     "metadata": {},
     "output_type": "execute_result"
    }
   ],
   "source": [
    "# Проверяем:\n",
    "reg_data.dtypes"
   ]
  },
  {
   "cell_type": "markdown",
   "metadata": {},
   "source": [
    "Посмотрим на кол-во уникальных значений:"
   ]
  },
  {
   "cell_type": "code",
   "execution_count": 7,
   "metadata": {},
   "outputs": [
    {
     "data": {
      "text/plain": [
       "reg_ts       5110\n",
       "uid       1000000\n",
       "dtype: int64"
      ]
     },
     "execution_count": 7,
     "metadata": {},
     "output_type": "execute_result"
    }
   ],
   "source": [
    "reg_data.nunique()"
   ]
  },
  {
   "cell_type": "markdown",
   "metadata": {},
   "source": [
    "Проверим наличие пустых значений:"
   ]
  },
  {
   "cell_type": "code",
   "execution_count": 8,
   "metadata": {},
   "outputs": [
    {
     "data": {
      "text/plain": [
       "reg_ts    0\n",
       "uid       0\n",
       "dtype: int64"
      ]
     },
     "execution_count": 8,
     "metadata": {},
     "output_type": "execute_result"
    }
   ],
   "source": [
    "reg_data.isna().sum()"
   ]
  },
  {
   "cell_type": "markdown",
   "metadata": {},
   "source": [
    "И дубликатов:"
   ]
  },
  {
   "cell_type": "code",
   "execution_count": 9,
   "metadata": {},
   "outputs": [
    {
     "data": {
      "text/plain": [
       "0"
      ]
     },
     "execution_count": 9,
     "metadata": {},
     "output_type": "execute_result"
    }
   ],
   "source": [
    "reg_data.duplicated().sum()"
   ]
  },
  {
   "cell_type": "markdown",
   "metadata": {},
   "source": [
    "***Второй датафрейм auth_data.csv – данные о времени захода пользователей в игру.***"
   ]
  },
  {
   "cell_type": "code",
   "execution_count": 10,
   "metadata": {},
   "outputs": [
    {
     "data": {
      "text/html": [
       "<div>\n",
       "<style scoped>\n",
       "    .dataframe tbody tr th:only-of-type {\n",
       "        vertical-align: middle;\n",
       "    }\n",
       "\n",
       "    .dataframe tbody tr th {\n",
       "        vertical-align: top;\n",
       "    }\n",
       "\n",
       "    .dataframe thead th {\n",
       "        text-align: right;\n",
       "    }\n",
       "</style>\n",
       "<table border=\"1\" class=\"dataframe\">\n",
       "  <thead>\n",
       "    <tr style=\"text-align: right;\">\n",
       "      <th></th>\n",
       "      <th>auth_ts</th>\n",
       "      <th>uid</th>\n",
       "    </tr>\n",
       "  </thead>\n",
       "  <tbody>\n",
       "    <tr>\n",
       "      <th>0</th>\n",
       "      <td>911382223</td>\n",
       "      <td>1</td>\n",
       "    </tr>\n",
       "    <tr>\n",
       "      <th>1</th>\n",
       "      <td>932683089</td>\n",
       "      <td>2</td>\n",
       "    </tr>\n",
       "    <tr>\n",
       "      <th>2</th>\n",
       "      <td>932921206</td>\n",
       "      <td>2</td>\n",
       "    </tr>\n",
       "    <tr>\n",
       "      <th>3</th>\n",
       "      <td>933393015</td>\n",
       "      <td>2</td>\n",
       "    </tr>\n",
       "    <tr>\n",
       "      <th>4</th>\n",
       "      <td>933875379</td>\n",
       "      <td>2</td>\n",
       "    </tr>\n",
       "  </tbody>\n",
       "</table>\n",
       "</div>"
      ],
      "text/plain": [
       "     auth_ts  uid\n",
       "0  911382223    1\n",
       "1  932683089    2\n",
       "2  932921206    2\n",
       "3  933393015    2\n",
       "4  933875379    2"
      ]
     },
     "execution_count": 10,
     "metadata": {},
     "output_type": "execute_result"
    }
   ],
   "source": [
    "auth_data.head()"
   ]
  },
  {
   "cell_type": "code",
   "execution_count": 11,
   "metadata": {},
   "outputs": [
    {
     "name": "stdout",
     "output_type": "stream",
     "text": [
      "<class 'pandas.core.frame.DataFrame'>\n",
      "RangeIndex: 9601013 entries, 0 to 9601012\n",
      "Data columns (total 2 columns):\n",
      " #   Column   Dtype\n",
      "---  ------   -----\n",
      " 0   auth_ts  int64\n",
      " 1   uid      int64\n",
      "dtypes: int64(2)\n",
      "memory usage: 146.5 MB\n"
     ]
    }
   ],
   "source": [
    "auth_data.info()"
   ]
  },
  {
   "cell_type": "markdown",
   "metadata": {},
   "source": [
    "Как и в первом датафрейме, меняем тип данных для колонки с датой:"
   ]
  },
  {
   "cell_type": "code",
   "execution_count": 67,
   "metadata": {},
   "outputs": [],
   "source": [
    "auth_data['auth_ts'] = pd.to_datetime(auth_data['auth_ts'], unit='s').dt.normalize()"
   ]
  },
  {
   "cell_type": "code",
   "execution_count": 13,
   "metadata": {},
   "outputs": [
    {
     "data": {
      "text/plain": [
       "auth_ts    datetime64[ns]\n",
       "uid                 int64\n",
       "dtype: object"
      ]
     },
     "execution_count": 13,
     "metadata": {},
     "output_type": "execute_result"
    }
   ],
   "source": [
    "# Проверяем:\n",
    "auth_data.dtypes"
   ]
  },
  {
   "cell_type": "markdown",
   "metadata": {},
   "source": [
    "Посмотрим на кол-во уникальных значений:"
   ]
  },
  {
   "cell_type": "code",
   "execution_count": 14,
   "metadata": {},
   "outputs": [
    {
     "data": {
      "text/plain": [
       "auth_ts       6169\n",
       "uid        1000000\n",
       "dtype: int64"
      ]
     },
     "execution_count": 14,
     "metadata": {},
     "output_type": "execute_result"
    }
   ],
   "source": [
    "auth_data.nunique()"
   ]
  },
  {
   "cell_type": "markdown",
   "metadata": {},
   "source": [
    "Проверим наличие пустых значений:"
   ]
  },
  {
   "cell_type": "code",
   "execution_count": 15,
   "metadata": {},
   "outputs": [
    {
     "data": {
      "text/plain": [
       "auth_ts    0\n",
       "uid        0\n",
       "dtype: int64"
      ]
     },
     "execution_count": 15,
     "metadata": {},
     "output_type": "execute_result"
    }
   ],
   "source": [
    "auth_data.isna().sum()"
   ]
  },
  {
   "cell_type": "markdown",
   "metadata": {},
   "source": [
    "И дубликатов:"
   ]
  },
  {
   "cell_type": "code",
   "execution_count": 16,
   "metadata": {},
   "outputs": [
    {
     "data": {
      "text/plain": [
       "0"
      ]
     },
     "execution_count": 16,
     "metadata": {},
     "output_type": "execute_result"
    }
   ],
   "source": [
    "auth_data.duplicated().sum()"
   ]
  },
  {
   "cell_type": "markdown",
   "metadata": {},
   "source": [
    "Видим, что несмотря на то, что в auth_data — 9601012 строк, уникальные значения айди пользователей совпадают по количеству в обоих датафреймах."
   ]
  },
  {
   "cell_type": "code",
   "execution_count": 17,
   "metadata": {},
   "outputs": [
    {
     "data": {
      "text/plain": [
       "[1000000, 1000000]"
      ]
     },
     "execution_count": 17,
     "metadata": {},
     "output_type": "execute_result"
    }
   ],
   "source": [
    "[reg_data.uid.nunique(), auth_data.uid.nunique()]"
   ]
  },
  {
   "cell_type": "markdown",
   "metadata": {},
   "source": [
    "***Объединим данные в общий датафрейм full_data и проверим, что объединение прошло корректно:***"
   ]
  },
  {
   "cell_type": "code",
   "execution_count": 18,
   "metadata": {},
   "outputs": [],
   "source": [
    "full_data = reg_data.merge(auth_data, how='left', on='uid')"
   ]
  },
  {
   "cell_type": "code",
   "execution_count": 19,
   "metadata": {},
   "outputs": [
    {
     "data": {
      "text/html": [
       "<div>\n",
       "<style scoped>\n",
       "    .dataframe tbody tr th:only-of-type {\n",
       "        vertical-align: middle;\n",
       "    }\n",
       "\n",
       "    .dataframe tbody tr th {\n",
       "        vertical-align: top;\n",
       "    }\n",
       "\n",
       "    .dataframe thead th {\n",
       "        text-align: right;\n",
       "    }\n",
       "</style>\n",
       "<table border=\"1\" class=\"dataframe\">\n",
       "  <thead>\n",
       "    <tr style=\"text-align: right;\">\n",
       "      <th></th>\n",
       "      <th>reg_ts</th>\n",
       "      <th>uid</th>\n",
       "      <th>auth_ts</th>\n",
       "    </tr>\n",
       "  </thead>\n",
       "  <tbody>\n",
       "    <tr>\n",
       "      <th>0</th>\n",
       "      <td>1998-11-18</td>\n",
       "      <td>1</td>\n",
       "      <td>1998-11-18</td>\n",
       "    </tr>\n",
       "    <tr>\n",
       "      <th>1</th>\n",
       "      <td>1999-07-22</td>\n",
       "      <td>2</td>\n",
       "      <td>1999-07-22</td>\n",
       "    </tr>\n",
       "    <tr>\n",
       "      <th>2</th>\n",
       "      <td>1999-07-22</td>\n",
       "      <td>2</td>\n",
       "      <td>1999-07-25</td>\n",
       "    </tr>\n",
       "    <tr>\n",
       "      <th>3</th>\n",
       "      <td>1999-07-22</td>\n",
       "      <td>2</td>\n",
       "      <td>1999-07-31</td>\n",
       "    </tr>\n",
       "    <tr>\n",
       "      <th>4</th>\n",
       "      <td>1999-07-22</td>\n",
       "      <td>2</td>\n",
       "      <td>1999-08-05</td>\n",
       "    </tr>\n",
       "  </tbody>\n",
       "</table>\n",
       "</div>"
      ],
      "text/plain": [
       "      reg_ts  uid    auth_ts\n",
       "0 1998-11-18    1 1998-11-18\n",
       "1 1999-07-22    2 1999-07-22\n",
       "2 1999-07-22    2 1999-07-25\n",
       "3 1999-07-22    2 1999-07-31\n",
       "4 1999-07-22    2 1999-08-05"
      ]
     },
     "execution_count": 19,
     "metadata": {},
     "output_type": "execute_result"
    }
   ],
   "source": [
    "full_data.head()"
   ]
  },
  {
   "cell_type": "code",
   "execution_count": 20,
   "metadata": {},
   "outputs": [
    {
     "name": "stdout",
     "output_type": "stream",
     "text": [
      "<class 'pandas.core.frame.DataFrame'>\n",
      "Int64Index: 9601013 entries, 0 to 9601012\n",
      "Data columns (total 3 columns):\n",
      " #   Column   Dtype         \n",
      "---  ------   -----         \n",
      " 0   reg_ts   datetime64[ns]\n",
      " 1   uid      int64         \n",
      " 2   auth_ts  datetime64[ns]\n",
      "dtypes: datetime64[ns](2), int64(1)\n",
      "memory usage: 293.0 MB\n"
     ]
    }
   ],
   "source": [
    "full_data.info()"
   ]
  },
  {
   "cell_type": "markdown",
   "metadata": {},
   "source": [
    "С типами данных все в порядке.\n",
    "\n",
    "Проверим, не потерялись ли какие-то значения:"
   ]
  },
  {
   "cell_type": "code",
   "execution_count": 21,
   "metadata": {},
   "outputs": [
    {
     "data": {
      "text/plain": [
       "reg_ts     0\n",
       "uid        0\n",
       "auth_ts    0\n",
       "dtype: int64"
      ]
     },
     "execution_count": 21,
     "metadata": {},
     "output_type": "execute_result"
    }
   ],
   "source": [
    "full_data.isna().sum()"
   ]
  },
  {
   "cell_type": "markdown",
   "metadata": {},
   "source": [
    "Проверим, есть ли пользователи, у которых первый заход в игру был ***раньше регистрации***:"
   ]
  },
  {
   "cell_type": "code",
   "execution_count": 22,
   "metadata": {},
   "outputs": [
    {
     "data": {
      "text/html": [
       "<div>\n",
       "<style scoped>\n",
       "    .dataframe tbody tr th:only-of-type {\n",
       "        vertical-align: middle;\n",
       "    }\n",
       "\n",
       "    .dataframe tbody tr th {\n",
       "        vertical-align: top;\n",
       "    }\n",
       "\n",
       "    .dataframe thead th {\n",
       "        text-align: right;\n",
       "    }\n",
       "</style>\n",
       "<table border=\"1\" class=\"dataframe\">\n",
       "  <thead>\n",
       "    <tr style=\"text-align: right;\">\n",
       "      <th></th>\n",
       "      <th>reg_ts</th>\n",
       "      <th>uid</th>\n",
       "      <th>auth_ts</th>\n",
       "    </tr>\n",
       "  </thead>\n",
       "  <tbody>\n",
       "  </tbody>\n",
       "</table>\n",
       "</div>"
      ],
      "text/plain": [
       "Empty DataFrame\n",
       "Columns: [reg_ts, uid, auth_ts]\n",
       "Index: []"
      ]
     },
     "execution_count": 22,
     "metadata": {},
     "output_type": "execute_result"
    }
   ],
   "source": [
    "full_data.query('auth_ts < reg_ts')"
   ]
  },
  {
   "cell_type": "markdown",
   "metadata": {},
   "source": [
    "***Итак, все в порядке:***\n",
    "\n",
    "- Типы данных соответствуют значениям в столбцах.\n",
    "- Пропущенных значений и дубликатов нет.\n",
    "- Так же, проверка дат показала, что в игру могут зайти ***только зарегистрированные пользователи***.\n",
    "\n",
    "Приступаем к задаче."
   ]
  },
  {
   "cell_type": "markdown",
   "metadata": {},
   "source": [
    "### 1.2 Напишем функцию для расчета Retention."
   ]
  },
  {
   "cell_type": "markdown",
   "metadata": {},
   "source": [
    "Посмотрим, за какой период у нас есть данные:"
   ]
  },
  {
   "cell_type": "code",
   "execution_count": 23,
   "metadata": {},
   "outputs": [
    {
     "name": "stdout",
     "output_type": "stream",
     "text": [
      "[1998-11-18, 2020-09-23]\n"
     ]
    }
   ],
   "source": [
    "min_date = full_data.reg_ts.dt.date.min()\n",
    "max_date = full_data.reg_ts.dt.date.max()\n",
    "\n",
    "print(f'[{min_date}, {max_date}]')"
   ]
  },
  {
   "cell_type": "code",
   "execution_count": 24,
   "metadata": {},
   "outputs": [],
   "source": [
    "def calculate_retention(registration_df, auth_df, start_date, end_date):\n",
    "    \"\"\"\n",
    "    Функция принимает на вход следующие параметры:  \n",
    "    \n",
    "        registration_df - датафрейм с датами регистрации игроков\n",
    "        auth_df         - датафрейм с датами захода пользователей в игру\n",
    "        start_date      - дата начала периода в формате год-месяц-число\n",
    "        end_date        - конечная дата периода в формате год-месяц-число\n",
    "                        \n",
    "    Возвращает:                \n",
    "        Тепловую карту с retention за указанный период для игроков, которые объединяются в когорты по дате регистрации.\n",
    "        В случае, если введена не корректная дата начала или конца периода, функция сообщит об этом.\n",
    "    \"\"\"\n",
    "    \n",
    "    # Преобразуем даты в формат datetime\n",
    "    registration_df['reg_ts'] = pd.to_datetime(registration_df['reg_ts'], unit='s').dt.normalize()\n",
    "    auth_df['auth_ts'] = pd.to_datetime(auth_df['auth_ts'], unit='s').dt.normalize()\n",
    "    \n",
    "    # Преобразуем start_date и end_date в формат datetime, что бы они корректно сравнивались при проверке \n",
    "    start_date = pd.to_datetime(start_date).normalize()\n",
    "    end_date = pd.to_datetime(end_date).normalize()\n",
    "\n",
    "    # Проверка на корректность введенных дат\n",
    "    # Осознаю, что это замедляет работу кода, и на очень больших данных не использовала бы\n",
    "    # Но считаю добавление проверки целесообразным в рамках финального (учебного) проекта\n",
    "    # как способ показать, чему научили. \n",
    "    if start_date not in registration_df['reg_ts'].values:\n",
    "        print(\"Нет пользователей, зарегистрированных в указанную дату начала периода.\")\n",
    "        return\n",
    "    if end_date not in auth_df['auth_ts'].values:\n",
    "        print(\"Нет пользователей, заходивших в игру в указанную дату окончания периода.\")\n",
    "        return\n",
    "\n",
    "    # Фильтруем данные по заданному периоду\n",
    "    registration_df = registration_df[(registration_df['reg_ts'] >= start_date) & (registration_df['reg_ts'] <= end_date)]\n",
    "    auth_df = auth_df[(auth_df['auth_ts'] >= start_date) & (auth_df['auth_ts'] <= end_date)]\n",
    "   \n",
    "\n",
    "    # Создаем когорты по дате регистрации\n",
    "    registration_df['cohort'] = registration_df['reg_ts'].dt.to_period('D')\n",
    "\n",
    "    # Объединяем данные о регистрации и заходе в игру\n",
    "    retention_df = registration_df.merge(auth_df, on='uid', how='left')\n",
    "\n",
    "    # Рассчитываем количество дней с даты регистрации до даты захода в игру\n",
    "    retention_df['days_to_auth'] = (retention_df['auth_ts'] - retention_df['reg_ts']).dt.days\n",
    "\n",
    "    # Считаем количество пользователей, которые вернулись в игру\n",
    "    retention_counts = retention_df.groupby(['cohort', 'days_to_auth'])['uid'].nunique().reset_index()\n",
    "    retention_counts.columns = ['cohort', 'days_to_auth', 'retained_users']\n",
    "\n",
    "    # Получаем количество пользователей в каждой когорте\n",
    "    cohort_sizes = registration_df.groupby('cohort')['uid'].nunique().reset_index()\n",
    "    cohort_sizes.columns = ['cohort', 'cohort_size']\n",
    "\n",
    "    # Объединяем с размерами когорт\n",
    "    retention_matrix = retention_counts.merge(cohort_sizes, on='cohort')\n",
    "\n",
    "    # Рассчитываем Retention\n",
    "    retention_matrix['retention'] = retention_matrix['retained_users'] / retention_matrix['cohort_size'] * 100\n",
    "\n",
    "    # Преобразуем данные в pivot для heatmap\n",
    "    retention_pivot = retention_matrix.pivot('cohort', 'days_to_auth', 'retention')\n",
    "\n",
    "    # Заполняем NaN значениями 0\n",
    "    retention_pivot = retention_pivot.fillna(0)\n",
    "\n",
    "    # Убираем неинформативный столбец со 100% Retention\n",
    "    retention_pivot = retention_pivot.iloc[:, 1:]\n",
    "\n",
    "    # Округляем значения до целого\n",
    "    retention_pivot_rounded = retention_pivot.round(0).astype(int)\n",
    "\n",
    "    # Создаем маску для нулевых значений, что бы убрать их из heatmap\n",
    "    mask = retention_pivot == 0\n",
    "\n",
    "    # Визуализируем Retention в виде heatmap\n",
    "    plt.figure(figsize=(12, 8))\n",
    "    # Выбираем палитру \"viridis\", так как она хорошо воспринимается людьми с различными нарушениями цветового восприятия\n",
    "    ax = sns.heatmap(retention_pivot, annot=retention_pivot_rounded.astype(str) + '%', fmt='', cmap=\"viridis\", \n",
    "                     cbar_kws={'label': 'Retention (%)'}, mask=mask)\n",
    "    \n",
    "    plt.title('User Retention Heatmap')\n",
    "    plt.xlabel('Days to Auth')\n",
    "    plt.ylabel('Cohort')\n",
    "    plt.show()"
   ]
  },
  {
   "cell_type": "markdown",
   "metadata": {},
   "source": [
    "### Проверяем работу фунции:"
   ]
  },
  {
   "cell_type": "code",
   "execution_count": 25,
   "metadata": {},
   "outputs": [],
   "source": [
    "# Выгружаем датафреймы\n",
    "registration_df = pd.read_csv('~/shared/problem1-reg_data.csv', sep = ';')\n",
    "auth_df = pd.read_csv('~/shared/problem1-auth_data.csv', sep = ';') "
   ]
  },
  {
   "cell_type": "code",
   "execution_count": 26,
   "metadata": {},
   "outputs": [
    {
     "name": "stdout",
     "output_type": "stream",
     "text": [
      "\n",
      "    Функция принимает на вход следующие параметры:  \n",
      "    \n",
      "        registration_df - датафрейм с датами регистрации игроков\n",
      "        auth_df         - датафрейм с датами захода пользователей в игру\n",
      "        start_date      - дата начала периода в формате год-месяц-число\n",
      "        end_date        - конечная дата периода в формате год-месяц-число\n",
      "                        \n",
      "    Возвращает:                \n",
      "        Тепловую карту с retention за указанный период для игроков, которые объединяются в когорты по дате регистрации.\n",
      "        В случае, если введена не корректная дата начала или конца периода, функция сообщит об этом.\n",
      "    \n"
     ]
    }
   ],
   "source": [
    "# Смотрим документацию к функции\n",
    "print(calculate_retention.__doc__)"
   ]
  },
  {
   "cell_type": "markdown",
   "metadata": {},
   "source": [
    "Retention для периода в две недели:"
   ]
  },
  {
   "cell_type": "code",
   "execution_count": 27,
   "metadata": {},
   "outputs": [
    {
     "data": {
      "image/png": "[encoded data removed]",
      "text/plain": [
       "<Figure size 864x576 with 2 Axes>"
      ]
     },
     "metadata": {
      "needs_background": "light"
     },
     "output_type": "display_data"
    }
   ],
   "source": [
    "calculate_retention(registration_df, auth_df, '2019-05-01', '2019-05-15')"
   ]
  },
  {
   "cell_type": "markdown",
   "metadata": {},
   "source": [
    "Retention для периода в месяц:"
   ]
  },
  {
   "cell_type": "code",
   "execution_count": 28,
   "metadata": {},
   "outputs": [
    {
     "data": {
      "image/png": "[encoded data removed]",
      "text/plain": [
       "<Figure size 864x576 with 2 Axes>"
      ]
     },
     "metadata": {
      "needs_background": "light"
     },
     "output_type": "display_data"
    }
   ],
   "source": [
    "calculate_retention(registration_df, auth_df, '2019-03-01', '2019-03-30')"
   ]
  },
  {
   "cell_type": "markdown",
   "metadata": {},
   "source": [
    "В случае, если введены неккоректные даты:"
   ]
  },
  {
   "cell_type": "code",
   "execution_count": 29,
   "metadata": {},
   "outputs": [
    {
     "name": "stdout",
     "output_type": "stream",
     "text": [
      "Нет пользователей, зарегистрированных в указанную дату начала периода.\n"
     ]
    }
   ],
   "source": [
    "calculate_retention(registration_df, auth_df, '2029-10-05', '2019-05-15')"
   ]
  },
  {
   "cell_type": "code",
   "execution_count": 30,
   "metadata": {},
   "outputs": [
    {
     "name": "stdout",
     "output_type": "stream",
     "text": [
      "Нет пользователей, заходивших в игру в указанную дату окончания периода.\n"
     ]
    }
   ],
   "source": [
    "calculate_retention(registration_df, auth_df, '2020-06-02', '2024-10-05')"
   ]
  },
  {
   "cell_type": "markdown",
   "metadata": {},
   "source": [
    "### Задание 2\n",
    "\n",
    "Имеются результаты A/B теста, в котором двум группам пользователей предлагались различные наборы акционных предложений. Известно, что ARPU в тестовой группе выше на 5%, чем в контрольной. При этом в контрольной группе 1928 игроков из 202103 оказались платящими, а в тестовой – 1805 из 202667.\n",
    "\n",
    "Какой набор предложений можно считать лучшим? Какие метрики стоит проанализировать для принятия правильного решения и как?"
   ]
  },
  {
   "cell_type": "markdown",
   "metadata": {},
   "source": [
    "### 2.1 Предварительный анализ данных (EDA)."
   ]
  },
  {
   "cell_type": "code",
   "execution_count": 31,
   "metadata": {},
   "outputs": [
    {
     "data": {
      "text/html": [
       "<div>\n",
       "<style scoped>\n",
       "    .dataframe tbody tr th:only-of-type {\n",
       "        vertical-align: middle;\n",
       "    }\n",
       "\n",
       "    .dataframe tbody tr th {\n",
       "        vertical-align: top;\n",
       "    }\n",
       "\n",
       "    .dataframe thead th {\n",
       "        text-align: right;\n",
       "    }\n",
       "</style>\n",
       "<table border=\"1\" class=\"dataframe\">\n",
       "  <thead>\n",
       "    <tr style=\"text-align: right;\">\n",
       "      <th></th>\n",
       "      <th>user_id</th>\n",
       "      <th>revenue</th>\n",
       "      <th>testgroup</th>\n",
       "    </tr>\n",
       "  </thead>\n",
       "  <tbody>\n",
       "    <tr>\n",
       "      <th>0</th>\n",
       "      <td>1</td>\n",
       "      <td>0</td>\n",
       "      <td>b</td>\n",
       "    </tr>\n",
       "    <tr>\n",
       "      <th>1</th>\n",
       "      <td>2</td>\n",
       "      <td>0</td>\n",
       "      <td>a</td>\n",
       "    </tr>\n",
       "    <tr>\n",
       "      <th>2</th>\n",
       "      <td>3</td>\n",
       "      <td>0</td>\n",
       "      <td>a</td>\n",
       "    </tr>\n",
       "    <tr>\n",
       "      <th>3</th>\n",
       "      <td>4</td>\n",
       "      <td>0</td>\n",
       "      <td>b</td>\n",
       "    </tr>\n",
       "    <tr>\n",
       "      <th>4</th>\n",
       "      <td>5</td>\n",
       "      <td>0</td>\n",
       "      <td>b</td>\n",
       "    </tr>\n",
       "    <tr>\n",
       "      <th>...</th>\n",
       "      <td>...</td>\n",
       "      <td>...</td>\n",
       "      <td>...</td>\n",
       "    </tr>\n",
       "    <tr>\n",
       "      <th>404765</th>\n",
       "      <td>404766</td>\n",
       "      <td>0</td>\n",
       "      <td>a</td>\n",
       "    </tr>\n",
       "    <tr>\n",
       "      <th>404766</th>\n",
       "      <td>404767</td>\n",
       "      <td>0</td>\n",
       "      <td>b</td>\n",
       "    </tr>\n",
       "    <tr>\n",
       "      <th>404767</th>\n",
       "      <td>404768</td>\n",
       "      <td>231</td>\n",
       "      <td>a</td>\n",
       "    </tr>\n",
       "    <tr>\n",
       "      <th>404768</th>\n",
       "      <td>404769</td>\n",
       "      <td>0</td>\n",
       "      <td>a</td>\n",
       "    </tr>\n",
       "    <tr>\n",
       "      <th>404769</th>\n",
       "      <td>404770</td>\n",
       "      <td>0</td>\n",
       "      <td>b</td>\n",
       "    </tr>\n",
       "  </tbody>\n",
       "</table>\n",
       "<p>404770 rows × 3 columns</p>\n",
       "</div>"
      ],
      "text/plain": [
       "        user_id  revenue testgroup\n",
       "0             1        0         b\n",
       "1             2        0         a\n",
       "2             3        0         a\n",
       "3             4        0         b\n",
       "4             5        0         b\n",
       "...         ...      ...       ...\n",
       "404765   404766        0         a\n",
       "404766   404767        0         b\n",
       "404767   404768      231         a\n",
       "404768   404769        0         a\n",
       "404769   404770        0         b\n",
       "\n",
       "[404770 rows x 3 columns]"
      ]
     },
     "execution_count": 31,
     "metadata": {},
     "output_type": "execute_result"
    }
   ],
   "source": [
    "# Выгружаем данные\n",
    "ab_df = pd.read_csv('https://getfile.dokpub.com/yandex/get/https://disk.yandex.ru/d/SOkIsD5A8xlI7Q', sep=';')\n",
    "ab_df"
   ]
  },
  {
   "cell_type": "code",
   "execution_count": 32,
   "metadata": {},
   "outputs": [
    {
     "name": "stdout",
     "output_type": "stream",
     "text": [
      "<class 'pandas.core.frame.DataFrame'>\n",
      "RangeIndex: 404770 entries, 0 to 404769\n",
      "Data columns (total 3 columns):\n",
      " #   Column     Non-Null Count   Dtype \n",
      "---  ------     --------------   ----- \n",
      " 0   user_id    404770 non-null  int64 \n",
      " 1   revenue    404770 non-null  int64 \n",
      " 2   testgroup  404770 non-null  object\n",
      "dtypes: int64(2), object(1)\n",
      "memory usage: 9.3+ MB\n"
     ]
    }
   ],
   "source": [
    "ab_df.info()"
   ]
  },
  {
   "cell_type": "markdown",
   "metadata": {},
   "source": [
    "Типы данных соответствуют значениям в столбцах.\n",
    "\n",
    "Проверим кол-во пустых значений:"
   ]
  },
  {
   "cell_type": "code",
   "execution_count": 33,
   "metadata": {},
   "outputs": [
    {
     "data": {
      "text/plain": [
       "user_id      0\n",
       "revenue      0\n",
       "testgroup    0\n",
       "dtype: int64"
      ]
     },
     "execution_count": 33,
     "metadata": {},
     "output_type": "execute_result"
    }
   ],
   "source": [
    "ab_df.isna().sum()"
   ]
  },
  {
   "cell_type": "markdown",
   "metadata": {},
   "source": [
    "Пустые значения отсутствуют.\n",
    "\n",
    "Проверим наличие дубликатов:"
   ]
  },
  {
   "cell_type": "code",
   "execution_count": 34,
   "metadata": {},
   "outputs": [
    {
     "data": {
      "text/plain": [
       "0"
      ]
     },
     "execution_count": 34,
     "metadata": {},
     "output_type": "execute_result"
    }
   ],
   "source": [
    "ab_df.duplicated().sum()"
   ]
  },
  {
   "cell_type": "markdown",
   "metadata": {},
   "source": [
    "Проверим кол-во уникальных значений:"
   ]
  },
  {
   "cell_type": "code",
   "execution_count": 35,
   "metadata": {},
   "outputs": [
    {
     "data": {
      "text/plain": [
       "user_id      404770\n",
       "revenue        1477\n",
       "testgroup         2\n",
       "dtype: int64"
      ]
     },
     "execution_count": 35,
     "metadata": {},
     "output_type": "execute_result"
    }
   ],
   "source": [
    "ab_df.nunique()"
   ]
  },
  {
   "cell_type": "markdown",
   "metadata": {},
   "source": [
    "По условию задачи мы знаем, что групп было две. Все ок.\n",
    "\n",
    "Так же мы знаем, что пользователей в группах a и b было 202103 и 202667 соответственно. Т.е всего 404770. Все верно.\n",
    "\n",
    "В колонке с выручкой у нас подсчитаны только уникальные значения, поэтому их всего 1477."
   ]
  },
  {
   "cell_type": "markdown",
   "metadata": {},
   "source": [
    "Посмотрим на описательную статистику колонки с выручкой от платящих пользователей:"
   ]
  },
  {
   "cell_type": "code",
   "execution_count": 36,
   "metadata": {},
   "outputs": [
    {
     "data": {
      "text/plain": [
       "count     3733.000000\n",
       "mean      2828.232521\n",
       "std       6516.770722\n",
       "min        200.000000\n",
       "25%        309.000000\n",
       "50%       2052.000000\n",
       "75%       3126.000000\n",
       "max      37433.000000\n",
       "Name: revenue, dtype: float64"
      ]
     },
     "execution_count": 36,
     "metadata": {},
     "output_type": "execute_result"
    }
   ],
   "source": [
    "ab_df.query('revenue > 0').revenue.describe()"
   ]
  },
  {
   "cell_type": "markdown",
   "metadata": {},
   "source": [
    "В условии в группах a и b указаны 1928 и 1805 платящих пользователей соответственно. В сумме 3733, что мы и видим.\n",
    "\n",
    "Стандартное отклонение огромное, но с этим разберемся чуть позже."
   ]
  },
  {
   "cell_type": "markdown",
   "metadata": {},
   "source": [
    "Посмотрим, совпадают ли данные о платящих пользователях в группах с указанными в условии задачи. \n",
    "\n",
    "***Для контрольной группы(а) - 1928***\n",
    "\n",
    "***Для тестовой группы(b) - 1805***"
   ]
  },
  {
   "cell_type": "code",
   "execution_count": 37,
   "metadata": {},
   "outputs": [
    {
     "data": {
      "text/html": [
       "<div>\n",
       "<style scoped>\n",
       "    .dataframe tbody tr th:only-of-type {\n",
       "        vertical-align: middle;\n",
       "    }\n",
       "\n",
       "    .dataframe tbody tr th {\n",
       "        vertical-align: top;\n",
       "    }\n",
       "\n",
       "    .dataframe thead th {\n",
       "        text-align: right;\n",
       "    }\n",
       "</style>\n",
       "<table border=\"1\" class=\"dataframe\">\n",
       "  <thead>\n",
       "    <tr style=\"text-align: right;\">\n",
       "      <th></th>\n",
       "      <th>testgroup</th>\n",
       "      <th>user_id</th>\n",
       "    </tr>\n",
       "  </thead>\n",
       "  <tbody>\n",
       "    <tr>\n",
       "      <th>0</th>\n",
       "      <td>a</td>\n",
       "      <td>1928</td>\n",
       "    </tr>\n",
       "    <tr>\n",
       "      <th>1</th>\n",
       "      <td>b</td>\n",
       "      <td>1805</td>\n",
       "    </tr>\n",
       "  </tbody>\n",
       "</table>\n",
       "</div>"
      ],
      "text/plain": [
       "  testgroup  user_id\n",
       "0         a     1928\n",
       "1         b     1805"
      ]
     },
     "execution_count": 37,
     "metadata": {},
     "output_type": "execute_result"
    }
   ],
   "source": [
    "ab_df.query('revenue > 0').groupby('testgroup', as_index=False).agg({'user_id' : 'nunique'})"
   ]
  },
  {
   "cell_type": "markdown",
   "metadata": {},
   "source": [
    "Для удобства восприятия дадим группам a и b содержательные названия test и control:"
   ]
  },
  {
   "cell_type": "code",
   "execution_count": 38,
   "metadata": {},
   "outputs": [],
   "source": [
    "ab_df['testgroup']= ab_df['testgroup'].replace({'a': 'control', 'b': 'test'})"
   ]
  },
  {
   "cell_type": "markdown",
   "metadata": {},
   "source": [
    "Посмотрим на описательную статистику выручки в разрезе групп:"
   ]
  },
  {
   "cell_type": "code",
   "execution_count": 39,
   "metadata": {},
   "outputs": [
    {
     "data": {
      "text/html": [
       "<div>\n",
       "<style scoped>\n",
       "    .dataframe tbody tr th:only-of-type {\n",
       "        vertical-align: middle;\n",
       "    }\n",
       "\n",
       "    .dataframe tbody tr th {\n",
       "        vertical-align: top;\n",
       "    }\n",
       "\n",
       "    .dataframe thead th {\n",
       "        text-align: right;\n",
       "    }\n",
       "</style>\n",
       "<table border=\"1\" class=\"dataframe\">\n",
       "  <thead>\n",
       "    <tr style=\"text-align: right;\">\n",
       "      <th></th>\n",
       "      <th>count</th>\n",
       "      <th>mean</th>\n",
       "      <th>std</th>\n",
       "      <th>min</th>\n",
       "      <th>25%</th>\n",
       "      <th>50%</th>\n",
       "      <th>75%</th>\n",
       "      <th>max</th>\n",
       "    </tr>\n",
       "    <tr>\n",
       "      <th>testgroup</th>\n",
       "      <th></th>\n",
       "      <th></th>\n",
       "      <th></th>\n",
       "      <th></th>\n",
       "      <th></th>\n",
       "      <th></th>\n",
       "      <th></th>\n",
       "      <th></th>\n",
       "    </tr>\n",
       "  </thead>\n",
       "  <tbody>\n",
       "    <tr>\n",
       "      <th>control</th>\n",
       "      <td>202103.0</td>\n",
       "      <td>25.413720</td>\n",
       "      <td>920.768137</td>\n",
       "      <td>0.0</td>\n",
       "      <td>0.0</td>\n",
       "      <td>0.0</td>\n",
       "      <td>0.0</td>\n",
       "      <td>37433.0</td>\n",
       "    </tr>\n",
       "    <tr>\n",
       "      <th>test</th>\n",
       "      <td>202667.0</td>\n",
       "      <td>26.751287</td>\n",
       "      <td>287.324162</td>\n",
       "      <td>0.0</td>\n",
       "      <td>0.0</td>\n",
       "      <td>0.0</td>\n",
       "      <td>0.0</td>\n",
       "      <td>4000.0</td>\n",
       "    </tr>\n",
       "  </tbody>\n",
       "</table>\n",
       "</div>"
      ],
      "text/plain": [
       "              count       mean         std  min  25%  50%  75%      max\n",
       "testgroup                                                              \n",
       "control    202103.0  25.413720  920.768137  0.0  0.0  0.0  0.0  37433.0\n",
       "test       202667.0  26.751287  287.324162  0.0  0.0  0.0  0.0   4000.0"
      ]
     },
     "execution_count": 39,
     "metadata": {},
     "output_type": "execute_result"
    }
   ],
   "source": [
    "ab_df.groupby('testgroup')['revenue'].describe()"
   ]
  },
  {
   "cell_type": "markdown",
   "metadata": {},
   "source": [
    "Видим, что:\n",
    "\n",
    "Тестовая группа чуть больше, нежели контрольная.\n",
    "\n",
    "Стандартное отклонение в контрольной группе в 3 раза превышает его же в тестовой. И в целом, большая разница между средним и std говорит о том, что у нас очень большой разброс значений в данных.\n",
    "\n",
    "Максимальное значение в контрольной группе почти в 10 раз больше, чем в тестовой."
   ]
  },
  {
   "cell_type": "markdown",
   "metadata": {},
   "source": [
    "Среднее значение в тестовой группе больше:"
   ]
  },
  {
   "cell_type": "code",
   "execution_count": 40,
   "metadata": {},
   "outputs": [
    {
     "name": "stdout",
     "output_type": "stream",
     "text": [
      "В тестовой группе среднее значение больше на 5%, чем в контрольной.\n"
     ]
    }
   ],
   "source": [
    "# Вычислим разницу между средними:\n",
    "test_mean = 26.751287\n",
    "control_mean = 25.413720\n",
    "diff = test_mean - control_mean \n",
    "# Вычислим разницу в %\n",
    "diff_percent = round((diff / control_mean) * 100)\n",
    "print(f'В тестовой группе среднее значение больше на {diff_percent}%, чем в контрольной.')"
   ]
  },
  {
   "cell_type": "markdown",
   "metadata": {},
   "source": [
    "Собственно, в условии задачи это было заявлено (ARPU в тестовой группе выше на 5%), но мы убедились еще раз."
   ]
  },
  {
   "cell_type": "markdown",
   "metadata": {},
   "source": [
    "Тогда посмотрим на платящих пользователей:"
   ]
  },
  {
   "cell_type": "code",
   "execution_count": 41,
   "metadata": {},
   "outputs": [
    {
     "data": {
      "text/html": [
       "<div>\n",
       "<style scoped>\n",
       "    .dataframe tbody tr th:only-of-type {\n",
       "        vertical-align: middle;\n",
       "    }\n",
       "\n",
       "    .dataframe tbody tr th {\n",
       "        vertical-align: top;\n",
       "    }\n",
       "\n",
       "    .dataframe thead th {\n",
       "        text-align: right;\n",
       "    }\n",
       "</style>\n",
       "<table border=\"1\" class=\"dataframe\">\n",
       "  <thead>\n",
       "    <tr style=\"text-align: right;\">\n",
       "      <th></th>\n",
       "      <th>count</th>\n",
       "      <th>mean</th>\n",
       "      <th>std</th>\n",
       "      <th>min</th>\n",
       "      <th>25%</th>\n",
       "      <th>50%</th>\n",
       "      <th>75%</th>\n",
       "      <th>max</th>\n",
       "    </tr>\n",
       "    <tr>\n",
       "      <th>testgroup</th>\n",
       "      <th></th>\n",
       "      <th></th>\n",
       "      <th></th>\n",
       "      <th></th>\n",
       "      <th></th>\n",
       "      <th></th>\n",
       "      <th></th>\n",
       "      <th></th>\n",
       "    </tr>\n",
       "  </thead>\n",
       "  <tbody>\n",
       "    <tr>\n",
       "      <th>control</th>\n",
       "      <td>1928.0</td>\n",
       "      <td>2663.998444</td>\n",
       "      <td>9049.039763</td>\n",
       "      <td>200.0</td>\n",
       "      <td>257.0</td>\n",
       "      <td>311.0</td>\n",
       "      <td>361.0</td>\n",
       "      <td>37433.0</td>\n",
       "    </tr>\n",
       "    <tr>\n",
       "      <th>test</th>\n",
       "      <td>1805.0</td>\n",
       "      <td>3003.658172</td>\n",
       "      <td>572.619709</td>\n",
       "      <td>2000.0</td>\n",
       "      <td>2513.0</td>\n",
       "      <td>3022.0</td>\n",
       "      <td>3478.0</td>\n",
       "      <td>4000.0</td>\n",
       "    </tr>\n",
       "  </tbody>\n",
       "</table>\n",
       "</div>"
      ],
      "text/plain": [
       "            count         mean          std     min     25%     50%     75%  \\\n",
       "testgroup                                                                     \n",
       "control    1928.0  2663.998444  9049.039763   200.0   257.0   311.0   361.0   \n",
       "test       1805.0  3003.658172   572.619709  2000.0  2513.0  3022.0  3478.0   \n",
       "\n",
       "               max  \n",
       "testgroup           \n",
       "control    37433.0  \n",
       "test        4000.0  "
      ]
     },
     "execution_count": 41,
     "metadata": {},
     "output_type": "execute_result"
    }
   ],
   "source": [
    "# Выведем описательную статистику для платящих пользователей\n",
    "ab_df.query('revenue > 0').groupby('testgroup')['revenue'].describe()"
   ]
  },
  {
   "cell_type": "markdown",
   "metadata": {},
   "source": [
    "Видим, что:\n",
    "\n",
    "Платящих пользователей в контрольной группе больше. \n",
    "\n",
    "А дальше происходит что-то непонятное. Средний чек в тестовой группе на 12% больше, нежели в контрольной. Но при этом разброс значений от минимального к максимальному в контрольной группе огромный, тогда как в тестовой все более или менее равномерно. \n",
    "\n",
    "Визуализируем для наглядности:"
   ]
  },
  {
   "cell_type": "code",
   "execution_count": 42,
   "metadata": {},
   "outputs": [
    {
     "data": {
      "image/png": "[encoded data removed]",
      "text/plain": [
       "<Figure size 864x432 with 1 Axes>"
      ]
     },
     "metadata": {
      "needs_background": "light"
     },
     "output_type": "display_data"
    }
   ],
   "source": [
    "# Для удобства восприятия,расположим распределения выручки в группах на одном графике.\n",
    "plt.figure(figsize = (12,6))\n",
    "sns.histplot(ab_df.query('revenue > 0'), x = 'revenue', hue = 'testgroup', bins = 60)\n",
    "plt.title('Revenue distribution', fontsize = 15)\n",
    "plt.show()"
   ]
  },
  {
   "cell_type": "markdown",
   "metadata": {},
   "source": [
    "На графике видно, что в контрольной группе есть пользователи, которые сделали очень дорогие заказы. Посмотрим на общую картину, если исключить их из статистики:"
   ]
  },
  {
   "cell_type": "code",
   "execution_count": 43,
   "metadata": {},
   "outputs": [
    {
     "data": {
      "text/html": [
       "<div>\n",
       "<style scoped>\n",
       "    .dataframe tbody tr th:only-of-type {\n",
       "        vertical-align: middle;\n",
       "    }\n",
       "\n",
       "    .dataframe tbody tr th {\n",
       "        vertical-align: top;\n",
       "    }\n",
       "\n",
       "    .dataframe thead th {\n",
       "        text-align: right;\n",
       "    }\n",
       "</style>\n",
       "<table border=\"1\" class=\"dataframe\">\n",
       "  <thead>\n",
       "    <tr style=\"text-align: right;\">\n",
       "      <th></th>\n",
       "      <th>count</th>\n",
       "      <th>mean</th>\n",
       "      <th>std</th>\n",
       "      <th>min</th>\n",
       "      <th>25%</th>\n",
       "      <th>50%</th>\n",
       "      <th>75%</th>\n",
       "      <th>max</th>\n",
       "    </tr>\n",
       "    <tr>\n",
       "      <th>testgroup</th>\n",
       "      <th></th>\n",
       "      <th></th>\n",
       "      <th></th>\n",
       "      <th></th>\n",
       "      <th></th>\n",
       "      <th></th>\n",
       "      <th></th>\n",
       "      <th></th>\n",
       "    </tr>\n",
       "  </thead>\n",
       "  <tbody>\n",
       "    <tr>\n",
       "      <th>control</th>\n",
       "      <td>1805.0</td>\n",
       "      <td>302.458172</td>\n",
       "      <td>57.914246</td>\n",
       "      <td>200.0</td>\n",
       "      <td>254.0</td>\n",
       "      <td>305.0</td>\n",
       "      <td>352.0</td>\n",
       "      <td>400.0</td>\n",
       "    </tr>\n",
       "    <tr>\n",
       "      <th>test</th>\n",
       "      <td>1805.0</td>\n",
       "      <td>3003.658172</td>\n",
       "      <td>572.619709</td>\n",
       "      <td>2000.0</td>\n",
       "      <td>2513.0</td>\n",
       "      <td>3022.0</td>\n",
       "      <td>3478.0</td>\n",
       "      <td>4000.0</td>\n",
       "    </tr>\n",
       "  </tbody>\n",
       "</table>\n",
       "</div>"
      ],
      "text/plain": [
       "            count         mean         std     min     25%     50%     75%  \\\n",
       "testgroup                                                                    \n",
       "control    1805.0   302.458172   57.914246   200.0   254.0   305.0   352.0   \n",
       "test       1805.0  3003.658172  572.619709  2000.0  2513.0  3022.0  3478.0   \n",
       "\n",
       "              max  \n",
       "testgroup          \n",
       "control     400.0  \n",
       "test       4000.0  "
      ]
     },
     "execution_count": 43,
     "metadata": {},
     "output_type": "execute_result"
    }
   ],
   "source": [
    "ab_df.query('revenue > 0 and revenue < 35000').groupby('testgroup')['revenue'].describe()"
   ]
  },
  {
   "cell_type": "markdown",
   "metadata": {},
   "source": [
    "Что мы имеем теперь:\n",
    "\n",
    "Кол-во пользователей в группах сравнялось, а все показатели тестовой группы в 10 раз больше, чем в контрольной.\n"
   ]
  },
  {
   "cell_type": "code",
   "execution_count": 44,
   "metadata": {},
   "outputs": [
    {
     "data": {
      "image/png": "[encoded data removed]",
      "text/plain": [
       "<Figure size 864x432 with 1 Axes>"
      ]
     },
     "metadata": {
      "needs_background": "light"
     },
     "output_type": "display_data"
    }
   ],
   "source": [
    "plt.figure(figsize = (12,6))\n",
    "sns.histplot(ab_df.query('revenue > 0 and revenue < 35000'), x = 'revenue', hue = 'testgroup', bins = 80)\n",
    "plt.title('Revenue distribution', fontsize = 15)\n",
    "plt.show()"
   ]
  },
  {
   "cell_type": "markdown",
   "metadata": {},
   "source": [
    "Но какое влияние на выручку в контрольной группе оказали те 123 пользователя, которых мы отсеяли:"
   ]
  },
  {
   "cell_type": "code",
   "execution_count": 45,
   "metadata": {},
   "outputs": [],
   "source": [
    "# Отфильтруем контрольную группу платящих клиентов в отдельный датафрейм\n",
    "control_group = ab_df.query('revenue > 0 and testgroup == \"control\"')"
   ]
  },
  {
   "cell_type": "code",
   "execution_count": 46,
   "metadata": {},
   "outputs": [
    {
     "name": "stdout",
     "output_type": "stream",
     "text": [
      "Доля высокодоходных клиентов от общего числа составляет 6%\n",
      "А их вклад в общую выручку - 89%\n"
     ]
    }
   ],
   "source": [
    "# Общая выручка и кол-во пользователей в контрольной группе:\n",
    "total_revenue = control_group.revenue.sum()\n",
    "users_count = control_group.user_id.nunique()\n",
    "# И выручка пользователей с дорогими покупками:\n",
    "profitable_users_count = control_group.query('revenue > 500').user_id.nunique()\n",
    "profitable_users_revenue = control_group.query('revenue > 500').revenue.sum()\n",
    "\n",
    "percent_of_clients = round((profitable_users_count / users_count) * 100)\n",
    "revenue_impact = round((profitable_users_revenue / total_revenue) * 100)\n",
    "\n",
    "print(f'Доля высокодоходных клиентов от общего числа составляет {percent_of_clients}%\\nА их вклад в общую выручку - {revenue_impact}%')"
   ]
  },
  {
   "cell_type": "markdown",
   "metadata": {},
   "source": [
    "Выглядит это все очень странно, и у меня есть две теории появления такой разницы в данных:\n",
    "\n",
    "***1. A/B тестирование было проведено неправильно.***\n",
    "\n",
    "Точнее, игроки были неккоректно распределены по группам. В контрольную группу попало 1805 человек, которые готовы платить - но мало (чек до 500), и 123 человека, которые готовы были заплатить много(более 35000). Разрыв огромный.\n",
    "\n",
    "В тоже время в тестовой группе такого четкого разделения платежеспособности не наблюдается. Для 1805 платящих игроков выручка распределена достаточно равномерно(от 2000 до 4000). \n",
    "\n",
    "Исходя из своего здравого смысла, я сомневаюсь, что такое деление на группы может быть умышленным. Оно даже на бумаге выглядит неинформативным, потому что сравнивать настолько непересекающиеся по платежеспособности группы не имеет смысла. Ведь одним из важнейших факторов при формировании контрольной и тестовой групп является их сходство по характеристикам(например, демографическим данным, поведению, предыдущему опыту и т.д.). Это помогает убедиться, что любые различия в результатах можно объяснить только тестируемым фактором. \n",
    "\n",
    "В нашем случае, очевидно, что о схожести в ключевом показателе - платежеспособности(судя по имеющимся данным) - речи не идет, и эксперемент следует проводить повторно с корректированием групп.\n",
    "\n",
    "***2. Но у меня есть вторая теория.***\n",
    "\n",
    "Что случилось с данными, когда мы исключили 123 пользователя с большим чеком?\n",
    "\n",
    "Напомню:"
   ]
  },
  {
   "cell_type": "code",
   "execution_count": 47,
   "metadata": {},
   "outputs": [
    {
     "data": {
      "text/html": [
       "<div>\n",
       "<style scoped>\n",
       "    .dataframe tbody tr th:only-of-type {\n",
       "        vertical-align: middle;\n",
       "    }\n",
       "\n",
       "    .dataframe tbody tr th {\n",
       "        vertical-align: top;\n",
       "    }\n",
       "\n",
       "    .dataframe thead th {\n",
       "        text-align: right;\n",
       "    }\n",
       "</style>\n",
       "<table border=\"1\" class=\"dataframe\">\n",
       "  <thead>\n",
       "    <tr style=\"text-align: right;\">\n",
       "      <th></th>\n",
       "      <th>count</th>\n",
       "      <th>mean</th>\n",
       "      <th>std</th>\n",
       "      <th>min</th>\n",
       "      <th>25%</th>\n",
       "      <th>50%</th>\n",
       "      <th>75%</th>\n",
       "      <th>max</th>\n",
       "    </tr>\n",
       "    <tr>\n",
       "      <th>testgroup</th>\n",
       "      <th></th>\n",
       "      <th></th>\n",
       "      <th></th>\n",
       "      <th></th>\n",
       "      <th></th>\n",
       "      <th></th>\n",
       "      <th></th>\n",
       "      <th></th>\n",
       "    </tr>\n",
       "  </thead>\n",
       "  <tbody>\n",
       "    <tr>\n",
       "      <th>control</th>\n",
       "      <td>1805.0</td>\n",
       "      <td>302.458172</td>\n",
       "      <td>57.914246</td>\n",
       "      <td>200.0</td>\n",
       "      <td>254.0</td>\n",
       "      <td>305.0</td>\n",
       "      <td>352.0</td>\n",
       "      <td>400.0</td>\n",
       "    </tr>\n",
       "    <tr>\n",
       "      <th>test</th>\n",
       "      <td>1805.0</td>\n",
       "      <td>3003.658172</td>\n",
       "      <td>572.619709</td>\n",
       "      <td>2000.0</td>\n",
       "      <td>2513.0</td>\n",
       "      <td>3022.0</td>\n",
       "      <td>3478.0</td>\n",
       "      <td>4000.0</td>\n",
       "    </tr>\n",
       "  </tbody>\n",
       "</table>\n",
       "</div>"
      ],
      "text/plain": [
       "            count         mean         std     min     25%     50%     75%  \\\n",
       "testgroup                                                                    \n",
       "control    1805.0   302.458172   57.914246   200.0   254.0   305.0   352.0   \n",
       "test       1805.0  3003.658172  572.619709  2000.0  2513.0  3022.0  3478.0   \n",
       "\n",
       "              max  \n",
       "testgroup          \n",
       "control     400.0  \n",
       "test       4000.0  "
      ]
     },
     "execution_count": 47,
     "metadata": {},
     "output_type": "execute_result"
    }
   ],
   "source": [
    "ab_df.query('revenue > 0 and revenue < 35000').groupby('testgroup')['revenue'].describe()"
   ]
  },
  {
   "cell_type": "markdown",
   "metadata": {},
   "source": [
    "Я смотрю на эти данные, и вижу в них похожесть. И это породило мою теорию:\n",
    "\n",
    "А что, если данные просто неправильно записались? Посмотрите на минимальный и максимальный чеки. Разница между группами РОВНО в 10 раз. Да и остальные показатели похожи. Вдруг для 1805 пользователей выручка записалась в 10 раз меньше? А для 123 человек в 10 раз больше?\n",
    "\n",
    "Раз уж это финальный проект, и на протяжении курса нас поощряли к самостоятельности и проявлению себя, пожалуй, я проверю эту теорию."
   ]
  },
  {
   "cell_type": "code",
   "execution_count": 48,
   "metadata": {},
   "outputs": [],
   "source": [
    "# Создам датафрейм для своего эксперемента.\n",
    "experiment = ab_df.copy()"
   ]
  },
  {
   "cell_type": "code",
   "execution_count": 49,
   "metadata": {},
   "outputs": [
    {
     "name": "stdout",
     "output_type": "stream",
     "text": [
      "<class 'pandas.core.frame.DataFrame'>\n",
      "RangeIndex: 404770 entries, 0 to 404769\n",
      "Data columns (total 3 columns):\n",
      " #   Column     Non-Null Count   Dtype \n",
      "---  ------     --------------   ----- \n",
      " 0   user_id    404770 non-null  int64 \n",
      " 1   revenue    404770 non-null  int64 \n",
      " 2   testgroup  404770 non-null  object\n",
      "dtypes: int64(2), object(1)\n",
      "memory usage: 9.3+ MB\n"
     ]
    }
   ],
   "source": [
    "experiment.info()"
   ]
  },
  {
   "cell_type": "markdown",
   "metadata": {},
   "source": [
    "Теперь отредактирую значения в колонке revenue для контрольной группы. Маленький чек увеличу в 10 раз, большой чек уменьшу в 10 раз."
   ]
  },
  {
   "cell_type": "code",
   "execution_count": 50,
   "metadata": {},
   "outputs": [],
   "source": [
    "experiment.loc[experiment['testgroup'] == 'control', 'revenue'] = experiment.loc[experiment['testgroup'] == 'control', 'revenue'] \\\n",
    "          .apply(lambda x: 0 if x == 0 else (round(x * 10) if x < 500 else round(x / 10)))"
   ]
  },
  {
   "cell_type": "markdown",
   "metadata": {},
   "source": [
    "И что у нас вышло? \n",
    "\n",
    "Статистика по выручке для всех пользователей:"
   ]
  },
  {
   "cell_type": "code",
   "execution_count": 51,
   "metadata": {},
   "outputs": [
    {
     "data": {
      "text/html": [
       "<div>\n",
       "<style scoped>\n",
       "    .dataframe tbody tr th:only-of-type {\n",
       "        vertical-align: middle;\n",
       "    }\n",
       "\n",
       "    .dataframe tbody tr th {\n",
       "        vertical-align: top;\n",
       "    }\n",
       "\n",
       "    .dataframe thead th {\n",
       "        text-align: right;\n",
       "    }\n",
       "</style>\n",
       "<table border=\"1\" class=\"dataframe\">\n",
       "  <thead>\n",
       "    <tr style=\"text-align: right;\">\n",
       "      <th></th>\n",
       "      <th>count</th>\n",
       "      <th>mean</th>\n",
       "      <th>std</th>\n",
       "      <th>min</th>\n",
       "      <th>25%</th>\n",
       "      <th>50%</th>\n",
       "      <th>75%</th>\n",
       "      <th>max</th>\n",
       "    </tr>\n",
       "    <tr>\n",
       "      <th>testgroup</th>\n",
       "      <th></th>\n",
       "      <th></th>\n",
       "      <th></th>\n",
       "      <th></th>\n",
       "      <th></th>\n",
       "      <th></th>\n",
       "      <th></th>\n",
       "      <th></th>\n",
       "    </tr>\n",
       "  </thead>\n",
       "  <tbody>\n",
       "    <tr>\n",
       "      <th>control</th>\n",
       "      <td>202103.0</td>\n",
       "      <td>29.284063</td>\n",
       "      <td>303.834473</td>\n",
       "      <td>0.0</td>\n",
       "      <td>0.0</td>\n",
       "      <td>0.0</td>\n",
       "      <td>0.0</td>\n",
       "      <td>4000.0</td>\n",
       "    </tr>\n",
       "    <tr>\n",
       "      <th>test</th>\n",
       "      <td>202667.0</td>\n",
       "      <td>26.751287</td>\n",
       "      <td>287.324162</td>\n",
       "      <td>0.0</td>\n",
       "      <td>0.0</td>\n",
       "      <td>0.0</td>\n",
       "      <td>0.0</td>\n",
       "      <td>4000.0</td>\n",
       "    </tr>\n",
       "  </tbody>\n",
       "</table>\n",
       "</div>"
      ],
      "text/plain": [
       "              count       mean         std  min  25%  50%  75%     max\n",
       "testgroup                                                             \n",
       "control    202103.0  29.284063  303.834473  0.0  0.0  0.0  0.0  4000.0\n",
       "test       202667.0  26.751287  287.324162  0.0  0.0  0.0  0.0  4000.0"
      ]
     },
     "execution_count": 51,
     "metadata": {},
     "output_type": "execute_result"
    }
   ],
   "source": [
    "experiment.groupby('testgroup')['revenue'].describe()"
   ]
  },
  {
   "cell_type": "markdown",
   "metadata": {},
   "source": [
    "Средний чек теперь больше в контрольной группе. Стандартное отклонение +- выровнялось. Максимальный чек одинаковый."
   ]
  },
  {
   "cell_type": "markdown",
   "metadata": {},
   "source": [
    "Посмотрим, как дела обстоят у платящих пользователей:"
   ]
  },
  {
   "cell_type": "code",
   "execution_count": 52,
   "metadata": {},
   "outputs": [
    {
     "data": {
      "text/html": [
       "<div>\n",
       "<style scoped>\n",
       "    .dataframe tbody tr th:only-of-type {\n",
       "        vertical-align: middle;\n",
       "    }\n",
       "\n",
       "    .dataframe tbody tr th {\n",
       "        vertical-align: top;\n",
       "    }\n",
       "\n",
       "    .dataframe thead th {\n",
       "        text-align: right;\n",
       "    }\n",
       "</style>\n",
       "<table border=\"1\" class=\"dataframe\">\n",
       "  <thead>\n",
       "    <tr style=\"text-align: right;\">\n",
       "      <th></th>\n",
       "      <th>count</th>\n",
       "      <th>mean</th>\n",
       "      <th>std</th>\n",
       "      <th>min</th>\n",
       "      <th>25%</th>\n",
       "      <th>50%</th>\n",
       "      <th>75%</th>\n",
       "      <th>max</th>\n",
       "    </tr>\n",
       "    <tr>\n",
       "      <th>testgroup</th>\n",
       "      <th></th>\n",
       "      <th></th>\n",
       "      <th></th>\n",
       "      <th></th>\n",
       "      <th></th>\n",
       "      <th></th>\n",
       "      <th></th>\n",
       "      <th></th>\n",
       "    </tr>\n",
       "  </thead>\n",
       "  <tbody>\n",
       "    <tr>\n",
       "      <th>control</th>\n",
       "      <td>1928.0</td>\n",
       "      <td>3069.707988</td>\n",
       "      <td>586.426872</td>\n",
       "      <td>2000.0</td>\n",
       "      <td>2570.0</td>\n",
       "      <td>3110.0</td>\n",
       "      <td>3610.0</td>\n",
       "      <td>4000.0</td>\n",
       "    </tr>\n",
       "    <tr>\n",
       "      <th>test</th>\n",
       "      <td>1805.0</td>\n",
       "      <td>3003.658172</td>\n",
       "      <td>572.619709</td>\n",
       "      <td>2000.0</td>\n",
       "      <td>2513.0</td>\n",
       "      <td>3022.0</td>\n",
       "      <td>3478.0</td>\n",
       "      <td>4000.0</td>\n",
       "    </tr>\n",
       "  </tbody>\n",
       "</table>\n",
       "</div>"
      ],
      "text/plain": [
       "            count         mean         std     min     25%     50%     75%  \\\n",
       "testgroup                                                                    \n",
       "control    1928.0  3069.707988  586.426872  2000.0  2570.0  3110.0  3610.0   \n",
       "test       1805.0  3003.658172  572.619709  2000.0  2513.0  3022.0  3478.0   \n",
       "\n",
       "              max  \n",
       "testgroup          \n",
       "control    4000.0  \n",
       "test       4000.0  "
      ]
     },
     "execution_count": 52,
     "metadata": {},
     "output_type": "execute_result"
    }
   ],
   "source": [
    "experiment.query('revenue > 0').groupby('testgroup')['revenue'].describe()"
   ]
  },
  {
   "cell_type": "markdown",
   "metadata": {},
   "source": [
    "Что ж, теперь статистические показатели выручки в группах имеют ***незначительные*** отличия. \n",
    "И их мы можем объяснить только тестируемым фактором. "
   ]
  },
  {
   "cell_type": "markdown",
   "metadata": {},
   "source": [
    "Визуализируем распределения выручки по группам:"
   ]
  },
  {
   "cell_type": "code",
   "execution_count": 53,
   "metadata": {},
   "outputs": [
    {
     "data": {
      "image/png": "[encoded data removed]",
      "text/plain": [
       "<Figure size 864x432 with 1 Axes>"
      ]
     },
     "metadata": {
      "needs_background": "light"
     },
     "output_type": "display_data"
    }
   ],
   "source": [
    "# На одном графике:\n",
    "plt.figure(figsize = (12,6))\n",
    "sns.histplot(experiment.query('revenue > 0'), x = 'revenue', hue = 'testgroup', bins = 80)\n",
    "plt.title('Revenue distribution', fontsize = 15)\n",
    "plt.show()"
   ]
  },
  {
   "cell_type": "markdown",
   "metadata": {},
   "source": [
    "На графике мы видим, что теперь группы пересекаются.\n",
    "\n",
    "В целом, все достаточно ровно, но есть всплеск в контрольной группе у значения 3750. Посмотрим, что там:"
   ]
  },
  {
   "cell_type": "code",
   "execution_count": 54,
   "metadata": {},
   "outputs": [
    {
     "data": {
      "text/plain": [
       "147"
      ]
     },
     "execution_count": 54,
     "metadata": {},
     "output_type": "execute_result"
    }
   ],
   "source": [
    "# Сколько пользователей в нужном диапазоне\n",
    "experiment.query('testgroup == \"control\" and revenue > 3725 and revenue < 3750').user_id.count()"
   ]
  },
  {
   "cell_type": "code",
   "execution_count": 55,
   "metadata": {},
   "outputs": [
    {
     "data": {
      "text/plain": [
       "548657"
      ]
     },
     "execution_count": 55,
     "metadata": {},
     "output_type": "execute_result"
    }
   ],
   "source": [
    "# Какую выручку они принесли контрольной группе\n",
    "experiment.query('testgroup == \"control\" and revenue > 3725 and revenue < 3750').revenue.sum()"
   ]
  },
  {
   "cell_type": "markdown",
   "metadata": {},
   "source": [
    "Как мы видим, почти на каждый промежуток цен приходится от 20 до 40 пользователей. \n",
    "И только предложения в диапозоне от 3725 до 3750 вызвали повышенный спрос у контрольной группы. 147 человек потратили 548 тысяч.\n",
    "\n",
    "Посмотрим на выручку в группах в целом:"
   ]
  },
  {
   "cell_type": "code",
   "execution_count": 56,
   "metadata": {},
   "outputs": [
    {
     "data": {
      "text/plain": [
       "testgroup\n",
       "control    5918397\n",
       "test       5421603\n",
       "Name: revenue, dtype: int64"
      ]
     },
     "execution_count": 56,
     "metadata": {},
     "output_type": "execute_result"
    }
   ],
   "source": [
    "experiment.groupby('testgroup')['revenue'].sum()"
   ]
  },
  {
   "cell_type": "markdown",
   "metadata": {},
   "source": [
    "И на медианные значения выручки в группах:"
   ]
  },
  {
   "cell_type": "code",
   "execution_count": 57,
   "metadata": {},
   "outputs": [
    {
     "data": {
      "text/plain": [
       "testgroup\n",
       "control    3110\n",
       "test       3022\n",
       "Name: revenue, dtype: int64"
      ]
     },
     "execution_count": 57,
     "metadata": {},
     "output_type": "execute_result"
    }
   ],
   "source": [
    "experiment.query('revenue > 0').groupby('testgroup')['revenue'].median()"
   ]
  },
  {
   "cell_type": "markdown",
   "metadata": {},
   "source": [
    "#### Наконец-то выводы к анализу данных:\n",
    "\n",
    "- Типы данных соответствуют значениям в столбцах.\n",
    "- Пропущенные значиния и дубликаты отсутствуют.\n",
    "- Наблюдаются аномалии в контрольной группе. Либо данные неправильно записаны, либо АБ тестирование проводилось на неккоректно сформированных группах.\n",
    "\n",
    "С учетом всего вышесказанного, я моделирую ситуацию, при которой я уточнила этот момент, и оказалось, что группы были сформированы правильно, и ошибка действительно была допущена при записи данных контрольной группы.\n",
    "\n",
    "Поэтому статистические тесты проведу на исправленном мной датафрейме."
   ]
  },
  {
   "cell_type": "markdown",
   "metadata": {},
   "source": [
    "### 2.2 Решение задачи."
   ]
  },
  {
   "cell_type": "markdown",
   "metadata": {},
   "source": [
    "Имеются результаты A/B теста, в котором двум группам пользователей предлагались различные наборы акционных предложений.\n",
    "\n",
    "Какой набор предложений можно считать лучшим? Какие метрики стоит проанализировать для принятия правильного решения и как?"
   ]
  },
  {
   "cell_type": "markdown",
   "metadata": {},
   "source": [
    "Что бы оценить, как новые акционные предложения повлияли на доход и кол-во платящих пользователей, я буду использовать следующие метрики:\n",
    "    \n",
    "***ARPU (Average revenue per user)*** - средний доход с привлечённого пользователя.\n",
    "\n",
    "***ARPPU (Average Revenue Per Paying User)*** — средний доход, получаемый от каждого платящего пользователя. \n",
    "\n",
    "***Конверсия(CR)*** - метрика, которая измеряет процент пользователей, совершивших покупку."
   ]
  },
  {
   "cell_type": "code",
   "execution_count": 58,
   "metadata": {},
   "outputs": [
    {
     "data": {
      "text/html": [
       "<div>\n",
       "<style scoped>\n",
       "    .dataframe tbody tr th:only-of-type {\n",
       "        vertical-align: middle;\n",
       "    }\n",
       "\n",
       "    .dataframe tbody tr th {\n",
       "        vertical-align: top;\n",
       "    }\n",
       "\n",
       "    .dataframe thead th {\n",
       "        text-align: right;\n",
       "    }\n",
       "</style>\n",
       "<table border=\"1\" class=\"dataframe\">\n",
       "  <thead>\n",
       "    <tr style=\"text-align: right;\">\n",
       "      <th></th>\n",
       "      <th>count</th>\n",
       "      <th>mean</th>\n",
       "      <th>std</th>\n",
       "      <th>min</th>\n",
       "      <th>25%</th>\n",
       "      <th>50%</th>\n",
       "      <th>75%</th>\n",
       "      <th>max</th>\n",
       "    </tr>\n",
       "    <tr>\n",
       "      <th>testgroup</th>\n",
       "      <th></th>\n",
       "      <th></th>\n",
       "      <th></th>\n",
       "      <th></th>\n",
       "      <th></th>\n",
       "      <th></th>\n",
       "      <th></th>\n",
       "      <th></th>\n",
       "    </tr>\n",
       "  </thead>\n",
       "  <tbody>\n",
       "    <tr>\n",
       "      <th>control</th>\n",
       "      <td>202103.0</td>\n",
       "      <td>29.284063</td>\n",
       "      <td>303.834473</td>\n",
       "      <td>0.0</td>\n",
       "      <td>0.0</td>\n",
       "      <td>0.0</td>\n",
       "      <td>0.0</td>\n",
       "      <td>4000.0</td>\n",
       "    </tr>\n",
       "    <tr>\n",
       "      <th>test</th>\n",
       "      <td>202667.0</td>\n",
       "      <td>26.751287</td>\n",
       "      <td>287.324162</td>\n",
       "      <td>0.0</td>\n",
       "      <td>0.0</td>\n",
       "      <td>0.0</td>\n",
       "      <td>0.0</td>\n",
       "      <td>4000.0</td>\n",
       "    </tr>\n",
       "  </tbody>\n",
       "</table>\n",
       "</div>"
      ],
      "text/plain": [
       "              count       mean         std  min  25%  50%  75%     max\n",
       "testgroup                                                             \n",
       "control    202103.0  29.284063  303.834473  0.0  0.0  0.0  0.0  4000.0\n",
       "test       202667.0  26.751287  287.324162  0.0  0.0  0.0  0.0  4000.0"
      ]
     },
     "execution_count": 58,
     "metadata": {},
     "output_type": "execute_result"
    }
   ],
   "source": [
    "experiment.groupby('testgroup')['revenue'].describe()"
   ]
  },
  {
   "cell_type": "code",
   "execution_count": 59,
   "metadata": {},
   "outputs": [
    {
     "data": {
      "text/html": [
       "<div>\n",
       "<style scoped>\n",
       "    .dataframe tbody tr th:only-of-type {\n",
       "        vertical-align: middle;\n",
       "    }\n",
       "\n",
       "    .dataframe tbody tr th {\n",
       "        vertical-align: top;\n",
       "    }\n",
       "\n",
       "    .dataframe thead th {\n",
       "        text-align: right;\n",
       "    }\n",
       "</style>\n",
       "<table border=\"1\" class=\"dataframe\">\n",
       "  <thead>\n",
       "    <tr style=\"text-align: right;\">\n",
       "      <th></th>\n",
       "      <th>count</th>\n",
       "      <th>mean</th>\n",
       "      <th>std</th>\n",
       "      <th>min</th>\n",
       "      <th>25%</th>\n",
       "      <th>50%</th>\n",
       "      <th>75%</th>\n",
       "      <th>max</th>\n",
       "    </tr>\n",
       "    <tr>\n",
       "      <th>testgroup</th>\n",
       "      <th></th>\n",
       "      <th></th>\n",
       "      <th></th>\n",
       "      <th></th>\n",
       "      <th></th>\n",
       "      <th></th>\n",
       "      <th></th>\n",
       "      <th></th>\n",
       "    </tr>\n",
       "  </thead>\n",
       "  <tbody>\n",
       "    <tr>\n",
       "      <th>control</th>\n",
       "      <td>1928.0</td>\n",
       "      <td>3069.707988</td>\n",
       "      <td>586.426872</td>\n",
       "      <td>2000.0</td>\n",
       "      <td>2570.0</td>\n",
       "      <td>3110.0</td>\n",
       "      <td>3610.0</td>\n",
       "      <td>4000.0</td>\n",
       "    </tr>\n",
       "    <tr>\n",
       "      <th>test</th>\n",
       "      <td>1805.0</td>\n",
       "      <td>3003.658172</td>\n",
       "      <td>572.619709</td>\n",
       "      <td>2000.0</td>\n",
       "      <td>2513.0</td>\n",
       "      <td>3022.0</td>\n",
       "      <td>3478.0</td>\n",
       "      <td>4000.0</td>\n",
       "    </tr>\n",
       "  </tbody>\n",
       "</table>\n",
       "</div>"
      ],
      "text/plain": [
       "            count         mean         std     min     25%     50%     75%  \\\n",
       "testgroup                                                                    \n",
       "control    1928.0  3069.707988  586.426872  2000.0  2570.0  3110.0  3610.0   \n",
       "test       1805.0  3003.658172  572.619709  2000.0  2513.0  3022.0  3478.0   \n",
       "\n",
       "              max  \n",
       "testgroup          \n",
       "control    4000.0  \n",
       "test       4000.0  "
      ]
     },
     "execution_count": 59,
     "metadata": {},
     "output_type": "execute_result"
    }
   ],
   "source": [
    "experiment.query('revenue > 0').groupby('testgroup')['revenue'].describe()"
   ]
  },
  {
   "cell_type": "markdown",
   "metadata": {},
   "source": [
    "Из статистики мы видим, что:\n",
    "    \n",
    "- Средний чек на всех пользователей меньше в тестовой группе.\n",
    "- Средний чек платящих пользователей меньше в тестовой группе.\n",
    "- И кол-во платящих пользователей меньше в тестовой группе.\n",
    "\n",
    "Проверим, насколько эти показатели статистически значимы."
   ]
  },
  {
   "cell_type": "markdown",
   "metadata": {},
   "source": [
    "Для сравнения средних значений (ARPU, ARPPU) двух групп я буду использовать t-test. \n",
    "\n",
    "Центральная пределеная теорема говорит нам о том, что при достаточном размере выборки распределение выборочных средних будет стремиться к нормальному распределению, независимо от формы распределения исходной популяции. Поэтому нам нужно проверить данные на гомоскедастичность (равенство дисперсий), что бы определиться с критерием для t-теста.\n",
    "\n",
    "\n",
    "***Проведем тест Левена:***\n",
    "\n",
    "Гипотезы:\n",
    "\n",
    "$H_0$: Дисперсии в группах равны\n",
    "\n",
    "$H_1$: Дисперсии в группах не равны\n",
    "\n",
    "при уровне значимости 5%"
   ]
  },
  {
   "cell_type": "code",
   "execution_count": 60,
   "metadata": {},
   "outputs": [],
   "source": [
    "c_group = experiment.query('testgroup == \"control\"')\n",
    "t_group = experiment.query('testgroup == \"test\"')"
   ]
  },
  {
   "cell_type": "code",
   "execution_count": 61,
   "metadata": {},
   "outputs": [
    {
     "name": "stdout",
     "output_type": "stream",
     "text": [
      "Отвергаем нулевую гипотезу о равенстве дисперсий, p-value < 0.05\n"
     ]
    }
   ],
   "source": [
    "statistic, p_value = levene(c_group['revenue'], t_group['revenue'])\n",
    "\n",
    "if p_value > 0.05:\n",
    "    print(\"Дисперсии в группах равны, p-value > 0.05\")\n",
    "else:\n",
    "    print(\"Отвергаем нулевую гипотезу о равенстве дисперсий, p-value < 0.05\")"
   ]
  },
  {
   "cell_type": "markdown",
   "metadata": {},
   "source": [
    "Так как дисперсии не равны, для проведения t-теста будем использовать t-критерий Уэлча (в модуле pingouin он заложен по умолчанию). \n",
    "\n",
    "\n",
    "***ARPU***\n",
    "\n",
    "Гипотезы:\n",
    "\n",
    "$H_0$: ARPU в контрольной и тестовой группах не отличается\n",
    "\n",
    "$H_1$: ARPU в контрольной и тестовой группах отличается\n",
    "\n",
    "при уровне значимости 5%."
   ]
  },
  {
   "cell_type": "code",
   "execution_count": 62,
   "metadata": {},
   "outputs": [
    {
     "data": {
      "text/html": [
       "<div>\n",
       "<style scoped>\n",
       "    .dataframe tbody tr th:only-of-type {\n",
       "        vertical-align: middle;\n",
       "    }\n",
       "\n",
       "    .dataframe tbody tr th {\n",
       "        vertical-align: top;\n",
       "    }\n",
       "\n",
       "    .dataframe thead th {\n",
       "        text-align: right;\n",
       "    }\n",
       "</style>\n",
       "<table border=\"1\" class=\"dataframe\">\n",
       "  <thead>\n",
       "    <tr style=\"text-align: right;\">\n",
       "      <th></th>\n",
       "      <th>T</th>\n",
       "      <th>dof</th>\n",
       "      <th>alternative</th>\n",
       "      <th>p-val</th>\n",
       "      <th>CI95%</th>\n",
       "      <th>cohen-d</th>\n",
       "      <th>BF10</th>\n",
       "      <th>power</th>\n",
       "    </tr>\n",
       "  </thead>\n",
       "  <tbody>\n",
       "    <tr>\n",
       "      <th>T-test</th>\n",
       "      <td>2.724648</td>\n",
       "      <td>403382.973348</td>\n",
       "      <td>two-sided</td>\n",
       "      <td>0.006437</td>\n",
       "      <td>[0.71, 4.35]</td>\n",
       "      <td>0.008566</td>\n",
       "      <td>0.145</td>\n",
       "      <td>0.777833</td>\n",
       "    </tr>\n",
       "  </tbody>\n",
       "</table>\n",
       "</div>"
      ],
      "text/plain": [
       "               T            dof alternative     p-val         CI95%   cohen-d  \\\n",
       "T-test  2.724648  403382.973348   two-sided  0.006437  [0.71, 4.35]  0.008566   \n",
       "\n",
       "         BF10     power  \n",
       "T-test  0.145  0.777833  "
      ]
     },
     "execution_count": 62,
     "metadata": {},
     "output_type": "execute_result"
    }
   ],
   "source": [
    "pg.ttest(experiment.query('testgroup == \"control\"').revenue, \n",
    "         experiment.query('testgroup == \"test\"').revenue)"
   ]
  },
  {
   "cell_type": "markdown",
   "metadata": {},
   "source": [
    "p-value < 0.05, что говорит нам о том, что ARPU в контрольной и тестовой группах значимо отличается."
   ]
  },
  {
   "cell_type": "markdown",
   "metadata": {},
   "source": [
    "***ARPPU***\n",
    "\n",
    "Гипотезы:\n",
    "\n",
    "$H_0$: ARPPU в контрольной и тестовой группах не отличается\n",
    "\n",
    "$H_1$: ARPPU в контрольной и тестовой группах отличается\n",
    "\n",
    "при уровне значимости 5%."
   ]
  },
  {
   "cell_type": "code",
   "execution_count": 63,
   "metadata": {},
   "outputs": [
    {
     "data": {
      "text/html": [
       "<div>\n",
       "<style scoped>\n",
       "    .dataframe tbody tr th:only-of-type {\n",
       "        vertical-align: middle;\n",
       "    }\n",
       "\n",
       "    .dataframe tbody tr th {\n",
       "        vertical-align: top;\n",
       "    }\n",
       "\n",
       "    .dataframe thead th {\n",
       "        text-align: right;\n",
       "    }\n",
       "</style>\n",
       "<table border=\"1\" class=\"dataframe\">\n",
       "  <thead>\n",
       "    <tr style=\"text-align: right;\">\n",
       "      <th></th>\n",
       "      <th>T</th>\n",
       "      <th>dof</th>\n",
       "      <th>alternative</th>\n",
       "      <th>p-val</th>\n",
       "      <th>CI95%</th>\n",
       "      <th>cohen-d</th>\n",
       "      <th>BF10</th>\n",
       "      <th>power</th>\n",
       "    </tr>\n",
       "  </thead>\n",
       "  <tbody>\n",
       "    <tr>\n",
       "      <th>T-test</th>\n",
       "      <td>3.480996</td>\n",
       "      <td>3724.391067</td>\n",
       "      <td>two-sided</td>\n",
       "      <td>0.000505</td>\n",
       "      <td>[28.85, 103.25]</td>\n",
       "      <td>0.11392</td>\n",
       "      <td>15.257</td>\n",
       "      <td>0.935418</td>\n",
       "    </tr>\n",
       "  </tbody>\n",
       "</table>\n",
       "</div>"
      ],
      "text/plain": [
       "               T          dof alternative     p-val            CI95%  cohen-d  \\\n",
       "T-test  3.480996  3724.391067   two-sided  0.000505  [28.85, 103.25]  0.11392   \n",
       "\n",
       "          BF10     power  \n",
       "T-test  15.257  0.935418  "
      ]
     },
     "execution_count": 63,
     "metadata": {},
     "output_type": "execute_result"
    }
   ],
   "source": [
    "pg.ttest(experiment.query('testgroup == \"control\" & revenue > 0').revenue, \n",
    "         experiment.query('testgroup == \"test\"  & revenue > 0').revenue)"
   ]
  },
  {
   "cell_type": "markdown",
   "metadata": {},
   "source": [
    "p-value < 0.05, что говорит нам о том, что ARPPU в контрольной и тестовой группах значимо отличается."
   ]
  },
  {
   "cell_type": "markdown",
   "metadata": {},
   "source": [
    "Так как ***конверсия(CR)*** - это категориальная переменная, для проверки я буду использовать критерий хи-квадрат.\n",
    "\n",
    "Гипотезы:\n",
    "\n",
    "$H_0$: Конверсия в контрольной и тестовой группах не отличается\n",
    "\n",
    "$H_1$: Конверсия в контрольной и тестовой группах отличается\n",
    "\n",
    "при уровне значимости 5%."
   ]
  },
  {
   "cell_type": "code",
   "execution_count": 64,
   "metadata": {},
   "outputs": [
    {
     "name": "stdout",
     "output_type": "stream",
     "text": [
      "0.036\n"
     ]
    }
   ],
   "source": [
    "stat, p_value, dof, expected = sps.chi2_contingency(pd.crosstab(experiment.testgroup, experiment.revenue > 0))\n",
    "print(round(p_value,3))"
   ]
  },
  {
   "cell_type": "markdown",
   "metadata": {},
   "source": [
    "p-value < 0.05, что говорит нам о том, что конверсия в контрольной и тестовой группах значимо отличается."
   ]
  },
  {
   "cell_type": "markdown",
   "metadata": {},
   "source": [
    "### Вывод:\n",
    "\n",
    "Итак, проведенные тесты показали, что измеряемые метрики (ARPU, ARPPU, CR) статистически значимо ухудшились в тестовой группе. Из чего можно сделать вывод, что ***старые акционные предложения работают лучше***, а от новых следует отказаться."
   ]
  },
  {
   "cell_type": "markdown",
   "metadata": {},
   "source": [
    "### Задание 3\n",
    "\n",
    "В игре Plants & Gardens каждый месяц проводятся тематические события, ограниченные по времени. В них игроки могут получить уникальные предметы для сада и персонажей, дополнительные монеты или бонусы. Для получения награды требуется пройти ряд уровней за определенное время. \n"
   ]
  },
  {
   "cell_type": "markdown",
   "metadata": {},
   "source": [
    "***3.1 С помощью каких метрик можно оценить результаты последнего прошедшего события?***"
   ]
  },
  {
   "cell_type": "markdown",
   "metadata": {},
   "source": [
    "Для оценки прошедшего события имеет смысл выделить:\n",
    "\n",
    "#### Метрики продукта - они помогают оценить качество и эффективность самого игрового процесса, а также взаимодействие игроков с игрой. Для нашей задачи я бы использовала:\n",
    "\n",
    "***Количество участников события***:\n",
    "\n",
    "Высокое количество участников события может свидетельствовать о том, что оно привлекло внимание игроков и вызвало интерес.\n",
    "\n",
    "***Процент завершения уровней***:\n",
    "\n",
    "Процент завершения уровней помогает определить, насколько уровни сбалансированы по сложности. \n",
    "Если процент завершения слишком низкий, это может указывать на то, что уровни слишком сложные или фрустрирующие(т.е. вызывают чувства разочарования, раздражения, бессилия) для игроков.\n",
    "Высокий же процент завершения уровней может свидетельствовать о том, что игроки заинтересованы в контенте и находят его увлекательным. Так же высокий показатель данной метрики может говорить о том, что уровни события хорошо спроектированы и соответствуют ожиданиям игроков.\n",
    "\n",
    "***Средняя продолжительность сессии***: \n",
    "\n",
    "Среднее время, проведенное игроками в игре за одну сессию во время события.\n",
    "\n",
    "\n",
    "***Количество полученных наград***: \n",
    "\n",
    "Высокое количество полученных наград может свидетельствовать о том, что событие, его дизайн и механики были привлекательными, поддержививали интерес игроков к событию и мотивировали их возвращаться в игру, что бы участвовать и завершать уровни.\n",
    "\n",
    "***P.S.: отлично, если в игре есть обратная связь. Это очень полезная метрика для оценки продукта***:\n",
    " \n",
    "Обратная связь позволяет выявить проблемы, с которыми сталкиваются игроки, будь то баги, неудобные механики или недостаток контента. Это помогает команде быстро реагировать на негативные аспекты и улучшать игру.\n",
    "\n",
    "#### Метрики роста - они помогают оценить, как событие влияет на общие показатели бизнеса, такие как вовлеченность, удержание и доход. Для нашей задачи я бы использовала:\n",
    "\n",
    "***Частота входа в игру***: \n",
    "\n",
    "Как часто игроки заходят в игру во время события по сравнению с обычным периодом.\n",
    "Частота входа может напрямую влиять на доходы от внутриигровых покупок. Игроки, которые чаще входят в игру, с большей вероятностью будут совершать покупки, что может увеличить общие доходы.\n",
    "\n",
    "***Среднее время прохождения уровней***: \n",
    "\n",
    "Если игроки тратят много времени на уровень, это может повлиять на их желание совершать внутриигровые покупки, такие как подсказки или ускорения. Оптимальное среднее время прохождения может способствовать увеличению доходов.\n",
    "Игроки, которые успешно завершают уровни в разумные сроки, с большей вероятностью будут возвращаться в игру.\n",
    "\n",
    "***Retention (удержание) после события***: \n",
    "\n",
    "Процент игроков, которые продолжили играть после завершения события, по сравнению с теми, кто не участвовал. \n",
    "Высокий уровень удержания после события может свидетельствовать о том, что игроки заинтересованы в продолжении игры и готовы возвращаться за новым контентом, рекомендовать игру другим и продолжать тратить деньги на внутриигровые покупки.\n",
    "\n",
    "***Количество заработанных монет***: \n",
    "\n",
    "Заработок монет может служить важным стимулом для игроков. Если игроки видят, что они могут зарабатывать монеты, это может повысить их вовлеченность и желание продолжать играть.\n",
    "Количество заработанных монет может влиять на решения игроков о совершении внутриигровых покупок. Если игроки чувствуют, что они могут легко зарабатывать монеты, они могут быть менее склонны тратить реальные деньги. Напротив, если заработок монет затруднен, игроки могут быть более открыты к покупкам, чтобы ускорить свой прогресс. Здесь важно соблюдать баланс.\n"
   ]
  },
  {
   "cell_type": "markdown",
   "metadata": {},
   "source": [
    "***3.2 Предположим, в другом событии мы усложнили механику событий так, что при каждой неудачной попытке выполнения уровня игрок будет откатываться на несколько уровней назад. Изменится ли набор метрик оценки результата? Если да, то как?***"
   ]
  },
  {
   "cell_type": "markdown",
   "metadata": {},
   "source": [
    "При данных условиях, к вышеперечисленным, я бы добавила следующие метрики продукта:\n",
    "\n",
    " \n",
    "***Среднее количество попыток на уровень***: \n",
    "\n",
    "Метрика поможет понять, как новая механика влияет на игровой процесс. \n",
    "\n",
    "***Количество откатов***: \n",
    "\n",
    "Метрика, которая будет отслеживать, сколько уровней игроки откатываются после неудачных попыток. \n",
    "\n",
    "***Процент успешных попыток***: \n",
    "\n",
    "Важно отслеживать, сколько попыток игроки делают, прежде чем успешно пройти уровень.\n"
   ]
  }
 ],
 "metadata": {
  "kernelspec": {
   "display_name": "Python 3 (ipykernel)",
   "language": "python",
   "name": "python3"
  },
  "language_info": {
   "codemirror_mode": {
    "name": "ipython",
    "version": 3
   },
   "file_extension": ".py",
   "mimetype": "text/x-python",
   "name": "python",
   "nbconvert_exporter": "python",
   "pygments_lexer": "ipython3",
   "version": "3.10.9"
  }
 },
 "nbformat": 4,
 "nbformat_minor": 4
}
